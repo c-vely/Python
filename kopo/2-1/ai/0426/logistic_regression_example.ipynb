{
 "cells": [
  {
   "cell_type": "markdown",
   "id": "4c2a0ddc-f9ca-405d-a462-ef7a5cdd7f1b",
   "metadata": {},
   "source": [
    "# 기계 학습"
   ]
  },
  {
   "cell_type": "markdown",
   "id": "ad0bb90a-983f-4074-acc8-8dbaf8cda1be",
   "metadata": {},
   "source": [
    "### - 데이터 읽어 오기"
   ]
  },
  {
   "cell_type": "code",
   "execution_count": 1,
   "id": "9ccae563-11a4-4ba1-837d-bb98e1f775f7",
   "metadata": {},
   "outputs": [],
   "source": [
    "import numpy as np"
   ]
  },
  {
   "cell_type": "code",
   "execution_count": 2,
   "id": "3284bcdb-dba7-4f49-81d7-1072cff295b0",
   "metadata": {},
   "outputs": [],
   "source": [
    "import matplotlib.pyplot as plt"
   ]
  },
  {
   "cell_type": "code",
   "execution_count": 3,
   "id": "247696f7-b005-46e7-a2a3-710fd309f315",
   "metadata": {},
   "outputs": [],
   "source": [
    "import pandas as pd"
   ]
  },
  {
   "cell_type": "code",
   "execution_count": 4,
   "id": "cc19e027-9bd6-40e7-afe9-89a8e0796cf1",
   "metadata": {},
   "outputs": [
    {
     "data": {
      "text/html": [
       "<div>\n",
       "<style scoped>\n",
       "    .dataframe tbody tr th:only-of-type {\n",
       "        vertical-align: middle;\n",
       "    }\n",
       "\n",
       "    .dataframe tbody tr th {\n",
       "        vertical-align: top;\n",
       "    }\n",
       "\n",
       "    .dataframe thead th {\n",
       "        text-align: right;\n",
       "    }\n",
       "</style>\n",
       "<table border=\"1\" class=\"dataframe\">\n",
       "  <thead>\n",
       "    <tr style=\"text-align: right;\">\n",
       "      <th></th>\n",
       "      <th>癤퓑on</th>\n",
       "      <th>pass</th>\n",
       "    </tr>\n",
       "  </thead>\n",
       "  <tbody>\n",
       "    <tr>\n",
       "      <th>0</th>\n",
       "      <td>1500</td>\n",
       "      <td>0</td>\n",
       "    </tr>\n",
       "    <tr>\n",
       "      <th>1</th>\n",
       "      <td>1700</td>\n",
       "      <td>0</td>\n",
       "    </tr>\n",
       "    <tr>\n",
       "      <th>2</th>\n",
       "      <td>1800</td>\n",
       "      <td>0</td>\n",
       "    </tr>\n",
       "    <tr>\n",
       "      <th>3</th>\n",
       "      <td>1950</td>\n",
       "      <td>0</td>\n",
       "    </tr>\n",
       "    <tr>\n",
       "      <th>4</th>\n",
       "      <td>2000</td>\n",
       "      <td>1</td>\n",
       "    </tr>\n",
       "    <tr>\n",
       "      <th>5</th>\n",
       "      <td>2200</td>\n",
       "      <td>0</td>\n",
       "    </tr>\n",
       "    <tr>\n",
       "      <th>6</th>\n",
       "      <td>2700</td>\n",
       "      <td>1</td>\n",
       "    </tr>\n",
       "    <tr>\n",
       "      <th>7</th>\n",
       "      <td>3250</td>\n",
       "      <td>0</td>\n",
       "    </tr>\n",
       "    <tr>\n",
       "      <th>8</th>\n",
       "      <td>3400</td>\n",
       "      <td>1</td>\n",
       "    </tr>\n",
       "    <tr>\n",
       "      <th>9</th>\n",
       "      <td>3600</td>\n",
       "      <td>1</td>\n",
       "    </tr>\n",
       "    <tr>\n",
       "      <th>10</th>\n",
       "      <td>4000</td>\n",
       "      <td>1</td>\n",
       "    </tr>\n",
       "  </tbody>\n",
       "</table>\n",
       "</div>"
      ],
      "text/plain": [
       "    癤퓑on  pass\n",
       "0   1500     0\n",
       "1   1700     0\n",
       "2   1800     0\n",
       "3   1950     0\n",
       "4   2000     1\n",
       "5   2200     0\n",
       "6   2700     1\n",
       "7   3250     0\n",
       "8   3400     1\n",
       "9   3600     1\n",
       "10  4000     1"
      ]
     },
     "execution_count": 4,
     "metadata": {},
     "output_type": "execute_result"
    }
   ],
   "source": [
    "df = pd.read_csv('C:/Users/Mecha/Logistic_regression_example.csv', encoding='cp949')\n",
    "df"
   ]
  },
  {
   "cell_type": "markdown",
   "id": "ec8e9389-13f9-4b9c-9374-e9be5b713f9e",
   "metadata": {},
   "source": [
    "### - 데이터 나누기"
   ]
  },
  {
   "cell_type": "code",
   "execution_count": 21,
   "id": "1a891d26-b0fa-46aa-a3d4-9b135b277768",
   "metadata": {},
   "outputs": [
    {
     "data": {
      "text/plain": [
       "array([[4000,    1],\n",
       "       [3600,    1],\n",
       "       [3400,    1],\n",
       "       [3250,    0],\n",
       "       [2700,    1],\n",
       "       [2200,    0],\n",
       "       [2000,    1],\n",
       "       [1950,    0],\n",
       "       [1800,    0],\n",
       "       [1700,    0],\n",
       "       [1500,    0]], dtype=int64)"
      ]
     },
     "execution_count": 21,
     "metadata": {},
     "output_type": "execute_result"
    }
   ],
   "source": [
    "x = df.iloc[::-1].values\n",
    "x"
   ]
  },
  {
   "cell_type": "code",
   "execution_count": 22,
   "id": "e45ab65a-349f-473f-bdba-52646bac4202",
   "metadata": {},
   "outputs": [
    {
     "data": {
      "text/plain": [
       "array([[1500],\n",
       "       [1700],\n",
       "       [1800],\n",
       "       [1950],\n",
       "       [2000],\n",
       "       [2200],\n",
       "       [2700],\n",
       "       [3250],\n",
       "       [3400],\n",
       "       [3600],\n",
       "       [4000]], dtype=int64)"
      ]
     },
     "execution_count": 22,
     "metadata": {},
     "output_type": "execute_result"
    }
   ],
   "source": [
    "X = df.iloc[:,:-1].values\n",
    "X"
   ]
  },
  {
   "cell_type": "code",
   "execution_count": 23,
   "id": "f876f240-1328-485c-b7ab-594948954c9a",
   "metadata": {},
   "outputs": [
    {
     "data": {
      "text/plain": [
       "array([[1500,    0],\n",
       "       [1700,    0],\n",
       "       [1800,    0],\n",
       "       [1950,    0],\n",
       "       [2000,    1],\n",
       "       [2200,    0],\n",
       "       [2700,    1],\n",
       "       [3250,    0],\n",
       "       [3400,    1],\n",
       "       [3600,    1]], dtype=int64)"
      ]
     },
     "execution_count": 23,
     "metadata": {},
     "output_type": "execute_result"
    }
   ],
   "source": [
    "y = df.iloc[:-1].values\n",
    "y"
   ]
  },
  {
   "cell_type": "code",
   "execution_count": 24,
   "id": "8c53b441-70d7-4ba2-b9ad-504566f9583e",
   "metadata": {},
   "outputs": [
    {
     "data": {
      "text/plain": [
       "array([0, 0, 0, 0, 1, 0, 1, 0, 1, 1, 1], dtype=int64)"
      ]
     },
     "execution_count": 24,
     "metadata": {},
     "output_type": "execute_result"
    }
   ],
   "source": [
    "Y = df.iloc[:,-1].values\n",
    "Y"
   ]
  },
  {
   "cell_type": "markdown",
   "id": "271e3d3d-04d5-425d-9f16-93904c9d4b3d",
   "metadata": {},
   "source": [
    "### - 예측 하기"
   ]
  },
  {
   "cell_type": "code",
   "execution_count": 10,
   "id": "d6c58c07-9649-4ff3-8916-cdd08a8d0f01",
   "metadata": {},
   "outputs": [],
   "source": [
    "from sklearn.model_selection import train_test_split"
   ]
  },
  {
   "cell_type": "code",
   "execution_count": 25,
   "id": "6da1b4ba-0db0-4506-a818-5fdf518ea55e",
   "metadata": {},
   "outputs": [],
   "source": [
    "X_train, X_test, Y_train, Y_test = train_test_split(X, Y, test_size=0.2, random_state=0)"
   ]
  },
  {
   "cell_type": "code",
   "execution_count": 26,
   "id": "7727fb4c-d7c3-4f1d-9220-129dc071c714",
   "metadata": {},
   "outputs": [],
   "source": [
    "from sklearn.linear_model import LogisticRegression"
   ]
  },
  {
   "cell_type": "code",
   "execution_count": 27,
   "id": "b4d6d2bc-2be7-480f-9c5c-2dc89486bea8",
   "metadata": {},
   "outputs": [],
   "source": [
    "classifier = LogisticRegression()"
   ]
  },
  {
   "cell_type": "code",
   "execution_count": 28,
   "id": "491f5c27-2bc8-4460-8a3f-4bf7b8223be0",
   "metadata": {},
   "outputs": [
    {
     "data": {
      "text/html": [
       "<style>#sk-container-id-2 {color: black;background-color: white;}#sk-container-id-2 pre{padding: 0;}#sk-container-id-2 div.sk-toggleable {background-color: white;}#sk-container-id-2 label.sk-toggleable__label {cursor: pointer;display: block;width: 100%;margin-bottom: 0;padding: 0.3em;box-sizing: border-box;text-align: center;}#sk-container-id-2 label.sk-toggleable__label-arrow:before {content: \"▸\";float: left;margin-right: 0.25em;color: #696969;}#sk-container-id-2 label.sk-toggleable__label-arrow:hover:before {color: black;}#sk-container-id-2 div.sk-estimator:hover label.sk-toggleable__label-arrow:before {color: black;}#sk-container-id-2 div.sk-toggleable__content {max-height: 0;max-width: 0;overflow: hidden;text-align: left;background-color: #f0f8ff;}#sk-container-id-2 div.sk-toggleable__content pre {margin: 0.2em;color: black;border-radius: 0.25em;background-color: #f0f8ff;}#sk-container-id-2 input.sk-toggleable__control:checked~div.sk-toggleable__content {max-height: 200px;max-width: 100%;overflow: auto;}#sk-container-id-2 input.sk-toggleable__control:checked~label.sk-toggleable__label-arrow:before {content: \"▾\";}#sk-container-id-2 div.sk-estimator input.sk-toggleable__control:checked~label.sk-toggleable__label {background-color: #d4ebff;}#sk-container-id-2 div.sk-label input.sk-toggleable__control:checked~label.sk-toggleable__label {background-color: #d4ebff;}#sk-container-id-2 input.sk-hidden--visually {border: 0;clip: rect(1px 1px 1px 1px);clip: rect(1px, 1px, 1px, 1px);height: 1px;margin: -1px;overflow: hidden;padding: 0;position: absolute;width: 1px;}#sk-container-id-2 div.sk-estimator {font-family: monospace;background-color: #f0f8ff;border: 1px dotted black;border-radius: 0.25em;box-sizing: border-box;margin-bottom: 0.5em;}#sk-container-id-2 div.sk-estimator:hover {background-color: #d4ebff;}#sk-container-id-2 div.sk-parallel-item::after {content: \"\";width: 100%;border-bottom: 1px solid gray;flex-grow: 1;}#sk-container-id-2 div.sk-label:hover label.sk-toggleable__label {background-color: #d4ebff;}#sk-container-id-2 div.sk-serial::before {content: \"\";position: absolute;border-left: 1px solid gray;box-sizing: border-box;top: 0;bottom: 0;left: 50%;z-index: 0;}#sk-container-id-2 div.sk-serial {display: flex;flex-direction: column;align-items: center;background-color: white;padding-right: 0.2em;padding-left: 0.2em;position: relative;}#sk-container-id-2 div.sk-item {position: relative;z-index: 1;}#sk-container-id-2 div.sk-parallel {display: flex;align-items: stretch;justify-content: center;background-color: white;position: relative;}#sk-container-id-2 div.sk-item::before, #sk-container-id-2 div.sk-parallel-item::before {content: \"\";position: absolute;border-left: 1px solid gray;box-sizing: border-box;top: 0;bottom: 0;left: 50%;z-index: -1;}#sk-container-id-2 div.sk-parallel-item {display: flex;flex-direction: column;z-index: 1;position: relative;background-color: white;}#sk-container-id-2 div.sk-parallel-item:first-child::after {align-self: flex-end;width: 50%;}#sk-container-id-2 div.sk-parallel-item:last-child::after {align-self: flex-start;width: 50%;}#sk-container-id-2 div.sk-parallel-item:only-child::after {width: 0;}#sk-container-id-2 div.sk-dashed-wrapped {border: 1px dashed gray;margin: 0 0.4em 0.5em 0.4em;box-sizing: border-box;padding-bottom: 0.4em;background-color: white;}#sk-container-id-2 div.sk-label label {font-family: monospace;font-weight: bold;display: inline-block;line-height: 1.2em;}#sk-container-id-2 div.sk-label-container {text-align: center;}#sk-container-id-2 div.sk-container {/* jupyter's `normalize.less` sets `[hidden] { display: none; }` but bootstrap.min.css set `[hidden] { display: none !important; }` so we also need the `!important` here to be able to override the default hidden behavior on the sphinx rendered scikit-learn.org. See: https://github.com/scikit-learn/scikit-learn/issues/21755 */display: inline-block !important;position: relative;}#sk-container-id-2 div.sk-text-repr-fallback {display: none;}</style><div id=\"sk-container-id-2\" class=\"sk-top-container\"><div class=\"sk-text-repr-fallback\"><pre>LogisticRegression()</pre><b>In a Jupyter environment, please rerun this cell to show the HTML representation or trust the notebook. <br />On GitHub, the HTML representation is unable to render, please try loading this page with nbviewer.org.</b></div><div class=\"sk-container\" hidden><div class=\"sk-item\"><div class=\"sk-estimator sk-toggleable\"><input class=\"sk-toggleable__control sk-hidden--visually\" id=\"sk-estimator-id-2\" type=\"checkbox\" checked><label for=\"sk-estimator-id-2\" class=\"sk-toggleable__label sk-toggleable__label-arrow\">LogisticRegression</label><div class=\"sk-toggleable__content\"><pre>LogisticRegression()</pre></div></div></div></div></div>"
      ],
      "text/plain": [
       "LogisticRegression()"
      ]
     },
     "execution_count": 28,
     "metadata": {},
     "output_type": "execute_result"
    }
   ],
   "source": [
    "classifier.fit(X_train, Y_train)"
   ]
  },
  {
   "cell_type": "code",
   "execution_count": 30,
   "id": "1a74f583-2a0c-4de8-b4f9-be22a3d7c36f",
   "metadata": {},
   "outputs": [
    {
     "data": {
      "text/plain": [
       "array([1], dtype=int64)"
      ]
     },
     "execution_count": 30,
     "metadata": {},
     "output_type": "execute_result"
    }
   ],
   "source": [
    "classifier.predict([[3300]])"
   ]
  },
  {
   "cell_type": "code",
   "execution_count": 31,
   "id": "a88614b7-7ccd-4d7a-8457-c1dec34a704f",
   "metadata": {},
   "outputs": [
    {
     "data": {
      "text/plain": [
       "array([0], dtype=int64)"
      ]
     },
     "execution_count": 31,
     "metadata": {},
     "output_type": "execute_result"
    }
   ],
   "source": [
    "classifier.predict([[2100]])"
   ]
  },
  {
   "cell_type": "markdown",
   "id": "573b7fef-4957-48a0-b507-93d509a0de0c",
   "metadata": {},
   "source": [
    "### - 확률 확인"
   ]
  },
  {
   "cell_type": "code",
   "execution_count": 33,
   "id": "9e30233a-edfc-4b0f-855e-e8daa103f7a7",
   "metadata": {},
   "outputs": [
    {
     "data": {
      "text/plain": [
       "array([[0.27221751, 0.72778249]])"
      ]
     },
     "execution_count": 33,
     "metadata": {},
     "output_type": "execute_result"
    }
   ],
   "source": [
    "classifier.predict_proba([[3300]])"
   ]
  },
  {
   "cell_type": "code",
   "execution_count": 34,
   "id": "be7db495-7ecb-4728-a4d3-f4e17494699b",
   "metadata": {},
   "outputs": [
    {
     "data": {
      "text/plain": [
       "array([[0.90823236, 0.09176764]])"
      ]
     },
     "execution_count": 34,
     "metadata": {},
     "output_type": "execute_result"
    }
   ],
   "source": [
    "classifier.predict_proba([[2100]])"
   ]
  },
  {
   "cell_type": "markdown",
   "id": "612db789-e86c-45c8-bc52-42046a8e9042",
   "metadata": {},
   "source": [
    "### - 테스트"
   ]
  },
  {
   "cell_type": "code",
   "execution_count": 35,
   "id": "8b37e431-f9e7-46e8-9888-c5557918d250",
   "metadata": {},
   "outputs": [
    {
     "data": {
      "text/plain": [
       "array([[2000],\n",
       "       [3600],\n",
       "       [1800]], dtype=int64)"
      ]
     },
     "execution_count": 35,
     "metadata": {},
     "output_type": "execute_result"
    }
   ],
   "source": [
    "X_test"
   ]
  },
  {
   "cell_type": "code",
   "execution_count": 36,
   "id": "a5fcabbc-ad89-4390-a1c1-68f075912911",
   "metadata": {},
   "outputs": [
    {
     "data": {
      "text/plain": [
       "array([1, 1, 0], dtype=int64)"
      ]
     },
     "execution_count": 36,
     "metadata": {},
     "output_type": "execute_result"
    }
   ],
   "source": [
    "Y_test"
   ]
  },
  {
   "cell_type": "code",
   "execution_count": 38,
   "id": "e4d18ae0-6e7e-4623-80a9-9bf8ea4dc9b4",
   "metadata": {},
   "outputs": [
    {
     "data": {
      "text/plain": [
       "array([0, 1, 0], dtype=int64)"
      ]
     },
     "execution_count": 38,
     "metadata": {},
     "output_type": "execute_result"
    }
   ],
   "source": [
    "Y_pred = classifier.predict(X_test)\n",
    "Y_pred"
   ]
  },
  {
   "cell_type": "markdown",
   "id": "cb44950e-f490-4a25-b4b5-28cbf41ce52e",
   "metadata": {},
   "source": [
    "#### - 모델 평가"
   ]
  },
  {
   "cell_type": "code",
   "execution_count": 39,
   "id": "3f2b0b4c-fd19-4f02-8096-4789f588d43a",
   "metadata": {},
   "outputs": [
    {
     "data": {
      "text/plain": [
       "0.6666666666666666"
      ]
     },
     "execution_count": 39,
     "metadata": {},
     "output_type": "execute_result"
    }
   ],
   "source": [
    "classifier.score(X_test, Y_test)"
   ]
  },
  {
   "cell_type": "markdown",
   "id": "873ab785-95fc-4e93-af5d-a281e4c7d671",
   "metadata": {},
   "source": [
    "### - 데이터 시각화"
   ]
  },
  {
   "cell_type": "code",
   "execution_count": 41,
   "id": "51fb4fc7-6f2d-4ab8-a662-a144621137d6",
   "metadata": {},
   "outputs": [
    {
     "data": {
      "text/plain": [
       "array([1500, 1510, 1520, 1530, 1540, 1550, 1560, 1570, 1580, 1590, 1600,\n",
       "       1610, 1620, 1630, 1640, 1650, 1660, 1670, 1680, 1690, 1700, 1710,\n",
       "       1720, 1730, 1740, 1750, 1760, 1770, 1780, 1790, 1800, 1810, 1820,\n",
       "       1830, 1840, 1850, 1860, 1870, 1880, 1890, 1900, 1910, 1920, 1930,\n",
       "       1940, 1950, 1960, 1970, 1980, 1990, 2000, 2010, 2020, 2030, 2040,\n",
       "       2050, 2060, 2070, 2080, 2090, 2100, 2110, 2120, 2130, 2140, 2150,\n",
       "       2160, 2170, 2180, 2190, 2200, 2210, 2220, 2230, 2240, 2250, 2260,\n",
       "       2270, 2280, 2290, 2300, 2310, 2320, 2330, 2340, 2350, 2360, 2370,\n",
       "       2380, 2390, 2400, 2410, 2420, 2430, 2440, 2450, 2460, 2470, 2480,\n",
       "       2490, 2500, 2510, 2520, 2530, 2540, 2550, 2560, 2570, 2580, 2590,\n",
       "       2600, 2610, 2620, 2630, 2640, 2650, 2660, 2670, 2680, 2690, 2700,\n",
       "       2710, 2720, 2730, 2740, 2750, 2760, 2770, 2780, 2790, 2800, 2810,\n",
       "       2820, 2830, 2840, 2850, 2860, 2870, 2880, 2890, 2900, 2910, 2920,\n",
       "       2930, 2940, 2950, 2960, 2970, 2980, 2990, 3000, 3010, 3020, 3030,\n",
       "       3040, 3050, 3060, 3070, 3080, 3090, 3100, 3110, 3120, 3130, 3140,\n",
       "       3150, 3160, 3170, 3180, 3190, 3200, 3210, 3220, 3230, 3240, 3250,\n",
       "       3260, 3270, 3280, 3290, 3300, 3310, 3320, 3330, 3340, 3350, 3360,\n",
       "       3370, 3380, 3390, 3400, 3410, 3420, 3430, 3440, 3450, 3460, 3470,\n",
       "       3480, 3490, 3500, 3510, 3520, 3530, 3540, 3550, 3560, 3570, 3580,\n",
       "       3590, 3600, 3610, 3620, 3630, 3640, 3650, 3660, 3670, 3680, 3690,\n",
       "       3700, 3710, 3720, 3730, 3740, 3750, 3760, 3770, 3780, 3790, 3800,\n",
       "       3810, 3820, 3830, 3840, 3850, 3860, 3870, 3880, 3890, 3900, 3910,\n",
       "       3920, 3930, 3940, 3950, 3960, 3970, 3980, 3990], dtype=int64)"
      ]
     },
     "execution_count": 41,
     "metadata": {},
     "output_type": "execute_result"
    }
   ],
   "source": [
    "X_range = np.arange(min(X), max(X), 10)\n",
    "X_range"
   ]
  },
  {
   "cell_type": "code",
   "execution_count": 51,
   "id": "11b4463e-f7c8-4cfb-afe9-d67bb679dc68",
   "metadata": {},
   "outputs": [
    {
     "data": {
      "text/plain": [
       "array([[0.01926408, 0.01978662, 0.02032305, 0.02087371, 0.02143896,\n",
       "        0.02201918, 0.02261474, 0.02322602, 0.02385342, 0.02449735,\n",
       "        0.02515821, 0.02583642, 0.02653242, 0.02724665, 0.02797955,\n",
       "        0.02873158, 0.02950321, 0.03029492, 0.03110719, 0.03194052,\n",
       "        0.03279543, 0.03367241, 0.03457201, 0.03549477, 0.03644122,\n",
       "        0.03741193, 0.03840747, 0.03942841, 0.04047535, 0.04154888,\n",
       "        0.04264963, 0.0437782 , 0.04493524, 0.04612138, 0.04733728,\n",
       "        0.0485836 , 0.04986102, 0.05117021, 0.05251189, 0.05388674,\n",
       "        0.05529549, 0.05673886, 0.05821759, 0.05973241, 0.06128408,\n",
       "        0.06287337, 0.06450104, 0.06616787, 0.06787465, 0.06962217,\n",
       "        0.07141124, 0.07324267, 0.07511726, 0.07703584, 0.07899924,\n",
       "        0.08100829, 0.08306382, 0.08516668, 0.08731771, 0.08951774,\n",
       "        0.09176764, 0.09406824, 0.09642039, 0.09882494, 0.10128274,\n",
       "        0.10379462, 0.10636142, 0.10898398, 0.11166313, 0.11439968,\n",
       "        0.11719445, 0.12004824, 0.12296184, 0.12593604, 0.1289716 ,\n",
       "        0.13206927, 0.13522979, 0.13845388, 0.14174223, 0.14509554,\n",
       "        0.14851444, 0.15199959, 0.15555158, 0.15917099, 0.16285838,\n",
       "        0.16661426, 0.17043913, 0.17433344, 0.1782976 , 0.182332  ,\n",
       "        0.18643697, 0.19061281, 0.19485979, 0.1991781 , 0.20356792,\n",
       "        0.20802935, 0.21256247, 0.21716728, 0.22184374, 0.22659175,\n",
       "        0.23141116, 0.23630176, 0.24126328, 0.24629537, 0.25139764,\n",
       "        0.25656963, 0.26181081, 0.26712058, 0.27249829, 0.27794321,\n",
       "        0.28345453, 0.28903139, 0.29467285, 0.30037791, 0.30614547,\n",
       "        0.3119744 , 0.31786346, 0.32381137, 0.32981677, 0.33587822,\n",
       "        0.34199422, 0.34816321, 0.35438354, 0.36065351, 0.36697137,\n",
       "        0.37333527, 0.37974333, 0.3861936 , 0.39268406, 0.39921266,\n",
       "        0.40577728, 0.41237576, 0.41900587, 0.42566536, 0.43235193,\n",
       "        0.43906324, 0.44579692, 0.45255055, 0.45932169, 0.46610789,\n",
       "        0.47290665, 0.47971548, 0.48653185, 0.49335324, 0.5001771 ,\n",
       "        0.5070009 , 0.51382208, 0.52063813, 0.52744649, 0.53424467,\n",
       "        0.54103015, 0.54780044, 0.55455309, 0.56128567, 0.56799575,\n",
       "        0.57468098, 0.581339  , 0.58796753, 0.5945643 , 0.6011271 ,\n",
       "        0.60765377, 0.6141422 , 0.62059033, 0.62699614, 0.6333577 ,\n",
       "        0.63967311, 0.64594055, 0.65215826, 0.65832454, 0.66443774,\n",
       "        0.67049632, 0.67649877, 0.68244366, 0.68832963, 0.6941554 ,\n",
       "        0.69991975, 0.70562153, 0.71125966, 0.71683315, 0.72234104,\n",
       "        0.72778249, 0.73315669, 0.73846292, 0.74370052, 0.74886891,\n",
       "        0.75396755, 0.75899598, 0.76395382, 0.76884073, 0.77365645,\n",
       "        0.77840075, 0.78307349, 0.78767458, 0.79220398, 0.79666169,\n",
       "        0.80104779, 0.8053624 , 0.80960568, 0.81377784, 0.81787914,\n",
       "        0.82190988, 0.82587041, 0.8297611 , 0.83358237, 0.83733469,\n",
       "        0.84101854, 0.84463444, 0.84818294, 0.85166463, 0.85508012,\n",
       "        0.85843004, 0.86171504, 0.86493581, 0.86809305, 0.87118748,\n",
       "        0.87421983, 0.87719087, 0.88010135, 0.88295205, 0.88574378,\n",
       "        0.88847733, 0.89115352, 0.89377317, 0.8963371 , 0.89884615,\n",
       "        0.90130117, 0.90370298, 0.90605243, 0.90835038, 0.91059767,\n",
       "        0.91279514, 0.91494364, 0.91704402, 0.91909712, 0.92110378,\n",
       "        0.92306484, 0.92498112, 0.92685345, 0.92868265, 0.93046954,\n",
       "        0.93221493, 0.93391962, 0.9355844 , 0.93721006, 0.93879737,\n",
       "        0.94034711, 0.94186004, 0.94333692, 0.94477847, 0.94618544]])"
      ]
     },
     "execution_count": 51,
     "metadata": {},
     "output_type": "execute_result"
    }
   ],
   "source": [
    "S = 1 / (1 + np.exp(-(classifier.coef_ * X_range + classifier.intercept_)))\n",
    "S"
   ]
  },
  {
   "cell_type": "code",
   "execution_count": 52,
   "id": "7247011c-8137-4edd-be98-a1562d28f3ca",
   "metadata": {},
   "outputs": [
    {
     "data": {
      "text/plain": [
       "(1, 250)"
      ]
     },
     "execution_count": 52,
     "metadata": {},
     "output_type": "execute_result"
    }
   ],
   "source": [
    "S.shape"
   ]
  },
  {
   "cell_type": "code",
   "execution_count": 53,
   "id": "dd1f2d96-fe2b-498c-b51e-f4dea6d76dc3",
   "metadata": {},
   "outputs": [
    {
     "data": {
      "text/plain": [
       "(250,)"
      ]
     },
     "execution_count": 53,
     "metadata": {},
     "output_type": "execute_result"
    }
   ],
   "source": [
    "X_range.shape"
   ]
  },
  {
   "cell_type": "code",
   "execution_count": 54,
   "id": "42378026-bef0-40e9-be7e-895081609436",
   "metadata": {},
   "outputs": [],
   "source": [
    "S = S.reshape(-1)"
   ]
  },
  {
   "cell_type": "code",
   "execution_count": 55,
   "id": "55053bcc-8f05-49aa-b185-d42255d1a7d4",
   "metadata": {},
   "outputs": [
    {
     "data": {
      "text/plain": [
       "(250,)"
      ]
     },
     "execution_count": 55,
     "metadata": {},
     "output_type": "execute_result"
    }
   ],
   "source": [
    "S.shape"
   ]
  },
  {
   "cell_type": "code",
   "execution_count": 56,
   "id": "fe672d55-2ec7-4c8c-825b-9eb2e75d7b37",
   "metadata": {},
   "outputs": [
    {
     "data": {
      "image/png": "[encoded data removed]",
      "text/plain": [
       "<Figure size 640x480 with 1 Axes>"
      ]
     },
     "metadata": {},
     "output_type": "display_data"
    }
   ],
   "source": [
    "plt.scatter(X_train, Y_train, color = 'blue')\n",
    "plt.plot(X_range, S, color='green')\n",
    "plt.plot(X_range, np.full(len(X_range), 0.5), color='red')\n",
    "plt.title('Monthly pay')\n",
    "plt.xlabel('annual income')\n",
    "plt.ylabel('S')\n",
    "plt.show()"
   ]
  },
  {
   "cell_type": "code",
   "execution_count": 57,
   "id": "39ce95e9-702f-4780-82dd-724dbab1d1fa",
   "metadata": {},
   "outputs": [
    {
     "data": {
      "image/png": "[encoded data removed]",
      "text/plain": [
       "<Figure size 640x480 with 1 Axes>"
      ]
     },
     "metadata": {},
     "output_type": "display_data"
    }
   ],
   "source": [
    "plt.scatter(X_test, Y_test, color = 'blue')\n",
    "plt.plot(X_range, S, color='green')\n",
    "plt.plot(X_range, np.full(len(X_range), 0.5), color='red')\n",
    "plt.title('Monthly pay')\n",
    "plt.xlabel('annual income')\n",
    "plt.ylabel('S')\n",
    "plt.show()"
   ]
  },
  {
   "cell_type": "markdown",
   "id": "0a51caec-8eaf-495e-87b7-086c4c79093e",
   "metadata": {
    "tags": []
   },
   "source": [
    "### - 혼동 행렬 (p.109)"
   ]
  },
  {
   "cell_type": "code",
   "execution_count": 58,
   "id": "f1757d7b-d365-4af8-9eb3-2af033810f9d",
   "metadata": {},
   "outputs": [],
   "source": [
    "from sklearn.metrics import confusion_matrix"
   ]
  },
  {
   "cell_type": "code",
   "execution_count": 59,
   "id": "ceb74a10-daee-4f24-8957-578e048a7060",
   "metadata": {},
   "outputs": [
    {
     "data": {
      "text/plain": [
       "array([[1, 0],\n",
       "       [1, 1]], dtype=int64)"
      ]
     },
     "execution_count": 59,
     "metadata": {},
     "output_type": "execute_result"
    }
   ],
   "source": [
    "cm = confusion_matrix(Y_test, Y_pred)\n",
    "cm"
   ]
  },
  {
   "cell_type": "code",
   "execution_count": null,
   "id": "8fefe33d-6a94-4ea7-b725-cbb48844d103",
   "metadata": {},
   "outputs": [],
   "source": []
  }
 ],
 "metadata": {
  "kernelspec": {
   "display_name": "Python 3 (ipykernel)",
   "language": "python",
   "name": "python3"
  },
  "language_info": {
   "codemirror_mode": {
    "name": "ipython",
    "version": 3
   },
   "file_extension": ".py",
   "mimetype": "text/x-python",
   "name": "python",
   "nbconvert_exporter": "python",
   "pygments_lexer": "ipython3",
   "version": "3.9.7"
  }
 },
 "nbformat": 4,
 "nbformat_minor": 5
}
