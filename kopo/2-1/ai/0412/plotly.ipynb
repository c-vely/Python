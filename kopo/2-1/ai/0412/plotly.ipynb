{
 "cells": [
  {
   "cell_type": "markdown",
   "id": "fdc2e5cb-c2f7-4a4a-bed0-d61b736c93a7",
   "metadata": {},
   "source": [
    "## p.97 iris 데이터의 분포를 특징 공간에 그리기"
   ]
  },
  {
   "cell_type": "code",
   "execution_count": 1,
   "id": "b16c8aaf-69e9-4bb1-8251-825ad30c3dde",
   "metadata": {},
   "outputs": [],
   "source": [
    "import plotly.express as px"
   ]
  },
  {
   "cell_type": "code",
   "execution_count": 4,
   "id": "620a1503-6bfd-4181-a686-df5f5647b655",
   "metadata": {},
   "outputs": [],
   "source": [
    "df = px.data.iris()\n",
    "fig = px.scatter_3d(df, x='sepal_length', y='sepal_width', z='petal_width', color='species')\n",
    "fig.show(renderer=\"browser\")"
   ]
  },
  {
   "cell_type": "code",
   "execution_count": null,
   "id": "aec57398-4576-4e54-a7da-86302d17e6ce",
   "metadata": {},
   "outputs": [],
   "source": []
  }
 ],
 "metadata": {
  "kernelspec": {
   "display_name": "Python 3 (ipykernel)",
   "language": "python",
   "name": "python3"
  },
  "language_info": {
   "codemirror_mode": {
    "name": "ipython",
    "version": 3
   },
   "file_extension": ".py",
   "mimetype": "text/x-python",
   "name": "python",
   "nbconvert_exporter": "python",
   "pygments_lexer": "ipython3",
   "version": "3.10.9"
  }
 },
 "nbformat": 4,
 "nbformat_minor": 5
}
