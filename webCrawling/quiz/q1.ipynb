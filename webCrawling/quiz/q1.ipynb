{
 "cells": [
  {
   "cell_type": "markdown",
   "id": "ca30f5d1-8a1b-4aa6-af26-625dfa19a859",
   "metadata": {},
   "source": [
    "# 문제1.\n",
    "1. 사용자로 점수를 3개 입력받아\n",
    "2. 모든 점수가 64보다 클 경우 합격, 아닌 경우 불합격을 출력하세요.\n",
    "3. 단, 0~100이 아닌 숫자가 입력된 경우 잘못된 \"잘못된 점수가 입력되었습니다\"를 출력하세요."
   ]
  },
  {
   "cell_type": "markdown",
   "id": "7e442ffc-9663-436d-9997-fd57f7c4a1ed",
   "metadata": {},
   "source": [
    "- self"
   ]
  },
  {
   "cell_type": "code",
   "execution_count": 1,
   "id": "e406eb30-75f7-4676-bb48-7abbfaa28bc7",
   "metadata": {},
   "outputs": [],
   "source": [
    "scores = []"
   ]
  },
  {
   "cell_type": "code",
   "execution_count": 2,
   "id": "ca274b9c-044a-451c-8daf-bdf120920330",
   "metadata": {},
   "outputs": [
    {
     "name": "stdout",
     "output_type": "stream",
     "text": [
      "실행 : \n"
     ]
    },
    {
     "name": "stdin",
     "output_type": "stream",
     "text": [
      "1번째 점수를 입력해 주세요 :  120\n",
      "2번째 점수를 입력해 주세요 :  90\n",
      "3번째 점수를 입력해 주세요 :  80\n"
     ]
    }
   ],
   "source": [
    "print('실행 : ')\n",
    "for i in range(3):\n",
    "    num = int(input(f'{i+1}번째 점수를 입력해 주세요 : '))\n",
    "    scores.append(num)"
   ]
  },
  {
   "cell_type": "code",
   "execution_count": 3,
   "id": "ebf8547d-e959-4e8a-aded-b5657b67a11d",
   "metadata": {},
   "outputs": [],
   "source": [
    "value = []\n",
    "for i in range(len(scores)):\n",
    "    if scores[i] < 0 or scores[i] > 100:\n",
    "        value.append(-1)\n",
    "    elif 65 <= scores[i] <= 100:\n",
    "        value.append(1)\n",
    "    else:\n",
    "        value.append(0)"
   ]
  },
  {
   "cell_type": "code",
   "execution_count": 4,
   "id": "c2225dc4-8027-42df-9503-75592141f33d",
   "metadata": {},
   "outputs": [
    {
     "name": "stdout",
     "output_type": "stream",
     "text": [
      "2\n",
      "1\n",
      "잘못된 점수가 입력되었습니다.\n"
     ]
    }
   ],
   "source": [
    "passCnt = value.count(1)\n",
    "print(passCnt)    \n",
    "\n",
    "if passCnt == 3:\n",
    "    print('합격')  \n",
    "else:\n",
    "    errorCnt = value.count(-1)\n",
    "    print(errorCnt)\n",
    "    \n",
    "    if errorCnt >= 1:\n",
    "        print('잘못된 점수가 입력되었습니다.')\n",
    "    else:\n",
    "        print('불합격')"
   ]
  },
  {
   "cell_type": "markdown",
   "id": "5b9a17f6-4430-40c9-8293-401a4b404e83",
   "metadata": {},
   "source": [
    "* teacher"
   ]
  },
  {
   "cell_type": "code",
   "execution_count": 9,
   "id": "deaeaa0b-de3e-4ebf-9463-9be73101311d",
   "metadata": {},
   "outputs": [
    {
     "name": "stdin",
     "output_type": "stream",
     "text": [
      "첫번째 점수를 입력해주세요 :  20\n",
      "첫번째 점수를 입력해주세요 :  60\n",
      "첫번째 점수를 입력해주세요 :  70\n"
     ]
    },
    {
     "name": "stdout",
     "output_type": "stream",
     "text": [
      "불합격\n"
     ]
    }
   ],
   "source": [
    "score1 = int(input(\"첫번째 점수를 입력해주세요 : \"))\n",
    "score2 = int(input(\"첫번째 점수를 입력해주세요 : \"))\n",
    "score3 = int(input(\"첫번째 점수를 입력해주세요 : \"))\n",
    "\n",
    "if not (0 <= score1 <= 100) or not (0 <= score2 <= 100) or not (0 <= score3 <= 100):\n",
    "    print('잘못된 점수가 입력되었습니다.')\n",
    "elif score1 > 65 and score2 > 65 and score3 > 65:\n",
    "    print('합격')\n",
    "else:\n",
    "    print(\"불합격\")"
   ]
  },
  {
   "cell_type": "code",
   "execution_count": null,
   "id": "095fde42-e643-4c71-906a-67301fde6f0e",
   "metadata": {},
   "outputs": [],
   "source": []
  }
 ],
 "metadata": {
  "kernelspec": {
   "display_name": "Python 3 (ipykernel)",
   "language": "python",
   "name": "python3"
  },
  "language_info": {
   "codemirror_mode": {
    "name": "ipython",
    "version": 3
   },
   "file_extension": ".py",
   "mimetype": "text/x-python",
   "name": "python",
   "nbconvert_exporter": "python",
   "pygments_lexer": "ipython3",
   "version": "3.9.7"
  }
 },
 "nbformat": 4,
 "nbformat_minor": 5
}
