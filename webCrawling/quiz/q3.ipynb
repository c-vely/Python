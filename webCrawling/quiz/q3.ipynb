{
 "cells": [
  {
   "cell_type": "markdown",
   "id": "cdd50043-0c19-4e86-82d1-360bf697fe4a",
   "metadata": {},
   "source": [
    "# 문제 1. 가위바위보\n",
    "\n",
    "가위(1), 바위(2), 보(3) 을 입력해주세요 : 3  \n",
    "유저 : 보, 컴퓨터 : 보  \n",
    "가위(1), 바위(2), 보(3) 을 입력해주세요 : 2  \n",
    "유저 : 바위, 컴퓨터 : 보  \n",
    "가위(1), 바위(2), 보(3) 을 입력해주세요 : 1  \n",
    "유저 : 가위, 컴퓨터 : 보  \n",
    "가위(1), 바위(2), 보(3) 을 입력해주세요 : 4  \n",
    "게임종료 (전체:3 ,승리:1)  \n",
    "\n",
    "1~3 을 입력하면 게임진행, 이외의 숫자를 입력하면 게임종료  \n"
   ]
  },
  {
   "cell_type": "code",
   "execution_count": 2,
   "id": "6c121822-1bf5-4cd2-b75f-cef69a94486d",
   "metadata": {},
   "outputs": [],
   "source": [
    "import random"
   ]
  },
  {
   "cell_type": "code",
   "execution_count": null,
   "id": "0d53cc5c-612a-471d-9997-0b4eaba986ef",
   "metadata": {},
   "outputs": [],
   "source": [
    "def comNum:\n",
    "    num = random.randint(1, 3)\n",
    "    return num "
   ]
  }
 ],
 "metadata": {
  "kernelspec": {
   "display_name": "Python 3 (ipykernel)",
   "language": "python",
   "name": "python3"
  },
  "language_info": {
   "codemirror_mode": {
    "name": "ipython",
    "version": 3
   },
   "file_extension": ".py",
   "mimetype": "text/x-python",
   "name": "python",
   "nbconvert_exporter": "python",
   "pygments_lexer": "ipython3",
   "version": "3.9.7"
  }
 },
 "nbformat": 4,
 "nbformat_minor": 5
}
