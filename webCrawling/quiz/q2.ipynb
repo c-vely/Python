{
 "cells": [
  {
   "cell_type": "markdown",
   "id": "dba63c74-b066-4220-b385-8426b943fd8a",
   "metadata": {},
   "source": [
    "# 문제 1.\n",
    "1. x = [3, 6, 9, 20, -7, 5] 의 값의 모든 요소에 10을 곱하여 저장한뒤 출력하세요"
   ]
  },
  {
   "cell_type": "markdown",
   "id": "85bd7c8c-d520-4c77-8899-546553868d5b",
   "metadata": {},
   "source": [
    "- myself"
   ]
  },
  {
   "cell_type": "code",
   "execution_count": 1,
   "id": "9133edfc-490b-4bb8-8b00-f6740022e4bc",
   "metadata": {},
   "outputs": [],
   "source": [
    "x = [3, 6, 9, 20, -7, 5] "
   ]
  },
  {
   "cell_type": "code",
   "execution_count": 2,
   "id": "133aa6cb-9b0e-4873-8f3b-85a231323580",
   "metadata": {},
   "outputs": [],
   "source": [
    "for i in range(len(x)):\n",
    "    x[i] = x[i] * 10"
   ]
  },
  {
   "cell_type": "code",
   "execution_count": 3,
   "id": "b6d42fbc-0f7c-45d7-98ac-21fca6249f36",
   "metadata": {},
   "outputs": [
    {
     "data": {
      "text/plain": [
       "[30, 60, 90, 200, -70, 50]"
      ]
     },
     "execution_count": 3,
     "metadata": {},
     "output_type": "execute_result"
    }
   ],
   "source": [
    "x"
   ]
  },
  {
   "cell_type": "markdown",
   "id": "0d39a1ee-6415-431d-8d39-2e82c61afabc",
   "metadata": {},
   "source": [
    "- Teacher"
   ]
  },
  {
   "cell_type": "code",
   "execution_count": 17,
   "id": "74809b1c-a033-4a50-8e4f-22cbfbf52f4b",
   "metadata": {},
   "outputs": [],
   "source": [
    "x = [3, 6, 9, 20, -7, 5] "
   ]
  },
  {
   "cell_type": "code",
   "execution_count": 18,
   "id": "266fb9b2-10a8-40ed-a1d7-34d8c40305b6",
   "metadata": {},
   "outputs": [],
   "source": [
    "for i, v in enumerate(x):\n",
    "    x[i] = x[i] * 10"
   ]
  },
  {
   "cell_type": "code",
   "execution_count": 19,
   "id": "a48f661c-917c-4ca0-9e98-afd12d07c1ae",
   "metadata": {},
   "outputs": [
    {
     "data": {
      "text/plain": [
       "[30, 60, 90, 200, -70, 50]"
      ]
     },
     "execution_count": 19,
     "metadata": {},
     "output_type": "execute_result"
    }
   ],
   "source": [
    "x"
   ]
  },
  {
   "cell_type": "markdown",
   "id": "b9b191df-816a-4192-ae50-9ee20d3b96cc",
   "metadata": {},
   "source": [
    "2. y = [\"math\":70, \"science\":80, \"english\":20] 의 값의 모든 요소에 10을 더하여 저장한 뒤 출력하세요"
   ]
  },
  {
   "cell_type": "markdown",
   "id": "501b524b-07d5-48de-9feb-3d3fa9dcbe6c",
   "metadata": {},
   "source": [
    "- myself"
   ]
  },
  {
   "cell_type": "code",
   "execution_count": 1,
   "id": "c9934363-ac09-490d-bcee-111d30e811d8",
   "metadata": {},
   "outputs": [],
   "source": [
    "y = {\"math\":70, \"science\":80, \"english\":20}"
   ]
  },
  {
   "cell_type": "code",
   "execution_count": 9,
   "id": "52b94f32-db73-4e8f-9365-595fcf55b11b",
   "metadata": {},
   "outputs": [],
   "source": [
    "for key, value in y.items():\n",
    "    y[key] = y[key] + 10"
   ]
  },
  {
   "cell_type": "code",
   "execution_count": 10,
   "id": "ce914b9b-0624-4473-b2a9-5a9dc34730f4",
   "metadata": {},
   "outputs": [
    {
     "data": {
      "text/plain": [
       "{'math': 80, 'science': 90, 'english': 30}"
      ]
     },
     "execution_count": 10,
     "metadata": {},
     "output_type": "execute_result"
    }
   ],
   "source": [
    "y"
   ]
  },
  {
   "cell_type": "markdown",
   "id": "aa80d000-3cd0-4e5a-9cc0-c9f0b288feda",
   "metadata": {},
   "source": [
    "- Teacher"
   ]
  },
  {
   "cell_type": "code",
   "execution_count": null,
   "id": "51fce3e6-bcc1-405a-b846-25c8dc9ca42f",
   "metadata": {},
   "outputs": [],
   "source": [
    "y = {\"math\":70, \"science\":80, \"english\":20}"
   ]
  },
  {
   "cell_type": "code",
   "execution_count": 20,
   "id": "009bf8ea-1f88-41b0-b6c4-5660a3e80d40",
   "metadata": {},
   "outputs": [],
   "source": [
    "for i in y:\n",
    "    y[i] += 10"
   ]
  },
  {
   "cell_type": "code",
   "execution_count": 21,
   "id": "a1fac72c-4c8a-4f5f-94c5-b3f08f43e0dc",
   "metadata": {},
   "outputs": [
    {
     "data": {
      "text/plain": [
       "{'math': 90, 'science': 100, 'english': 40}"
      ]
     },
     "execution_count": 21,
     "metadata": {},
     "output_type": "execute_result"
    }
   ],
   "source": [
    "y"
   ]
  },
  {
   "cell_type": "markdown",
   "id": "3fb45864-f41c-43a2-b58d-3dafb52d0e9e",
   "metadata": {},
   "source": [
    "# 문제 2.\n",
    "1. [3, 6, 9, 20, -7, 5] 리스르를 sort와 같은 함수를 사용하지말고 for문을 활용하여 오름차순으로 정렬해주세요."
   ]
  },
  {
   "cell_type": "markdown",
   "id": "6b5f9dba-c4d5-4759-a22e-3000d7ec943d",
   "metadata": {},
   "source": [
    "- myself"
   ]
  },
  {
   "cell_type": "code",
   "execution_count": 12,
   "id": "93d53b91-a091-41d4-a359-6b1fc6f4fc15",
   "metadata": {},
   "outputs": [],
   "source": [
    "val = [3, 6, 9, 20, -7, 5]"
   ]
  },
  {
   "cell_type": "code",
   "execution_count": 13,
   "id": "04714a8f-2482-486d-9629-eb150b459095",
   "metadata": {},
   "outputs": [],
   "source": [
    "for i in range(len(val)):\n",
    "    for j in range(i+1,len(val)):\n",
    "        if val[i] > val[j]:\n",
    "            temp = val[i]\n",
    "            val[i] = val[j]\n",
    "            val[j] = temp\n",
    "        else:\n",
    "            pass"
   ]
  },
  {
   "cell_type": "code",
   "execution_count": 14,
   "id": "19f43c2a-5786-4f4a-bcc7-c8c0abf42c16",
   "metadata": {},
   "outputs": [
    {
     "data": {
      "text/plain": [
       "[-7, 3, 5, 6, 9, 20]"
      ]
     },
     "execution_count": 14,
     "metadata": {},
     "output_type": "execute_result"
    }
   ],
   "source": [
    "val"
   ]
  },
  {
   "cell_type": "markdown",
   "id": "8e810ef9-aee4-4eb0-b1aa-4d7b36c68ec9",
   "metadata": {},
   "source": [
    "- teacher"
   ]
  },
  {
   "cell_type": "code",
   "execution_count": null,
   "id": "2fc26d10-a1ba-41d1-84ff-3afee4a7994e",
   "metadata": {},
   "outputs": [],
   "source": [
    "val = [3, 6, 9, 20, -7, 5]"
   ]
  },
  {
   "cell_type": "code",
   "execution_count": null,
   "id": "e76811a0-cc1d-4784-96ff-77bdb5ff1a03",
   "metadata": {},
   "outputs": [],
   "source": [
    "for i in range(len(val)):\n",
    "    for j in range(i+1,len(val)):\n",
    "        if val[i] > val[j]:\n",
    "            temp = val[i]\n",
    "            val[i] = val[j]\n",
    "            val[j] = temp\n",
    "        else:\n",
    "            pass"
   ]
  },
  {
   "cell_type": "markdown",
   "id": "ae36bb68-5438-4693-9c60-97f2893b5599",
   "metadata": {},
   "source": [
    "# 문제 3.\n",
    "1. 1~100까지 숫자 중 3과 5의 공배수일 경우 \"3과 5의 공배수\"\n",
    "2. 나머지 숫자 중 3의 배수일 경우 \"3의 배수\" \n",
    "3. 나머지 숫자 중 5의 배수일 경우 \"5의 배수\"\n",
    "4. 모두 해당되지 않을 경우 그냥 숫자를 출력하세요"
   ]
  },
  {
   "cell_type": "code",
   "execution_count": 3,
   "id": "71fedd47-5bce-4d20-a01b-e6563c3fd5f3",
   "metadata": {},
   "outputs": [
    {
     "name": "stdout",
     "output_type": "stream",
     "text": [
      "1\n",
      "2\n",
      "3의 배수\n",
      "4\n",
      "5의 배수\n",
      "3의 배수\n",
      "7\n",
      "8\n",
      "3의 배수\n",
      "5의 배수\n",
      "11\n",
      "3의 배수\n",
      "13\n",
      "14\n",
      "3과 5의 공배수\n",
      "16\n",
      "17\n",
      "3의 배수\n",
      "19\n",
      "5의 배수\n",
      "3의 배수\n",
      "22\n",
      "23\n",
      "3의 배수\n",
      "5의 배수\n",
      "26\n",
      "3의 배수\n",
      "28\n",
      "29\n",
      "3과 5의 공배수\n",
      "31\n",
      "32\n",
      "3의 배수\n",
      "34\n",
      "5의 배수\n",
      "3의 배수\n",
      "37\n",
      "38\n",
      "3의 배수\n",
      "5의 배수\n",
      "41\n",
      "3의 배수\n",
      "43\n",
      "44\n",
      "3과 5의 공배수\n",
      "46\n",
      "47\n",
      "3의 배수\n",
      "49\n",
      "5의 배수\n",
      "3의 배수\n",
      "52\n",
      "53\n",
      "3의 배수\n",
      "5의 배수\n",
      "56\n",
      "3의 배수\n",
      "58\n",
      "59\n",
      "3과 5의 공배수\n",
      "61\n",
      "62\n",
      "3의 배수\n",
      "64\n",
      "5의 배수\n",
      "3의 배수\n",
      "67\n",
      "68\n",
      "3의 배수\n",
      "5의 배수\n",
      "71\n",
      "3의 배수\n",
      "73\n",
      "74\n",
      "3과 5의 공배수\n",
      "76\n",
      "77\n",
      "3의 배수\n",
      "79\n",
      "5의 배수\n",
      "3의 배수\n",
      "82\n",
      "83\n",
      "3의 배수\n",
      "5의 배수\n",
      "86\n",
      "3의 배수\n",
      "88\n",
      "89\n",
      "3과 5의 공배수\n",
      "91\n",
      "92\n",
      "3의 배수\n",
      "94\n",
      "5의 배수\n",
      "3의 배수\n",
      "97\n",
      "98\n",
      "3의 배수\n",
      "5의 배수\n"
     ]
    }
   ],
   "source": [
    "for i in range(1,101):\n",
    "    if i % 3 == 0 and i % 5 == 0:\n",
    "        print(\"3과 5의 공배수\")\n",
    "    elif i % 3 == 0: \n",
    "        print(\"3의 배수\")\n",
    "    elif i % 5 == 0: \n",
    "        print(\"5의 배수\")\n",
    "    else:\n",
    "        print(i)"
   ]
  },
  {
   "cell_type": "code",
   "execution_count": null,
   "id": "8291547e-f82e-4160-a39c-1020b4ac65b2",
   "metadata": {},
   "outputs": [],
   "source": []
  }
 ],
 "metadata": {
  "kernelspec": {
   "display_name": "Python 3 (ipykernel)",
   "language": "python",
   "name": "python3"
  },
  "language_info": {
   "codemirror_mode": {
    "name": "ipython",
    "version": 3
   },
   "file_extension": ".py",
   "mimetype": "text/x-python",
   "name": "python",
   "nbconvert_exporter": "python",
   "pygments_lexer": "ipython3",
   "version": "3.9.7"
  }
 },
 "nbformat": 4,
 "nbformat_minor": 5
}
