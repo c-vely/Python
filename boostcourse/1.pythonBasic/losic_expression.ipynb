{
 "cells": [
  {
   "cell_type": "code",
   "execution_count": null,
   "metadata": {},
   "outputs": [],
   "source": [
    "a = True\n",
    "b = True\n",
    "a and b"
   ]
  },
  {
   "cell_type": "code",
   "execution_count": null,
   "metadata": {},
   "outputs": [],
   "source": [
    "a = True\n",
    "b = False\n",
    "a and b"
   ]
  },
  {
   "cell_type": "code",
   "execution_count": null,
   "metadata": {},
   "outputs": [],
   "source": [
    "a = True\n",
    "b = False\n",
    "a or b"
   ]
  },
  {
   "cell_type": "code",
   "execution_count": null,
   "metadata": {},
   "outputs": [],
   "source": [
    "boolean_list = [True, False, True, False, True]\n",
    "all(boolean_list)  # and 조건"
   ]
  },
  {
   "cell_type": "code",
   "execution_count": null,
   "metadata": {},
   "outputs": [],
   "source": [
    "any(boolean_list)  # or 조건"
   ]
  },
  {
   "cell_type": "code",
   "execution_count": null,
   "metadata": {},
   "outputs": [],
   "source": [
    "value = 12\n",
    "is_even = True if value % 2 == 0 else False\n",
    "is_even"
   ]
  },
  {
   "cell_type": "markdown",
   "metadata": {},
   "source": [
    "# 연습 ) 무슨 학교 다니세요?  \n",
    "  \n",
    "당신이 태어난 년도를 입력하세요  \n",
    "1994 # 자신이 태어난 연도 입력  \n",
    "대학생  \n",
    "  \n",
    "1. 나이는 현재년도 \n",
    "2. 태어난 년도 +1 로 계산\n",
    "3. 26세 이하 20세 이상 이면 “대학생”,   \n",
    "   20세 미만 17세 이상 이면 “고등학생”    \n",
    "   17세 미만 14세 이상 이면 “중학생”,   \n",
    "   14세 미만 8세 이상이면 “초등학생”  \n",
    "   그 외의 경우는 “학생이 아닙니다“ 출력  \n"
   ]
  },
  {
   "cell_type": "code",
   "execution_count": 2,
   "metadata": {},
   "outputs": [
    {
     "name": "stdin",
     "output_type": "stream",
     "text": [
      "당신이 태어난 년도를 입력하세요 :  2003\n"
     ]
    },
    {
     "name": "stdout",
     "output_type": "stream",
     "text": [
      "고등학생\n"
     ]
    }
   ],
   "source": [
    "curYear = 2023\n",
    "birth = int(input(\"당신이 태어난 년도를 입력하세요 : \" ))\n",
    "age = curYear - (birth+1)\n",
    "\n",
    "if 20 <= age and age <= 26:\n",
    "    print(\"대학생\") \n",
    "elif 17 <= age and age < 20:\n",
    "    print(\"고등학생\")\n",
    "elif 14 <= age and age < 17:\n",
    "    print(\"중학생\")\n",
    "elif 8 <= age and age < 14:\n",
    "    print(\"초등학생\")\n",
    "else:\n",
    "    print(\"학생이 아닙니다\")"
   ]
  },
  {
   "cell_type": "code",
   "execution_count": null,
   "metadata": {},
   "outputs": [],
   "source": []
  }
 ],
 "metadata": {
  "kernelspec": {
   "display_name": "Python 3 (ipykernel)",
   "language": "python",
   "name": "python3"
  },
  "language_info": {
   "codemirror_mode": {
    "name": "ipython",
    "version": 3
   },
   "file_extension": ".py",
   "mimetype": "text/x-python",
   "name": "python",
   "nbconvert_exporter": "python",
   "pygments_lexer": "ipython3",
   "version": "3.9.7"
  },
  "vscode": {
   "interpreter": {
    "hash": "151a36c7fdadaf3495b096f5f4ea5ce0bdeaa0813ad271daf96e04fd5f564001"
   }
  }
 },
 "nbformat": 4,
 "nbformat_minor": 4
}
