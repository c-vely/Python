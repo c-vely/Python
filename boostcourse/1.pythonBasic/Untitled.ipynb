{
 "cells": [
  {
   "cell_type": "code",
   "execution_count": null,
   "id": "adb21d14-85ed-403e-9c17-f140a9bd5075",
   "metadata": {},
   "outputs": [],
   "source": [
    "num_list=[1,5,7,15,16,22,28,29]\n",
    "\n",
    "def get_odd_num(num_list):\n",
    "  return 1,5,7,15,29\n",
    "print (get_odd_num(num_list))"
   ]
  },
  {
   "cell_type": "code",
   "execution_count": null,
   "id": "d9a367b9-f0f2-45de-9b5c-f1e372804da4",
   "metadata": {},
   "outputs": [],
   "source": []
  }
 ],
 "metadata": {
  "kernelspec": {
   "display_name": "Python 3 (ipykernel)",
   "language": "python",
   "name": "python3"
  },
  "language_info": {
   "name": ""
  }
 },
 "nbformat": 4,
 "nbformat_minor": 5
}
