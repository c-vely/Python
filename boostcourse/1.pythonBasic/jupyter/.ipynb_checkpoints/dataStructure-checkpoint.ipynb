{
 "cells": [
  {
   "cell_type": "markdown",
   "id": "c1c54317-b6d3-44c6-85ca-04e8c616f199",
   "metadata": {},
   "source": [
    "# * stack"
   ]
  },
  {
   "cell_type": "code",
   "execution_count": 3,
   "id": "b4f648ac-83a8-432a-993d-b6ead57136a6",
   "metadata": {},
   "outputs": [
    {
     "data": {
      "text/plain": [
       "[1, 2, 3, 4, 5]"
      ]
     },
     "execution_count": 3,
     "metadata": {},
     "output_type": "execute_result"
    }
   ],
   "source": [
    "a= [1, 2, 3, 4, 5]\n",
    "a"
   ]
  },
  {
   "cell_type": "code",
   "execution_count": 4,
   "id": "6f4f1874-cdde-494e-bc73-ce0a06317971",
   "metadata": {},
   "outputs": [
    {
     "data": {
      "text/plain": [
       "[1, 2, 3, 4, 5, 10]"
      ]
     },
     "execution_count": 4,
     "metadata": {},
     "output_type": "execute_result"
    }
   ],
   "source": [
    "a.append(10)\n",
    "a"
   ]
  },
  {
   "cell_type": "code",
   "execution_count": 5,
   "id": "1b9be7da-be8c-4eee-953d-79c1c15dffa9",
   "metadata": {},
   "outputs": [
    {
     "data": {
      "text/plain": [
       "[1, 2, 3, 4, 5, 10, 20]"
      ]
     },
     "execution_count": 5,
     "metadata": {},
     "output_type": "execute_result"
    }
   ],
   "source": [
    "a.append(20)\n",
    "a"
   ]
  },
  {
   "cell_type": "code",
   "execution_count": 6,
   "id": "0d6a81d4-51c2-4f5b-b052-9102a968264a",
   "metadata": {},
   "outputs": [
    {
     "data": {
      "text/plain": [
       "[1, 2, 3, 4, 5, 10]"
      ]
     },
     "execution_count": 6,
     "metadata": {},
     "output_type": "execute_result"
    }
   ],
   "source": [
    "a.pop()\n",
    "a"
   ]
  },
  {
   "cell_type": "code",
   "execution_count": 7,
   "id": "ec009677-0789-45ae-8128-6356b6b0890f",
   "metadata": {},
   "outputs": [
    {
     "data": {
      "text/plain": [
       "[1, 2, 3, 4, 5]"
      ]
     },
     "execution_count": 7,
     "metadata": {},
     "output_type": "execute_result"
    }
   ],
   "source": [
    "a.pop()\n",
    "a"
   ]
  },
  {
   "cell_type": "markdown",
   "id": "bfce6e43-f601-471e-accf-6ff6ca9d5089",
   "metadata": {},
   "source": [
    "- stack example"
   ]
  },
  {
   "cell_type": "code",
   "execution_count": 10,
   "id": "7175805f-6e08-4c02-b5c1-4c9a086b9a39",
   "metadata": {},
   "outputs": [
    {
     "name": "stdin",
     "output_type": "stream",
     "text": [
      "Input a word :  naver\n"
     ]
    },
    {
     "name": "stdout",
     "output_type": "stream",
     "text": [
      "r\n",
      "['n', 'a', 'v', 'e']\n",
      "e\n",
      "['n', 'a', 'v']\n",
      "v\n",
      "['n', 'a']\n",
      "a\n",
      "['n']\n",
      "n\n",
      "[]\n"
     ]
    }
   ],
   "source": [
    "word = input(\"Input a word : \")\n",
    "word_list = list(word)\n",
    "for i in range(len(word_list)):\n",
    "    print(word_list.pop())\n",
    "    print(word_list)"
   ]
  },
  {
   "cell_type": "markdown",
   "id": "d7829eed-587f-4bfb-b912-f58cb94d2212",
   "metadata": {},
   "source": [
    "# * queue"
   ]
  },
  {
   "cell_type": "code",
   "execution_count": 11,
   "id": "5632a19e-0966-408b-8e0f-a03b8d79db83",
   "metadata": {},
   "outputs": [
    {
     "data": {
      "text/plain": [
       "[1, 2, 3, 4, 5, 10, 20]"
      ]
     },
     "execution_count": 11,
     "metadata": {},
     "output_type": "execute_result"
    }
   ],
   "source": [
    "a = [1,2,3,4,5]\n",
    "a.append(10)\n",
    "a.append(20)\n",
    "a"
   ]
  },
  {
   "cell_type": "code",
   "execution_count": 12,
   "id": "7589fa4c-5f8c-4259-b736-317925206279",
   "metadata": {},
   "outputs": [
    {
     "data": {
      "text/plain": [
       "[2, 3, 4, 5, 10, 20]"
      ]
     },
     "execution_count": 12,
     "metadata": {},
     "output_type": "execute_result"
    }
   ],
   "source": [
    "first = a.pop(0) # a[0] 출력\n",
    "a"
   ]
  },
  {
   "cell_type": "code",
   "execution_count": 13,
   "id": "8148a44e-25c8-4670-8df3-5711bf67b78d",
   "metadata": {},
   "outputs": [
    {
     "data": {
      "text/plain": [
       "1"
      ]
     },
     "execution_count": 13,
     "metadata": {},
     "output_type": "execute_result"
    }
   ],
   "source": [
    "first"
   ]
  },
  {
   "cell_type": "code",
   "execution_count": 14,
   "id": "5a67ca83-4772-4024-9abd-012c4c8c8dab",
   "metadata": {},
   "outputs": [
    {
     "data": {
      "text/plain": [
       "[2, 3, 4, 5, 10]"
      ]
     },
     "execution_count": 14,
     "metadata": {},
     "output_type": "execute_result"
    }
   ],
   "source": [
    "second = a.pop()\n",
    "a"
   ]
  },
  {
   "cell_type": "code",
   "execution_count": 15,
   "id": "f9372dcc-2220-4822-96e7-4b646bd37a0e",
   "metadata": {},
   "outputs": [
    {
     "data": {
      "text/plain": [
       "20"
      ]
     },
     "execution_count": 15,
     "metadata": {},
     "output_type": "execute_result"
    }
   ],
   "source": [
    "second"
   ]
  },
  {
   "cell_type": "code",
   "execution_count": 16,
   "id": "a5b06cac-35ea-4700-b8d6-2fabba977cc1",
   "metadata": {},
   "outputs": [
    {
     "data": {
      "text/plain": [
       "[3, 4, 5, 10]"
      ]
     },
     "execution_count": 16,
     "metadata": {},
     "output_type": "execute_result"
    }
   ],
   "source": [
    "third = a.pop(0)\n",
    "a"
   ]
  },
  {
   "cell_type": "code",
   "execution_count": 17,
   "id": "6c0fd5c6-733e-4e47-90dc-a70f57299dde",
   "metadata": {},
   "outputs": [
    {
     "data": {
      "text/plain": [
       "2"
      ]
     },
     "execution_count": 17,
     "metadata": {},
     "output_type": "execute_result"
    }
   ],
   "source": [
    "third"
   ]
  },
  {
   "cell_type": "markdown",
   "id": "500c45a3-1102-4c48-ab03-831f0d248369",
   "metadata": {},
   "source": [
    "# * tuple"
   ]
  },
  {
   "cell_type": "code",
   "execution_count": 18,
   "id": "37c10070-dfd9-48c2-9fe1-8f984bda0c25",
   "metadata": {},
   "outputs": [
    {
     "data": {
      "text/plain": [
       "tuple"
      ]
     },
     "execution_count": 18,
     "metadata": {},
     "output_type": "execute_result"
    }
   ],
   "source": [
    "t = (1, 2, 3)\n",
    "type(t)"
   ]
  },
  {
   "cell_type": "code",
   "execution_count": 19,
   "id": "7623a198-288a-492c-92bb-c15c1538ec92",
   "metadata": {},
   "outputs": [
    {
     "data": {
      "text/plain": [
       "(1, 2, 3, 1, 2, 3)"
      ]
     },
     "execution_count": 19,
     "metadata": {},
     "output_type": "execute_result"
    }
   ],
   "source": [
    "t + t"
   ]
  },
  {
   "cell_type": "code",
   "execution_count": 20,
   "id": "72600f84-f330-44ff-b43f-d4c6aab94349",
   "metadata": {},
   "outputs": [
    {
     "data": {
      "text/plain": [
       "(1, 2, 3, 1, 2, 3)"
      ]
     },
     "execution_count": 20,
     "metadata": {},
     "output_type": "execute_result"
    }
   ],
   "source": [
    "t * 2"
   ]
  },
  {
   "cell_type": "code",
   "execution_count": 21,
   "id": "3fd6cd6a-c14d-42a9-a647-3f9faa63af17",
   "metadata": {},
   "outputs": [
    {
     "data": {
      "text/plain": [
       "(1, 2, 3)"
      ]
     },
     "execution_count": 21,
     "metadata": {},
     "output_type": "execute_result"
    }
   ],
   "source": [
    "t"
   ]
  },
  {
   "cell_type": "code",
   "execution_count": 22,
   "id": "3835fdf3-1df6-4da4-809d-7f29c816fbc8",
   "metadata": {},
   "outputs": [
    {
     "data": {
      "text/plain": [
       "3"
      ]
     },
     "execution_count": 22,
     "metadata": {},
     "output_type": "execute_result"
    }
   ],
   "source": [
    "len(t)"
   ]
  },
  {
   "cell_type": "code",
   "execution_count": 23,
   "id": "a6e77bed-2ee9-4053-a1ef-94f7198447b1",
   "metadata": {},
   "outputs": [
    {
     "ename": "TypeError",
     "evalue": "'tuple' object does not support item assignment",
     "output_type": "error",
     "traceback": [
      "\u001b[1;31m---------------------------------------------------------------------------\u001b[0m",
      "\u001b[1;31mTypeError\u001b[0m                                 Traceback (most recent call last)",
      "Cell \u001b[1;32mIn[23], line 1\u001b[0m\n\u001b[1;32m----> 1\u001b[0m \u001b[43mt\u001b[49m\u001b[43m[\u001b[49m\u001b[38;5;241;43m1\u001b[39;49m\u001b[43m]\u001b[49m \u001b[38;5;241m=\u001b[39m \u001b[38;5;241m5\u001b[39m\n",
      "\u001b[1;31mTypeError\u001b[0m: 'tuple' object does not support item assignment"
     ]
    }
   ],
   "source": [
    "t[1] = 5"
   ]
  },
  {
   "cell_type": "code",
   "execution_count": 24,
   "id": "5d7068a2-3eba-45d8-b5f3-3916c865ba24",
   "metadata": {},
   "outputs": [
    {
     "data": {
      "text/plain": [
       "int"
      ]
     },
     "execution_count": 24,
     "metadata": {},
     "output_type": "execute_result"
    }
   ],
   "source": [
    "t = (1) #일반 정수로 인식\n",
    "type(t)"
   ]
  },
  {
   "cell_type": "code",
   "execution_count": 25,
   "id": "85dc8d16-26b0-4b11-b269-dcd487c4e0cf",
   "metadata": {},
   "outputs": [
    {
     "data": {
      "text/plain": [
       "tuple"
      ]
     },
     "execution_count": 25,
     "metadata": {},
     "output_type": "execute_result"
    }
   ],
   "source": [
    "t = (1, ) #값이 하나인 tuple은 반드시 \",\"를 붙여야 함\n",
    "type(t)"
   ]
  },
  {
   "cell_type": "markdown",
   "id": "85c1d268-aea9-49e1-8cd0-2de3ff864429",
   "metadata": {},
   "source": [
    "# * set"
   ]
  },
  {
   "cell_type": "code",
   "execution_count": 1,
   "id": "3824ad01-eee5-4c71-97b1-f9da53db1899",
   "metadata": {},
   "outputs": [
    {
     "data": {
      "text/plain": [
       "{1, 2, 3}"
      ]
     },
     "execution_count": 1,
     "metadata": {},
     "output_type": "execute_result"
    }
   ],
   "source": [
    "s = set([1, 2, 3, 1, 2, 3])\n",
    "s"
   ]
  },
  {
   "cell_type": "code",
   "execution_count": 2,
   "id": "3bf512a5-3a40-4c0f-b14b-bf81eee7f021",
   "metadata": {},
   "outputs": [
    {
     "data": {
      "text/plain": [
       "set"
      ]
     },
     "execution_count": 2,
     "metadata": {},
     "output_type": "execute_result"
    }
   ],
   "source": [
    "type(s)"
   ]
  },
  {
   "cell_type": "code",
   "execution_count": 3,
   "id": "00a4d438-7cf0-472b-81f5-01241e84621c",
   "metadata": {},
   "outputs": [
    {
     "data": {
      "text/plain": [
       "set"
      ]
     },
     "execution_count": 3,
     "metadata": {},
     "output_type": "execute_result"
    }
   ],
   "source": [
    "a = {1, 2, 3, 4, 5}\n",
    "type(a)"
   ]
  },
  {
   "cell_type": "code",
   "execution_count": 4,
   "id": "7ea8562e-d2e8-4789-a8c2-839d508fe2cc",
   "metadata": {},
   "outputs": [
    {
     "data": {
      "text/plain": [
       "{1, 2, 3}"
      ]
     },
     "execution_count": 4,
     "metadata": {},
     "output_type": "execute_result"
    }
   ],
   "source": [
    "s. add(1)\n",
    "s"
   ]
  },
  {
   "cell_type": "code",
   "execution_count": 5,
   "id": "7ed6c823-172f-4421-945c-46de21ea5251",
   "metadata": {},
   "outputs": [
    {
     "data": {
      "text/plain": [
       "{2, 3}"
      ]
     },
     "execution_count": 5,
     "metadata": {},
     "output_type": "execute_result"
    }
   ],
   "source": [
    "s.remove(1)\n",
    "s"
   ]
  },
  {
   "cell_type": "code",
   "execution_count": 6,
   "id": "5b1812bb-6a40-4f7f-b745-bfebd854eeee",
   "metadata": {},
   "outputs": [
    {
     "data": {
      "text/plain": [
       "{1, 2, 3, 4, 5, 6, 7}"
      ]
     },
     "execution_count": 6,
     "metadata": {},
     "output_type": "execute_result"
    }
   ],
   "source": [
    "s.update([1, 4, 5, 6, 7])\n",
    "s"
   ]
  },
  {
   "cell_type": "code",
   "execution_count": 7,
   "id": "e1e356d3-36e6-4bcb-a985-f28d176d2158",
   "metadata": {},
   "outputs": [
    {
     "data": {
      "text/plain": [
       "{1, 2, 4, 5, 6, 7}"
      ]
     },
     "execution_count": 7,
     "metadata": {},
     "output_type": "execute_result"
    }
   ],
   "source": [
    "s.discard(3)\n",
    "s"
   ]
  },
  {
   "cell_type": "code",
   "execution_count": 9,
   "id": "0480e649-98eb-4e7c-bf93-d7d192fa4c6a",
   "metadata": {},
   "outputs": [
    {
     "data": {
      "text/plain": [
       "set()"
      ]
     },
     "execution_count": 9,
     "metadata": {},
     "output_type": "execute_result"
    }
   ],
   "source": [
    "s.clear()\n",
    "s"
   ]
  },
  {
   "cell_type": "markdown",
   "id": "0dc760d2-1a01-4bd6-9360-926e2dfcff41",
   "metadata": {},
   "source": [
    "- 집합의 연산"
   ]
  },
  {
   "cell_type": "code",
   "execution_count": 10,
   "id": "5828f436-a47c-4182-8081-e4756a086410",
   "metadata": {},
   "outputs": [
    {
     "data": {
      "text/plain": [
       "(set, set)"
      ]
     },
     "execution_count": 10,
     "metadata": {},
     "output_type": "execute_result"
    }
   ],
   "source": [
    "s1 = set([1, 2, 3, 4, 5])\n",
    "s2 = set([3, 4, 5, 6, 7])\n",
    "type(s1), type(s2)"
   ]
  },
  {
   "cell_type": "code",
   "execution_count": 11,
   "id": "0e4fb7ec-3524-455d-964e-baff231c7a9c",
   "metadata": {},
   "outputs": [
    {
     "data": {
      "text/plain": [
       "{1, 2, 3, 4, 5, 6, 7}"
      ]
     },
     "execution_count": 11,
     "metadata": {},
     "output_type": "execute_result"
    }
   ],
   "source": [
    "s1.union(s2)"
   ]
  },
  {
   "cell_type": "code",
   "execution_count": 12,
   "id": "f94d3c29-7b70-4c9e-9151-886920fc31e8",
   "metadata": {},
   "outputs": [
    {
     "data": {
      "text/plain": [
       "{1, 2, 3, 4, 5, 6, 7}"
      ]
     },
     "execution_count": 12,
     "metadata": {},
     "output_type": "execute_result"
    }
   ],
   "source": [
    "s1 | s2"
   ]
  },
  {
   "cell_type": "code",
   "execution_count": 14,
   "id": "7bb1ad7d-880a-4a5e-8e1f-125e60f51468",
   "metadata": {},
   "outputs": [
    {
     "data": {
      "text/plain": [
       "{3, 4, 5}"
      ]
     },
     "execution_count": 14,
     "metadata": {},
     "output_type": "execute_result"
    }
   ],
   "source": [
    "s1.intersection(s2)"
   ]
  },
  {
   "cell_type": "code",
   "execution_count": 15,
   "id": "63613639-ecad-428e-ad4c-699b721268ac",
   "metadata": {},
   "outputs": [
    {
     "data": {
      "text/plain": [
       "{3, 4, 5}"
      ]
     },
     "execution_count": 15,
     "metadata": {},
     "output_type": "execute_result"
    }
   ],
   "source": [
    "s1 & s2"
   ]
  },
  {
   "cell_type": "code",
   "execution_count": 16,
   "id": "ff9cd28d-9245-464b-86f6-d7d8fec5762a",
   "metadata": {},
   "outputs": [
    {
     "data": {
      "text/plain": [
       "{1, 2}"
      ]
     },
     "execution_count": 16,
     "metadata": {},
     "output_type": "execute_result"
    }
   ],
   "source": [
    "s1.difference(s2)"
   ]
  },
  {
   "cell_type": "code",
   "execution_count": 17,
   "id": "bd641114-f45f-4d59-9ebc-c768a0578c4d",
   "metadata": {},
   "outputs": [
    {
     "data": {
      "text/plain": [
       "{1, 2}"
      ]
     },
     "execution_count": 17,
     "metadata": {},
     "output_type": "execute_result"
    }
   ],
   "source": [
    "s1 - s2"
   ]
  },
  {
   "cell_type": "markdown",
   "id": "14a74d62-8408-4132-9aa3-98cc01b6ed1f",
   "metadata": {},
   "source": [
    "# * dict\n"
   ]
  },
  {
   "cell_type": "code",
   "execution_count": 20,
   "id": "79db661b-0438-4fb8-b127-74489159d9d9",
   "metadata": {},
   "outputs": [
    {
     "data": {
      "text/plain": [
       "{'America': 1, 'Korea': 82, 'China': 86, 'japan': 81}"
      ]
     },
     "execution_count": 20,
     "metadata": {},
     "output_type": "execute_result"
    }
   ],
   "source": [
    "country_code = {}  #conytu_code = dict()도 가능\n",
    "country_code = {\"America\" : 1, \"Korea\" : 82, \"China\" : 86 , \"japan\" : 81}\n",
    "country_code"
   ]
  },
  {
   "cell_type": "code",
   "execution_count": 21,
   "id": "96327fb3-a111-4d1d-8424-042560c28c3e",
   "metadata": {},
   "outputs": [
    {
     "data": {
      "text/plain": [
       "dict_items([('America', 1), ('Korea', 82), ('China', 86), ('japan', 81)])"
      ]
     },
     "execution_count": 21,
     "metadata": {},
     "output_type": "execute_result"
    }
   ],
   "source": [
    "country_code.items()"
   ]
  },
  {
   "cell_type": "code",
   "execution_count": 27,
   "id": "baef0e39-43b8-4f37-931a-643e72521d28",
   "metadata": {},
   "outputs": [
    {
     "name": "stdout",
     "output_type": "stream",
     "text": [
      "('America', 1)\n",
      "<class 'tuple'>\n",
      "('Korea', 82)\n",
      "<class 'tuple'>\n",
      "('China', 86)\n",
      "<class 'tuple'>\n",
      "('japan', 81)\n",
      "<class 'tuple'>\n",
      "('German', 49)\n",
      "<class 'tuple'>\n"
     ]
    }
   ],
   "source": [
    "for dict_items in country_code.items():\n",
    "    print(dict_items)\n",
    "    print(type(dict_items))  #튜플형태로 읽기만 가능"
   ]
  },
  {
   "cell_type": "code",
   "execution_count": 22,
   "id": "def6e019-abeb-441e-a341-e8d4c56c0f99",
   "metadata": {},
   "outputs": [
    {
     "data": {
      "text/plain": [
       "dict_keys(['America', 'Korea', 'China', 'japan'])"
      ]
     },
     "execution_count": 22,
     "metadata": {},
     "output_type": "execute_result"
    }
   ],
   "source": [
    "country_code.keys()"
   ]
  },
  {
   "cell_type": "code",
   "execution_count": 23,
   "id": "a12b1a84-6c98-4c2b-840b-acd7d3209653",
   "metadata": {},
   "outputs": [
    {
     "data": {
      "text/plain": [
       "{'America': 1, 'Korea': 82, 'China': 86, 'japan': 81, 'German': 49}"
      ]
     },
     "execution_count": 23,
     "metadata": {},
     "output_type": "execute_result"
    }
   ],
   "source": [
    "country_code[\"German\"] = 49  #추가\n",
    "country_code"
   ]
  },
  {
   "cell_type": "code",
   "execution_count": 28,
   "id": "294799ec-4cb3-4d26-9bd6-6a8c208016a8",
   "metadata": {},
   "outputs": [
    {
     "data": {
      "text/plain": [
       "{'America': 1, 'Korea': 82, 'China': 86, 'japan': 81, 'German': 55}"
      ]
     },
     "execution_count": 28,
     "metadata": {},
     "output_type": "execute_result"
    }
   ],
   "source": [
    "country_code[\"German\"] = 55  #변경\n",
    "country_code"
   ]
  },
  {
   "cell_type": "code",
   "execution_count": 29,
   "id": "356b0e24-8417-48c3-9fec-23bc0e134eca",
   "metadata": {},
   "outputs": [
    {
     "data": {
      "text/plain": [
       "dict_values([1, 82, 86, 81, 55])"
      ]
     },
     "execution_count": 29,
     "metadata": {},
     "output_type": "execute_result"
    }
   ],
   "source": [
    "country_code.values()"
   ]
  },
  {
   "cell_type": "code",
   "execution_count": 30,
   "id": "39e02ab3-fa13-4b31-b7b1-76c96104623b",
   "metadata": {},
   "outputs": [
    {
     "name": "stdout",
     "output_type": "stream",
     "text": [
      "key :  America\n",
      "Value :  1\n",
      "key :  Korea\n",
      "Value :  82\n",
      "key :  China\n",
      "Value :  86\n",
      "key :  japan\n",
      "Value :  81\n",
      "key :  German\n",
      "Value :  55\n"
     ]
    }
   ],
   "source": [
    "for k, v in country_code.items():\n",
    "    print(\"key : \", k)\n",
    "    print(\"Value : \", v)"
   ]
  },
  {
   "cell_type": "code",
   "execution_count": 32,
   "id": "41a8dfef-af90-4f3f-8de9-22de6351660d",
   "metadata": {},
   "outputs": [
    {
     "data": {
      "text/plain": [
       "True"
      ]
     },
     "execution_count": 32,
     "metadata": {},
     "output_type": "execute_result"
    }
   ],
   "source": [
    "\"Korea\" in country_code.keys()"
   ]
  },
  {
   "cell_type": "code",
   "execution_count": 33,
   "id": "0ece5453-caa4-45e0-9360-861edcc93d03",
   "metadata": {},
   "outputs": [
    {
     "data": {
      "text/plain": [
       "True"
      ]
     },
     "execution_count": 33,
     "metadata": {},
     "output_type": "execute_result"
    }
   ],
   "source": [
    "82 in country_code.values()"
   ]
  },
  {
   "cell_type": "markdown",
   "id": "1c5badd5-f434-4e9b-aad9-bf64bfc39abb",
   "metadata": {},
   "source": [
    "# * Lab - dict"
   ]
  },
  {
   "cell_type": "code",
   "execution_count": null,
   "id": "c0bcccdc-5707-4763-9438-768216b4620b",
   "metadata": {},
   "outputs": [],
   "source": []
  }
 ],
 "metadata": {
  "kernelspec": {
   "display_name": "Python 3 (ipykernel)",
   "language": "python",
   "name": "python3"
  },
  "language_info": {
   "codemirror_mode": {
    "name": "ipython",
    "version": 3
   },
   "file_extension": ".py",
   "mimetype": "text/x-python",
   "name": "python",
   "nbconvert_exporter": "python",
   "pygments_lexer": "ipython3",
   "version": "3.9.7"
  }
 },
 "nbformat": 4,
 "nbformat_minor": 5
}
