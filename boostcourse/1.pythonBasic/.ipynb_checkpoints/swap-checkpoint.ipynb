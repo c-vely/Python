{
 "cells": [
  {
   "cell_type": "code",
   "execution_count": null,
   "id": "522c24d3-0309-406c-9c13-5d8d2278299b",
   "metadata": {},
   "outputs": [],
   "source": [
    "def swap_value(x, y):\n",
    "    temp = x\n",
    "    x = y\n",
    "    y = temp  "
   ]
  },
  {
   "cell_type": "code",
   "execution_count": null,
   "id": "2c9ce60f-f083-44ed-bc8f-771368939d01",
   "metadata": {},
   "outputs": [],
   "source": [
    "ex = [1, 2, 3, 4, 5]\n",
    "swap_value(ex[0], ex[1])\n",
    "ex"
   ]
  },
  {
   "cell_type": "code",
   "execution_count": null,
   "id": "a3ee5f51-e358-4e17-9abc-45f95e873125",
   "metadata": {},
   "outputs": [],
   "source": [
    "def swap_offset(offset_x, offset_y):\n",
    "    temp = ex[offset_x]\n",
    "    ex[offset_x] = ex[offset_y]\n",
    "    ex[offset_y] = temp"
   ]
  },
  {
   "cell_type": "code",
   "execution_count": null,
   "id": "d2977e95-8586-4355-b929-2d4311ba8486",
   "metadata": {},
   "outputs": [],
   "source": [
    "swap_offset(0, 1)\n",
    "ex"
   ]
  },
  {
   "cell_type": "code",
   "execution_count": null,
   "id": "66b5434c-9456-4f1d-8af6-7f7e3191113c",
   "metadata": {},
   "outputs": [],
   "source": [
    "def swap_reference(list_ex, offset_x, offset_y):\n",
    "    temp = list_ex[offset_x]\n",
    "    list_ex[offset_x] = list_ex[offset_y]\n",
    "    list_ex[offset_y] = temp"
   ]
  },
  {
   "cell_type": "code",
   "execution_count": null,
   "id": "4fcbfb7b-2365-4777-bbc7-c9a866656fa0",
   "metadata": {},
   "outputs": [],
   "source": []
  },
  {
   "cell_type": "code",
   "execution_count": null,
   "id": "4055e41a-c387-4cda-b20d-72ade35bc62d",
   "metadata": {},
   "outputs": [],
   "source": []
  },
  {
   "cell_type": "code",
   "execution_count": null,
   "id": "acaa98da-9ff2-41ac-a003-b88034251a18",
   "metadata": {},
   "outputs": [],
   "source": [
    "\n"
   ]
  }
 ],
 "metadata": {
  "kernelspec": {
   "display_name": "Python 3 (ipykernel)",
   "language": "python",
   "name": "python3"
  },
  "language_info": {
   "name": ""
  }
 },
 "nbformat": 4,
 "nbformat_minor": 5
}
