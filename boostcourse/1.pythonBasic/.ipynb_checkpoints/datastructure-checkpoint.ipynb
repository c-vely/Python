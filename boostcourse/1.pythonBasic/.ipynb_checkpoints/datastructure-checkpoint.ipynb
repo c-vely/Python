{
 "cells": [
  {
   "cell_type": "markdown",
   "id": "5bc5e438-70bb-4f92-9f89-34d9c9cc4567",
   "metadata": {},
   "source": [
    "# stack"
   ]
  },
  {
   "cell_type": "code",
   "execution_count": null,
   "id": "02852abc-8c24-4b1e-9336-705f08f6d259",
   "metadata": {},
   "outputs": [],
   "source": [
    "a = [1, 2, 3, 4, 5]"
   ]
  },
  {
   "cell_type": "code",
   "execution_count": null,
   "id": "c0864798-1aee-49aa-9efc-54251e267221",
   "metadata": {},
   "outputs": [],
   "source": []
  },
  {
   "cell_type": "code",
   "execution_count": null,
   "id": "a531078b-6660-4b20-9a92-e0026f286f7b",
   "metadata": {},
   "outputs": [],
   "source": []
  }
 ],
 "metadata": {
  "kernelspec": {
   "display_name": "jupy",
   "language": "python",
   "name": "jupy"
  },
  "language_info": {
   "name": ""
  }
 },
 "nbformat": 4,
 "nbformat_minor": 5
}
