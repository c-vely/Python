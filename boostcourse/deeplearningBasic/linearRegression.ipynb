{
 "cells": [
  {
   "cell_type": "markdown",
   "id": "d8d650cc-28ca-40e6-a6ac-c4a41a3bfcdf",
   "metadata": {},
   "source": [
    "# Hypothesis (Linear Regression)"
   ]
  },
  {
   "cell_type": "code",
   "execution_count": 8,
   "id": "47c6cd40-6b12-4005-855e-f3c882b67fc5",
   "metadata": {},
   "outputs": [],
   "source": [
    "import torch"
   ]
  },
  {
   "cell_type": "code",
   "execution_count": 9,
   "id": "3a97bfaa-8346-4848-9bca-0dd39492c825",
   "metadata": {},
   "outputs": [],
   "source": [
    "x_train = torch.FloatTensor([[1], [2], [3]])\n",
    "y_train = torch.FloatTensor([[2], [4], [6]])"
   ]
  },
  {
   "cell_type": "code",
   "execution_count": 10,
   "id": "7444ae87-21a5-4cb7-85b0-06c3a4be4144",
   "metadata": {},
   "outputs": [],
   "source": [
    "w = torch.zeros(1, requires_grad = True)\n",
    "b = torch.zeros(1, requires_grad = True)"
   ]
  },
  {
   "cell_type": "code",
   "execution_count": 11,
   "id": "232ad7f0-fe62-400a-ade3-ccd9b5e5cec1",
   "metadata": {},
   "outputs": [],
   "source": [
    "optimizer = torch.optim.SGD([w, b], lr=0.01)\n",
    "\n",
    "nb_epochs = 1000\n",
    "for epoch in range(1, nb_epochs + 1):\n",
    "    hypothesis = x_train * w + b\n",
    "    cost = torch.mean((hypothesis - y_train) ** 2)\n",
    "\n",
    "    optimizer.zero_grad()\n",
    "    cost.backward()\n",
    "    optimizer.step()"
   ]
  },
  {
   "cell_type": "markdown",
   "id": "ee0520b8-b293-42de-809c-fedb4319eedf",
   "metadata": {},
   "source": [
    "# Simple Hypothesis Function"
   ]
  },
  {
   "cell_type": "code",
   "execution_count": 31,
   "id": "ef6bdbbf-83f4-429d-a998-97a78b1b7944",
   "metadata": {},
   "outputs": [],
   "source": [
    "# 데이터\n",
    "x_train = torch.FloatTensor([[1], [2], [3]])\n",
    "y_train = torch.FloatTensor([[1], [2], [3]])"
   ]
  },
  {
   "cell_type": "code",
   "execution_count": 32,
   "id": "140703fd-ac80-46e4-a0c3-022ba781fbff",
   "metadata": {},
   "outputs": [],
   "source": [
    "# 모델 초기화\n",
    "w = torch.zeros(1)"
   ]
  },
  {
   "cell_type": "code",
   "execution_count": 33,
   "id": "b3e3108a-0c9b-4f7d-aa4e-6bc3aad3e963",
   "metadata": {},
   "outputs": [],
   "source": [
    "# 학습 횟수 설정\n",
    "lr=0.1"
   ]
  },
  {
   "cell_type": "code",
   "execution_count": 34,
   "id": "cd1f1d05-442b-4795-bf00-178926828313",
   "metadata": {},
   "outputs": [
    {
     "name": "stdout",
     "output_type": "stream",
     "text": [
      "Epoch:    1/10 W: 0.000, Cost: 4.666667\n",
      "Epoch:    2/10 W: 1.400, Cost: 0.746666\n",
      "Epoch:    3/10 W: 0.840, Cost: 0.119467\n",
      "Epoch:    4/10 W: 1.064, Cost: 0.019115\n",
      "Epoch:    5/10 W: 0.974, Cost: 0.003058\n",
      "Epoch:    6/10 W: 1.010, Cost: 0.000489\n",
      "Epoch:    7/10 W: 0.996, Cost: 0.000078\n",
      "Epoch:    8/10 W: 1.002, Cost: 0.000013\n",
      "Epoch:    9/10 W: 0.999, Cost: 0.000002\n",
      "Epoch:   10/10 W: 1.000, Cost: 0.000000\n"
     ]
    }
   ],
   "source": [
    "nb_epochs = 10\n",
    "for epoch in range(1, nb_epochs + 1):\n",
    "    \n",
    "    # H(x) 계산\n",
    "    hypothesis = x_train * w\n",
    "    \n",
    "    # cost gradient 계산\n",
    "    cost = torch.mean((hypothesis - y_train) ** 2)\n",
    "    gradient = torch.sum((w * x_train - y_train) * x_train)\n",
    "    \n",
    "    print('Epoch: {:4d}/{} W: {:.3f}, Cost: {:.6f}'.format(epoch, nb_epochs, w.item(), cost.item()))\n",
    "    \n",
    "    # cost gradient로 H(x) 개선\n",
    "    w -= lr * gradient"
   ]
  },
  {
   "cell_type": "markdown",
   "id": "6f473ce6-9477-4797-812a-96658e054a15",
   "metadata": {},
   "source": [
    "# Gradient Decent with trch.optim"
   ]
  },
  {
   "cell_type": "code",
   "execution_count": 35,
   "id": "1ed48738-4f71-4111-bf31-893b4d352aa7",
   "metadata": {},
   "outputs": [],
   "source": [
    "# 데이터\n",
    "x_train = torch.FloatTensor([[1], [2], [3]])\n",
    "y_train = torch.FloatTensor([[1], [2], [3]])"
   ]
  },
  {
   "cell_type": "code",
   "execution_count": 36,
   "id": "e6b7c821-1be2-43f1-92be-d37db03df53f",
   "metadata": {},
   "outputs": [],
   "source": [
    "# 모델 초기화\n",
    "w = torch.zeros(1, requires_grad = True)"
   ]
  },
  {
   "cell_type": "code",
   "execution_count": 39,
   "id": "47d6fdaf-fb33-44d6-a530-4a6bbb3b7603",
   "metadata": {},
   "outputs": [],
   "source": [
    "# optimizer 설정\n",
    "optimizer = torch.optim.SGD([w], lr=0.15)"
   ]
  },
  {
   "cell_type": "code",
   "execution_count": 40,
   "id": "2d13b14b-d3a1-4e25-8c7f-8827bf6209f0",
   "metadata": {},
   "outputs": [
    {
     "name": "stdout",
     "output_type": "stream",
     "text": [
      "Epoch:    1/10 W: 0.625, Cost: 0.657597\n",
      "Epoch:    2/10 W: 1.150, Cost: 0.105216\n",
      "Epoch:    3/10 W: 0.940, Cost: 0.016835\n",
      "Epoch:    4/10 W: 1.024, Cost: 0.002694\n",
      "Epoch:    5/10 W: 0.990, Cost: 0.000431\n",
      "Epoch:    6/10 W: 1.004, Cost: 0.000069\n",
      "Epoch:    7/10 W: 0.998, Cost: 0.000011\n",
      "Epoch:    8/10 W: 1.001, Cost: 0.000002\n",
      "Epoch:    9/10 W: 1.000, Cost: 0.000000\n",
      "Epoch:   10/10 W: 1.000, Cost: 0.000000\n"
     ]
    }
   ],
   "source": [
    "nb_epochs = 10\n",
    "for epoch in range(1, nb_epochs + 1):\n",
    "    \n",
    "    # H(x) 계산\n",
    "    hypothesis = x_train * w\n",
    "    \n",
    "    # cost gradient 계산\n",
    "    cost = torch.mean((hypothesis - y_train) ** 2)\n",
    "  \n",
    "    print('Epoch: {:4d}/{} W: {:.3f}, Cost: {:.6f}'.format(epoch, nb_epochs, w.item(), cost.item()))\n",
    "    \n",
    "    # cost gradient로 H(x) 개선\n",
    "    optimizer.zero_grad()\n",
    "    cost.backward()\n",
    "    optimizer.step()"
   ]
  },
  {
   "cell_type": "code",
   "execution_count": null,
   "id": "42d026d4-02c0-4a00-8b1f-1475e6673a72",
   "metadata": {},
   "outputs": [],
   "source": []
  }
 ],
 "metadata": {
  "kernelspec": {
   "display_name": "Python 3 (ipykernel)",
   "language": "python",
   "name": "python3"
  },
  "language_info": {
   "codemirror_mode": {
    "name": "ipython",
    "version": 3
   },
   "file_extension": ".py",
   "mimetype": "text/x-python",
   "name": "python",
   "nbconvert_exporter": "python",
   "pygments_lexer": "ipython3",
   "version": "3.9.16"
  }
 },
 "nbformat": 4,
 "nbformat_minor": 5
}
