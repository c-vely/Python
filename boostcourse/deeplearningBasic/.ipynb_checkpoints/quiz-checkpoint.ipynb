{
 "cells": [
  {
   "cell_type": "markdown",
   "id": "dbf8065d-aacf-4e94-b7b0-070e0a119895",
   "metadata": {},
   "source": [
    "# Q1.  \n",
    "다음과 같은 Numpy array가 주어져있을때, 다음 명령어 출력으로 알맞은 것은?  "
   ]
  },
  {
   "cell_type": "code",
   "execution_count": 1,
   "id": "2a9e1c8c-9934-4a99-a747-da2bea6dd92d",
   "metadata": {},
   "outputs": [
    {
     "name": "stdout",
     "output_type": "stream",
     "text": [
      "(3, 3) 2\n"
     ]
    }
   ],
   "source": [
    "import numpy as np\n",
    "\n",
    "arr = np.array([[1, 2, 3], [4, 5, 6], [7, 8, 9]])\n",
    "print(arr.shape, arr.ndim)"
   ]
  },
  {
   "cell_type": "markdown",
   "id": "aea7879a-0db2-431f-b2a3-83d84162303d",
   "metadata": {},
   "source": [
    "# Q2.  \n",
    " 다음과 같이 2개의 Tensor가 있을때, 계산 결과로 올바른 것은?  "
   ]
  },
  {
   "cell_type": "code",
   "execution_count": 3,
   "id": "b0fa0434-c06d-4000-ac1b-decc334b8fa0",
   "metadata": {},
   "outputs": [
    {
     "name": "stdout",
     "output_type": "stream",
     "text": [
      "tensor([[5., 6., 7.],\n",
      "        [6., 7., 8.],\n",
      "        [7., 8., 9.]])\n"
     ]
    }
   ],
   "source": [
    "import torch\n",
    "\n",
    "torch_tensor_1 = torch.FloatTensor([1, 2, 3])\n",
    "torch_tensor_2 = torch.FloatTensor([[4], [5], [6]])\n",
    "\n",
    "print(torch_tensor_1 + torch_tensor_2)                                  "
   ]
  },
  {
   "cell_type": "markdown",
   "id": "5bfe9ccd-3566-48d8-b7a1-3a377cebce0b",
   "metadata": {},
   "source": [
    "# Q3.  \n",
    "다음과 같이 텐서가 주어져있을때, 계산 결과로 올바른 것은?  "
   ]
  },
  {
   "cell_type": "code",
   "execution_count": 16,
   "id": "56708462-8db3-4d07-86f9-4aa73ec431d6",
   "metadata": {},
   "outputs": [
    {
     "name": "stdout",
     "output_type": "stream",
     "text": [
      "tensor([[1., 2., 3.],\n",
      "        [4., 5., 6.],\n",
      "        [7., 8., 9.]]) torch.Size([3, 3])\n"
     ]
    }
   ],
   "source": [
    "torch_tensor = torch.FloatTensor([[[1], [2], [3]], [[4], [5], [6]], [[7], [8], [9]]])\n",
    "print(torch_tensor.squeeze(), torch_tensor.squeeze().shape)"
   ]
  },
  {
   "cell_type": "markdown",
   "id": "642a2a93-ec4b-425b-8fcd-fff17fa0f7b5",
   "metadata": {},
   "source": [
    "# Q4.  \n",
    "다음과 같은 연산이 있을때, 계산 결과로 올바른 것은?"
   ]
  },
  {
   "cell_type": "code",
   "execution_count": 7,
   "id": "95235dea-afea-41fd-af5c-42c086ebdbcb",
   "metadata": {},
   "outputs": [
    {
     "name": "stdout",
     "output_type": "stream",
     "text": [
      "tensor([[1., 2.],\n",
      "        [3., 4.],\n",
      "        [5., 6.],\n",
      "        [7., 8.]])\n"
     ]
    }
   ],
   "source": [
    "torch_tensor = torch.FloatTensor([[1, 2, 3, 4], [5, 6, 7, 8]])\n",
    "torch_tensor = torch_tensor.view([-1, 2])\n",
    "\n",
    "print(torch_tensor)"
   ]
  },
  {
   "cell_type": "markdown",
   "id": "1da3bb77-5233-4c5e-94e7-c6126e17db94",
   "metadata": {},
   "source": [
    "# Q5.  \n",
    "다음과 같은 형태로 Tensor가 주어져 있을때, 계산 결과로 올바른 것은?"
   ]
  },
  {
   "cell_type": "code",
   "execution_count": 9,
   "id": "99498f07-7f06-4212-8895-5845772ca410",
   "metadata": {},
   "outputs": [
    {
     "name": "stdout",
     "output_type": "stream",
     "text": [
      "tensor([[1., 2., 3., 4.],\n",
      "        [5., 6., 7., 8.]])\n"
     ]
    }
   ],
   "source": [
    "torch_tensor_1 = torch.FloatTensor([[1, 2, 3, 4]])\n",
    "torch_tensor_2 = torch.FloatTensor([[5, 6, 7, 8]])\n",
    "\n",
    "print(torch.cat([torch_tensor_1, torch_tensor_2], axis=0))"
   ]
  },
  {
   "cell_type": "markdown",
   "id": "9fae1abb-197c-4429-a384-ad096880c007",
   "metadata": {},
   "source": [
    "# Q6.  \n",
    "다음과 같은 형태로 linear regression을 위한 가설(모델)을 준비하는 경우, 적절한 코드로 알맞은 것은?"
   ]
  },
  {
   "cell_type": "code",
   "execution_count": 10,
   "id": "ba0ea6b5-07bf-445b-90be-3fc2440d18db",
   "metadata": {},
   "outputs": [],
   "source": [
    "x_train = torch.FloatTensor([[1], [2], [3]])\n",
    "y_train = torch.FloatTensor([[2], [4], [6]])\n",
    "\n",
    "w = torch.zeros(1, requires_grad = True)\n",
    "b = torch.zeros(1, requires_grad = True)\n",
    "\n",
    "hypothesis = x_train * w + b"
   ]
  },
  {
   "cell_type": "markdown",
   "id": "e9c9780a-157c-4481-9dc8-57c67bffe0d1",
   "metadata": {},
   "source": [
    "# Q7.  \n",
    "위에서 작성한 가설(모델)을 이용해 예측한 값과 실제 정답값의 제곱을 이용해 데이터셋의 전체 Loss 를 구하는 코드로 알맞은 것은?"
   ]
  },
  {
   "cell_type": "code",
   "execution_count": 11,
   "id": "d0519e74-52ab-4937-b17c-24889c17b3a4",
   "metadata": {},
   "outputs": [],
   "source": [
    "cost = torch.mean((hypothesis - y_train) ** 2)"
   ]
  },
  {
   "cell_type": "markdown",
   "id": "f7dba3c7-74b1-40e8-97a8-3e8f1cb0aa8f",
   "metadata": {},
   "source": [
    "# Q8.  \n",
    "아래와 같은 학습 데이터가 사용된다면, 가설(모델)의 가중치의 shape으로 알맞은 것은?"
   ]
  },
  {
   "cell_type": "code",
   "execution_count": 12,
   "id": "d057b45b-fb2b-49a8-b019-2fd993ca2590",
   "metadata": {},
   "outputs": [
    {
     "name": "stdout",
     "output_type": "stream",
     "text": [
      "torch.Size([4, 1])\n"
     ]
    }
   ],
   "source": [
    "x_train = torch.FloatTensor([[73, 80, 75, 77], [93, 88, 93, 95], [89, 91, 90, 89], [96, 98, 100, 97], [73, 66, 70, 68]])\n",
    "\n",
    "w = torch.zeros((4,1), requires_grad = True)\n",
    "print(w.shape)"
   ]
  },
  {
   "cell_type": "markdown",
   "id": "8cdd1337-529d-4454-b562-511907b8fafb",
   "metadata": {},
   "source": [
    "# Q9.  \n",
    "sigmoid 함수에 대한 설명으로 옳지 않은 것은?"
   ]
  },
  {
   "cell_type": "markdown",
   "id": "fed34472-1714-4a10-a09e-deb9ba0a9b6f",
   "metadata": {},
   "source": [
    "a. 함수 값이 (0, 1) 사이이다.  \n",
    "b. 미분이 불가능하다.  \n",
    "c. 매우 큰 값이 입력일 경우 함수 값은 1에 가까워지며, 매우 작은 값이면 0에 가까워진다.  \n",
    "d. 중간 값은 1/2을 가진다.  "
   ]
  },
  {
   "cell_type": "markdown",
   "id": "ccb211a6-1c90-432c-a9d8-eeafdb16358c",
   "metadata": {},
   "source": [
    "a) b. 미분이 불가능하다."
   ]
  },
  {
   "cell_type": "markdown",
   "id": "23743276-eb15-4433-ad28-9121293165d4",
   "metadata": {},
   "source": [
    "# Q10.  \n",
    "softmax 함수에 대한 설명으로 옳지 않은 것은?"
   ]
  },
  {
   "cell_type": "markdown",
   "id": "3f5474d4-2844-4c35-b175-d00ee293edfb",
   "metadata": {},
   "source": [
    "a. 함수에 각각 입력된 값은 0~1 사이 값으로 출력된다.  \n",
    "b. softmax 출력의 총합은 1이다.  \n",
    "c. softmax 함수를 적용해도 입력 값의 대소 관계는 변하지 않는다.  \n",
    "d. softmax를 이용해 이진분류 모델을 구성할 수 없다.  "
   ]
  },
  {
   "cell_type": "markdown",
   "id": "7c1a59af-ad4a-43e5-966a-90456dc42a9f",
   "metadata": {},
   "source": [
    "a) d.softmax를 이용해 이진분류 모델을 구성할 수 없다."
   ]
  },
  {
   "cell_type": "code",
   "execution_count": null,
   "id": "823cd531-586e-44aa-97f3-3507f2656aaf",
   "metadata": {},
   "outputs": [],
   "source": []
  }
 ],
 "metadata": {
  "kernelspec": {
   "display_name": "Python 3 (ipykernel)",
   "language": "python",
   "name": "python3"
  },
  "language_info": {
   "codemirror_mode": {
    "name": "ipython",
    "version": 3
   },
   "file_extension": ".py",
   "mimetype": "text/x-python",
   "name": "python",
   "nbconvert_exporter": "python",
   "pygments_lexer": "ipython3",
   "version": "3.9.16"
  }
 },
 "nbformat": 4,
 "nbformat_minor": 5
}
