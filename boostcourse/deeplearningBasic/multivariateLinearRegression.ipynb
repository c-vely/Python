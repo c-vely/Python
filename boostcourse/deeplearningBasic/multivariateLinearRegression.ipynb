{
 "cells": [
  {
   "cell_type": "markdown",
   "id": "93fa90b5-2fbb-470b-9f60-e6e9f263b7c4",
   "metadata": {},
   "source": [
    "# Multivarient Linear Regression"
   ]
  },
  {
   "cell_type": "code",
   "execution_count": 3,
   "id": "4e4c50dc-baef-43eb-bdf9-0ea47487896f",
   "metadata": {},
   "outputs": [],
   "source": [
    "import torch"
   ]
  },
  {
   "cell_type": "code",
   "execution_count": 4,
   "id": "00c9c457-1a8b-4ade-a19a-9ec73ea8e924",
   "metadata": {},
   "outputs": [],
   "source": [
    "# 데이터\n",
    "x_train = torch.FloatTensor([[73, 80, 75], [93, 88, 93], [89, 91, 90], [96, 98, 100], [73, 66, 70]])\n",
    "y_train = torch.FloatTensor([[152], [185], [180], [196], [142]])"
   ]
  },
  {
   "cell_type": "code",
   "execution_count": 5,
   "id": "140c5d3b-f361-4d14-8d70-2060a8daae26",
   "metadata": {},
   "outputs": [],
   "source": [
    "# 모델 초기화\n",
    "w = torch.zeros((3,1), requires_grad = True)\n",
    "b = torch.zeros(1, requires_grad = True)"
   ]
  },
  {
   "cell_type": "code",
   "execution_count": 6,
   "id": "2efa6686-759b-4efe-88ab-72ce8761df01",
   "metadata": {},
   "outputs": [],
   "source": [
    "# optimizer 설정\n",
    "optimizer = torch.optim.SGD([w, b], lr=1e-5)"
   ]
  },
  {
   "cell_type": "code",
   "execution_count": 8,
   "id": "2060f929-dc4a-4188-9b03-0e87bd8ead54",
   "metadata": {},
   "outputs": [
    {
     "name": "stdout",
     "output_type": "stream",
     "text": [
      "Epoch:    1/20 Hypothesis: tensor([67.2578, 80.8397, 79.6523, 86.7394, 61.6605]), Cost: 9298.520508\n",
      "Epoch:    2/20 Hypothesis: tensor([104.9128, 126.0990, 124.2466, 135.3015,  96.1821]), Cost: 2915.712891\n",
      "Epoch:    3/20 Hypothesis: tensor([125.9942, 151.4381, 149.2133, 162.4896, 115.5097]), Cost: 915.040527\n",
      "Epoch:    4/20 Hypothesis: tensor([137.7968, 165.6247, 163.1911, 177.7112, 126.3307]), Cost: 287.936005\n",
      "Epoch:    5/20 Hypothesis: tensor([144.4044, 173.5674, 171.0168, 186.2332, 132.3891]), Cost: 91.371010\n",
      "Epoch:    6/20 Hypothesis: tensor([148.1035, 178.0144, 175.3980, 191.0042, 135.7812]), Cost: 29.758139\n",
      "Epoch:    7/20 Hypothesis: tensor([150.1744, 180.5042, 177.8508, 193.6753, 137.6805]), Cost: 10.445305\n",
      "Epoch:    8/20 Hypothesis: tensor([151.3336, 181.8983, 179.2240, 195.1707, 138.7440]), Cost: 4.391228\n",
      "Epoch:    9/20 Hypothesis: tensor([151.9824, 182.6789, 179.9928, 196.0079, 139.3396]), Cost: 2.493135\n",
      "Epoch:   10/20 Hypothesis: tensor([152.3454, 183.1161, 180.4231, 196.4765, 139.6732]), Cost: 1.897688\n",
      "Epoch:   11/20 Hypothesis: tensor([152.5485, 183.3610, 180.6640, 196.7389, 139.8602]), Cost: 1.710541\n",
      "Epoch:   12/20 Hypothesis: tensor([152.6620, 183.4982, 180.7988, 196.8857, 139.9651]), Cost: 1.651412\n",
      "Epoch:   13/20 Hypothesis: tensor([152.7253, 183.5752, 180.8742, 196.9678, 140.0240]), Cost: 1.632387\n",
      "Epoch:   14/20 Hypothesis: tensor([152.7606, 183.6184, 180.9164, 197.0138, 140.0571]), Cost: 1.625923\n",
      "Epoch:   15/20 Hypothesis: tensor([152.7802, 183.6427, 180.9399, 197.0395, 140.0759]), Cost: 1.623412\n",
      "Epoch:   16/20 Hypothesis: tensor([152.7909, 183.6565, 180.9530, 197.0538, 140.0865]), Cost: 1.622141\n",
      "Epoch:   17/20 Hypothesis: tensor([152.7968, 183.6643, 180.9603, 197.0618, 140.0927]), Cost: 1.621253\n",
      "Epoch:   18/20 Hypothesis: tensor([152.7999, 183.6688, 180.9644, 197.0662, 140.0963]), Cost: 1.620500\n",
      "Epoch:   19/20 Hypothesis: tensor([152.8014, 183.6715, 180.9666, 197.0686, 140.0985]), Cost: 1.619770\n",
      "Epoch:   20/20 Hypothesis: tensor([152.8020, 183.6731, 180.9677, 197.0699, 140.1000]), Cost: 1.619033\n"
     ]
    }
   ],
   "source": [
    "nb_epochs = 20\n",
    "for epoch in range(1, nb_epochs + 1):\n",
    "    \n",
    "    # H(x) 계산\n",
    "    hypothesis = x_train.matmul(w) + b\n",
    "    \n",
    "    # cost 계산 (MSE)\n",
    "    cost = torch.mean((hypothesis - y_train) ** 2)\n",
    "  \n",
    "    # cost gradient로 H(x) 개선 -> Gradient decent\n",
    "    optimizer.zero_grad()\n",
    "    cost.backward()\n",
    "    optimizer.step()\n",
    "    \n",
    "    print('Epoch: {:4d}/{} Hypothesis: {}, Cost: {:.6f}'.format(epoch, nb_epochs, hypothesis.squeeze().detach(), cost.item()))   "
   ]
  },
  {
   "cell_type": "markdown",
   "id": "ac0783fc-f21f-42a6-83d9-91be47d74aed",
   "metadata": {},
   "source": [
    "# + nn.Module & F.msse_loss"
   ]
  },
  {
   "cell_type": "code",
   "execution_count": 19,
   "id": "63c8766d-e34c-414f-a0b0-94a22ff37dfc",
   "metadata": {},
   "outputs": [],
   "source": [
    "import torch.nn as nn\n",
    "\n",
    "class multivariateLinearRegressionModel(nn.Module):\n",
    "    def __init__(self):\n",
    "        super().__init__()\n",
    "        self.linear = nn.Linear(3, 1)\n",
    "        \n",
    "    def forward(self, x):\n",
    "        return self.linear(x)"
   ]
  },
  {
   "cell_type": "code",
   "execution_count": 20,
   "id": "3e49124f-d7b8-4e09-92ef-297faafe67d5",
   "metadata": {},
   "outputs": [],
   "source": [
    "import torch.nn.functional as F"
   ]
  },
  {
   "cell_type": "code",
   "execution_count": 21,
   "id": "5a14ac3a-9f64-4f4a-bcbb-d7d6bdfb55c0",
   "metadata": {},
   "outputs": [],
   "source": [
    "# 데이터\n",
    "x_train = torch.FloatTensor([[73, 80, 75], [93, 88, 93], [89, 91, 90], [96, 98, 100], [73, 66, 70]])\n",
    "y_train = torch.FloatTensor([[152], [185], [180], [196], [142]])"
   ]
  },
  {
   "cell_type": "code",
   "execution_count": 22,
   "id": "4fb3b014-60a4-4188-a48a-b85f6893f943",
   "metadata": {},
   "outputs": [],
   "source": [
    "# 모델 초기화\n",
    "model = multivariateLinearRegressionModel()"
   ]
  },
  {
   "cell_type": "code",
   "execution_count": 23,
   "id": "d41d39dc-5cc0-469c-a47b-cab669898fa2",
   "metadata": {},
   "outputs": [],
   "source": [
    "# optimizer 설정\n",
    "optimizer = torch.optim.SGD(model.parameters(), lr=1e-5)"
   ]
  },
  {
   "cell_type": "code",
   "execution_count": 25,
   "id": "b8994204-592b-4e9c-a7ae-f481e61e53d6",
   "metadata": {},
   "outputs": [
    {
     "name": "stdout",
     "output_type": "stream",
     "text": [
      "Epoch:    1/20 Hypothesis: tensor([-14.8094, -15.1002, -16.3127, -17.1050, -11.4149]), Cost: 35070.804688\n",
      "Epoch:    2/20 Hypothesis: tensor([58.3259, 72.8031, 70.2998, 77.2138, 55.6333]), Cost: 10993.296875\n",
      "Epoch:    3/20 Hypothesis: tensor([ 99.2716, 122.0170, 118.7910, 130.0195,  93.1711]), Cost: 3446.276611\n",
      "Epoch:    4/20 Hypothesis: tensor([122.1955, 149.5701, 145.9394, 159.5834, 114.1872]), Cost: 1080.687378\n",
      "Epoch:    5/20 Hypothesis: tensor([135.0298, 164.9960, 161.1387, 176.1351, 125.9534]), Cost: 339.200256\n",
      "Epoch:    6/20 Hypothesis: tensor([142.2151, 173.6325, 169.6483, 185.4018, 132.5410]), Cost: 106.783203\n",
      "Epoch:    7/20 Hypothesis: tensor([146.2379, 178.4678, 174.4125, 190.5898, 136.2291]), Cost: 33.932854\n",
      "Epoch:    8/20 Hypothesis: tensor([148.4901, 181.1749, 177.0798, 193.4944, 138.2940]), Cost: 11.098172\n",
      "Epoch:    9/20 Hypothesis: tensor([149.7510, 182.6906, 178.5731, 195.1206, 139.4502]), Cost: 3.940552\n",
      "Epoch:   10/20 Hypothesis: tensor([150.4568, 183.5391, 179.4091, 196.0309, 140.0975]), Cost: 1.697056\n",
      "Epoch:   11/20 Hypothesis: tensor([150.8520, 184.0143, 179.8772, 196.5406, 140.4599]), Cost: 0.993748\n",
      "Epoch:   12/20 Hypothesis: tensor([151.0732, 184.2803, 180.1392, 196.8260, 140.6629]), Cost: 0.773265\n",
      "Epoch:   13/20 Hypothesis: tensor([151.1969, 184.4293, 180.2859, 196.9857, 140.7766]), Cost: 0.704128\n",
      "Epoch:   14/20 Hypothesis: tensor([151.2662, 184.5127, 180.3680, 197.0751, 140.8403]), Cost: 0.682402\n",
      "Epoch:   15/20 Hypothesis: tensor([151.3049, 184.5595, 180.4140, 197.1251, 140.8761]), Cost: 0.675536\n",
      "Epoch:   16/20 Hypothesis: tensor([151.3266, 184.5856, 180.4397, 197.1531, 140.8961]), Cost: 0.673354\n",
      "Epoch:   17/20 Hypothesis: tensor([151.3387, 184.6004, 180.4541, 197.1687, 140.9074]), Cost: 0.672622\n",
      "Epoch:   18/20 Hypothesis: tensor([151.3454, 184.6086, 180.4621, 197.1775, 140.9137]), Cost: 0.672346\n",
      "Epoch:   19/20 Hypothesis: tensor([151.3491, 184.6133, 180.4666, 197.1824, 140.9173]), Cost: 0.672222\n",
      "Epoch:   20/20 Hypothesis: tensor([151.3511, 184.6159, 180.4691, 197.1851, 140.9194]), Cost: 0.672141\n"
     ]
    }
   ],
   "source": [
    "nb_epochs = 20\n",
    "for epoch in range(1, nb_epochs + 1):\n",
    "    \n",
    "    # H(x) 계산\n",
    "    hypothesis = model(x_train)\n",
    "    \n",
    "    # cost 계산\n",
    "    cost = F.mse_loss(hypothesis, y_train)\n",
    "  \n",
    "    # cost gradient로 H(x) 개선 -> Gradient decent\n",
    "    optimizer.zero_grad()\n",
    "    cost.backward()\n",
    "    optimizer.step()\n",
    "    \n",
    "    print('Epoch: {:4d}/{} Hypothesis: {}, Cost: {:.6f}'.format(epoch, nb_epochs, hypothesis.squeeze().detach(), cost.item()))   "
   ]
  },
  {
   "cell_type": "code",
   "execution_count": null,
   "id": "4924e0c0-50f7-462e-998d-2673cd03a70d",
   "metadata": {},
   "outputs": [],
   "source": []
  }
 ],
 "metadata": {
  "kernelspec": {
   "display_name": "Python 3 (ipykernel)",
   "language": "python",
   "name": "python3"
  },
  "language_info": {
   "codemirror_mode": {
    "name": "ipython",
    "version": 3
   },
   "file_extension": ".py",
   "mimetype": "text/x-python",
   "name": "python",
   "nbconvert_exporter": "python",
   "pygments_lexer": "ipython3",
   "version": "3.9.7"
  }
 },
 "nbformat": 4,
 "nbformat_minor": 5
}
