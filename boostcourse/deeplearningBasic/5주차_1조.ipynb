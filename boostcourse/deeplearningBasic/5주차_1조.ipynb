{
 "cells": [
  {
   "cell_type": "code",
   "execution_count": 5,
   "metadata": {},
   "outputs": [],
   "source": [
    "#Q1\n",
    "\n",
    "import torch\n",
    "import torch.nn as nn\n",
    "import torchvision.datasets as dset\n",
    "import torchvision.transforms as transforms \n",
    "from torch.utils.data import DataLoader\n",
    "\n",
    "training_epochs = 15\n",
    "batch_size = 100\n",
    "\n",
    "root = './data'\n",
    "mnist_train = dset.MNIST (root=root, train=True, transform=transforms.ToTensor(), download=True)\n",
    "mnist_test = dset.MNIST (root=root, train=False, transform=transforms.ToTensor(), download=True)\n",
    "\n",
    "train_loader = DataLoader(mnist_train, batch_size=batch_size, shuffle=True)\n",
    "test_loader = DataLoader(mnist_test, batch_size=batch_size, shuffle=False)"
   ]
  },
  {
   "cell_type": "code",
   "execution_count": 6,
   "metadata": {},
   "outputs": [
    {
     "data": {
      "text/plain": [
       "Parameter containing:\n",
       "tensor([[-0.9299,  2.4205, -1.7154,  ..., -1.6969, -1.1571, -1.5468],\n",
       "        [-1.2305, -0.1345, -0.8703,  ...,  1.0513, -2.1661,  0.1180],\n",
       "        [ 2.3733, -0.3526,  0.2074,  ...,  1.8536, -0.7436,  0.5893],\n",
       "        ...,\n",
       "        [-0.6153, -0.2190, -1.6814,  ..., -0.4410, -0.4379, -0.3107],\n",
       "        [ 0.1352, -0.5950, -0.0480,  ...,  1.4786,  0.9395,  1.3493],\n",
       "        [-1.2565,  0.1325, -1.0203,  ...,  0.4413, -0.6987, -1.4002]],\n",
       "       requires_grad=True)"
      ]
     },
     "execution_count": 6,
     "metadata": {},
     "output_type": "execute_result"
    }
   ],
   "source": [
    "#Q2\n",
    "\n",
    "device = torch.device('cuda' if torch.cuda.is_available() else 'cpu')\n",
    "linear = nn.Linear(784, 10, bias=True).to(device)\n",
    "nn.init.normal_(linear.weight)"
   ]
  },
  {
   "cell_type": "code",
   "execution_count": 7,
   "metadata": {},
   "outputs": [],
   "source": [
    "#Q3\n",
    "\n",
    "criterion = nn.CrossEntropyLoss().to(device)\n",
    "optimizer = torch.optim.SGD(linear.parameters(), lr=0.1)"
   ]
  },
  {
   "cell_type": "code",
   "execution_count": 8,
   "metadata": {},
   "outputs": [
    {
     "name": "stdout",
     "output_type": "stream",
     "text": [
      "Epoch [1/15], Step [100/600], Loss:  4.2042, Accuracy:  33.00%\n",
      "Epoch [1/15], Step [200/600], Loss:  2.0773, Accuracy:  61.00%\n",
      "Epoch [1/15], Step [300/600], Loss:  1.9135, Accuracy:  67.00%\n",
      "Epoch [1/15], Step [400/600], Loss:  1.6584, Accuracy:  70.00%\n",
      "Epoch [1/15], Step [500/600], Loss:  1.2372, Accuracy:  75.00%\n",
      "Epoch [1/15], Step [600/600], Loss:  1.2040, Accuracy:  81.00%\n",
      "Epoch [2/15], Step [100/600], Loss:  0.8268, Accuracy:  80.00%\n",
      "Epoch [2/15], Step [200/600], Loss:  0.7887, Accuracy:  84.00%\n",
      "Epoch [2/15], Step [300/600], Loss:  1.1366, Accuracy:  74.00%\n",
      "Epoch [2/15], Step [400/600], Loss:  1.1367, Accuracy:  79.00%\n",
      "Epoch [2/15], Step [500/600], Loss:  1.4004, Accuracy:  77.00%\n",
      "Epoch [2/15], Step [600/600], Loss:  1.2140, Accuracy:  80.00%\n",
      "Epoch [3/15], Step [100/600], Loss:  0.7708, Accuracy:  83.00%\n",
      "Epoch [3/15], Step [200/600], Loss:  0.8173, Accuracy:  85.00%\n",
      "Epoch [3/15], Step [300/600], Loss:  0.8038, Accuracy:  78.00%\n",
      "Epoch [3/15], Step [400/600], Loss:  0.7229, Accuracy:  85.00%\n",
      "Epoch [3/15], Step [500/600], Loss:  0.4228, Accuracy:  87.00%\n",
      "Epoch [3/15], Step [600/600], Loss:  0.7769, Accuracy:  82.00%\n",
      "Epoch [4/15], Step [100/600], Loss:  0.9191, Accuracy:  76.00%\n",
      "Epoch [4/15], Step [200/600], Loss:  1.2188, Accuracy:  80.00%\n",
      "Epoch [4/15], Step [300/600], Loss:  0.6283, Accuracy:  85.00%\n",
      "Epoch [4/15], Step [400/600], Loss:  0.8907, Accuracy:  83.00%\n",
      "Epoch [4/15], Step [500/600], Loss:  0.6398, Accuracy:  87.00%\n",
      "Epoch [4/15], Step [600/600], Loss:  0.5817, Accuracy:  83.00%\n",
      "Epoch [5/15], Step [100/600], Loss:  0.8569, Accuracy:  80.00%\n",
      "Epoch [5/15], Step [200/600], Loss:  0.2282, Accuracy:  92.00%\n",
      "Epoch [5/15], Step [300/600], Loss:  0.5784, Accuracy:  90.00%\n",
      "Epoch [5/15], Step [400/600], Loss:  0.7704, Accuracy:  91.00%\n",
      "Epoch [5/15], Step [500/600], Loss:  0.9043, Accuracy:  83.00%\n",
      "Epoch [5/15], Step [600/600], Loss:  0.5886, Accuracy:  88.00%\n",
      "Epoch [6/15], Step [100/600], Loss:  0.3218, Accuracy:  91.00%\n",
      "Epoch [6/15], Step [200/600], Loss:  0.8358, Accuracy:  85.00%\n",
      "Epoch [6/15], Step [300/600], Loss:  0.8407, Accuracy:  83.00%\n",
      "Epoch [6/15], Step [400/600], Loss:  0.4884, Accuracy:  89.00%\n",
      "Epoch [6/15], Step [500/600], Loss:  1.1483, Accuracy:  80.00%\n",
      "Epoch [6/15], Step [600/600], Loss:  0.2564, Accuracy:  91.00%\n",
      "Epoch [7/15], Step [100/600], Loss:  0.7857, Accuracy:  82.00%\n",
      "Epoch [7/15], Step [200/600], Loss:  0.5497, Accuracy:  86.00%\n",
      "Epoch [7/15], Step [300/600], Loss:  0.6614, Accuracy:  86.00%\n",
      "Epoch [7/15], Step [400/600], Loss:  0.5916, Accuracy:  81.00%\n",
      "Epoch [7/15], Step [500/600], Loss:  1.2259, Accuracy:  79.00%\n",
      "Epoch [7/15], Step [600/600], Loss:  0.6511, Accuracy:  86.00%\n",
      "Epoch [8/15], Step [100/600], Loss:  0.8299, Accuracy:  85.00%\n",
      "Epoch [8/15], Step [200/600], Loss:  0.3182, Accuracy:  89.00%\n",
      "Epoch [8/15], Step [300/600], Loss:  0.4354, Accuracy:  85.00%\n",
      "Epoch [8/15], Step [400/600], Loss:  0.3501, Accuracy:  87.00%\n",
      "Epoch [8/15], Step [500/600], Loss:  0.3587, Accuracy:  88.00%\n",
      "Epoch [8/15], Step [600/600], Loss:  0.5352, Accuracy:  89.00%\n",
      "Epoch [9/15], Step [100/600], Loss:  0.2963, Accuracy:  89.00%\n",
      "Epoch [9/15], Step [200/600], Loss:  0.5645, Accuracy:  87.00%\n",
      "Epoch [9/15], Step [300/600], Loss:  0.6240, Accuracy:  86.00%\n",
      "Epoch [9/15], Step [400/600], Loss:  0.3481, Accuracy:  87.00%\n",
      "Epoch [9/15], Step [500/600], Loss:  0.8806, Accuracy:  86.00%\n",
      "Epoch [9/15], Step [600/600], Loss:  0.5391, Accuracy:  84.00%\n",
      "Epoch [10/15], Step [100/600], Loss:  0.5169, Accuracy:  86.00%\n",
      "Epoch [10/15], Step [200/600], Loss:  0.5761, Accuracy:  87.00%\n",
      "Epoch [10/15], Step [300/600], Loss:  0.3463, Accuracy:  90.00%\n",
      "Epoch [10/15], Step [400/600], Loss:  0.5545, Accuracy:  87.00%\n",
      "Epoch [10/15], Step [500/600], Loss:  0.6032, Accuracy:  84.00%\n",
      "Epoch [10/15], Step [600/600], Loss:  0.5117, Accuracy:  85.00%\n",
      "Epoch [11/15], Step [100/600], Loss:  0.3147, Accuracy:  92.00%\n",
      "Epoch [11/15], Step [200/600], Loss:  0.4899, Accuracy:  87.00%\n",
      "Epoch [11/15], Step [300/600], Loss:  0.2391, Accuracy:  94.00%\n",
      "Epoch [11/15], Step [400/600], Loss:  0.2804, Accuracy:  89.00%\n",
      "Epoch [11/15], Step [500/600], Loss:  0.3758, Accuracy:  90.00%\n",
      "Epoch [11/15], Step [600/600], Loss:  0.5115, Accuracy:  86.00%\n",
      "Epoch [12/15], Step [100/600], Loss:  0.3328, Accuracy:  87.00%\n",
      "Epoch [12/15], Step [200/600], Loss:  0.6822, Accuracy:  87.00%\n",
      "Epoch [12/15], Step [300/600], Loss:  0.4978, Accuracy:  91.00%\n",
      "Epoch [12/15], Step [400/600], Loss:  1.0380, Accuracy:  83.00%\n",
      "Epoch [12/15], Step [500/600], Loss:  0.4179, Accuracy:  89.00%\n",
      "Epoch [12/15], Step [600/600], Loss:  0.5128, Accuracy:  90.00%\n",
      "Epoch [13/15], Step [100/600], Loss:  0.2443, Accuracy:  88.00%\n",
      "Epoch [13/15], Step [200/600], Loss:  0.3162, Accuracy:  87.00%\n",
      "Epoch [13/15], Step [300/600], Loss:  0.5384, Accuracy:  92.00%\n",
      "Epoch [13/15], Step [400/600], Loss:  0.7107, Accuracy:  89.00%\n",
      "Epoch [13/15], Step [500/600], Loss:  0.3477, Accuracy:  88.00%\n",
      "Epoch [13/15], Step [600/600], Loss:  0.4818, Accuracy:  91.00%\n",
      "Epoch [14/15], Step [100/600], Loss:  0.2434, Accuracy:  91.00%\n",
      "Epoch [14/15], Step [200/600], Loss:  0.3983, Accuracy:  89.00%\n",
      "Epoch [14/15], Step [300/600], Loss:  0.3268, Accuracy:  90.00%\n",
      "Epoch [14/15], Step [400/600], Loss:  0.6199, Accuracy:  85.00%\n",
      "Epoch [14/15], Step [500/600], Loss:  0.7315, Accuracy:  83.00%\n",
      "Epoch [14/15], Step [600/600], Loss:  0.3865, Accuracy:  92.00%\n",
      "Epoch [15/15], Step [100/600], Loss:  0.2328, Accuracy:  94.00%\n",
      "Epoch [15/15], Step [200/600], Loss:  0.6597, Accuracy:  86.00%\n",
      "Epoch [15/15], Step [300/600], Loss:  0.3525, Accuracy:  93.00%\n",
      "Epoch [15/15], Step [400/600], Loss:  0.5703, Accuracy:  88.00%\n",
      "Epoch [15/15], Step [500/600], Loss:  0.4717, Accuracy:  91.00%\n",
      "Epoch [15/15], Step [600/600], Loss:  0.5209, Accuracy:  88.00%\n"
     ]
    }
   ],
   "source": [
    "#Q4\n",
    "\n",
    "for epoch in range(training_epochs):\n",
    "    for i, (imgs, labels) in enumerate(train_loader):\n",
    "        imgs, labels = imgs.to(device), labels.to(device)\n",
    "        imgs = imgs.view(-1, 28 * 28)\n",
    "    \n",
    "        outputs = linear(imgs)\n",
    "        loss = criterion(outputs, labels)\n",
    "    \n",
    "        optimizer.zero_grad()\n",
    "        loss.backward()\n",
    "        optimizer.step()\n",
    "    \n",
    "        _,argmax = torch.max(outputs, 1)\n",
    "        accuracy = (labels == argmax).float().mean()\n",
    "\n",
    "        if (i+1) % 100 == 0:\n",
    "            print('Epoch [{}/{}], Step [{}/{}], Loss: {: .4f}, Accuracy: {: .2f}%'.format(\n",
    "            epoch+1, training_epochs, i+1, len(train_loader), loss.item(), accuracy.item()*100))"
   ]
  },
  {
   "cell_type": "code",
   "execution_count": 10,
   "metadata": {},
   "outputs": [
    {
     "name": "stdout",
     "output_type": "stream",
     "text": [
      "Test accuracy for 10000 images:  89.00%\n"
     ]
    }
   ],
   "source": [
    "#Q5\n",
    "\n",
    "linear.eval()\n",
    "with torch.no_grad():\n",
    "    correct = 0\n",
    "    total = 0\n",
    "    for i, (imgs, labels) in enumerate(test_loader):\n",
    "        imgs, labels = imgs.to(device), labels.to(device)\n",
    "        imgs = imgs.view(-1, 28 * 28)\n",
    "\n",
    "        outputs = linear(imgs)\n",
    "\n",
    "        _, argmax = torch.max(outputs, 1)\n",
    "        total += imgs.size(0)\n",
    "        correct += (labels == argmax).sum().item()\n",
    "\n",
    "    print('Test accuracy for {} images: {: .2f}%'.format(total, correct / total * 100))"
   ]
  }
 ],
 "metadata": {
  "kernelspec": {
   "display_name": "Python 3 (ipykernel)",
   "language": "python",
   "name": "python3"
  },
  "language_info": {
   "codemirror_mode": {
    "name": "ipython",
    "version": 3
   },
   "file_extension": ".py",
   "mimetype": "text/x-python",
   "name": "python",
   "nbconvert_exporter": "python",
   "pygments_lexer": "ipython3",
   "version": "3.10.7"
  },
  "vscode": {
   "interpreter": {
    "hash": "c547e28d077de37de8327d2deced0ecf3dc6d9602cb304461ab6c3e9ffd03beb"
   }
  }
 },
 "nbformat": 4,
 "nbformat_minor": 2
}
