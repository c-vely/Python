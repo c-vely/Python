{
 "cells": [
  {
   "cell_type": "code",
   "execution_count": 13,
   "id": "1634fd80",
   "metadata": {},
   "outputs": [
    {
     "name": "stdout",
     "output_type": "stream",
     "text": [
      "HDD    19\n",
      "SSD    11\n",
      "dtype: int64\n"
     ]
    }
   ],
   "source": [
    "# 미션 1\n",
    "import pandas as pd\n",
    "idx = [\"HDD\", \"SSD\",\"USB\",\"CLOUD\"]\n",
    "data= [19,11,5,97]\n",
    "\n",
    "# 위 데이터로 Sereis를 구현\n",
    "series = pd. Series(data, index = idx)\n",
    "\n",
    "# 10 이상 20 이하를 가지는 데이터만 이용해 다시 series를 정의해보세요\n",
    "series = series[series >= 10][series <=20]\n",
    "\n",
    "print(series)"
   ]
  },
  {
   "cell_type": "code",
   "execution_count": 19,
   "id": "b68a4cd3",
   "metadata": {},
   "outputs": [
    {
     "name": "stdout",
     "output_type": "stream",
     "text": [
      "     Name   Type  Price\n",
      "3    kiwi  Fruit    120\n",
      "1   mango  Fruit    110\n",
      "0  cherry  Fruit    100\n",
      "2  banana  Fruit     90\n",
      "     Name       Type  Price\n",
      "3   onion  Vegetable     80\n",
      "1  carrot  Vegetable     70\n",
      "2  potato  Vegetable     60\n",
      "0  pepper  Vegetable     50\n",
      "Sum of Top 2 Fruit Price:  230\n",
      "Sum of Top 2 Vegetable Price:  150\n"
     ]
    }
   ],
   "source": [
    "# 미션 2\n",
    "import pandas as pd\n",
    "\n",
    "df1= pd.DataFrame([[\"cherry\",\"Fruit\",100],[\"mango\",\"Fruit\",110],\n",
    "                  [\"potato\",\"Vegetable\",60],[\"onion\",\"Vegetable\",80]], columns = [\"Name\",\"Type\",\"Price\"]) \n",
    "df2= pd.DataFrame([[\"pepper\",\"Vegetable\",50],[\"carrot\",\"Vegetable\",70],\n",
    "                  [\"banana\",\"Fruit\",90],[\"kiwi\",\"Fruit\",120]], columns = [\"Name\",\"Type\",\"Price\"])\n",
    "\n",
    "#df1,df2를 columns를 이용해 결합\n",
    "df3= pd.concat([df1,df2], axis =0)\n",
    "\n",
    "#Fruit와 Vegetable의 type에 따라 정렬하고 가격을 내림차순으로 정리\n",
    "df_fruit = df3.loc[df3[\"Type\"]==\"Fruit\"]\n",
    "df_fruit = df_fruit.sort_values(by=\"Price\", ascending= False)                                         \n",
    "print(df_fruit)\n",
    "                                         \n",
    "df_veg = df3.loc[df3[\"Type\"]==\"Vegetable\"]\n",
    "df_veg = df_veg.sort_values(by=\"Price\", ascending= False)                                         \n",
    "print(df_veg)\n",
    "\n",
    "#Fruit와 Vegetable 상위 2개의 가격의 합을 출력\n",
    "print(\"Sum of Top 2 Fruit Price: \", sum(df_fruit[:2][\"Price\"]))\n",
    "print(\"Sum of Top 2 Vegetable Price: \", sum(df_veg[:2][\"Price\"]))"
   ]
  }
 ],
 "metadata": {
  "kernelspec": {
   "display_name": "Python 3 (ipykernel)",
   "language": "python",
   "name": "python3"
  },
  "language_info": {
   "codemirror_mode": {
    "name": "ipython",
    "version": 3
   },
   "file_extension": ".py",
   "mimetype": "text/x-python",
   "name": "python",
   "nbconvert_exporter": "python",
   "pygments_lexer": "ipython3",
   "version": "3.10.8"
  }
 },
 "nbformat": 4,
 "nbformat_minor": 5
}
