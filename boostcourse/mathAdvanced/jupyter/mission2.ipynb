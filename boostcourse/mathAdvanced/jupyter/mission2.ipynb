{
 "cells": [
  {
   "cell_type": "markdown",
   "id": "4e40cf07-a131-4207-9554-5e49204bb404",
   "metadata": {},
   "source": [
    "Q2.  \n",
    "\n",
    "'''  \n",
    "두번째로 Pandas에서 지원하는 Dataframe을 다뤄보도록 하겠습니다.  \n",
    "다음과 같이 과일과 야채 각각 정리된 데이터가 있습니다.   \n",
    "이 두 데이터를 따로 보기엔 효율성이 떨어지니,  \n",
    "각 표에 정리된 데이터를 각각 하나의 데이터 프레임으로 생성한 후   \n",
    "다음 세부 구현을 진행해보세요.  \n",
    "\n",
    "  - 두 데이터를 하나의 데이터로 결합해보세요.  \n",
    "  - 결합한 데이터의 type을 이용해 데이터를 정렬해보세요.  \n",
    "  - 최종적으로 과일과 야채 중 가장 비싼 가격의 합을 출력해보세요.  \n",
    "    \n",
    "'''  \n",
    "  \n",
    "import pandas as pd  \n",
    "  \n",
    "df1 = # Dataframe 1 columns=[\"Name\", \"Type\", \"Price\"]   \n",
    "df2 = # Dataframe 2 columns=[\"Name\", \"Type\", \"Price\"]  \n",
    "  \n",
    "#df1, df2를 colums를 이용해 결합  \n",
    "df3= #  \n",
    "  \n",
    "#Fruit와 Vegetable의 type에 따라 정렬하고, 가격을 내림차순으로 정리   \n",
    "df_fruit = #  \n",
    "df_veg = #  \n",
    "  \n",
    "#Fruit와 Vegetable 상위 2개의 가격의 합을 출력   \n",
    "print(\"Sum of Top 2 Fruit Price :  \", #)   \n",
    "print(\"Sum of Top 2 Vegetable Price : \", #)  \n",
    "\n",
    "\n",
    "[출력 예시]  \n",
    "Sum of Top 2 Fruit Price: 230  \n",
    "Sum of Top 2 Vegetable Price : 150  \n",
    "  "
   ]
  },
  {
   "cell_type": "code",
   "execution_count": 1,
   "id": "7778f7ff-10ff-4b79-8759-b2f9accb860b",
   "metadata": {},
   "outputs": [],
   "source": [
    "import pandas as pd  "
   ]
  },
  {
   "cell_type": "code",
   "execution_count": 3,
   "id": "b046095b-545f-4c59-a6c1-b8b969517ba3",
   "metadata": {},
   "outputs": [],
   "source": [
    "df1 = {\"Name\" : ['cherry', 'mango', 'potato', 'onion'],\n",
    "       \"Type\" : ['Fruit', 'Fruit', 'Vegetable', 'Vegetable'], \n",
    "       \"Price\": [100, 110, 60, 80]}   \n",
    "df2 = {\"Name\" : ['pepper', 'carrot', 'banana', 'kiwi'],\n",
    "       \"Type\" : ['Vegetable', 'Vegetable', 'Fruit', 'Fruit'], \n",
    "       \"Price\": [50, 70, 90, 120]} "
   ]
  },
  {
   "cell_type": "code",
   "execution_count": 4,
   "id": "fd17ad15-8320-4be2-99ac-e69ed075577b",
   "metadata": {},
   "outputs": [
    {
     "data": {
      "text/plain": [
       "{'Name': ['cherry', 'mango', 'potato', 'onion'],\n",
       " 'Type': ['Fruit', 'Fruit', 'Vegetable', 'Vegetable'],\n",
       " 'Price': [100, 110, 60, 80]}"
      ]
     },
     "execution_count": 4,
     "metadata": {},
     "output_type": "execute_result"
    }
   ],
   "source": [
    "df1"
   ]
  },
  {
   "cell_type": "code",
   "execution_count": 5,
   "id": "37a0500c-2bdb-48e4-b9b1-d5df389bc591",
   "metadata": {},
   "outputs": [
    {
     "data": {
      "text/plain": [
       "{'Name': ['pepper', 'carrot', 'banana', 'kiwi'],\n",
       " 'Type': ['Vegetable', 'Vegetable', 'Fruit', 'Fruit'],\n",
       " 'Price': [50, 70, 90, 120]}"
      ]
     },
     "execution_count": 5,
     "metadata": {},
     "output_type": "execute_result"
    }
   ],
   "source": [
    "df2"
   ]
  },
  {
   "cell_type": "code",
   "execution_count": 10,
   "id": "ce02a5ee-96fb-4978-a7a2-f7490d9d8686",
   "metadata": {},
   "outputs": [
    {
     "data": {
      "text/html": [
       "<div>\n",
       "<style scoped>\n",
       "    .dataframe tbody tr th:only-of-type {\n",
       "        vertical-align: middle;\n",
       "    }\n",
       "\n",
       "    .dataframe tbody tr th {\n",
       "        vertical-align: top;\n",
       "    }\n",
       "\n",
       "    .dataframe thead th {\n",
       "        text-align: right;\n",
       "    }\n",
       "</style>\n",
       "<table border=\"1\" class=\"dataframe\">\n",
       "  <thead>\n",
       "    <tr style=\"text-align: right;\">\n",
       "      <th></th>\n",
       "      <th>Name</th>\n",
       "      <th>Type</th>\n",
       "      <th>Price</th>\n",
       "    </tr>\n",
       "  </thead>\n",
       "  <tbody>\n",
       "    <tr>\n",
       "      <th>0</th>\n",
       "      <td>cherry</td>\n",
       "      <td>Fruit</td>\n",
       "      <td>100</td>\n",
       "    </tr>\n",
       "    <tr>\n",
       "      <th>1</th>\n",
       "      <td>mango</td>\n",
       "      <td>Fruit</td>\n",
       "      <td>110</td>\n",
       "    </tr>\n",
       "    <tr>\n",
       "      <th>2</th>\n",
       "      <td>potato</td>\n",
       "      <td>Vegetable</td>\n",
       "      <td>60</td>\n",
       "    </tr>\n",
       "    <tr>\n",
       "      <th>3</th>\n",
       "      <td>onion</td>\n",
       "      <td>Vegetable</td>\n",
       "      <td>80</td>\n",
       "    </tr>\n",
       "  </tbody>\n",
       "</table>\n",
       "</div>"
      ],
      "text/plain": [
       "     Name       Type  Price\n",
       "0  cherry      Fruit    100\n",
       "1   mango      Fruit    110\n",
       "2  potato  Vegetable     60\n",
       "3   onion  Vegetable     80"
      ]
     },
     "execution_count": 10,
     "metadata": {},
     "output_type": "execute_result"
    }
   ],
   "source": [
    "df3 = pd.DataFrame(df1, columns = [\"Name\", \"Type\", \"Price\"])\n",
    "df3"
   ]
  },
  {
   "cell_type": "code",
   "execution_count": 9,
   "id": "1c24d57c-dc9f-46a4-8c6b-fd431b3afc5d",
   "metadata": {},
   "outputs": [
    {
     "data": {
      "text/html": [
       "<div>\n",
       "<style scoped>\n",
       "    .dataframe tbody tr th:only-of-type {\n",
       "        vertical-align: middle;\n",
       "    }\n",
       "\n",
       "    .dataframe tbody tr th {\n",
       "        vertical-align: top;\n",
       "    }\n",
       "\n",
       "    .dataframe thead th {\n",
       "        text-align: right;\n",
       "    }\n",
       "</style>\n",
       "<table border=\"1\" class=\"dataframe\">\n",
       "  <thead>\n",
       "    <tr style=\"text-align: right;\">\n",
       "      <th></th>\n",
       "      <th>Name</th>\n",
       "      <th>Type</th>\n",
       "      <th>Price</th>\n",
       "    </tr>\n",
       "  </thead>\n",
       "  <tbody>\n",
       "    <tr>\n",
       "      <th>0</th>\n",
       "      <td>pepper</td>\n",
       "      <td>Vegetable</td>\n",
       "      <td>50</td>\n",
       "    </tr>\n",
       "    <tr>\n",
       "      <th>1</th>\n",
       "      <td>carrot</td>\n",
       "      <td>Vegetable</td>\n",
       "      <td>70</td>\n",
       "    </tr>\n",
       "    <tr>\n",
       "      <th>2</th>\n",
       "      <td>banana</td>\n",
       "      <td>Fruit</td>\n",
       "      <td>90</td>\n",
       "    </tr>\n",
       "    <tr>\n",
       "      <th>3</th>\n",
       "      <td>kiwi</td>\n",
       "      <td>Fruit</td>\n",
       "      <td>120</td>\n",
       "    </tr>\n",
       "  </tbody>\n",
       "</table>\n",
       "</div>"
      ],
      "text/plain": [
       "     Name       Type  Price\n",
       "0  pepper  Vegetable     50\n",
       "1  carrot  Vegetable     70\n",
       "2  banana      Fruit     90\n",
       "3    kiwi      Fruit    120"
      ]
     },
     "execution_count": 9,
     "metadata": {},
     "output_type": "execute_result"
    }
   ],
   "source": [
    "df4 = pd.DataFrame(df2, columns = [\"Name\", \"Type\", \"Price\"])\n",
    "df4"
   ]
  },
  {
   "cell_type": "code",
   "execution_count": 12,
   "id": "5d6a18d8-06cc-4254-a372-f1bdc592e471",
   "metadata": {},
   "outputs": [
    {
     "data": {
      "text/html": [
       "<div>\n",
       "<style scoped>\n",
       "    .dataframe tbody tr th:only-of-type {\n",
       "        vertical-align: middle;\n",
       "    }\n",
       "\n",
       "    .dataframe tbody tr th {\n",
       "        vertical-align: top;\n",
       "    }\n",
       "\n",
       "    .dataframe thead th {\n",
       "        text-align: right;\n",
       "    }\n",
       "</style>\n",
       "<table border=\"1\" class=\"dataframe\">\n",
       "  <thead>\n",
       "    <tr style=\"text-align: right;\">\n",
       "      <th></th>\n",
       "      <th>Name</th>\n",
       "      <th>Type</th>\n",
       "      <th>Price</th>\n",
       "    </tr>\n",
       "  </thead>\n",
       "  <tbody>\n",
       "    <tr>\n",
       "      <th>0</th>\n",
       "      <td>cherry</td>\n",
       "      <td>Fruit</td>\n",
       "      <td>100</td>\n",
       "    </tr>\n",
       "    <tr>\n",
       "      <th>1</th>\n",
       "      <td>mango</td>\n",
       "      <td>Fruit</td>\n",
       "      <td>110</td>\n",
       "    </tr>\n",
       "    <tr>\n",
       "      <th>2</th>\n",
       "      <td>potato</td>\n",
       "      <td>Vegetable</td>\n",
       "      <td>60</td>\n",
       "    </tr>\n",
       "    <tr>\n",
       "      <th>3</th>\n",
       "      <td>onion</td>\n",
       "      <td>Vegetable</td>\n",
       "      <td>80</td>\n",
       "    </tr>\n",
       "    <tr>\n",
       "      <th>0</th>\n",
       "      <td>pepper</td>\n",
       "      <td>Vegetable</td>\n",
       "      <td>50</td>\n",
       "    </tr>\n",
       "    <tr>\n",
       "      <th>1</th>\n",
       "      <td>carrot</td>\n",
       "      <td>Vegetable</td>\n",
       "      <td>70</td>\n",
       "    </tr>\n",
       "    <tr>\n",
       "      <th>2</th>\n",
       "      <td>banana</td>\n",
       "      <td>Fruit</td>\n",
       "      <td>90</td>\n",
       "    </tr>\n",
       "    <tr>\n",
       "      <th>3</th>\n",
       "      <td>kiwi</td>\n",
       "      <td>Fruit</td>\n",
       "      <td>120</td>\n",
       "    </tr>\n",
       "  </tbody>\n",
       "</table>\n",
       "</div>"
      ],
      "text/plain": [
       "     Name       Type  Price\n",
       "0  cherry      Fruit    100\n",
       "1   mango      Fruit    110\n",
       "2  potato  Vegetable     60\n",
       "3   onion  Vegetable     80\n",
       "0  pepper  Vegetable     50\n",
       "1  carrot  Vegetable     70\n",
       "2  banana      Fruit     90\n",
       "3    kiwi      Fruit    120"
      ]
     },
     "execution_count": 12,
     "metadata": {},
     "output_type": "execute_result"
    }
   ],
   "source": [
    "# df3, df4를 colums를 이용해 결합  \n",
    "df5 = pd.concat([df3, df4], axis=0)\n",
    "df5"
   ]
  },
  {
   "cell_type": "code",
   "execution_count": 36,
   "id": "2f5280fa-06ed-4452-86f2-785f3242d681",
   "metadata": {},
   "outputs": [
    {
     "data": {
      "text/html": [
       "<div>\n",
       "<style scoped>\n",
       "    .dataframe tbody tr th:only-of-type {\n",
       "        vertical-align: middle;\n",
       "    }\n",
       "\n",
       "    .dataframe tbody tr th {\n",
       "        vertical-align: top;\n",
       "    }\n",
       "\n",
       "    .dataframe thead th {\n",
       "        text-align: right;\n",
       "    }\n",
       "</style>\n",
       "<table border=\"1\" class=\"dataframe\">\n",
       "  <thead>\n",
       "    <tr style=\"text-align: right;\">\n",
       "      <th></th>\n",
       "      <th>Name</th>\n",
       "      <th>Type</th>\n",
       "      <th>Price</th>\n",
       "    </tr>\n",
       "  </thead>\n",
       "  <tbody>\n",
       "    <tr>\n",
       "      <th>3</th>\n",
       "      <td>kiwi</td>\n",
       "      <td>Fruit</td>\n",
       "      <td>120</td>\n",
       "    </tr>\n",
       "    <tr>\n",
       "      <th>1</th>\n",
       "      <td>mango</td>\n",
       "      <td>Fruit</td>\n",
       "      <td>110</td>\n",
       "    </tr>\n",
       "    <tr>\n",
       "      <th>0</th>\n",
       "      <td>cherry</td>\n",
       "      <td>Fruit</td>\n",
       "      <td>100</td>\n",
       "    </tr>\n",
       "    <tr>\n",
       "      <th>2</th>\n",
       "      <td>banana</td>\n",
       "      <td>Fruit</td>\n",
       "      <td>90</td>\n",
       "    </tr>\n",
       "  </tbody>\n",
       "</table>\n",
       "</div>"
      ],
      "text/plain": [
       "     Name   Type  Price\n",
       "3    kiwi  Fruit    120\n",
       "1   mango  Fruit    110\n",
       "0  cherry  Fruit    100\n",
       "2  banana  Fruit     90"
      ]
     },
     "execution_count": 36,
     "metadata": {},
     "output_type": "execute_result"
    }
   ],
   "source": [
    "# Fruit와 Vegetable의 type에 따라 정렬하고, 가격을 내림차순으로 정리   \n",
    "df_fruit = df5[df5['Type'] == 'Fruit'].sort_values(by=df5.columns[2], ascending=False)\n",
    "df_fruit"
   ]
  },
  {
   "cell_type": "code",
   "execution_count": 37,
   "id": "2b99c03b-da37-4528-ad71-2ff1538ddf4c",
   "metadata": {},
   "outputs": [
    {
     "data": {
      "text/html": [
       "<div>\n",
       "<style scoped>\n",
       "    .dataframe tbody tr th:only-of-type {\n",
       "        vertical-align: middle;\n",
       "    }\n",
       "\n",
       "    .dataframe tbody tr th {\n",
       "        vertical-align: top;\n",
       "    }\n",
       "\n",
       "    .dataframe thead th {\n",
       "        text-align: right;\n",
       "    }\n",
       "</style>\n",
       "<table border=\"1\" class=\"dataframe\">\n",
       "  <thead>\n",
       "    <tr style=\"text-align: right;\">\n",
       "      <th></th>\n",
       "      <th>Name</th>\n",
       "      <th>Type</th>\n",
       "      <th>Price</th>\n",
       "    </tr>\n",
       "  </thead>\n",
       "  <tbody>\n",
       "    <tr>\n",
       "      <th>3</th>\n",
       "      <td>onion</td>\n",
       "      <td>Vegetable</td>\n",
       "      <td>80</td>\n",
       "    </tr>\n",
       "    <tr>\n",
       "      <th>1</th>\n",
       "      <td>carrot</td>\n",
       "      <td>Vegetable</td>\n",
       "      <td>70</td>\n",
       "    </tr>\n",
       "    <tr>\n",
       "      <th>2</th>\n",
       "      <td>potato</td>\n",
       "      <td>Vegetable</td>\n",
       "      <td>60</td>\n",
       "    </tr>\n",
       "    <tr>\n",
       "      <th>0</th>\n",
       "      <td>pepper</td>\n",
       "      <td>Vegetable</td>\n",
       "      <td>50</td>\n",
       "    </tr>\n",
       "  </tbody>\n",
       "</table>\n",
       "</div>"
      ],
      "text/plain": [
       "     Name       Type  Price\n",
       "3   onion  Vegetable     80\n",
       "1  carrot  Vegetable     70\n",
       "2  potato  Vegetable     60\n",
       "0  pepper  Vegetable     50"
      ]
     },
     "execution_count": 37,
     "metadata": {},
     "output_type": "execute_result"
    }
   ],
   "source": [
    "df_veg = df5[df5['Type'] == 'Vegetable'].sort_values(by=df5.columns[2], ascending=False)\n",
    "df_veg"
   ]
  },
  {
   "cell_type": "code",
   "execution_count": 42,
   "id": "0b7d262b-81e6-4dff-b345-48dd1139aa74",
   "metadata": {},
   "outputs": [
    {
     "name": "stdout",
     "output_type": "stream",
     "text": [
      "Sum of Top 2 Fruit Price : 230 \n",
      "Sum of Top 2 Vegetable Price : 150 \n"
     ]
    }
   ],
   "source": [
    "#Fruit와 Vegetable 상위 2개의 가격의 합을 출력                   \n",
    "print(\"Sum of Top 2 Fruit Price : {} \".format(sum(df_fruit['Price'].head(2)))) \n",
    "print(\"Sum of Top 2 Vegetable Price : {} \".format(sum(df_veg['Price'].head(2)))) "
   ]
  }
 ],
 "metadata": {
  "kernelspec": {
   "display_name": "Python 3 (ipykernel)",
   "language": "python",
   "name": "python3"
  },
  "language_info": {
   "codemirror_mode": {
    "name": "ipython",
    "version": 3
   },
   "file_extension": ".py",
   "mimetype": "text/x-python",
   "name": "python",
   "nbconvert_exporter": "python",
   "pygments_lexer": "ipython3",
   "version": "3.9.16"
  }
 },
 "nbformat": 4,
 "nbformat_minor": 5
}
