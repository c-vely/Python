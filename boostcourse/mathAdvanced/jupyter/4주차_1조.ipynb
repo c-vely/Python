{
  "cells": [
    {
      "cell_type": "markdown",
      "metadata": {
        "id": "s8b-t3pMArBH"
      },
      "source": [
        "### Q1"
      ]
    },
    {
      "cell_type": "code",
      "execution_count": null,
      "metadata": {
        "id": "ggVeIN9OArBK",
        "outputId": "d144a829-e5f7-4cae-925f-4d0ccb5a2c9e"
      },
      "outputs": [
        {
          "data": {
            "text/plain": [
              "HDD      19\n",
              "SSD      11\n",
              "USB       5\n",
              "CLOUD    97\n",
              "dtype: int64"
            ]
          },
          "execution_count": 17,
          "metadata": {},
          "output_type": "execute_result"
        }
      ],
      "source": [
        "#q1\n",
        "import pandas as pd\n",
        "\n",
        "idx = [\"HDD\", \"SSD\", \"USB\", \"CLOUD\"]\n",
        "data = [19, 11, 5, 97]\n",
        "\n",
        "series = pd.Series(index= idx, data = data)\n",
        "series"
      ]
    },
    {
      "cell_type": "code",
      "execution_count": null,
      "metadata": {
        "id": "FjlGJvZgArBN",
        "outputId": "1ba48b00-d54c-4492-89c0-e70fafd6ace3"
      },
      "outputs": [
        {
          "name": "stdout",
          "output_type": "stream",
          "text": [
            "HDD    19\n",
            "SSD    11\n",
            "dtype: int64\n"
          ]
        }
      ],
      "source": [
        "series = series.loc[(series >= 10) & (series <= 20)]\n",
        "print(series)"
      ]
    },
    {
      "cell_type": "markdown",
      "metadata": {
        "id": "i7iVavUHArBN"
      },
      "source": [
        "### Q2"
      ]
    },
    {
      "cell_type": "code",
      "execution_count": null,
      "metadata": {
        "id": "TONan2hoArBO"
      },
      "outputs": [],
      "source": [
        "name_1 = ['cherry', 'mango', 'potato', 'onion']\n",
        "type_1 = ['Fruit', 'Fruit', 'Vegetable', 'Vegetable']\n",
        "price_1 = [100, 110, 60, 80]\n",
        "\n",
        "name_2 = ['pepper', 'carrot', 'banana', 'kiwi']\n",
        "type_2 = ['Vegetable', 'Vegetable', 'Fruit', 'Fruit']\n",
        "price_2 = [50, 70, 90, 120]\n",
        "\n",
        "df1 = pd.DataFrame(data = {'Name' : name_1, 'Type' : type_1, 'Price' : price_1})\n",
        "df2 = pd.DataFrame(data = {'Name' : name_2, 'Type' : type_2, 'Price' : price_2})"
      ]
    },
    {
      "cell_type": "code",
      "execution_count": null,
      "metadata": {
        "id": "GWULWXIwArBO",
        "outputId": "5da79240-6ee2-428a-de3c-e0b723935ae6"
      },
      "outputs": [
        {
          "data": {
            "text/html": [
              "<div>\n",
              "<style scoped>\n",
              "    .dataframe tbody tr th:only-of-type {\n",
              "        vertical-align: middle;\n",
              "    }\n",
              "\n",
              "    .dataframe tbody tr th {\n",
              "        vertical-align: top;\n",
              "    }\n",
              "\n",
              "    .dataframe thead th {\n",
              "        text-align: right;\n",
              "    }\n",
              "</style>\n",
              "<table border=\"1\" class=\"dataframe\">\n",
              "  <thead>\n",
              "    <tr style=\"text-align: right;\">\n",
              "      <th></th>\n",
              "      <th>Name</th>\n",
              "      <th>Type</th>\n",
              "      <th>Price</th>\n",
              "    </tr>\n",
              "  </thead>\n",
              "  <tbody>\n",
              "    <tr>\n",
              "      <th>0</th>\n",
              "      <td>cherry</td>\n",
              "      <td>Fruit</td>\n",
              "      <td>100</td>\n",
              "    </tr>\n",
              "    <tr>\n",
              "      <th>1</th>\n",
              "      <td>mango</td>\n",
              "      <td>Fruit</td>\n",
              "      <td>110</td>\n",
              "    </tr>\n",
              "    <tr>\n",
              "      <th>2</th>\n",
              "      <td>potato</td>\n",
              "      <td>Vegetable</td>\n",
              "      <td>60</td>\n",
              "    </tr>\n",
              "    <tr>\n",
              "      <th>3</th>\n",
              "      <td>onion</td>\n",
              "      <td>Vegetable</td>\n",
              "      <td>80</td>\n",
              "    </tr>\n",
              "    <tr>\n",
              "      <th>4</th>\n",
              "      <td>pepper</td>\n",
              "      <td>Vegetable</td>\n",
              "      <td>50</td>\n",
              "    </tr>\n",
              "    <tr>\n",
              "      <th>5</th>\n",
              "      <td>carrot</td>\n",
              "      <td>Vegetable</td>\n",
              "      <td>70</td>\n",
              "    </tr>\n",
              "    <tr>\n",
              "      <th>6</th>\n",
              "      <td>banana</td>\n",
              "      <td>Fruit</td>\n",
              "      <td>90</td>\n",
              "    </tr>\n",
              "    <tr>\n",
              "      <th>7</th>\n",
              "      <td>kiwi</td>\n",
              "      <td>Fruit</td>\n",
              "      <td>120</td>\n",
              "    </tr>\n",
              "  </tbody>\n",
              "</table>\n",
              "</div>"
            ],
            "text/plain": [
              "     Name       Type  Price\n",
              "0  cherry      Fruit    100\n",
              "1   mango      Fruit    110\n",
              "2  potato  Vegetable     60\n",
              "3   onion  Vegetable     80\n",
              "4  pepper  Vegetable     50\n",
              "5  carrot  Vegetable     70\n",
              "6  banana      Fruit     90\n",
              "7    kiwi      Fruit    120"
            ]
          },
          "execution_count": 94,
          "metadata": {},
          "output_type": "execute_result"
        }
      ],
      "source": [
        "df3 = pd.concat([df1, df2], ignore_index= True)\n",
        "df3"
      ]
    },
    {
      "cell_type": "code",
      "execution_count": null,
      "metadata": {
        "id": "i_TpaHnsArBO"
      },
      "outputs": [],
      "source": [
        "df_fruit = df3[df3['Type'] == 'Fruit'].sort_values(by = 'Price', ascending = False)\n",
        "df_veg = df3[df3['Type'] == 'Vegetable'].sort_values(by = 'Price', ascending = False)"
      ]
    },
    {
      "cell_type": "code",
      "execution_count": null,
      "metadata": {
        "id": "aWzmwRGnArBP",
        "outputId": "9ecf99a7-6251-4757-a993-d889db593895"
      },
      "outputs": [
        {
          "data": {
            "text/html": [
              "<div>\n",
              "<style scoped>\n",
              "    .dataframe tbody tr th:only-of-type {\n",
              "        vertical-align: middle;\n",
              "    }\n",
              "\n",
              "    .dataframe tbody tr th {\n",
              "        vertical-align: top;\n",
              "    }\n",
              "\n",
              "    .dataframe thead th {\n",
              "        text-align: right;\n",
              "    }\n",
              "</style>\n",
              "<table border=\"1\" class=\"dataframe\">\n",
              "  <thead>\n",
              "    <tr style=\"text-align: right;\">\n",
              "      <th></th>\n",
              "      <th>Name</th>\n",
              "      <th>Type</th>\n",
              "      <th>Price</th>\n",
              "    </tr>\n",
              "  </thead>\n",
              "  <tbody>\n",
              "    <tr>\n",
              "      <th>7</th>\n",
              "      <td>kiwi</td>\n",
              "      <td>Fruit</td>\n",
              "      <td>120</td>\n",
              "    </tr>\n",
              "    <tr>\n",
              "      <th>1</th>\n",
              "      <td>mango</td>\n",
              "      <td>Fruit</td>\n",
              "      <td>110</td>\n",
              "    </tr>\n",
              "    <tr>\n",
              "      <th>0</th>\n",
              "      <td>cherry</td>\n",
              "      <td>Fruit</td>\n",
              "      <td>100</td>\n",
              "    </tr>\n",
              "    <tr>\n",
              "      <th>6</th>\n",
              "      <td>banana</td>\n",
              "      <td>Fruit</td>\n",
              "      <td>90</td>\n",
              "    </tr>\n",
              "  </tbody>\n",
              "</table>\n",
              "</div>"
            ],
            "text/plain": [
              "     Name   Type  Price\n",
              "7    kiwi  Fruit    120\n",
              "1   mango  Fruit    110\n",
              "0  cherry  Fruit    100\n",
              "6  banana  Fruit     90"
            ]
          },
          "execution_count": 101,
          "metadata": {},
          "output_type": "execute_result"
        }
      ],
      "source": [
        "df_fruit"
      ]
    },
    {
      "cell_type": "code",
      "execution_count": null,
      "metadata": {
        "id": "VvEMd5TXArBP",
        "outputId": "0126dda7-0937-48c1-e6bc-f0285c65815d"
      },
      "outputs": [
        {
          "data": {
            "text/html": [
              "<div>\n",
              "<style scoped>\n",
              "    .dataframe tbody tr th:only-of-type {\n",
              "        vertical-align: middle;\n",
              "    }\n",
              "\n",
              "    .dataframe tbody tr th {\n",
              "        vertical-align: top;\n",
              "    }\n",
              "\n",
              "    .dataframe thead th {\n",
              "        text-align: right;\n",
              "    }\n",
              "</style>\n",
              "<table border=\"1\" class=\"dataframe\">\n",
              "  <thead>\n",
              "    <tr style=\"text-align: right;\">\n",
              "      <th></th>\n",
              "      <th>Name</th>\n",
              "      <th>Type</th>\n",
              "      <th>Price</th>\n",
              "    </tr>\n",
              "  </thead>\n",
              "  <tbody>\n",
              "    <tr>\n",
              "      <th>3</th>\n",
              "      <td>onion</td>\n",
              "      <td>Vegetable</td>\n",
              "      <td>80</td>\n",
              "    </tr>\n",
              "    <tr>\n",
              "      <th>5</th>\n",
              "      <td>carrot</td>\n",
              "      <td>Vegetable</td>\n",
              "      <td>70</td>\n",
              "    </tr>\n",
              "    <tr>\n",
              "      <th>2</th>\n",
              "      <td>potato</td>\n",
              "      <td>Vegetable</td>\n",
              "      <td>60</td>\n",
              "    </tr>\n",
              "    <tr>\n",
              "      <th>4</th>\n",
              "      <td>pepper</td>\n",
              "      <td>Vegetable</td>\n",
              "      <td>50</td>\n",
              "    </tr>\n",
              "  </tbody>\n",
              "</table>\n",
              "</div>"
            ],
            "text/plain": [
              "     Name       Type  Price\n",
              "3   onion  Vegetable     80\n",
              "5  carrot  Vegetable     70\n",
              "2  potato  Vegetable     60\n",
              "4  pepper  Vegetable     50"
            ]
          },
          "execution_count": 102,
          "metadata": {},
          "output_type": "execute_result"
        }
      ],
      "source": [
        "df_veg"
      ]
    },
    {
      "cell_type": "code",
      "execution_count": null,
      "metadata": {
        "id": "CI4Dg9-vArBP",
        "outputId": "44798507-f795-443d-807a-5d8e7506aa33"
      },
      "outputs": [
        {
          "name": "stdout",
          "output_type": "stream",
          "text": [
            "Sum of Top 2 Fruit Price: 230\n",
            "Sum of Top 2 Vegetable Price: 150\n"
          ]
        }
      ],
      "source": [
        "print(\"Sum of Top 2 Fruit Price:\", sum(df_fruit['Price'][:2]))\n",
        "print(\"Sum of Top 2 Vegetable Price:\", sum(df_veg['Price'][:2]))"
      ]
    },
    {
      "cell_type": "markdown",
      "metadata": {
        "id": "xEuEt6eEArBQ"
      },
      "source": [
        "### Q3"
      ]
    },
    {
      "cell_type": "code",
      "execution_count": null,
      "metadata": {
        "id": "lQ8G6gQzArBQ",
        "outputId": "390c9f49-cbca-4e8e-9301-087d39e0fc12"
      },
      "outputs": [
        {
          "data": {
            "text/html": [
              "<div>\n",
              "<style scoped>\n",
              "    .dataframe tbody tr th:only-of-type {\n",
              "        vertical-align: middle;\n",
              "    }\n",
              "\n",
              "    .dataframe tbody tr th {\n",
              "        vertical-align: top;\n",
              "    }\n",
              "\n",
              "    .dataframe thead th {\n",
              "        text-align: right;\n",
              "    }\n",
              "</style>\n",
              "<table border=\"1\" class=\"dataframe\">\n",
              "  <thead>\n",
              "    <tr style=\"text-align: right;\">\n",
              "      <th></th>\n",
              "      <th>round_1</th>\n",
              "      <th>round_2</th>\n",
              "      <th>round_3</th>\n",
              "      <th>round_4</th>\n",
              "      <th>round_5</th>\n",
              "    </tr>\n",
              "  </thead>\n",
              "  <tbody>\n",
              "    <tr>\n",
              "      <th>Sue</th>\n",
              "      <td>55</td>\n",
              "      <td>65</td>\n",
              "      <td>60</td>\n",
              "      <td>66</td>\n",
              "      <td>57</td>\n",
              "    </tr>\n",
              "    <tr>\n",
              "      <th>Ryan</th>\n",
              "      <td>64</td>\n",
              "      <td>77</td>\n",
              "      <td>71</td>\n",
              "      <td>79</td>\n",
              "      <td>67</td>\n",
              "    </tr>\n",
              "    <tr>\n",
              "      <th>Jay</th>\n",
              "      <td>88</td>\n",
              "      <td>81</td>\n",
              "      <td>79</td>\n",
              "      <td>89</td>\n",
              "      <td>77</td>\n",
              "    </tr>\n",
              "    <tr>\n",
              "      <th>Jane</th>\n",
              "      <td>45</td>\n",
              "      <td>35</td>\n",
              "      <td>30</td>\n",
              "      <td>46</td>\n",
              "      <td>47</td>\n",
              "    </tr>\n",
              "    <tr>\n",
              "      <th>Anna</th>\n",
              "      <td>91</td>\n",
              "      <td>96</td>\n",
              "      <td>90</td>\n",
              "      <td>97</td>\n",
              "      <td>99</td>\n",
              "    </tr>\n",
              "  </tbody>\n",
              "</table>\n",
              "</div>"
            ],
            "text/plain": [
              "      round_1  round_2  round_3  round_4  round_5\n",
              "Sue        55       65       60       66       57\n",
              "Ryan       64       77       71       79       67\n",
              "Jay        88       81       79       89       77\n",
              "Jane       45       35       30       46       47\n",
              "Anna       91       96       90       97       99"
            ]
          },
          "execution_count": 105,
          "metadata": {},
          "output_type": "execute_result"
        }
      ],
      "source": [
        "import pandas as pd\n",
        "\n",
        "idx = [\"Sue\", \"Ryan\", \"Jay\", \"Jane\", \"Anna\"]\n",
        "col = [\"round_1\", \"round_2\", \"round_3\", \"round_4\", \"round_5\"] \n",
        "data= [[55, 65, 60, 66, 57],\n",
        "            [64, 77, 71, 79, 67],\n",
        "            [88, 81, 79, 89, 77],\n",
        "            [45, 35, 30, 46, 47],\n",
        "            [91, 96, 90, 97, 99]]\n",
        "\n",
        "df = pd.DataFrame(index = idx, columns = col, data = data)\n",
        "df"
      ]
    },
    {
      "cell_type": "code",
      "execution_count": null,
      "metadata": {
        "id": "YRDOaVy5ArBQ",
        "outputId": "38129eea-de4c-464b-9b0e-c6748895f092"
      },
      "outputs": [
        {
          "data": {
            "text/html": [
              "<div>\n",
              "<style scoped>\n",
              "    .dataframe tbody tr th:only-of-type {\n",
              "        vertical-align: middle;\n",
              "    }\n",
              "\n",
              "    .dataframe tbody tr th {\n",
              "        vertical-align: top;\n",
              "    }\n",
              "\n",
              "    .dataframe thead th {\n",
              "        text-align: right;\n",
              "    }\n",
              "</style>\n",
              "<table border=\"1\" class=\"dataframe\">\n",
              "  <thead>\n",
              "    <tr style=\"text-align: right;\">\n",
              "      <th></th>\n",
              "      <th>round_1</th>\n",
              "      <th>round_2</th>\n",
              "      <th>round_3</th>\n",
              "      <th>round_4</th>\n",
              "      <th>round_5</th>\n",
              "      <th>round_6</th>\n",
              "    </tr>\n",
              "  </thead>\n",
              "  <tbody>\n",
              "    <tr>\n",
              "      <th>Sue</th>\n",
              "      <td>55</td>\n",
              "      <td>65</td>\n",
              "      <td>60</td>\n",
              "      <td>66</td>\n",
              "      <td>57</td>\n",
              "      <td>11</td>\n",
              "    </tr>\n",
              "    <tr>\n",
              "      <th>Ryan</th>\n",
              "      <td>64</td>\n",
              "      <td>77</td>\n",
              "      <td>71</td>\n",
              "      <td>79</td>\n",
              "      <td>67</td>\n",
              "      <td>15</td>\n",
              "    </tr>\n",
              "    <tr>\n",
              "      <th>Jay</th>\n",
              "      <td>88</td>\n",
              "      <td>81</td>\n",
              "      <td>79</td>\n",
              "      <td>89</td>\n",
              "      <td>77</td>\n",
              "      <td>13</td>\n",
              "    </tr>\n",
              "    <tr>\n",
              "      <th>Jane</th>\n",
              "      <td>45</td>\n",
              "      <td>35</td>\n",
              "      <td>30</td>\n",
              "      <td>46</td>\n",
              "      <td>47</td>\n",
              "      <td>17</td>\n",
              "    </tr>\n",
              "    <tr>\n",
              "      <th>Anna</th>\n",
              "      <td>91</td>\n",
              "      <td>96</td>\n",
              "      <td>90</td>\n",
              "      <td>97</td>\n",
              "      <td>99</td>\n",
              "      <td>19</td>\n",
              "    </tr>\n",
              "  </tbody>\n",
              "</table>\n",
              "</div>"
            ],
            "text/plain": [
              "      round_1  round_2  round_3  round_4  round_5  round_6\n",
              "Sue        55       65       60       66       57       11\n",
              "Ryan       64       77       71       79       67       15\n",
              "Jay        88       81       79       89       77       13\n",
              "Jane       45       35       30       46       47       17\n",
              "Anna       91       96       90       97       99       19"
            ]
          },
          "execution_count": 121,
          "metadata": {},
          "output_type": "execute_result"
        }
      ],
      "source": [
        "col_round6 = [11, 15, 13, 17, 19]\n",
        "df['round_6'] = col_round6\n",
        "df"
      ]
    },
    {
      "cell_type": "markdown",
      "metadata": {
        "id": "Sc4RYl8oArBR"
      },
      "source": [
        "### Q4"
      ]
    },
    {
      "cell_type": "code",
      "execution_count": null,
      "metadata": {
        "id": "ua5geM_4ArBR",
        "outputId": "9ba279ed-1947-43a2-da11-9ccbaa9113a4"
      },
      "outputs": [
        {
          "data": {
            "image/png": "[encoded data removed]",
            "text/plain": [
              "<Figure size 432x288 with 1 Axes>"
            ]
          },
          "metadata": {
            "needs_background": "light"
          },
          "output_type": "display_data"
        }
      ],
      "source": [
        "import numpy as np\n",
        "import matplotlib.pyplot as plt\n",
        "\n",
        "t = np.arange(0., 5., 0.2)\n",
        "\n",
        "# 사용 마커는 다음과 같습니다. red dashes, blue suares, green triangles\n",
        "plt.plot(t, 0.1 * t**2, 'r--') \n",
        "plt.plot(t, t**2, 'bs')\n",
        "plt.plot(t, 4 * t**2, 'g^')\n",
        "plt.show()"
      ]
    },
    {
      "cell_type": "markdown",
      "metadata": {
        "id": "aRxzEq9TArBR"
      },
      "source": [
        "### Q5"
      ]
    },
    {
      "cell_type": "code",
      "execution_count": null,
      "metadata": {
        "id": "H9GXR9C5ArBS",
        "outputId": "8e8ed1b3-a74b-416d-e16c-c822ea3623fb"
      },
      "outputs": [
        {
          "data": {
            "image/png": "[encoded data removed]",
            "text/plain": [
              "<Figure size 648x216 with 3 Axes>"
            ]
          },
          "metadata": {
            "needs_background": "light"
          },
          "output_type": "display_data"
        }
      ],
      "source": [
        "import matplotlib.pyplot as plt\n",
        "\n",
        "names = ['group_a', 'group_b', 'group_c'] \n",
        "values = [1, 10, 100]\n",
        "\n",
        "plt.figure(figsize=(9, 3))\n",
        "\n",
        "ax1 = plt.subplot(131)\n",
        "ax2 = plt.subplot(132)\n",
        "ax3 = plt.subplot(133)\n",
        "\n",
        "ax1.bar(names, values)\n",
        "ax2.plot(names, values, 'o')\n",
        "ax3.plot(names, values, '-')\n",
        "\n",
        "plt.show()"
      ]
    }
  ],
  "metadata": {
    "colab": {
      "provenance": []
    },
    "kernelspec": {
      "display_name": "base",
      "language": "python",
      "name": "python3"
    },
    "language_info": {
      "codemirror_mode": {
        "name": "ipython",
        "version": 3
      },
      "file_extension": ".py",
      "mimetype": "text/x-python",
      "name": "python",
      "nbconvert_exporter": "python",
      "pygments_lexer": "ipython3",
      "version": "3.9.7"
    },
    "orig_nbformat": 4,
    "vscode": {
      "interpreter": {
        "hash": "447b957bb7b3070888bb2dbbd39bb50ef915ebc35dc8a23e0b227d4113ef5ada"
      }
    }
  },
  "nbformat": 4,
  "nbformat_minor": 0
}
