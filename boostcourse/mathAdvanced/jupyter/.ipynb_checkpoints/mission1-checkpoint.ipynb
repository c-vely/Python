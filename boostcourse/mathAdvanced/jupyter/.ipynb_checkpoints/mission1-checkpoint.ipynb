{
 "cells": [
  {
   "cell_type": "markdown",
   "id": "4421205b-e2b9-4f76-bd8e-100dbf985bec",
   "metadata": {},
   "source": [
    "Q1.   \n",
    "\n",
    "'''  \n",
    "먼저 Pandas에서 지원하는 Series에 대해서 한번 다뤄보겠습니다.  \n",
    "아래와 같이 인덱스와 데이터가 주어져있을때 Pandas의 Series 형태로 만들어보세요.  \n",
    "\n",
    "  - 주어진 데이터에서 10이상 20이하의 데이터만 출력하는 Series를 재정의 해보세요.  \n",
    "\n",
    "'''  \n",
    "  \n",
    "import pandas as pd  \n",
    "\n",
    "idx = [\"HDD\", \"SSD\", \"USB\", \"CLOUD\"]  \n",
    "data [19, 11, 5, 97]  \n",
    "\n",
    "#위 데이터로 Series를 구현해보세요.  \n",
    "series = #  \n",
    "\n",
    "#10 이상 20 이하를 가지는 데이터만 이용해 다시 series를 정의하세요.  \n",
    "series = #  \n",
    "\n",
    "print(series)  \n",
    "\n",
    "\n",
    "[출력 예시]  \n",
    "HDD    19  \n",
    "SSD    11  \n",
    "dtype: int64  \n",
    "  "
   ]
  },
  {
   "cell_type": "code",
   "execution_count": 7,
   "id": "046ae1a3-bf86-4312-ba66-0bfbfcd338a3",
   "metadata": {},
   "outputs": [],
   "source": [
    "import pandas as pd  "
   ]
  },
  {
   "cell_type": "code",
   "execution_count": 8,
   "id": "ed134750-90fc-4ecb-ae66-0b15ba4efe10",
   "metadata": {},
   "outputs": [],
   "source": [
    "idx = [\"HDD\", \"SSD\", \"USB\", \"CLOUD\"]  \n",
    "data = [19, 11, 5, 97]  "
   ]
  },
  {
   "cell_type": "code",
   "execution_count": 20,
   "id": "b0c1f83d-3ec5-4f1a-b0dc-857627fc9715",
   "metadata": {},
   "outputs": [
    {
     "data": {
      "text/plain": [
       "HDD      19\n",
       "SSD      11\n",
       "USB       5\n",
       "CLOUD    97\n",
       "dtype: int64"
      ]
     },
     "execution_count": 20,
     "metadata": {},
     "output_type": "execute_result"
    }
   ],
   "source": [
    "#위 데이터로 Series를 구현해보세요.  \n",
    "series = pd.Series(index = idx, data = data)\n",
    "series"
   ]
  },
  {
   "cell_type": "code",
   "execution_count": 27,
   "id": "a6797a1c-b914-4d8d-b10d-852a0595c144",
   "metadata": {},
   "outputs": [],
   "source": [
    "# 10 이상 20 이하를 가지는 데이터만 이용해 다시 series를 정의하세요.  \n",
    "series = series[series >= 10][series <= 20]"
   ]
  },
  {
   "cell_type": "code",
   "execution_count": 28,
   "id": "6c74478e-9e2b-4909-acf5-2ac16790bc09",
   "metadata": {},
   "outputs": [
    {
     "name": "stdout",
     "output_type": "stream",
     "text": [
      "HDD    19\n",
      "SSD    11\n",
      "dtype: int64\n"
     ]
    }
   ],
   "source": [
    "print(series)"
   ]
  },
  {
   "cell_type": "code",
   "execution_count": null,
   "id": "bb63b3da-8b1f-43bd-9f11-409e0acde72e",
   "metadata": {},
   "outputs": [],
   "source": []
  }
 ],
 "metadata": {
  "kernelspec": {
   "display_name": "Python 3 (ipykernel)",
   "language": "python",
   "name": "python3"
  },
  "language_info": {
   "codemirror_mode": {
    "name": "ipython",
    "version": 3
   },
   "file_extension": ".py",
   "mimetype": "text/x-python",
   "name": "python",
   "nbconvert_exporter": "python",
   "pygments_lexer": "ipython3",
   "version": "3.9.7"
  }
 },
 "nbformat": 4,
 "nbformat_minor": 5
}
