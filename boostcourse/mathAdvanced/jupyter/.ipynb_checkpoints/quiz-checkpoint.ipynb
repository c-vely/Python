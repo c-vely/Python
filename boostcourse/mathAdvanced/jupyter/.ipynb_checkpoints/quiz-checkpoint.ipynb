{
 "cells": [
  {
   "cell_type": "markdown",
   "id": "6384d97c-8980-4f9d-b994-090f87f1951b",
   "metadata": {},
   "source": [
    "# Q1.  \n",
    "z 와  k 가 다음과 같이 주어질 때, ∂z/∂x 값으로 올바른 것을 고르시오.  \n",
    "\n",
    " z = (k + 3)^3  \n",
    " k = (x + y)^2  "
   ]
  },
  {
   "cell_type": "markdown",
   "id": "4d63546e-34cc-408d-bb2f-5d3bc9bd7b45",
   "metadata": {},
   "source": [
    "∂z / ∂x = (∂z / ∂k) * (∂k / ∂x) 이다.  \n",
    "(∂z / ∂k) = 3(k + 2)² = 3((x + y)² + 2)  \n",
    "(∂k / ∂x) = 2(x + y)  \n",
    "-> ∂z / ∂x = 6((x + y)² + 2)(x + y)  "
   ]
  },
  {
   "cell_type": "markdown",
   "id": "50e078a5-3bc8-4d61-aef0-630227546057",
   "metadata": {},
   "source": [
    "# Q2.  \n",
    "다음 보기 중 신경망에서 활성함수가 필요한 가장 적절한 이유를 고르시오.  \n",
    "\n",
    "-> 비선형 근사를 하기 위해서  "
   ]
  },
  {
   "cell_type": "markdown",
   "id": "0b79737e-2809-41c6-aa88-574d742a5bcf",
   "metadata": {},
   "source": [
    "# Q3.  \n",
    "다음 보기 중 역전파 (backpropagation) 알고리즘의 기반이 되는 것을 고르시오.  \n",
    "\n",
    "-> 연쇄 법칙 (chain rule)  "
   ]
  },
  {
   "cell_type": "markdown",
   "id": "39fbaf60-0a67-4462-8b66-7acac9299d9b",
   "metadata": {},
   "source": [
    "# Q4.  \n",
    "이산형 확률변수는 확률변수가 가질 수 있는 경우의 수를 모두 고려하여 확률을 더해서 모델링한다.  \n",
    "\n",
    "-> 예  "
   ]
  },
  {
   "cell_type": "markdown",
   "id": "2c713538-299a-45da-919a-038447b148c6",
   "metadata": {},
   "source": [
    "# Q5.  \n",
    "연속형 확률변수의 한 지점에서의 밀도 (density) 는 그 자체로 확률값을 가진다.  \n",
    "\n",
    "-> 아니오  "
   ]
  },
  {
   "cell_type": "markdown",
   "id": "edac778c-ded8-4f90-baf2-762559123ecc",
   "metadata": {},
   "source": [
    "# Q6.  \n",
    "각 면이 나올 확률이 균등하고 독립적인 정육면체 주사위를 던진다고 하자.   \n",
    "확률변수 X 는 주사위의 각 면의 숫자를 나타낸다고 할 때 (X∈{1,2,3,4,5,6}),   \n",
    "X 의 기대값을 구하시오 (소수점 첫째자리까지 입력)."
   ]
  },
  {
   "cell_type": "markdown",
   "id": "bab6568a-4e0c-4bf0-b8ec-6a381262b431",
   "metadata": {},
   "source": [
    "-> (1 + 2 + 3 + 4 + 5 + 6) * (1 / 6) = 21 / 6 = 3.5"
   ]
  },
  {
   "cell_type": "markdown",
   "id": "473748be-7ca2-4d86-beb0-31d492f14071",
   "metadata": {},
   "source": [
    "# Q7.  \n",
    "정답 레이블을 one-hot 벡터로 표현한다면 하나의 정답 레이블 벡터의 크기는 1이다.  \n",
    "\n",
    "-> 예  "
   ]
  },
  {
   "cell_type": "markdown",
   "id": "83037d7c-b111-4cf7-a31b-02c55e8d44c7",
   "metadata": {},
   "source": [
    "# Q8.  \n",
    "다음과 같은 표본 X가 있을 때, X의 평균을 구하시오 (정수값으로 입력).  \n",
    "X={1,2,3,4,5}   \n",
    "\n",
    "-> (1 + 2 + 3 + 4 + 5) / 5 = 15 / 5 = 3  "
   ]
  },
  {
   "cell_type": "code",
   "execution_count": null,
   "id": "69bbfb3d-5918-448c-ab43-977e2c99ed50",
   "metadata": {},
   "outputs": [],
   "source": []
  }
 ],
 "metadata": {
  "kernelspec": {
   "display_name": "Python 3 (ipykernel)",
   "language": "python",
   "name": "python3"
  },
  "language_info": {
   "codemirror_mode": {
    "name": "ipython",
    "version": 3
   },
   "file_extension": ".py",
   "mimetype": "text/x-python",
   "name": "python",
   "nbconvert_exporter": "python",
   "pygments_lexer": "ipython3",
   "version": "3.9.7"
  }
 },
 "nbformat": 4,
 "nbformat_minor": 5
}
