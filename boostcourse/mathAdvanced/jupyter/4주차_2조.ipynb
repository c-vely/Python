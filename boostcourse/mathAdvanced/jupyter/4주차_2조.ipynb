{
 "cells": [
  {
   "attachments": {},
   "cell_type": "markdown",
   "id": "fd0d1c7c",
   "metadata": {},
   "source": [
    "3번 문제 풀이 1"
   ]
  },
  {
   "cell_type": "code",
   "execution_count": 6,
   "id": "8be9fb40",
   "metadata": {},
   "outputs": [
    {
     "name": "stdout",
     "output_type": "stream",
     "text": [
      "      round_1  round_2  round_3  round_4  round_5  round_6\n",
      "Sue        55       65       60       66       57       11\n",
      "Ryan       64       77       71       79       67       15\n",
      "Jay        88       81       79       89       77       13\n",
      "Jane       45       35       30       46       47       17\n",
      "Anna       91       96       90       97       99       19\n",
      "      round_1  round_2  round_3  round_4  round_5  round_6\n",
      "mean     68.6     70.8     66.0     75.4     69.4     15.0\n",
      "max      91.0     96.0     90.0     97.0     99.0     19.0\n",
      "min      45.0     35.0     30.0     46.0     47.0     11.0\n"
     ]
    }
   ],
   "source": [
    "import pandas as pd\n",
    "idx = [\"Sue\", \"Ryan\", \"Jay\", \"Jane\", \"Anna\"]\n",
    "col = [\"round_1\", \"round_2\", \"round_3\", \"round_4\", \"round_5\"]\n",
    "data= [[55, 65, 60, 66, 57],\n",
    "            [64, 77, 71, 79, 67],\n",
    "            [88, 81, 79, 89, 77],\n",
    "            [45, 35, 30, 46, 47],\n",
    "            [91, 96, 90, 97, 99]]\n",
    "#위 데이터를 이용해 dataframe을 구성해보세요.\n",
    "df = pd.DataFrame(index=idx, columns=col, data=data)\n",
    "#df에 새로운 column인 round_6의 데이터 [11, 15, 13, 17, 19]를 추가해보세요.\n",
    "col_round6=[11, 15, 13, 17, 19]\n",
    "df[\"round_6\"] = col_round6\n",
    "#각 데이터의 mean, max, min 값을 구해 출력해보세요.\n",
    "print(df)\n",
    "print(df.describe().loc[[\"mean\", \"max\", \"min\"]])\n"
   ]
  },
  {
   "attachments": {},
   "cell_type": "markdown",
   "id": "ba1805fb",
   "metadata": {},
   "source": [
    "3번 문제 풀이 2"
   ]
  },
  {
   "cell_type": "code",
   "execution_count": 7,
   "id": "5897b644",
   "metadata": {},
   "outputs": [
    {
     "name": "stdout",
     "output_type": "stream",
     "text": [
      "round_1    68.6\n",
      "round_2    70.8\n",
      "round_3    66.0\n",
      "round_4    75.4\n",
      "round_5    69.4\n",
      "dtype: float64\n",
      "round_1    91\n",
      "round_2    96\n",
      "round_3    90\n",
      "round_4    97\n",
      "round_5    99\n",
      "dtype: int64\n",
      "round_1    45\n",
      "round_2    35\n",
      "round_3    30\n",
      "round_4    46\n",
      "round_5    47\n",
      "dtype: int64\n"
     ]
    }
   ],
   "source": [
    "import pandas as pd\n",
    "idx = [\"Sue\", \"Ryan\", \"Jay\", \"Jane\", \"Anna\"]\n",
    "col = [\"round_1\", \"round_2\", \"round_3\", \"round_4\", \"round_5\"]\n",
    "data= [[55, 65, 60, 66, 57],\n",
    "            [64, 77, 71, 79, 67],\n",
    "            [88, 81, 79, 89, 77],\n",
    "            [45, 35, 30, 46, 47],\n",
    "            [91, 96, 90, 97, 99]]\n",
    "#위 데이터를 이용해 dataframe을 구성해보세요.\n",
    "df = pd.DataFrame(index=idx, columns=col, data=data)\n",
    "#df에 새로운 column인 round_6의 데이터 [11, 15, 13, 17, 19]를 추가해보세요.\n",
    "col_round6=[11, 15, 13, 17, 19]\n",
    "#각 데이터의 mean, max, min 값을 구해 출력해보세요.\n",
    "print(df.mean())\n",
    "print(df.max())\n",
    "print(df.min())"
   ]
  }
 ],
 "metadata": {
  "kernelspec": {
   "display_name": "base",
   "language": "python",
   "name": "python3"
  },
  "language_info": {
   "codemirror_mode": {
    "name": "ipython",
    "version": 3
   },
   "file_extension": ".py",
   "mimetype": "text/x-python",
   "name": "python",
   "nbconvert_exporter": "python",
   "pygments_lexer": "ipython3",
   "version": "3.9.13"
  },
  "toc": {
   "base_numbering": 1,
   "nav_menu": {},
   "number_sections": true,
   "sideBar": true,
   "skip_h1_title": false,
   "title_cell": "Table of Contents",
   "title_sidebar": "Contents",
   "toc_cell": false,
   "toc_position": {},
   "toc_section_display": true,
   "toc_window_display": true
  },
  "vscode": {
   "interpreter": {
    "hash": "f08154012ddadd8e950e6e9e035c7a7b32c136e7647e9b7c77e02eb723a8bedb"
   }
  }
 },
 "nbformat": 4,
 "nbformat_minor": 5
}
