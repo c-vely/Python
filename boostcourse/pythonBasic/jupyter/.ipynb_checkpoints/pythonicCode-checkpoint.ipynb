{
 "cells": [
  {
   "cell_type": "markdown",
   "id": "173e7c9d-b514-41d8-a1f2-34aebcd2ee9e",
   "metadata": {},
   "source": [
    "# * split"
   ]
  },
  {
   "cell_type": "code",
   "execution_count": 1,
   "id": "5d30fb32-4ee3-4c5c-896d-ef94fc2f97a6",
   "metadata": {},
   "outputs": [
    {
     "data": {
      "text/plain": [
       "['zero', 'one', 'two', 'three']"
      ]
     },
     "execution_count": 1,
     "metadata": {},
     "output_type": "execute_result"
    }
   ],
   "source": [
    "items = \"zero one two three\"\n",
    "items.split(\" \")"
   ]
  },
  {
   "cell_type": "code",
   "execution_count": 2,
   "id": "50157972-ae4f-4502-a435-e17f271f6c61",
   "metadata": {},
   "outputs": [
    {
     "name": "stdout",
     "output_type": "stream",
     "text": [
      "python\n",
      "java\n",
      "javascript\n"
     ]
    }
   ],
   "source": [
    "example = \"python, java, javascript\"\n",
    "for content in example.split(\",\"):\n",
    "    print(content.strip())"
   ]
  },
  {
   "cell_type": "code",
   "execution_count": 3,
   "id": "30095de5-eebf-4512-8475-1e17a68e0c58",
   "metadata": {},
   "outputs": [],
   "source": [
    "example = \"teamlab.technology.io\"\n",
    "subdomain, domain, tld = example.split(\".\")"
   ]
  },
  {
   "cell_type": "code",
   "execution_count": 5,
   "id": "7d48f223-1ce3-4029-862c-b2e15c506d49",
   "metadata": {},
   "outputs": [
    {
     "data": {
      "text/plain": [
       "'technology'"
      ]
     },
     "execution_count": 5,
     "metadata": {},
     "output_type": "execute_result"
    }
   ],
   "source": [
    "domain"
   ]
  },
  {
   "cell_type": "markdown",
   "id": "33861c83-5872-4a6e-80ff-8a246f4a14c2",
   "metadata": {},
   "source": [
    "# * join"
   ]
  },
  {
   "cell_type": "code",
   "execution_count": 6,
   "id": "fef24008-70fa-49fa-8ac3-c60fafda07d0",
   "metadata": {},
   "outputs": [
    {
     "data": {
      "text/plain": [
       "'red-blue-green-yellow'"
      ]
     },
     "execution_count": 6,
     "metadata": {},
     "output_type": "execute_result"
    }
   ],
   "source": [
    "colors = [\"red\", \"blue\", \"green\", \"yellow\"]\n",
    "\"-\".join(colors)"
   ]
  },
  {
   "cell_type": "code",
   "execution_count": 7,
   "id": "8ba25b0d-0f49-4f7f-9417-69b6c78032c8",
   "metadata": {},
   "outputs": [
    {
     "data": {
      "text/plain": [
       "'red    blue    green    yellow'"
      ]
     },
     "execution_count": 7,
     "metadata": {},
     "output_type": "execute_result"
    }
   ],
   "source": [
    "\"    \".join(colors)"
   ]
  },
  {
   "cell_type": "markdown",
   "id": "449e9389-30e1-415b-8a06-74a921fdbece",
   "metadata": {},
   "source": [
    "# * List Comprehension"
   ]
  },
  {
   "cell_type": "code",
   "execution_count": 8,
   "id": "30d3f0cb-abd9-4271-bee0-e011d7def83b",
   "metadata": {},
   "outputs": [
    {
     "data": {
      "text/plain": [
       "[0, 1, 2, 3, 4, 5, 6, 7, 8, 9]"
      ]
     },
     "execution_count": 8,
     "metadata": {},
     "output_type": "execute_result"
    }
   ],
   "source": [
    "result = []\n",
    "for i in range(10):\n",
    "    result.append(i)\n",
    "result"
   ]
  },
  {
   "cell_type": "code",
   "execution_count": 9,
   "id": "7e6f2e9b-7012-4a05-93a0-e5b7ddd9120b",
   "metadata": {},
   "outputs": [
    {
     "data": {
      "text/plain": [
       "[0, 1, 2, 3, 4, 5, 6, 7, 8, 9]"
      ]
     },
     "execution_count": 9,
     "metadata": {},
     "output_type": "execute_result"
    }
   ],
   "source": [
    "result = [i for i in range(10)]\n",
    "result"
   ]
  },
  {
   "cell_type": "markdown",
   "id": "225c2e74-4a1b-4880-bac9-4e69757b1af1",
   "metadata": {},
   "source": [
    "- Nested Loop"
   ]
  },
  {
   "cell_type": "code",
   "execution_count": 11,
   "id": "83d2b749-fe7b-47a5-8eef-24f88755f23f",
   "metadata": {},
   "outputs": [],
   "source": [
    "import pprint  # 아래로 출력됨"
   ]
  },
  {
   "cell_type": "code",
   "execution_count": 12,
   "id": "bac2dd32-13d4-4e92-8c61-254b71c73c37",
   "metadata": {},
   "outputs": [
    {
     "name": "stdout",
     "output_type": "stream",
     "text": [
      "['HW',\n",
      " 'Ho',\n",
      " 'Hr',\n",
      " 'Hl',\n",
      " 'Hd',\n",
      " 'eW',\n",
      " 'eo',\n",
      " 'er',\n",
      " 'el',\n",
      " 'ed',\n",
      " 'lW',\n",
      " 'lo',\n",
      " 'lr',\n",
      " 'll',\n",
      " 'ld',\n",
      " 'lW',\n",
      " 'lo',\n",
      " 'lr',\n",
      " 'll',\n",
      " 'ld',\n",
      " 'oW',\n",
      " 'oo',\n",
      " 'or',\n",
      " 'ol',\n",
      " 'od']\n"
     ]
    }
   ],
   "source": [
    "word_1 = \"Hello\"\n",
    "word_2 = \"World\"\n",
    "\n",
    "pprint.pprint([i + j for i in word_1 for j in word_2])"
   ]
  },
  {
   "cell_type": "markdown",
   "id": "8a167b51-becc-4364-967a-91f4cf39fb10",
   "metadata": {},
   "source": [
    "- Filter"
   ]
  },
  {
   "cell_type": "code",
   "execution_count": 13,
   "id": "f2574026-d5d2-4a41-881c-51cc550868ec",
   "metadata": {},
   "outputs": [
    {
     "data": {
      "text/plain": [
       "['AD', 'AE', 'AA', 'BD', 'BE', 'BA', 'CD', 'CE', 'CA']"
      ]
     },
     "execution_count": 13,
     "metadata": {},
     "output_type": "execute_result"
    }
   ],
   "source": [
    "case_1 = [\"A\", \"B\", \"C\"]\n",
    "case_2 = [\"D\", \"E\", \"A\"]\n",
    "\n",
    "result = [i+j for i in case_1 for j in case_2]\n",
    "result"
   ]
  },
  {
   "cell_type": "code",
   "execution_count": 15,
   "id": "caa3c98b-3cab-40bb-888a-a3a638cc44f6",
   "metadata": {},
   "outputs": [
    {
     "name": "stdout",
     "output_type": "stream",
     "text": [
      "['AD', 'AE', 'BD', 'BE', 'BA', 'CD', 'CE', 'CA']\n"
     ]
    }
   ],
   "source": [
    "pprint.pprint([i+j for i in case_1 for j in case_2 if not(i==j)])"
   ]
  },
  {
   "cell_type": "code",
   "execution_count": 16,
   "id": "9baf1d2b-665f-4f7d-ae25-201b00351eb3",
   "metadata": {},
   "outputs": [
    {
     "data": {
      "text/plain": [
       "['AD', 'AE', 'BEE', 'BD', 'BE', 'BA', 'CD', 'CE', 'CA']"
      ]
     },
     "execution_count": 16,
     "metadata": {},
     "output_type": "execute_result"
    }
   ],
   "source": [
    "[i+j if not(i==j) else \"BEE\" for i in case_1 for j in case_2]"
   ]
  },
  {
   "cell_type": "markdown",
   "id": "96875f2e-ad6a-4f9f-8fb8-c43f1b306f82",
   "metadata": {},
   "source": [
    "- Two dimentional list"
   ]
  },
  {
   "cell_type": "code",
   "execution_count": 17,
   "id": "9de7921a-7699-425c-a380-878610082b0d",
   "metadata": {},
   "outputs": [
    {
     "data": {
      "text/plain": [
       "['The', 'quick', 'brown', 'fox', 'jumps', 'over', 'the', 'lazy', 'dog']"
      ]
     },
     "execution_count": 17,
     "metadata": {},
     "output_type": "execute_result"
    }
   ],
   "source": [
    "words = \"The quick brown fox jumps over the lazy dog\".split()\n",
    "words"
   ]
  },
  {
   "cell_type": "code",
   "execution_count": 18,
   "id": "d3591c37-9e46-4d77-b843-8aa6324fbac8",
   "metadata": {},
   "outputs": [
    {
     "name": "stdout",
     "output_type": "stream",
     "text": [
      "[['THE', 'the', 3],\n",
      " ['QUICK', 'quick', 5],\n",
      " ['BROWN', 'brown', 5],\n",
      " ['FOX', 'fox', 3],\n",
      " ['JUMPS', 'jumps', 5],\n",
      " ['OVER', 'over', 4],\n",
      " ['THE', 'the', 3],\n",
      " ['LAZY', 'lazy', 4],\n",
      " ['DOG', 'dog', 3]]\n"
     ]
    }
   ],
   "source": [
    "pprint.pprint([[w.upper(), w.lower(), len(w)] for w in words])"
   ]
  },
  {
   "cell_type": "markdown",
   "id": "a9d2f584-9a24-49c8-979e-de3644c11527",
   "metadata": {},
   "source": [
    "- Two dimensional vs One dimensional"
   ]
  },
  {
   "cell_type": "code",
   "execution_count": 19,
   "id": "5cdb4175-643b-47b6-9c36-f5f6fe55097a",
   "metadata": {},
   "outputs": [],
   "source": [
    "case_3 = [\"A\", \"B\", \"C\"]\n",
    "case_4 = [\"C\", \"E\", \"A\"]"
   ]
  },
  {
   "cell_type": "code",
   "execution_count": 20,
   "id": "6f7fe1b7-cb2c-4c1c-af80-1ba8ce13da7b",
   "metadata": {},
   "outputs": [
    {
     "data": {
      "text/plain": [
       "['AC', 'AE', 'AA', 'BC', 'BE', 'BA', 'CC', 'CE', 'CA']"
      ]
     },
     "execution_count": 20,
     "metadata": {},
     "output_type": "execute_result"
    }
   ],
   "source": [
    "# one dimensional\n",
    "[i+j for i in case_3 for j in case_4]"
   ]
  },
  {
   "cell_type": "code",
   "execution_count": 21,
   "id": "2a2c04a7-d5fe-41f2-967b-1de016d228ae",
   "metadata": {},
   "outputs": [
    {
     "data": {
      "text/plain": [
       "[['AC', 'BC', 'CC'], ['AE', 'BE', 'CE'], ['AA', 'BA', 'CA']]"
      ]
     },
     "execution_count": 21,
     "metadata": {},
     "output_type": "execute_result"
    }
   ],
   "source": [
    "# two dimensional\n",
    "[[i+j for i in case_3] for j in case_4]"
   ]
  },
  {
   "cell_type": "code",
   "execution_count": 22,
   "id": "a029ac94-5923-4c29-8c9d-949ac8f126ac",
   "metadata": {},
   "outputs": [
    {
     "data": {
      "text/plain": [
       "[['CA', 'CB', 'CC'], ['EA', 'EB', 'EC'], ['AA', 'AB', 'AC']]"
      ]
     },
     "execution_count": 22,
     "metadata": {},
     "output_type": "execute_result"
    }
   ],
   "source": [
    "[[j+i for i in case_3] for j in case_4]"
   ]
  },
  {
   "cell_type": "code",
   "execution_count": 24,
   "id": "9eba03aa-b399-44d5-9e54-eda9cdb7d83c",
   "metadata": {},
   "outputs": [
    {
     "data": {
      "text/plain": [
       "[['CA', 'CB'], ['EA', 'EB'], ['AA', 'AB']]"
      ]
     },
     "execution_count": 24,
     "metadata": {},
     "output_type": "execute_result"
    }
   ],
   "source": [
    "[[j+i for i in case_3 if i != \"C\"] for j in case_4]"
   ]
  },
  {
   "cell_type": "markdown",
   "id": "30719888-042b-48eb-af0b-308cb413e37b",
   "metadata": {},
   "source": [
    "# * enumerate"
   ]
  },
  {
   "cell_type": "code",
   "execution_count": 25,
   "id": "a7b5047a-f645-4140-a48a-23cec6006aa2",
   "metadata": {},
   "outputs": [
    {
     "name": "stdout",
     "output_type": "stream",
     "text": [
      "0 \t A\n",
      "1 \t B\n",
      "2 \t C\n"
     ]
    }
   ],
   "source": [
    "for i, v in enumerate(\"ABC\"):\n",
    "    print(\"{0} \\t {1}\". format(i, v))"
   ]
  },
  {
   "cell_type": "code",
   "execution_count": 27,
   "id": "a89990d0-4216-44f1-8121-39147bde2391",
   "metadata": {},
   "outputs": [
    {
     "data": {
      "text/plain": [
       "{'A': 0, 'B': 1, 'C': 2, 'D': 3}"
      ]
     },
     "execution_count": 27,
     "metadata": {},
     "output_type": "execute_result"
    }
   ],
   "source": [
    "my_str = \"ABCD\"\n",
    "{v : i for i, v in enumerate(my_str)}"
   ]
  },
  {
   "cell_type": "code",
   "execution_count": 29,
   "id": "3e353fd6-1177-4ca3-9bb5-15ceb2ac383e",
   "metadata": {},
   "outputs": [],
   "source": [
    "text = \"Samsung Group is a South Korean multinational conglomerate headquartered in Samsung Town Seoul.\""
   ]
  },
  {
   "cell_type": "code",
   "execution_count": 30,
   "id": "12f83047-c985-4a1a-aefd-b577f38df11b",
   "metadata": {},
   "outputs": [
    {
     "data": {
      "text/plain": [
       "['Samsung',\n",
       " 'Group',\n",
       " 'is',\n",
       " 'a',\n",
       " 'South',\n",
       " 'Korean',\n",
       " 'multinational',\n",
       " 'conglomerate',\n",
       " 'headquartered',\n",
       " 'in',\n",
       " 'Samsung',\n",
       " 'Town',\n",
       " 'Seoul.']"
      ]
     },
     "execution_count": 30,
     "metadata": {},
     "output_type": "execute_result"
    }
   ],
   "source": [
    "text.split()"
   ]
  },
  {
   "cell_type": "code",
   "execution_count": 31,
   "id": "199dfed6-9520-4b33-bc75-03a5f4d4f3b4",
   "metadata": {},
   "outputs": [
    {
     "data": {
      "text/plain": [
       "{'Group',\n",
       " 'Korean',\n",
       " 'Samsung',\n",
       " 'Seoul.',\n",
       " 'South',\n",
       " 'Town',\n",
       " 'a',\n",
       " 'conglomerate',\n",
       " 'headquartered',\n",
       " 'in',\n",
       " 'is',\n",
       " 'multinational'}"
      ]
     },
     "execution_count": 31,
     "metadata": {},
     "output_type": "execute_result"
    }
   ],
   "source": [
    "set(text.split())  # 중복 없애고 싶으면"
   ]
  },
  {
   "cell_type": "code",
   "execution_count": 32,
   "id": "8d02e3d6-55e7-47c9-a90a-a49ca5ac1cc6",
   "metadata": {},
   "outputs": [
    {
     "data": {
      "text/plain": [
       "['in',\n",
       " 'is',\n",
       " 'Korean',\n",
       " 'Group',\n",
       " 'Seoul.',\n",
       " 'Samsung',\n",
       " 'conglomerate',\n",
       " 'South',\n",
       " 'a',\n",
       " 'headquartered',\n",
       " 'multinational',\n",
       " 'Town']"
      ]
     },
     "execution_count": 32,
     "metadata": {},
     "output_type": "execute_result"
    }
   ],
   "source": [
    "list(set(text.split()))  # 리스트로 형변환 가능"
   ]
  },
  {
   "cell_type": "code",
   "execution_count": 34,
   "id": "f25a72ed-b474-4564-8fa2-63ec9c36255f",
   "metadata": {},
   "outputs": [],
   "source": [
    "set_text = list(set(text.split()))"
   ]
  },
  {
   "cell_type": "code",
   "execution_count": 36,
   "id": "a973f19b-51d0-49e3-bc6e-e0234d43dad8",
   "metadata": {},
   "outputs": [
    {
     "data": {
      "text/plain": [
       "{0: 'in',\n",
       " 1: 'is',\n",
       " 2: 'korean',\n",
       " 3: 'group',\n",
       " 4: 'seoul.',\n",
       " 5: 'samsung',\n",
       " 6: 'conglomerate',\n",
       " 7: 'south',\n",
       " 8: 'a',\n",
       " 9: 'headquartered',\n",
       " 10: 'multinational',\n",
       " 11: 'town'}"
      ]
     },
     "execution_count": 36,
     "metadata": {},
     "output_type": "execute_result"
    }
   ],
   "source": [
    "{i : v.lower() for i, v in enumerate(set_text)}"
   ]
  },
  {
   "cell_type": "code",
   "execution_count": 37,
   "id": "d72c0aba-7963-42a9-9f69-78d6ab6cf3ae",
   "metadata": {},
   "outputs": [
    {
     "data": {
      "text/plain": [
       "{'in': 0,\n",
       " 'is': 1,\n",
       " 'korean': 2,\n",
       " 'group': 3,\n",
       " 'seoul.': 4,\n",
       " 'samsung': 5,\n",
       " 'conglomerate': 6,\n",
       " 'south': 7,\n",
       " 'a': 8,\n",
       " 'headquartered': 9,\n",
       " 'multinational': 10,\n",
       " 'town': 11}"
      ]
     },
     "execution_count": 37,
     "metadata": {},
     "output_type": "execute_result"
    }
   ],
   "source": [
    "{v.lower() : i  for i, v in enumerate(set_text)}"
   ]
  },
  {
   "cell_type": "markdown",
   "id": "64f4b9ba-4d10-4df8-b022-0018a7ec25eb",
   "metadata": {},
   "source": [
    "# * Zip"
   ]
  },
  {
   "cell_type": "code",
   "execution_count": 43,
   "id": "56598437-98c3-4931-8004-f5e6377e4951",
   "metadata": {},
   "outputs": [
    {
     "data": {
      "text/plain": [
       "[['a1', 'b1'], ['a2', 'b2'], ['a3', 'b3']]"
      ]
     },
     "execution_count": 43,
     "metadata": {},
     "output_type": "execute_result"
    }
   ],
   "source": [
    "alist = [\"a1\", \"a2\", \"a3\"]\n",
    "blist = [\"b1\", \"b2\", \"b3\"]\n",
    "\n",
    "[ [a, b] for a, b in zip(alist, blist)]"
   ]
  },
  {
   "cell_type": "code",
   "execution_count": 44,
   "id": "6023eb7a-dfe0-4cb5-a31e-deaa8eff40ae",
   "metadata": {},
   "outputs": [
    {
     "data": {
      "text/plain": [
       "[('a1', 'b1'), ('a2', 'b2'), ('a3', 'b3')]"
      ]
     },
     "execution_count": 44,
     "metadata": {},
     "output_type": "execute_result"
    }
   ],
   "source": [
    "[ c for c in zip(alist, blist)]"
   ]
  },
  {
   "cell_type": "code",
   "execution_count": 45,
   "id": "87bb09bb-c843-4c82-b4ea-cfbc3194975a",
   "metadata": {},
   "outputs": [
    {
     "data": {
      "text/plain": [
       "[93.33333333333333, 86.66666666666667, 73.33333333333333]"
      ]
     },
     "execution_count": 45,
     "metadata": {},
     "output_type": "execute_result"
    }
   ],
   "source": [
    "math = (100, 90, 80)\n",
    "kor = (90, 90, 70)\n",
    "eng = (90, 80, 70)\n",
    "\n",
    "[sum(value) / 3 for value in zip(math, kor, eng)]"
   ]
  },
  {
   "cell_type": "markdown",
   "id": "83b835c9-e41c-45b8-97c6-d7830e372d2e",
   "metadata": {},
   "source": [
    "- enumerate & zip"
   ]
  },
  {
   "cell_type": "code",
   "execution_count": 46,
   "id": "12d75864-abf0-43ce-9f59-5649076fe42e",
   "metadata": {},
   "outputs": [
    {
     "name": "stdout",
     "output_type": "stream",
     "text": [
      "0 ('a1', 'b1')\n",
      "1 ('a2', 'b2')\n",
      "2 ('a3', 'b3')\n"
     ]
    }
   ],
   "source": [
    "for i, values in enumerate(zip(alist, blist)):\n",
    "    print(i, values)"
   ]
  },
  {
   "cell_type": "code",
   "execution_count": 47,
   "id": "2a9142fe-3b5a-4c3b-bb9b-fe863d59f378",
   "metadata": {},
   "outputs": [
    {
     "data": {
      "text/plain": [
       "<zip at 0x22999dba5c0>"
      ]
     },
     "execution_count": 47,
     "metadata": {},
     "output_type": "execute_result"
    }
   ],
   "source": [
    "zip(alist, blist)"
   ]
  },
  {
   "cell_type": "code",
   "execution_count": 48,
   "id": "c48fc3ff-96c8-42b6-a218-3646b48ac979",
   "metadata": {},
   "outputs": [
    {
     "data": {
      "text/plain": [
       "[('a1', 'b1'), ('a2', 'b2'), ('a3', 'b3')]"
      ]
     },
     "execution_count": 48,
     "metadata": {},
     "output_type": "execute_result"
    }
   ],
   "source": [
    "list(zip(alist, blist))"
   ]
  },
  {
   "cell_type": "code",
   "execution_count": 49,
   "id": "94a94cdd-3c91-413a-91fa-eb757e417f65",
   "metadata": {},
   "outputs": [
    {
     "data": {
      "text/plain": [
       "<enumerate at 0x2299a3cde00>"
      ]
     },
     "execution_count": 49,
     "metadata": {},
     "output_type": "execute_result"
    }
   ],
   "source": [
    "enumerate(zip(alist, blist))"
   ]
  },
  {
   "cell_type": "code",
   "execution_count": 50,
   "id": "c9bdf39c-c1cb-49f3-917b-1f78ad6f15bf",
   "metadata": {},
   "outputs": [
    {
     "data": {
      "text/plain": [
       "[(0, ('a1', 'b1')), (1, ('a2', 'b2')), (2, ('a3', 'b3'))]"
      ]
     },
     "execution_count": 50,
     "metadata": {},
     "output_type": "execute_result"
    }
   ],
   "source": [
    "list(enumerate(zip(alist, blist)))"
   ]
  },
  {
   "cell_type": "markdown",
   "id": "e31d1296-0173-423a-a0fe-166203023b52",
   "metadata": {},
   "source": [
    "# * Lamda"
   ]
  },
  {
   "cell_type": "code",
   "execution_count": 51,
   "id": "57ec1ae6-8695-47be-8b47-ae1cd77aa4c0",
   "metadata": {},
   "outputs": [
    {
     "data": {
      "text/plain": [
       "5"
      ]
     },
     "execution_count": 51,
     "metadata": {},
     "output_type": "execute_result"
    }
   ],
   "source": [
    "def f(x, y):\n",
    "    return x + y\n",
    "\n",
    "f(1, 4)"
   ]
  },
  {
   "cell_type": "code",
   "execution_count": 52,
   "id": "2baf973f-087e-4093-adcf-ef130a74e167",
   "metadata": {},
   "outputs": [
    {
     "data": {
      "text/plain": [
       "60"
      ]
     },
     "execution_count": 52,
     "metadata": {},
     "output_type": "execute_result"
    }
   ],
   "source": [
    "# 1)\n",
    "(lambda x, y : x + y) (10, 50)"
   ]
  },
  {
   "cell_type": "code",
   "execution_count": 54,
   "id": "436cd573-cbc8-426e-a375-f308267ffc6b",
   "metadata": {},
   "outputs": [
    {
     "data": {
      "text/plain": [
       "60"
      ]
     },
     "execution_count": 54,
     "metadata": {},
     "output_type": "execute_result"
    }
   ],
   "source": [
    "# 2)\n",
    "f = (lambda x, y : x + y) \n",
    "f(10, 50)"
   ]
  },
  {
   "cell_type": "code",
   "execution_count": 60,
   "id": "c3148fae-8c72-4676-91bd-7f1448572218",
   "metadata": {},
   "outputs": [
    {
     "data": {
      "text/plain": [
       "'MY HAPPYmy happy'"
      ]
     },
     "execution_count": 60,
     "metadata": {},
     "output_type": "execute_result"
    }
   ],
   "source": [
    "up_low = lambda x : x.upper() + x.lower()\n",
    "\n",
    "up_low(\"My Happy\")"
   ]
  },
  {
   "cell_type": "code",
   "execution_count": 61,
   "id": "951587e6-14f7-4aae-ae63-89418c7d0b3b",
   "metadata": {},
   "outputs": [
    {
     "data": {
      "text/plain": [
       "'My-Happy'"
      ]
     },
     "execution_count": 61,
     "metadata": {},
     "output_type": "execute_result"
    }
   ],
   "source": [
    "up_join = lambda x : \"-\".join(x.split())\n",
    "\n",
    "up_join(\"My Happy\")"
   ]
  },
  {
   "cell_type": "markdown",
   "id": "eefa799b-0d3c-4ab7-8d12-51922f0e473f",
   "metadata": {},
   "source": [
    "# * Map"
   ]
  },
  {
   "cell_type": "code",
   "execution_count": 66,
   "id": "8fbbd036-2683-4a2f-b7a8-e2ad89bf98a0",
   "metadata": {},
   "outputs": [
    {
     "data": {
      "text/plain": [
       "[6, 7, 8, 9, 10]"
      ]
     },
     "execution_count": 66,
     "metadata": {},
     "output_type": "execute_result"
    }
   ],
   "source": [
    "def f(x):\n",
    "    return x + 5\n",
    "ex = [1, 2, 3, 4, 5]\n",
    "list(map(f, ex))"
   ]
  },
  {
   "cell_type": "code",
   "execution_count": 64,
   "id": "f6e2fd1f-7572-4d43-aa39-6fa881c2e12b",
   "metadata": {},
   "outputs": [
    {
     "data": {
      "text/plain": [
       "[1, 4, 9, 16, 25]"
      ]
     },
     "execution_count": 64,
     "metadata": {},
     "output_type": "execute_result"
    }
   ],
   "source": [
    "ex = [1, 2, 3, 4, 5]\n",
    "f = lambda x: x ** 2\n",
    "\n",
    "list(map(f, ex))"
   ]
  },
  {
   "cell_type": "code",
   "execution_count": 67,
   "id": "695cb5a4-880a-4caf-aba0-35dba138b212",
   "metadata": {},
   "outputs": [
    {
     "data": {
      "text/plain": [
       "[2, 4, 6, 8, 10]"
      ]
     },
     "execution_count": 67,
     "metadata": {},
     "output_type": "execute_result"
    }
   ],
   "source": [
    "f = lambda x, y : x + y\n",
    "list(map(f, ex, ex))"
   ]
  },
  {
   "cell_type": "code",
   "execution_count": 71,
   "id": "a422b5d4-1120-42d5-8d20-a57d17b3f347",
   "metadata": {},
   "outputs": [
    {
     "data": {
      "text/plain": [
       "[1, 4, 9, 16, 25]"
      ]
     },
     "execution_count": 71,
     "metadata": {},
     "output_type": "execute_result"
    }
   ],
   "source": [
    "ex = [1, 2, 3, 4, 5]\n",
    "f = lambda x: x ** 2\n",
    "\n",
    "result = map(f, ex)\n",
    "list(result)"
   ]
  },
  {
   "cell_type": "code",
   "execution_count": 70,
   "id": "be604c72-23ec-4b80-b1dc-800fe8ee6f4f",
   "metadata": {},
   "outputs": [
    {
     "data": {
      "text/plain": [
       "[6, 7, 8, 9, 10]"
      ]
     },
     "execution_count": 70,
     "metadata": {},
     "output_type": "execute_result"
    }
   ],
   "source": [
    "# map 권장 x, 아래처럼 작성하는 것이 좋음\n",
    "def f(x):\n",
    "    return x + 5\n",
    "ex = [1, 2, 3, 4, 5]\n",
    "\n",
    "[f(value) for value in ex]"
   ]
  },
  {
   "cell_type": "code",
   "execution_count": 72,
   "id": "be8656e3-93b4-4be7-9615-edb7b9314349",
   "metadata": {},
   "outputs": [
    {
     "data": {
      "text/plain": [
       "[1, 4, 3, 16, 5]"
      ]
     },
     "execution_count": 72,
     "metadata": {},
     "output_type": "execute_result"
    }
   ],
   "source": [
    "# filter 기능\n",
    "# 권장 x\n",
    "list(map(lambda x : x ** 2 if x % 2 == 0 else x, ex))"
   ]
  },
  {
   "cell_type": "code",
   "execution_count": 75,
   "id": "724f124f-8420-4b74-ab41-3b4e702ec83e",
   "metadata": {},
   "outputs": [
    {
     "data": {
      "text/plain": [
       "[1, 4, 3, 16, 5]"
      ]
     },
     "execution_count": 75,
     "metadata": {},
     "output_type": "execute_result"
    }
   ],
   "source": [
    "# 권장 o\n",
    "[value**2 if value % 2 == 0 else value for value in ex]"
   ]
  },
  {
   "cell_type": "markdown",
   "id": "6c5d8c52-c6f0-4213-9481-831ba6fcbed8",
   "metadata": {},
   "source": [
    "# * Reduce"
   ]
  },
  {
   "cell_type": "code",
   "execution_count": 76,
   "id": "0c6fde93-bd69-427c-afff-62890d27a3d8",
   "metadata": {},
   "outputs": [
    {
     "data": {
      "text/plain": [
       "15"
      ]
     },
     "execution_count": 76,
     "metadata": {},
     "output_type": "execute_result"
    }
   ],
   "source": [
    "from functools import reduce\n",
    "reduce(lambda x, y : x + y, [1, 2, 3, 4, 5])"
   ]
  },
  {
   "cell_type": "code",
   "execution_count": null,
   "id": "ca42fbef-7374-412e-90cc-1d3259796ed9",
   "metadata": {},
   "outputs": [],
   "source": []
  }
 ],
 "metadata": {
  "kernelspec": {
   "display_name": "Python 3 (ipykernel)",
   "language": "python",
   "name": "python3"
  },
  "language_info": {
   "codemirror_mode": {
    "name": "ipython",
    "version": 3
   },
   "file_extension": ".py",
   "mimetype": "text/x-python",
   "name": "python",
   "nbconvert_exporter": "python",
   "pygments_lexer": "ipython3",
   "version": "3.9.7"
  }
 },
 "nbformat": 4,
 "nbformat_minor": 5
}
