{
 "cells": [
  {
   "cell_type": "markdown",
   "id": "03fc0f0d-a0fc-4448-9be8-228d4f6289fd",
   "metadata": {
    "jp-MarkdownHeadingCollapsed": true,
    "tags": []
   },
   "source": [
    "# * deque"
   ]
  },
  {
   "cell_type": "code",
   "execution_count": 1,
   "id": "276e27c7-ddda-4cf4-9736-12d832fbf42e",
   "metadata": {},
   "outputs": [],
   "source": [
    "from collections import deque"
   ]
  },
  {
   "cell_type": "code",
   "execution_count": 2,
   "id": "57ff9825-f79b-4163-a5ae-f49d59b74d0d",
   "metadata": {},
   "outputs": [
    {
     "data": {
      "text/plain": [
       "deque([10, 0, 1, 2, 3, 4])"
      ]
     },
     "execution_count": 2,
     "metadata": {},
     "output_type": "execute_result"
    }
   ],
   "source": [
    "deque_list = deque()\n",
    "for i in range(5):\n",
    "    deque_list.append(i)\n",
    "deque_list.appendleft(10)\n",
    "deque_list"
   ]
  },
  {
   "cell_type": "code",
   "execution_count": 4,
   "id": "a237e5a8-65d6-48ad-a35f-6228a3fdc41d",
   "metadata": {},
   "outputs": [
    {
     "data": {
      "text/plain": [
       "deque([4, 10, 0, 1, 2, 3, 200])"
      ]
     },
     "execution_count": 4,
     "metadata": {},
     "output_type": "execute_result"
    }
   ],
   "source": [
    "deque_list.append(200)\n",
    "deque_list"
   ]
  },
  {
   "cell_type": "code",
   "execution_count": 6,
   "id": "f887c7ff-e9c8-4adc-be6d-a29403968cc9",
   "metadata": {},
   "outputs": [
    {
     "data": {
      "text/plain": [
       "deque([2, 3, 200, 4, 10, 0, 1])"
      ]
     },
     "execution_count": 6,
     "metadata": {},
     "output_type": "execute_result"
    }
   ],
   "source": [
    "deque_list.rotate(1)\n",
    "deque_list"
   ]
  },
  {
   "cell_type": "code",
   "execution_count": 7,
   "id": "2ff3b660-e672-40da-832b-7ba1214d2196",
   "metadata": {},
   "outputs": [
    {
     "data": {
      "text/plain": [
       "deque([2, 3, 200, 4, 10, 0, 1, 5, 6, 7])"
      ]
     },
     "execution_count": 7,
     "metadata": {},
     "output_type": "execute_result"
    }
   ],
   "source": [
    "deque_list.extend([5, 6, 7])\n",
    "deque_list"
   ]
  },
  {
   "cell_type": "code",
   "execution_count": 8,
   "id": "0082e64e-cead-4df8-b98c-13e5122ed930",
   "metadata": {},
   "outputs": [
    {
     "data": {
      "text/plain": [
       "deque([[5, 6, 7], 2, 3, 200, 4, 10, 0, 1, 5, 6, 7])"
      ]
     },
     "execution_count": 8,
     "metadata": {},
     "output_type": "execute_result"
    }
   ],
   "source": [
    "deque_list.appendleft([5, 6, 7])\n",
    "deque_list"
   ]
  },
  {
   "cell_type": "code",
   "execution_count": 10,
   "id": "361069f3-0319-4a10-a874-f7f38c6e49fe",
   "metadata": {},
   "outputs": [
    {
     "name": "stdout",
     "output_type": "stream",
     "text": [
      "1.47 ms ± 4.34 µs per loop (mean ± std. dev. of 7 runs, 1,000 loops each)\n"
     ]
    }
   ],
   "source": [
    "def general_list():\n",
    "    just_list = []\n",
    "    for i in range(100):\n",
    "        for i in range(100):\n",
    "            just_list.append(i)\n",
    "            just_list.pop()            \n",
    "%timeit general_list()               "
   ]
  },
  {
   "cell_type": "code",
   "execution_count": 11,
   "id": "de89b8fd-c185-45ef-821c-d596488a10d0",
   "metadata": {},
   "outputs": [
    {
     "name": "stdout",
     "output_type": "stream",
     "text": [
      "526 µs ± 3.61 µs per loop (mean ± std. dev. of 7 runs, 1,000 loops each)\n"
     ]
    }
   ],
   "source": [
    "def deque_list():\n",
    "    deque_list = deque()\n",
    "    \n",
    "    for i in range(100):\n",
    "        for i in range(100):\n",
    "            deque_list.append(i)\n",
    "            deque_list.pop()\n",
    "%timeit deque_list()"
   ]
  },
  {
   "cell_type": "markdown",
   "id": "c5453df3-bfd2-4205-acb7-7e602e258c99",
   "metadata": {
    "jp-MarkdownHeadingCollapsed": true,
    "tags": []
   },
   "source": [
    "# * OrderedDict"
   ]
  },
  {
   "cell_type": "code",
   "execution_count": 13,
   "id": "d61b3f77-0b13-4959-ba6b-2d5f95093db9",
   "metadata": {},
   "outputs": [],
   "source": [
    "from collections import OrderedDict"
   ]
  },
  {
   "cell_type": "code",
   "execution_count": 15,
   "id": "04385200-b0d1-4153-b461-39d0458f61f1",
   "metadata": {},
   "outputs": [
    {
     "name": "stdout",
     "output_type": "stream",
     "text": [
      "x 100\n",
      "z 300\n",
      "y 200\n",
      "l 500\n"
     ]
    }
   ],
   "source": [
    "d = {}\n",
    "d['x'] = 100\n",
    "d['z'] = 300\n",
    "d['y'] = 200\n",
    "d['l'] = 500\n",
    "\n",
    "for k, v in d.items():\n",
    "    print(k, v)"
   ]
  },
  {
   "cell_type": "code",
   "execution_count": 16,
   "id": "e1f978f3-c6bf-475f-abc0-995f1a0bcc48",
   "metadata": {},
   "outputs": [],
   "source": [
    "def get_key(x):\n",
    "    return x[0]"
   ]
  },
  {
   "cell_type": "code",
   "execution_count": 17,
   "id": "6b38bf8e-2323-41ef-986a-29c532f54ec0",
   "metadata": {},
   "outputs": [
    {
     "data": {
      "text/plain": [
       "[('l', 500), ('x', 100), ('y', 200), ('z', 300)]"
      ]
     },
     "execution_count": 17,
     "metadata": {},
     "output_type": "execute_result"
    }
   ],
   "source": [
    "sorted(d.items(), key=lambda t:t[0])"
   ]
  },
  {
   "cell_type": "code",
   "execution_count": 18,
   "id": "79bd373a-05b4-4481-95df-49a5455b1fc6",
   "metadata": {},
   "outputs": [
    {
     "name": "stdout",
     "output_type": "stream",
     "text": [
      "l 500\n",
      "x 100\n",
      "y 200\n",
      "z 300\n"
     ]
    }
   ],
   "source": [
    "for k, v in OrderedDict(sorted(d.items(), key=lambda t:t[0])).items():\n",
    "    print(k, v)"
   ]
  },
  {
   "cell_type": "markdown",
   "id": "0f6d7ef5-1680-4445-891d-77ce710842cd",
   "metadata": {
    "jp-MarkdownHeadingCollapsed": true,
    "tags": []
   },
   "source": [
    "# * defaultdict"
   ]
  },
  {
   "cell_type": "code",
   "execution_count": 19,
   "id": "51e6a025-2fe5-4aa3-91ba-986462682306",
   "metadata": {},
   "outputs": [],
   "source": [
    "from collections import defaultdict"
   ]
  },
  {
   "cell_type": "code",
   "execution_count": 23,
   "id": "a8ab94dd-1e7a-4f1e-986d-8e97f8e1c97c",
   "metadata": {},
   "outputs": [],
   "source": [
    "# 1)\n",
    "def default_value():\n",
    "    return 0"
   ]
  },
  {
   "cell_type": "code",
   "execution_count": 24,
   "id": "25f6cd4b-5d53-4031-acce-77c427a62570",
   "metadata": {},
   "outputs": [
    {
     "data": {
      "text/plain": [
       "0"
      ]
     },
     "execution_count": 24,
     "metadata": {},
     "output_type": "execute_result"
    }
   ],
   "source": [
    "d = defaultdict(default_value)\n",
    "d[\"first\"]"
   ]
  },
  {
   "cell_type": "code",
   "execution_count": 25,
   "id": "60ce2585-af2c-485f-b149-0a0505426302",
   "metadata": {},
   "outputs": [
    {
     "data": {
      "text/plain": [
       "defaultdict(<function __main__.<lambda>()>, {})"
      ]
     },
     "execution_count": 25,
     "metadata": {},
     "output_type": "execute_result"
    }
   ],
   "source": [
    "# 2)\n",
    "d = defaultdict(lambda : 0)\n",
    "d"
   ]
  },
  {
   "cell_type": "code",
   "execution_count": 26,
   "id": "2681a05d-5123-4210-b83c-8bfc22174262",
   "metadata": {},
   "outputs": [
    {
     "data": {
      "text/plain": [
       "0"
      ]
     },
     "execution_count": 26,
     "metadata": {},
     "output_type": "execute_result"
    }
   ],
   "source": [
    "d[\"first\"]"
   ]
  },
  {
   "cell_type": "markdown",
   "id": "cb03914e-ff7a-478b-9028-2b3a89cc30f9",
   "metadata": {},
   "source": [
    "- Text-mining 접근법"
   ]
  },
  {
   "cell_type": "code",
   "execution_count": 29,
   "id": "8f7f2944-f875-415e-bfef-37c6b7a209ee",
   "metadata": {},
   "outputs": [],
   "source": [
    "text = \"\"\"\n",
    "Yesterday, all my troubles seemed so far away Now it looks as though they're here to stay oh, I believe in yesterday\n",
    "\"\"\".lower().split()"
   ]
  },
  {
   "cell_type": "code",
   "execution_count": 30,
   "id": "fc7a2dd8-590b-47d5-83e8-9deaecbfe2de",
   "metadata": {},
   "outputs": [
    {
     "data": {
      "text/plain": [
       "['yesterday,',\n",
       " 'all',\n",
       " 'my',\n",
       " 'troubles',\n",
       " 'seemed',\n",
       " 'so',\n",
       " 'far',\n",
       " 'away',\n",
       " 'now',\n",
       " 'it',\n",
       " 'looks',\n",
       " 'as',\n",
       " 'though',\n",
       " \"they're\",\n",
       " 'here',\n",
       " 'to',\n",
       " 'stay',\n",
       " 'oh,',\n",
       " 'i',\n",
       " 'believe',\n",
       " 'in',\n",
       " 'yesterday']"
      ]
     },
     "execution_count": 30,
     "metadata": {},
     "output_type": "execute_result"
    }
   ],
   "source": [
    "text"
   ]
  },
  {
   "cell_type": "code",
   "execution_count": 31,
   "id": "f80075a8-ea1b-4dc0-9455-6031ce05df0d",
   "metadata": {},
   "outputs": [
    {
     "data": {
      "text/plain": [
       "defaultdict(<function __main__.<lambda>()>, {'first': 0})"
      ]
     },
     "execution_count": 31,
     "metadata": {},
     "output_type": "execute_result"
    }
   ],
   "source": [
    "# defaultdict\n",
    "dd = defaultdict(lambda :0)\n",
    "d"
   ]
  },
  {
   "cell_type": "code",
   "execution_count": 34,
   "id": "773e51e9-5efd-42ba-9fd6-a53524f9ab74",
   "metadata": {},
   "outputs": [
    {
     "data": {
      "text/plain": [
       "defaultdict(<function __main__.<lambda>()>,\n",
       "            {'first': 0,\n",
       "             'yesterday,': 2,\n",
       "             'all': 2,\n",
       "             'my': 2,\n",
       "             'troubles': 2,\n",
       "             'seemed': 2,\n",
       "             'so': 2,\n",
       "             'far': 2,\n",
       "             'away': 2,\n",
       "             'now': 2,\n",
       "             'it': 2,\n",
       "             'looks': 2,\n",
       "             'as': 2,\n",
       "             'though': 2,\n",
       "             \"they're\": 2,\n",
       "             'here': 2,\n",
       "             'to': 2,\n",
       "             'stay': 2,\n",
       "             'oh,': 2,\n",
       "             'i': 2,\n",
       "             'believe': 2,\n",
       "             'in': 2,\n",
       "             'yesterday': 2})"
      ]
     },
     "execution_count": 34,
     "metadata": {},
     "output_type": "execute_result"
    }
   ],
   "source": [
    "for word in text:\n",
    "    d[word] += 1\n",
    "d"
   ]
  },
  {
   "cell_type": "code",
   "execution_count": 38,
   "id": "f9e87987-bc68-446e-bbf9-c4cc75a4d259",
   "metadata": {},
   "outputs": [
    {
     "name": "stdout",
     "output_type": "stream",
     "text": [
      "OrderedDict([('yesterday,', 2), ('all', 2), ('my', 2), ('troubles', 2), ('seemed', 2), ('so', 2), ('far', 2), ('away', 2), ('now', 2), ('it', 2), ('looks', 2), ('as', 2), ('though', 2), (\"they're\", 2), ('here', 2), ('to', 2), ('stay', 2), ('oh,', 2), ('i', 2), ('believe', 2), ('in', 2), ('yesterday', 2), ('first', 0)])\n"
     ]
    },
    {
     "data": {
      "text/plain": [
       "0"
      ]
     },
     "execution_count": 38,
     "metadata": {},
     "output_type": "execute_result"
    }
   ],
   "source": [
    "# OrderedDict\n",
    "def get_Key(x):\n",
    "    return x[1]\n",
    "\n",
    "sorted_dict = OrderedDict()\n",
    "for i, v in sorted(d.items(), key=get_Key, reverse=True):\n",
    "    sorted_dict[i] = v\n",
    "print(sorted_dict)\n",
    "sorted_dict[\"first\"]"
   ]
  },
  {
   "cell_type": "markdown",
   "id": "086109e3-590f-4fc3-b6d4-7ff5f5b76de2",
   "metadata": {
    "jp-MarkdownHeadingCollapsed": true,
    "tags": []
   },
   "source": [
    "# * Counter"
   ]
  },
  {
   "cell_type": "code",
   "execution_count": 39,
   "id": "28aa54a0-760c-44f9-9d00-6b08ff3fc007",
   "metadata": {},
   "outputs": [],
   "source": [
    "from collections import Counter"
   ]
  },
  {
   "cell_type": "code",
   "execution_count": 42,
   "id": "8454cc06-040c-4b7d-b9e8-9400efa066da",
   "metadata": {},
   "outputs": [],
   "source": [
    "ball_or_strike_list = [\"B\", \"S\", \"S\", \"S\", \"S\", \"B\", \"B\"]"
   ]
  },
  {
   "cell_type": "code",
   "execution_count": 43,
   "id": "cd7a1158-6ff4-4b7e-9e77-f82a1b2f53fe",
   "metadata": {},
   "outputs": [
    {
     "name": "stdout",
     "output_type": "stream",
     "text": [
      "Counter({'S': 4, 'B': 3})\n"
     ]
    }
   ],
   "source": [
    "c = Counter(ball_or_strike_list)\n",
    "print(c)"
   ]
  },
  {
   "cell_type": "code",
   "execution_count": 44,
   "id": "9def26ec-9b60-4196-b26c-d6c7c4ec1352",
   "metadata": {},
   "outputs": [
    {
     "data": {
      "text/plain": [
       "7"
      ]
     },
     "execution_count": 44,
     "metadata": {},
     "output_type": "execute_result"
    }
   ],
   "source": [
    "len([\"B\", \"S\", \"S\", \"S\", \"S\", \"B\", \"B\"])"
   ]
  },
  {
   "cell_type": "code",
   "execution_count": 46,
   "id": "a4d1f893-3d9f-4c5e-8bc7-ff350632f8fa",
   "metadata": {},
   "outputs": [
    {
     "name": "stdout",
     "output_type": "stream",
     "text": [
      "['red', 'red', 'red', 'red', 'blue', 'blue']\n"
     ]
    }
   ],
   "source": [
    "cc = Counter({'red':4, 'blue':2})  # a new counter from a mapping\n",
    "print(list(cc.elements()))"
   ]
  },
  {
   "cell_type": "code",
   "execution_count": 50,
   "id": "f32f5419-1eb8-4c41-a52e-023e017a861f",
   "metadata": {},
   "outputs": [
    {
     "name": "stdout",
     "output_type": "stream",
     "text": [
      "['cat', 'cat', 'cat', 'cat', 'dog', 'dog']\n"
     ]
    }
   ],
   "source": [
    "ccc = Counter(cat=4, dog=2)  # a new counter from keyward args\n",
    "print(list(ccc.elements()))"
   ]
  },
  {
   "cell_type": "code",
   "execution_count": 52,
   "id": "3c2b2aa7-e996-4fc0-8e91-de2e67792c9e",
   "metadata": {},
   "outputs": [
    {
     "name": "stdout",
     "output_type": "stream",
     "text": [
      "Counter({'a': 5, 'b': 4, 'c': 3, 'd': 2})\n",
      "Counter({'b': 2, 'a': 1})\n",
      "Counter({'a': 4, 'd': 4, 'c': 3, 'b': 2})\n"
     ]
    }
   ],
   "source": [
    "# set 연산 가능\n",
    "a = Counter(a=4, b=2, c=0, d=-2)\n",
    "b = Counter(a=1, b=2, c=3, d=4)\n",
    "print(a + b)\n",
    "print(a & b)\n",
    "print(a | b)"
   ]
  },
  {
   "cell_type": "code",
   "execution_count": 58,
   "id": "50a50ae3-c213-46a9-adc1-06c7b240dcc0",
   "metadata": {},
   "outputs": [
    {
     "data": {
      "text/plain": [
       "['yesterday,',\n",
       " 'all',\n",
       " 'my',\n",
       " 'troubles',\n",
       " 'seemed',\n",
       " 'so',\n",
       " 'far',\n",
       " 'away',\n",
       " 'now',\n",
       " 'it',\n",
       " 'looks',\n",
       " 'as',\n",
       " 'though',\n",
       " \"they're\",\n",
       " 'here',\n",
       " 'to',\n",
       " 'stay',\n",
       " 'oh,',\n",
       " 'i',\n",
       " 'believe',\n",
       " 'in',\n",
       " 'yesterday',\n",
       " 'suddenly,',\n",
       " \"i'm\",\n",
       " 'not',\n",
       " 'half',\n",
       " 'the',\n",
       " 'man',\n",
       " 'i',\n",
       " 'used',\n",
       " 'to',\n",
       " 'be',\n",
       " \"there's\",\n",
       " 'a',\n",
       " 'shadow',\n",
       " 'hanging',\n",
       " 'over',\n",
       " 'me',\n",
       " 'oh,',\n",
       " 'yesterday',\n",
       " 'came',\n",
       " 'suddenly']"
      ]
     },
     "execution_count": 58,
     "metadata": {},
     "output_type": "execute_result"
    }
   ],
   "source": [
    "str = \"\"\"\n",
    "Yesterday, all my troubles seemed so far away Now it looks as though they're here to stay oh, I believe in yesterday Suddenly, I'm not half the man I used to be There's a shadow hanging over me Oh, yesterday came suddenly\n",
    "\"\"\".lower().split()\n",
    "str"
   ]
  },
  {
   "cell_type": "code",
   "execution_count": 60,
   "id": "1bd7ab6f-423f-4bee-afc8-576dee9227e5",
   "metadata": {},
   "outputs": [
    {
     "name": "stdout",
     "output_type": "stream",
     "text": [
      "Counter({'to': 2, 'oh,': 2, 'i': 2, 'yesterday': 2, 'yesterday,': 1, 'all': 1, 'my': 1, 'troubles': 1, 'seemed': 1, 'so': 1, 'far': 1, 'away': 1, 'now': 1, 'it': 1, 'looks': 1, 'as': 1, 'though': 1, \"they're\": 1, 'here': 1, 'stay': 1, 'believe': 1, 'in': 1, 'suddenly,': 1, \"i'm\": 1, 'not': 1, 'half': 1, 'the': 1, 'man': 1, 'used': 1, 'be': 1, \"there's\": 1, 'a': 1, 'shadow': 1, 'hanging': 1, 'over': 1, 'me': 1, 'came': 1, 'suddenly': 1})\n"
     ]
    }
   ],
   "source": [
    "print(Counter(str))"
   ]
  },
  {
   "cell_type": "code",
   "execution_count": 62,
   "id": "3717e46e-163b-4f8b-8724-e4215828a6dc",
   "metadata": {},
   "outputs": [
    {
     "name": "stdout",
     "output_type": "stream",
     "text": [
      "1\n"
     ]
    }
   ],
   "source": [
    "print(Counter(str)[\"a\"])"
   ]
  },
  {
   "cell_type": "code",
   "execution_count": 67,
   "id": "60faf51b-0272-44a5-9721-2c59f7158dd1",
   "metadata": {},
   "outputs": [
    {
     "data": {
      "text/plain": [
       "[('to', 2),\n",
       " ('oh,', 2),\n",
       " ('i', 2),\n",
       " ('yesterday', 2),\n",
       " ('yesterday,', 1),\n",
       " ('all', 1),\n",
       " ('my', 1),\n",
       " ('troubles', 1),\n",
       " ('seemed', 1),\n",
       " ('so', 1),\n",
       " ('far', 1),\n",
       " ('away', 1),\n",
       " ('now', 1),\n",
       " ('it', 1),\n",
       " ('looks', 1),\n",
       " ('as', 1),\n",
       " ('though', 1),\n",
       " (\"they're\", 1),\n",
       " ('here', 1),\n",
       " ('stay', 1),\n",
       " ('believe', 1),\n",
       " ('in', 1),\n",
       " ('suddenly,', 1),\n",
       " (\"i'm\", 1),\n",
       " ('not', 1),\n",
       " ('half', 1),\n",
       " ('the', 1),\n",
       " ('man', 1),\n",
       " ('used', 1),\n",
       " ('be', 1),\n",
       " (\"there's\", 1),\n",
       " ('a', 1),\n",
       " ('shadow', 1),\n",
       " ('hanging', 1),\n",
       " ('over', 1),\n",
       " ('me', 1),\n",
       " ('came', 1),\n",
       " ('suddenly', 1)]"
      ]
     },
     "execution_count": 67,
     "metadata": {},
     "output_type": "execute_result"
    }
   ],
   "source": [
    "sorted(Counter(str).items(), key=lambda t : t[1], reverse=True)"
   ]
  },
  {
   "cell_type": "markdown",
   "id": "f4db4e4e-19f6-4746-aebe-74f5317d593b",
   "metadata": {},
   "source": [
    "# * namedtuple"
   ]
  },
  {
   "cell_type": "code",
   "execution_count": 68,
   "id": "c42b6125-4e9e-4649-b4dc-149172a56374",
   "metadata": {},
   "outputs": [],
   "source": [
    "from collections import namedtuple"
   ]
  },
  {
   "cell_type": "code",
   "execution_count": 70,
   "id": "131046d2-103a-4885-b13a-d8a908626a90",
   "metadata": {},
   "outputs": [
    {
     "data": {
      "text/plain": [
       "__main__.Point"
      ]
     },
     "execution_count": 70,
     "metadata": {},
     "output_type": "execute_result"
    }
   ],
   "source": [
    "Point = namedtuple('Point', ['x', 'y'])\n",
    "Point"
   ]
  },
  {
   "cell_type": "code",
   "execution_count": 71,
   "id": "b6629bbd-2499-4883-bb61-8903fe51fc13",
   "metadata": {},
   "outputs": [
    {
     "data": {
      "text/plain": [
       "(11, 22)"
      ]
     },
     "execution_count": 71,
     "metadata": {},
     "output_type": "execute_result"
    }
   ],
   "source": [
    "p = Point(x=11, y=22)\n",
    "p[0], p[1]"
   ]
  },
  {
   "cell_type": "code",
   "execution_count": 72,
   "id": "184ee6f4-5bbe-4f9b-96ba-3625a12bafdf",
   "metadata": {},
   "outputs": [
    {
     "data": {
      "text/plain": [
       "Point(x=11, y=22)"
      ]
     },
     "execution_count": 72,
     "metadata": {},
     "output_type": "execute_result"
    }
   ],
   "source": [
    "p"
   ]
  },
  {
   "cell_type": "code",
   "execution_count": 73,
   "id": "e5a4d383-3cbd-4f93-ad32-3adb99d5f56f",
   "metadata": {},
   "outputs": [
    {
     "name": "stdout",
     "output_type": "stream",
     "text": [
      "11 22\n"
     ]
    }
   ],
   "source": [
    "x, y = p  #\n",
    "print(x, y)"
   ]
  },
  {
   "cell_type": "code",
   "execution_count": 74,
   "id": "cc49548a-9aa9-45af-a13f-a96359808f42",
   "metadata": {},
   "outputs": [
    {
     "name": "stdout",
     "output_type": "stream",
     "text": [
      "33\n"
     ]
    }
   ],
   "source": [
    "print(p.x + p.y)"
   ]
  },
  {
   "cell_type": "code",
   "execution_count": 75,
   "id": "829f8fb2-a458-431b-aace-4c7032e27aa9",
   "metadata": {},
   "outputs": [
    {
     "name": "stdout",
     "output_type": "stream",
     "text": [
      "Point(x=11, y=22)\n"
     ]
    }
   ],
   "source": [
    "print(Point(x=11, y=22))"
   ]
  },
  {
   "cell_type": "markdown",
   "id": "fc1746a0-4469-4f6d-b885-21c16698c8bb",
   "metadata": {},
   "source": [
    "- 예시"
   ]
  },
  {
   "cell_type": "code",
   "execution_count": 100,
   "id": "50dd46b7-bf3c-4d36-8861-7b95b16b2762",
   "metadata": {},
   "outputs": [
    {
     "ename": "SyntaxError",
     "evalue": "(unicode error) 'unicodeescape' codec can't decode bytes in position 2-3: truncated \\UXXXXXXXX escape (1762942718.py, line 1)",
     "output_type": "error",
     "traceback": [
      "\u001b[1;36m  Cell \u001b[1;32mIn[100], line 1\u001b[1;36m\u001b[0m\n\u001b[1;33m    f = open(\"C:\\User\\Sunny\\dev\\git\\python\\boostcourse\\1.pythonBasic\\jupyter\\command_data.csv\", \"r\", encoding='UTF8')\u001b[0m\n\u001b[1;37m                                                                                              ^\u001b[0m\n\u001b[1;31mSyntaxError\u001b[0m\u001b[1;31m:\u001b[0m (unicode error) 'unicodeescape' codec can't decode bytes in position 2-3: truncated \\UXXXXXXXX escape\n"
     ]
    }
   ],
   "source": [
    "f = open(\"C:\\User\\Sunny\\dev\\git\\python\\boostcourse\\1.pythonBasic\\jupyter\\command_data.csv\", \"r\", encoding='UTF8')\n",
    "next(f)\n",
    "reader = csv.reader(f)\n",
    "student_list = []\n",
    "for row in reader:\n",
    "    student_list.append(row)\n",
    "    print(row)"
   ]
  },
  {
   "cell_type": "code",
   "execution_count": 101,
   "id": "03934c4d-741c-44e3-9b0c-40c8b87bf5e2",
   "metadata": {},
   "outputs": [],
   "source": [
    "coloumns = [\"user_id\", \"intergration_id\", \"login_id\", \"password\", \"first_name\", \"last_name\", \"full_name\", \"sortable_name\", \"short_name\", \"email\", \"status\"]"
   ]
  },
  {
   "cell_type": "code",
   "execution_count": null,
   "id": "4dac8d08-e864-4dba-9d52-31c803ede4be",
   "metadata": {},
   "outputs": [],
   "source": [
    "Student = namedtuple('Student', \" \".join(coloumns))\n",
    "student_namedtupe_list = []\n",
    "for row in student_list:\n",
    "    student = Student(*row)\n",
    "    student_namedtupe_list.append(student)\n",
    "print(student_namedtupe_list)\n",
    "pirnt(student_namedtupe_list[0].full_name)"
   ]
  }
 ],
 "metadata": {
  "kernelspec": {
   "display_name": "Python 3 (ipykernel)",
   "language": "python",
   "name": "python3"
  },
  "language_info": {
   "codemirror_mode": {
    "name": "ipython",
    "version": 3
   },
   "file_extension": ".py",
   "mimetype": "text/x-python",
   "name": "python",
   "nbconvert_exporter": "python",
   "pygments_lexer": "ipython3",
   "version": "3.9.7"
  }
 },
 "nbformat": 4,
 "nbformat_minor": 5
}
