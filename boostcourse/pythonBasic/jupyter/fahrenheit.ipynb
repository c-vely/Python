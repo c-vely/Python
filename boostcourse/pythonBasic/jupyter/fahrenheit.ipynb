{
 "cells": [
  {
   "cell_type": "markdown",
   "id": "e6436ee7-07b3-462a-a534-e0ac88156de2",
   "metadata": {},
   "source": [
    "섭씨를 화씨로 변환해주는 프로그램입니다  \n",
    "변환하고 싶은 섭씨 온도를 입력해 주세요:  \n",
    "32.2  \n",
    "섭씨온도 : 32.2  \n",
    "화씨온도 : 89.96  "
   ]
  },
  {
   "cell_type": "code",
   "execution_count": 5,
   "id": "c489109c-dcc4-487b-be5d-ad7e62a7aa45",
   "metadata": {},
   "outputs": [],
   "source": [
    "def changeFahrenheit(celsius):\n",
    "    fahrenheit = (( 9 / 5) * celsius) + 32\n",
    "    return fahrenheit"
   ]
  },
  {
   "cell_type": "code",
   "execution_count": 6,
   "id": "a338da68-5691-472d-bcef-d9204507d1f9",
   "metadata": {},
   "outputs": [
    {
     "name": "stdout",
     "output_type": "stream",
     "text": [
      "변환하고 싶은 섭씨 온도를 입력해 주세요: \n"
     ]
    }
   ],
   "source": [
    "print(\"변환하고 싶은 섭씨 온도를 입력해 주세요: \")"
   ]
  },
  {
   "cell_type": "code",
   "execution_count": 7,
   "id": "de0d55a0-5493-449f-826b-ea8251defb8e",
   "metadata": {},
   "outputs": [
    {
     "name": "stdin",
     "output_type": "stream",
     "text": [
      "섭씨온도 :  32.2\n"
     ]
    }
   ],
   "source": [
    "celsius = float(input('섭씨온도 : '))"
   ]
  },
  {
   "cell_type": "code",
   "execution_count": 11,
   "id": "0c045a1f-3880-4008-ae4d-d9d3235ce83a",
   "metadata": {},
   "outputs": [
    {
     "name": "stdout",
     "output_type": "stream",
     "text": [
      "화씨온도 : 89.96\n"
     ]
    }
   ],
   "source": [
    "fahrenheit = changeFahrenheit(celsius)\n",
    "print(f'화씨온도 : {fahrenheit:.2f}')"
   ]
  },
  {
   "cell_type": "code",
   "execution_count": null,
   "id": "f27cc39e-f0d9-4933-8298-cd09ce406611",
   "metadata": {},
   "outputs": [],
   "source": []
  }
 ],
 "metadata": {
  "kernelspec": {
   "display_name": "Python 3 (ipykernel)",
   "language": "python",
   "name": "python3"
  },
  "language_info": {
   "codemirror_mode": {
    "name": "ipython",
    "version": 3
   },
   "file_extension": ".py",
   "mimetype": "text/x-python",
   "name": "python",
   "nbconvert_exporter": "python",
   "pygments_lexer": "ipython3",
   "version": "3.9.7"
  }
 },
 "nbformat": 4,
 "nbformat_minor": 5
}
