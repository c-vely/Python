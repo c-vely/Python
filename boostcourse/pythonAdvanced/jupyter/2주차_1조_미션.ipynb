{
 "cells": [
  {
   "cell_type": "markdown",
   "metadata": {},
   "source": [
    "# 📌Q1"
   ]
  },
  {
   "cell_type": "code",
   "execution_count": 10,
   "metadata": {},
   "outputs": [],
   "source": [
    "class Score:\n",
    "    def __init__(self,mid,final):\n",
    "        self.__mid = mid\n",
    "        self.__final = final\n",
    "    \n",
    "    # private 변수에 접근하기 위해 @property 사용\n",
    "    @property\n",
    "    def mid(self):\n",
    "        return self.__mid\n",
    "    @property\n",
    "    def final(self):\n",
    "        return self.__final\n",
    "    \n",
    "def result(func):\n",
    "    def inner(*args,**kwargs):\n",
    "        print(f'{func.__name__} 결과값은',end=': ')\n",
    "        func(*args,**kwargs)\n",
    "    return inner \n",
    "\n",
    "@result\n",
    "def print_mean(score):\n",
    "    print((score.mid + score.final) / 2)\n",
    "@result\n",
    "def print_sum(score):\n",
    "    print(score.mid + score.final)"
   ]
  },
  {
   "cell_type": "code",
   "execution_count": 11,
   "metadata": {
    "scrolled": true
   },
   "outputs": [
    {
     "name": "stdout",
     "output_type": "stream",
     "text": [
      "print_mean 결과값은: 62.5\n",
      "print_sum 결과값은: 125\n"
     ]
    }
   ],
   "source": [
    "score = Score(50,75)\n",
    "print_mean(score)\n",
    "print_sum(score)"
   ]
  },
  {
   "cell_type": "markdown",
   "metadata": {},
   "source": [
    "# 📌Q2"
   ]
  },
  {
   "cell_type": "code",
   "execution_count": 149,
   "metadata": {
    "scrolled": true
   },
   "outputs": [],
   "source": [
    "class Car():\n",
    "    def __init__(self, fuel, wheels) :\n",
    "        self.fuel = fuel\n",
    "        self.wheels = wheels\n",
    "class Bike(Car):\n",
    "    def __init__(self,fuel,wheels,size):\n",
    "        super().__init__(fuel,wheels)\n",
    "        self.size = size"
   ]
  },
  {
   "cell_type": "code",
   "execution_count": 151,
   "metadata": {
    "scrolled": true
   },
   "outputs": [
    {
     "name": "stdout",
     "output_type": "stream",
     "text": [
      "gas 2 small\n"
     ]
    }
   ],
   "source": [
    "bike = Bike(\"gas\", 2, \"small\")\n",
    "print (bike.fuel, bike.wheels, bike.size) "
   ]
  },
  {
   "cell_type": "markdown",
   "metadata": {},
   "source": [
    "# 📌Q3"
   ]
  },
  {
   "cell_type": "code",
   "execution_count": 16,
   "metadata": {},
   "outputs": [],
   "source": [
    "from pprint import pprint"
   ]
  },
  {
   "cell_type": "code",
   "execution_count": 20,
   "metadata": {},
   "outputs": [
    {
     "name": "stdout",
     "output_type": "stream",
     "text": [
      "[['73', '80', '75', '152'],\n",
      " ['93', '88', '93', '185'],\n",
      " ['89', '91', '90', '180'],\n",
      " ['96', '98', '100', '196'],\n",
      " ['73', '66', '70', '142'],\n",
      " ['53', '46', '55', '101'],\n",
      " ['69', '74', '77', '149'],\n",
      " ['47', '56', '60', '115'],\n",
      " ['87', '79', '90', '175'],\n",
      " ['79', '70', '88', '164'],\n",
      " ['69', '70', '73', '141'],\n",
      " ['70', '65', '74', '141'],\n",
      " ['93', '95', '91', '184'],\n",
      " ['79', '80', '73', '152'],\n",
      " ['70', '73', '78', '148'],\n",
      " ['93', '89', '96', '192'],\n",
      " ['78', '75', '68', '147'],\n",
      " ['81', '90', '93', '183'],\n",
      " ['88', '92', '86', '177'],\n",
      " ['78', '83', '77', '159'],\n",
      " ['82', '86', '90', '177'],\n",
      " ['86', '82', '89', '175'],\n",
      " ['78', '83', '85', '175'],\n",
      " ['76', '83', '71', '149'],\n",
      " ['96', '93', '95', '192']]\n"
     ]
    }
   ],
   "source": [
    "file_path = 'data-01-test-score.csv'\n",
    "\n",
    "def read_file(file_path):\n",
    "    result = []\n",
    "    with open (file_path,'r') as f:\n",
    "        # 한줄씩 for loop\n",
    "        for row in f.readlines():\n",
    "            # 줄바꿈 제거 후, 콤마로 나눈 리스트를 result에 append\n",
    "            result.append(row.replace('\\n','').split(','))\n",
    "    return result\n",
    "pprint(read_file(file_path))"
   ]
  },
  {
   "cell_type": "markdown",
   "metadata": {},
   "source": [
    "# 📌Q4"
   ]
  },
  {
   "cell_type": "code",
   "execution_count": 22,
   "metadata": {},
   "outputs": [],
   "source": [
    "class ReadCSV():\n",
    "    def __init__(self, file_path) :\n",
    "        self.file_path = file_path\n",
    "\n",
    "    def read_file(self):\n",
    "        result = []\n",
    "        with open (self.file_path,'r') as f:\n",
    "            for row in f.readlines():\n",
    "                tmp_list = row.replace('\\n','').split(',')\n",
    "                # 데이터의 자료형을 int형으로 변경\n",
    "                result.append(list(map(int,tmp_list)))\n",
    "        return result\n",
    "\n",
    "    def merge_list(self):\n",
    "        result = []\n",
    "        tmp_list = self.read_file()\n",
    "        for tmp in tmp_list:\n",
    "            result.append(sum(tmp))\n",
    "        return result"
   ]
  },
  {
   "cell_type": "code",
   "execution_count": 23,
   "metadata": {},
   "outputs": [
    {
     "name": "stdout",
     "output_type": "stream",
     "text": [
      "[[73, 80, 75, 152],\n",
      " [93, 88, 93, 185],\n",
      " [89, 91, 90, 180],\n",
      " [96, 98, 100, 196],\n",
      " [73, 66, 70, 142],\n",
      " [53, 46, 55, 101],\n",
      " [69, 74, 77, 149],\n",
      " [47, 56, 60, 115],\n",
      " [87, 79, 90, 175],\n",
      " [79, 70, 88, 164],\n",
      " [69, 70, 73, 141],\n",
      " [70, 65, 74, 141],\n",
      " [93, 95, 91, 184],\n",
      " [79, 80, 73, 152],\n",
      " [70, 73, 78, 148],\n",
      " [93, 89, 96, 192],\n",
      " [78, 75, 68, 147],\n",
      " [81, 90, 93, 183],\n",
      " [88, 92, 86, 177],\n",
      " [78, 83, 77, 159],\n",
      " [82, 86, 90, 177],\n",
      " [86, 82, 89, 175],\n",
      " [78, 83, 85, 175],\n",
      " [76, 83, 71, 149],\n",
      " [96, 93, 95, 192]]\n",
      "[380, 459, 450, 490, 351, 255, 369, 278, 431, 401, 353, 350, 463, 384, 369, 470, 368, 447, 443, 397, 435, 432, 421, 379, 476]\n"
     ]
    }
   ],
   "source": [
    "readcsv= ReadCSV(file_path)\n",
    "pprint(readcsv.read_file())\n",
    "print(readcsv.merge_list())"
   ]
  },
  {
   "cell_type": "markdown",
   "metadata": {},
   "source": [
    "# 📌Q5"
   ]
  },
  {
   "cell_type": "code",
   "execution_count": 238,
   "metadata": {},
   "outputs": [],
   "source": [
    "class ReadCSV():\n",
    "    def __init__(self, file_path) :\n",
    "        self.file_path = file_path\n",
    "\n",
    "    def read_file(self):\n",
    "        result = []\n",
    "        with open (self.file_path,'r') as f:\n",
    "            for row in f.readlines():\n",
    "                tmp_list = row.replace('\\n','').split(',')\n",
    "                # 데이터의 자료형을 int형으로 변경\n",
    "                result.append(list(map(int,tmp_list)))\n",
    "        return result\n",
    "\n",
    "    def merge_list(self):\n",
    "        result = []\n",
    "        tmp_list = self.read_file()\n",
    "        for tmp in tmp_list:\n",
    "            # 평균 구하기\n",
    "            result.append(sum(tmp)/len(tmp))\n",
    "        # 정렬하기\n",
    "        result.sort()\n",
    "        return result"
   ]
  },
  {
   "cell_type": "code",
   "execution_count": 237,
   "metadata": {},
   "outputs": [
    {
     "name": "stdout",
     "output_type": "stream",
     "text": [
      "[63.75, 69.5, 87.5, 87.75, 88.25, 92.0, 92.25, 92.25, 94.75, 95.0, 96.0, 99.25, 100.25, 105.25, 107.75, 108.0, 108.75, 110.75, 111.75, 112.5, 114.75, 115.75, 117.5, 119.0, 122.5]\n"
     ]
    }
   ],
   "source": [
    "readcsv= ReadCSV(file_path)\n",
    "print(readcsv.merge_list())"
   ]
  }
 ],
 "metadata": {
  "kernelspec": {
   "display_name": "Python 3 (ipykernel)",
   "language": "python",
   "name": "python3"
  },
  "language_info": {
   "codemirror_mode": {
    "name": "ipython",
    "version": 3
   },
   "file_extension": ".py",
   "mimetype": "text/x-python",
   "name": "python",
   "nbconvert_exporter": "python",
   "pygments_lexer": "ipython3",
   "version": "3.9.7"
  }
 },
 "nbformat": 4,
 "nbformat_minor": 4
}
