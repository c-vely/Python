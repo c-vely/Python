{
 "cells": [
  {
   "cell_type": "markdown",
   "id": "cbe6fe5c-aa75-4d78-bff2-6bfdfa53a7a1",
   "metadata": {},
   "source": [
    "# * 클래스"
   ]
  },
  {
   "cell_type": "code",
   "execution_count": 13,
   "id": "134ba79d-756d-4816-a6c8-42aadc142d52",
   "metadata": {},
   "outputs": [],
   "source": [
    "# 클래스 선언\n",
    "class SoccerPlayer(object):\n",
    "    pass"
   ]
  },
  {
   "cell_type": "code",
   "execution_count": 14,
   "id": "bd96b9f0-8cc7-4470-a117-f701c4ea3d40",
   "metadata": {},
   "outputs": [],
   "source": [
    "# 객체 생성\n",
    "aaa = SoccerPlayer()\n",
    "bbb = SoccerPlayer()\n",
    "ccc = SoccerPlayer()"
   ]
  },
  {
   "cell_type": "code",
   "execution_count": 7,
   "id": "484926d6-a156-4744-8554-c8fd514c9bc6",
   "metadata": {},
   "outputs": [
    {
     "data": {
      "text/plain": [
       "(<__main__.SoccerPlayer at 0x29fc0070760>,\n",
       " <__main__.SoccerPlayer at 0x29fc00701f0>,\n",
       " <__main__.SoccerPlayer at 0x29fc0070340>)"
      ]
     },
     "execution_count": 7,
     "metadata": {},
     "output_type": "execute_result"
    }
   ],
   "source": [
    "aaa, bbb, ccc  # 개별 객체가 생성됨 확인"
   ]
  },
  {
   "cell_type": "code",
   "execution_count": 9,
   "id": "c64785bb-cca2-4889-8f7f-5ab7bd67b11b",
   "metadata": {},
   "outputs": [
    {
     "data": {
      "text/plain": [
       "False"
      ]
     },
     "execution_count": 9,
     "metadata": {},
     "output_type": "execute_result"
    }
   ],
   "source": [
    "aaa is bbb"
   ]
  },
  {
   "cell_type": "code",
   "execution_count": 4,
   "id": "ff2d6fdd-f1dd-46c0-b238-28a3c44bceba",
   "metadata": {},
   "outputs": [],
   "source": [
    "class SoccerPlayer(object):\n",
    "    def __init__(self, name:str, position:str, back_number:int):\n",
    "        self.name = name\n",
    "        self.position = position\n",
    "        self.back_number = back_number"
   ]
  },
  {
   "cell_type": "code",
   "execution_count": 5,
   "id": "6904d56e-ce85-4480-aca3-86be3e8c6343",
   "metadata": {},
   "outputs": [],
   "source": [
    "son = SoccerPlayer(\"son\", \"FW\", 7)  # 기초화값 넣어야 함\n",
    "park = SoccerPlayer(\"park\", \"WF\", 13)\n",
    "#ccc = SoccerPlayer()  #오류"
   ]
  },
  {
   "cell_type": "code",
   "execution_count": 6,
   "id": "767aeb77-ffb9-4634-972f-86d1335804b4",
   "metadata": {},
   "outputs": [
    {
     "name": "stdout",
     "output_type": "stream",
     "text": [
      "<__main__.SoccerPlayer object at 0x000002AA7B64AAC0>\n"
     ]
    }
   ],
   "source": [
    "print(park)"
   ]
  },
  {
   "cell_type": "code",
   "execution_count": 1,
   "id": "7e78c54c-74ed-4b09-a5d6-8a727c4ce64c",
   "metadata": {},
   "outputs": [],
   "source": [
    "class SoccerPlayer(object):\n",
    "    def __init__(self, name:str, position:str, back_number:int):\n",
    "        self.name = name\n",
    "        self.position = position\n",
    "        self.back_number = back_number\n",
    "    \n",
    "    def __str__(self):\n",
    "        return \"Hello, My name is %s. My back number is %d\" % \\\n",
    "                (self.name, self.back_number)"
   ]
  },
  {
   "cell_type": "code",
   "execution_count": 3,
   "id": "515544cf-ca19-414b-8ae6-bfde3d27e3db",
   "metadata": {},
   "outputs": [
    {
     "name": "stdout",
     "output_type": "stream",
     "text": [
      "Hello, My name is park. My back number is 13\n"
     ]
    }
   ],
   "source": [
    "son = SoccerPlayer(\"son\", \"FW\", 7)\n",
    "park = SoccerPlayer(\"park\", \"WF\", 13)\n",
    "\n",
    "print(park)"
   ]
  },
  {
   "cell_type": "code",
   "execution_count": 7,
   "id": "ce61b0a0-9dae-47ab-9da1-492f89818947",
   "metadata": {},
   "outputs": [],
   "source": [
    "class SoccerPlayer(object):\n",
    "    def __init__(self, name:str, position:str, back_number:int):\n",
    "        self.name = name\n",
    "        self.position = position\n",
    "        self.back_number = back_number\n",
    "    \n",
    "    def __str__(self):\n",
    "        return \"Hello, My name is %s. My back number is %d\" % \\\n",
    "                (self.name, self.back_number)\n",
    "    \n",
    "    def __add__(self, other):\n",
    "        return self.name + other.name"
   ]
  },
  {
   "cell_type": "code",
   "execution_count": 8,
   "id": "d025168d-c87e-4195-bec3-3289c3c8e8b0",
   "metadata": {},
   "outputs": [
    {
     "data": {
      "text/plain": [
       "'sonpark'"
      ]
     },
     "execution_count": 8,
     "metadata": {},
     "output_type": "execute_result"
    }
   ],
   "source": [
    "son = SoccerPlayer(\"son\", \"FW\", 7)\n",
    "park = SoccerPlayer(\"park\", \"WF\", 13)\n",
    "\n",
    "son + park"
   ]
  },
  {
   "cell_type": "markdown",
   "id": "c49c6212-2943-4d49-b21d-7af855de5f7f",
   "metadata": {},
   "source": [
    "# * object"
   ]
  },
  {
   "cell_type": "code",
   "execution_count": 26,
   "id": "16f7b991-ac5a-4fbf-8805-34babdd760cb",
   "metadata": {},
   "outputs": [],
   "source": [
    "class SoccerPlayer(object):\n",
    "    def __init__(self, name:str, position:str, back_number:int):\n",
    "        self.name = name\n",
    "        self.position = position\n",
    "        self.back_number = back_number\n",
    "\n",
    "    def change_back_number(self, new_number):\n",
    "        print(\"선수의 등번호를 변경합니다 : From %d to %d\" % (self.back_number, new_number))\n",
    "        self.back_number = new_number\n",
    "        \n",
    "    def __str__(self):\n",
    "        return \"Hello, My name is %s. My position is %s. My back number is %d\" % (self.name, self.position, self.back_number)"
   ]
  },
  {
   "cell_type": "code",
   "execution_count": 27,
   "id": "2871b4ea-f7dc-4053-8c3b-3fb885333c17",
   "metadata": {},
   "outputs": [
    {
     "name": "stdout",
     "output_type": "stream",
     "text": [
      "Hello, My name is JungSun. My position is MF. My back number is 7\n"
     ]
    }
   ],
   "source": [
    "choi = SoccerPlayer(\"JungSun\", \"MF\", 7)\n",
    "print(choi)"
   ]
  },
  {
   "cell_type": "code",
   "execution_count": 28,
   "id": "99705968-67f5-489f-9aea-aab626267489",
   "metadata": {},
   "outputs": [
    {
     "name": "stdout",
     "output_type": "stream",
     "text": [
      "선수의 등번호를 변경합니다 : From 7 to 21\n",
      "Hello, My name is JungSun. My position is MF. My back number is 21\n"
     ]
    }
   ],
   "source": [
    "# 함수 통한 변경 권장\n",
    "choi.change_back_number(21)\n",
    "print(choi)"
   ]
  },
  {
   "cell_type": "code",
   "execution_count": 29,
   "id": "99181603-441b-4134-bfd0-36d8aa1757af",
   "metadata": {},
   "outputs": [
    {
     "name": "stdout",
     "output_type": "stream",
     "text": [
      "Hello, My name is JungSun. My position is MF. My back number is 0\n"
     ]
    }
   ],
   "source": [
    "# 직접 변경 가능하나 권장 X\n",
    "choi.back_number = 0\n",
    "print(choi)"
   ]
  },
  {
   "cell_type": "markdown",
   "id": "c8e3b0a2-48d6-444f-8ddb-86ed2b0e073b",
   "metadata": {},
   "source": [
    "### 실습) 구현 가능한 OOP 만들기 - 노트북\n",
    "\n",
    "- Note를 정리하는 프로그램  \n",
    "- 사용자는 Note에 뭔가를 적을 수 있다.  \n",
    "- Note에는 Content가 있고, 내용을 제거할 수 있다.  \n",
    "- 두 개의 노트북을 합쳐 하나로 만들 수 있다.  \n",
    "- Note는 Notebook에 삽입된다.  \n",
    "- Notebook은 Note가 삽일 될 때 페이지를 생성하며, 최고 300페이지까지 저장 가능하다.  \n",
    "- 300 페이지가 넘으면 더 이상 노트를 삽입하지 못한다.  "
   ]
  },
  {
   "cell_type": "code",
   "execution_count": 1,
   "id": "96284dd1-d650-4182-a144-566b2ffaf0a3",
   "metadata": {},
   "outputs": [],
   "source": [
    "# Note 클래스\n",
    "class Note(object):\n",
    "    def __init__(self, content = None):\n",
    "        self.content = content\n",
    "        \n",
    "    def write_content(self, content):\n",
    "        self.content = content\n",
    "        \n",
    "    def remove_all(self):\n",
    "        self.content = \"\"\n",
    "        \n",
    "    def add_content(self, other):\n",
    "        return self.content + other.content\n",
    "    \n",
    "    def __str__(self):\n",
    "        return self.content"
   ]
  },
  {
   "cell_type": "code",
   "execution_count": 29,
   "id": "92c875a8-54c8-4990-bb04-af43ff1d20d4",
   "metadata": {},
   "outputs": [],
   "source": [
    "# Notebook 클래스\n",
    "class Notebook(object):\n",
    "    def __init__(self, title):\n",
    "        self.title = title\n",
    "        self.page_number = 1\n",
    "        self.notes = {}\n",
    "    \n",
    "    def add_note(self, note, page = 0):\n",
    "        if self.page_number < 300:\n",
    "            if page == 0:\n",
    "                self.notes[self.page_number] = note\n",
    "                self.page_number += 1\n",
    "            else:\n",
    "                #self.notes[self.page_number] = {page : note}  #순서대로 들어갈 경우\n",
    "                 #self.page_number += 1\n",
    "                    \n",
    "                self.notes[page] = note  #페이지번호대로 들어갈 경우            \n",
    "        else:\n",
    "            print(\"Page가 모두 채워졌습니다.\")\n",
    "    \n",
    "    def remove_note(self, page_number):\n",
    "        if page_numver in self.notes.keys():\n",
    "            return self.notes.pop(page_number)\n",
    "        else:\n",
    "            print(\"해당 페에지는 존재하지 않습니다.\")\n",
    "            \n",
    "    def get_num_of_pages(self):\n",
    "        return len(self.notes.keys())  "
   ]
  },
  {
   "cell_type": "code",
   "execution_count": 30,
   "id": "f1e2c271-80d9-4ef0-ba18-d7d92dfb809e",
   "metadata": {},
   "outputs": [
    {
     "data": {
      "text/plain": [
       "<__main__.Notebook at 0x14e7a279580>"
      ]
     },
     "execution_count": 30,
     "metadata": {},
     "output_type": "execute_result"
    }
   ],
   "source": [
    "my_notebook = Notebook(\"팀랩 강의노트\")\n",
    "my_notebook"
   ]
  },
  {
   "cell_type": "code",
   "execution_count": 31,
   "id": "0ed4e505-db96-456c-9d30-c8acca258018",
   "metadata": {},
   "outputs": [
    {
     "data": {
      "text/plain": [
       "'팀랩 강의노트'"
      ]
     },
     "execution_count": 31,
     "metadata": {},
     "output_type": "execute_result"
    }
   ],
   "source": [
    "my_notebook.title"
   ]
  },
  {
   "cell_type": "code",
   "execution_count": 32,
   "id": "f141e71d-6fe4-4327-8910-985a54857ff2",
   "metadata": {},
   "outputs": [
    {
     "name": "stdout",
     "output_type": "stream",
     "text": [
      "아 수업 하기 싫다\n"
     ]
    }
   ],
   "source": [
    "new_note = Note(\"아 수업 하기 싫다\")\n",
    "print(new_note)"
   ]
  },
  {
   "cell_type": "code",
   "execution_count": 33,
   "id": "d72f9d26-028b-4765-ab84-82fc697e32a0",
   "metadata": {},
   "outputs": [
    {
     "name": "stdout",
     "output_type": "stream",
     "text": [
      "파이썬 강의\n"
     ]
    }
   ],
   "source": [
    "new_note_2 = Note(\"파이썬 강의\")\n",
    "print(new_note_2)"
   ]
  },
  {
   "cell_type": "code",
   "execution_count": 34,
   "id": "55e9d915-dfa0-4436-a732-dc10a4c20384",
   "metadata": {},
   "outputs": [],
   "source": [
    "my_notebook.add_note(new_note)\n",
    "my_notebook.add_note(new_note_2, 100)"
   ]
  },
  {
   "cell_type": "code",
   "execution_count": 35,
   "id": "02fcd315-62cd-4976-9c41-7f2b3551733f",
   "metadata": {},
   "outputs": [
    {
     "data": {
      "text/plain": [
       "{1: <__main__.Note at 0x14e78680d60>, 100: <__main__.Note at 0x14e7a0c0d30>}"
      ]
     },
     "execution_count": 35,
     "metadata": {},
     "output_type": "execute_result"
    }
   ],
   "source": [
    "my_notebook.notes"
   ]
  },
  {
   "cell_type": "code",
   "execution_count": 37,
   "id": "959a512a-7d2c-4567-91cc-faaa10637299",
   "metadata": {},
   "outputs": [
    {
     "name": "stdout",
     "output_type": "stream",
     "text": [
      "파이썬 강의\n"
     ]
    }
   ],
   "source": [
    "print(my_notebook.notes[100])"
   ]
  },
  {
   "cell_type": "code",
   "execution_count": 38,
   "id": "1ce91a9b-dcc0-4593-b2ff-90a6bb5e3086",
   "metadata": {},
   "outputs": [],
   "source": [
    "my_notebook.notes[2] = Note(\"안녕\")"
   ]
  },
  {
   "cell_type": "code",
   "execution_count": 39,
   "id": "56517fc4-2208-4a14-9a1f-11fed227ac2c",
   "metadata": {},
   "outputs": [
    {
     "name": "stdout",
     "output_type": "stream",
     "text": [
      "안녕\n"
     ]
    }
   ],
   "source": [
    "print(my_notebook.notes[2])"
   ]
  },
  {
   "cell_type": "code",
   "execution_count": null,
   "id": "521307f1-c5eb-4233-8f0b-3da13927e1f6",
   "metadata": {},
   "outputs": [],
   "source": []
  }
 ],
 "metadata": {
  "kernelspec": {
   "display_name": "Python 3 (ipykernel)",
   "language": "python",
   "name": "python3"
  },
  "language_info": {
   "codemirror_mode": {
    "name": "ipython",
    "version": 3
   },
   "file_extension": ".py",
   "mimetype": "text/x-python",
   "name": "python",
   "nbconvert_exporter": "python",
   "pygments_lexer": "ipython3",
   "version": "3.9.7"
  }
 },
 "nbformat": 4,
 "nbformat_minor": 5
}
