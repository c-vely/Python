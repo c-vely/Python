{
 "cells": [
  {
   "cell_type": "markdown",
   "id": "972c40ae-1a4f-436c-bda7-b5a75e918995",
   "metadata": {},
   "source": [
    "# * File Read"
   ]
  },
  {
   "cell_type": "code",
   "execution_count": 1,
   "id": "50207b67-17b2-4ad6-b01d-a8bac24d28eb",
   "metadata": {},
   "outputs": [
    {
     "name": "stdout",
     "output_type": "stream",
     "text": [
      "hahahahah\n",
      "\n"
     ]
    },
    {
     "data": {
      "text/plain": [
       "<function TextIOWrapper.close()>"
      ]
     },
     "execution_count": 1,
     "metadata": {},
     "output_type": "execute_result"
    }
   ],
   "source": [
    "# 1)\n",
    "f = open(\"i_have_a_dream.txt\", \"r\")\n",
    "contents = f.read()\n",
    "print(contents)\n",
    "f.close            "
   ]
  },
  {
   "cell_type": "code",
   "execution_count": 2,
   "id": "53253dcc-59bb-4208-ba61-7248d0bf687c",
   "metadata": {},
   "outputs": [
    {
     "name": "stdout",
     "output_type": "stream",
     "text": [
      "hahahahah\n",
      "\n"
     ]
    }
   ],
   "source": [
    "# 2)\n",
    "with open(\"i_have_a_dream.txt\", \"r\") as f:\n",
    "    contents = f.read()  # 통째로 읽기\n",
    "    print(contents)"
   ]
  },
  {
   "cell_type": "code",
   "execution_count": 4,
   "id": "31bdb0c7-5423-49ef-bf55-86df5158775f",
   "metadata": {},
   "outputs": [
    {
     "name": "stdout",
     "output_type": "stream",
     "text": [
      "<class 'list'>\n",
      "hahahahah\n",
      "\n"
     ]
    }
   ],
   "source": [
    "# 3) \n",
    "with open(\"i_have_a_dream.txt\", \"r\") as f:\n",
    "    contents_list = f.readlines()  # 한 줄씩 읽어 리스트에 저장\n",
    "    print(type(contents_list))\n",
    "print(contents_list[0])"
   ]
  },
  {
   "cell_type": "code",
   "execution_count": 5,
   "id": "f88a912f-08d0-4282-b082-cef0bb169371",
   "metadata": {},
   "outputs": [
    {
     "name": "stdout",
     "output_type": "stream",
     "text": [
      "0 === hahahahah\n",
      "1 === dd\n",
      "2 === d\n",
      "3 === dd\n",
      "4 === d\n",
      "5 === d\n",
      "6 === d\n",
      "7 === d\n",
      "8 === d\n",
      "9 === dddddddd\n",
      "10 === tetr\n",
      "11 === grgrg\n",
      "12 === rgr\n",
      "13 === gr\n",
      "14 === g\n",
      "15 === rg\n",
      "16 === r\n",
      "17 === g\n"
     ]
    }
   ],
   "source": [
    "with open(\"i_have_a_dream.txt\", \"r\") as my_file:\n",
    "    i = 0\n",
    "    while True:\n",
    "        line = my_file.readline()\n",
    "        if not line:\n",
    "            break\n",
    "        print(str(i) + \" === \" + line.replace(\"\\n\", \"\"))\n",
    "        i = i + 1"
   ]
  },
  {
   "cell_type": "code",
   "execution_count": 6,
   "id": "0bd2294f-cdf3-4df7-9a6b-238517376c03",
   "metadata": {},
   "outputs": [
    {
     "name": "stdout",
     "output_type": "stream",
     "text": [
      "Total Number of Characters :  63\n",
      "Total Number of Words :  1\n",
      "Total Numver of Lines :  18\n"
     ]
    }
   ],
   "source": [
    "# 단어 통계 정보 산출\n",
    "with open(\"i_have_a_dream.txt\", \"r\") as my_file:\n",
    "    contents = my_file.read()\n",
    "    word_list = contents.split(\" \")\n",
    "    line_list = contents.split(\"\\n\")\n",
    "    \n",
    "print(\"Total Number of Characters : \", len(contents))\n",
    "print(\"Total Number of Words : \", len(word_list))\n",
    "print(\"Total Numver of Lines : \", len(line_list))"
   ]
  },
  {
   "cell_type": "markdown",
   "id": "1746033e-c4d3-400a-836b-e0c44a8bac65",
   "metadata": {},
   "source": [
    "# * File Write"
   ]
  },
  {
   "cell_type": "code",
   "execution_count": 6,
   "id": "fe3b6f2c-aecb-4fc4-bc5c-3def8063eddd",
   "metadata": {},
   "outputs": [],
   "source": [
    "f = open(\".\\jupyter\\count_log.txt\", mode = \"w\", encoding=\"utf8\")\n",
    "for i in range(1, 11):\n",
    "    data = \"{0}번째 줄입니다. \\n\".format(i)\n",
    "    f.write(data)\n",
    "f.close()"
   ]
  },
  {
   "cell_type": "code",
   "execution_count": 1,
   "id": "e22dbbc6-3540-4f1c-a53e-b6bac5f365a6",
   "metadata": {},
   "outputs": [],
   "source": [
    "with open(\"count_log.txt\", mode = \"a\", encoding = \"utf8\") as f:\n",
    "    for i in range(11, 21):\n",
    "        data = \"{0}번째 줄입니다.\\n\".format(i)\n",
    "        f.write(data)"
   ]
  },
  {
   "cell_type": "markdown",
   "id": "b244d3e4-09a3-4b1b-89c5-e15891fe50ac",
   "metadata": {},
   "source": [
    "# * OS module"
   ]
  },
  {
   "cell_type": "markdown",
   "id": "fded6577-e087-420e-86f9-4e74f58673ff",
   "metadata": {},
   "source": [
    "- 폴더 만들기"
   ]
  },
  {
   "cell_type": "code",
   "execution_count": 8,
   "id": "0fa4309f-d584-4045-85d5-fe6364400233",
   "metadata": {},
   "outputs": [],
   "source": [
    "# 1)\n",
    "import os\n",
    "os.mkdir(\"log\")"
   ]
  },
  {
   "cell_type": "code",
   "execution_count": 10,
   "id": "d3dd2509-e078-434c-83ae-cd09bbf87674",
   "metadata": {},
   "outputs": [
    {
     "name": "stdout",
     "output_type": "stream",
     "text": [
      "Already created\n"
     ]
    }
   ],
   "source": [
    "# 2) 생성 + 기존 생성 여부 확인\n",
    "try:\n",
    "    os.mkdir(\"abc\")\n",
    "except FileExistsError as e:\n",
    "    print(\"Already created\")"
   ]
  },
  {
   "cell_type": "markdown",
   "id": "a6dd5e30-aa4c-4726-a5c4-67eb9592a097",
   "metadata": {},
   "source": [
    "- 기본 생성 여부 확인"
   ]
  },
  {
   "cell_type": "code",
   "execution_count": 11,
   "id": "d46423b2-c33a-4261-8309-d370988219d9",
   "metadata": {},
   "outputs": [
    {
     "name": "stdout",
     "output_type": "stream",
     "text": [
      "sorry. Already existed\n"
     ]
    }
   ],
   "source": [
    "if os.path.exists(\"abc\"):\n",
    "    print(\"sorry. Already existed\")"
   ]
  },
  {
   "cell_type": "code",
   "execution_count": 12,
   "id": "e9ee1e7e-5429-4793-a5fe-1ddfe8c4188c",
   "metadata": {},
   "outputs": [
    {
     "data": {
      "text/plain": [
       "True"
      ]
     },
     "execution_count": 12,
     "metadata": {},
     "output_type": "execute_result"
    }
   ],
   "source": [
    "os.path.exists(\"abc\")"
   ]
  },
  {
   "cell_type": "markdown",
   "id": "2e107a2b-aff1-4139-b678-9a6a27c642a6",
   "metadata": {},
   "source": [
    "# * 파일 옮기기"
   ]
  },
  {
   "cell_type": "markdown",
   "id": "7920b415-5384-4813-bab0-713abb12628e",
   "metadata": {},
   "source": [
    "- shutil"
   ]
  },
  {
   "cell_type": "code",
   "execution_count": 14,
   "id": "58a6d428-c699-4260-b65f-2add73015367",
   "metadata": {},
   "outputs": [
    {
     "data": {
      "text/plain": [
       "'abc\\\\cjs.txt'"
      ]
     },
     "execution_count": 14,
     "metadata": {},
     "output_type": "execute_result"
    }
   ],
   "source": [
    "import shutil\n",
    "\n",
    "source = \"i_have_a_dream.txt\"\n",
    "dest = os.path.join(\"abc\", \"cjs.txt\")\n",
    "shutil.copy(source, dest)  # 파일 복사 함수\n",
    "dest"
   ]
  },
  {
   "cell_type": "markdown",
   "id": "453c17f9-8bb0-44e8-be34-b6ef7f39997f",
   "metadata": {},
   "source": [
    "- pathlib"
   ]
  },
  {
   "cell_type": "code",
   "execution_count": 15,
   "id": "b3119daa-b42b-4fa4-ada0-e16fab12845f",
   "metadata": {},
   "outputs": [],
   "source": [
    "import pathlib"
   ]
  },
  {
   "cell_type": "code",
   "execution_count": 16,
   "id": "b3420718-2d2d-4404-bf60-56eeadfdddf3",
   "metadata": {},
   "outputs": [
    {
     "data": {
      "text/plain": [
       "WindowsPath('C:/Users/Sunny/dev/git/python/boostcourse/pythonAdvanced')"
      ]
     },
     "execution_count": 16,
     "metadata": {},
     "output_type": "execute_result"
    }
   ],
   "source": [
    "pathlib.Path.cwd()  # 현재 위치한 디렉토리 표시"
   ]
  },
  {
   "cell_type": "code",
   "execution_count": 19,
   "id": "3356180a-f13a-4a55-a2f9-d93878c190b1",
   "metadata": {},
   "outputs": [
    {
     "data": {
      "text/plain": [
       "WindowsPath('C:/Users/Sunny/dev/git/python/boostcourse/pythonAdvanced')"
      ]
     },
     "execution_count": 19,
     "metadata": {},
     "output_type": "execute_result"
    }
   ],
   "source": [
    "cwd = pathlib.Path.cwd()\n",
    "cwd"
   ]
  },
  {
   "cell_type": "code",
   "execution_count": 20,
   "id": "c193efb2-7765-4dbe-88fd-96ed3b697957",
   "metadata": {},
   "outputs": [
    {
     "data": {
      "text/plain": [
       "WindowsPath('C:/Users/Sunny/dev/git/python/boostcourse')"
      ]
     },
     "execution_count": 20,
     "metadata": {},
     "output_type": "execute_result"
    }
   ],
   "source": [
    "cwd.parent"
   ]
  },
  {
   "cell_type": "code",
   "execution_count": 21,
   "id": "eef43f08-3c08-457c-835f-861885a6a463",
   "metadata": {},
   "outputs": [
    {
     "data": {
      "text/plain": [
       "WindowsPath('C:/Users/Sunny/dev/git/python')"
      ]
     },
     "execution_count": 21,
     "metadata": {},
     "output_type": "execute_result"
    }
   ],
   "source": [
    "cwd.parent.parent"
   ]
  },
  {
   "cell_type": "code",
   "execution_count": 23,
   "id": "3e1d8c8c-632f-4d29-9aa8-860369a331d1",
   "metadata": {},
   "outputs": [
    {
     "data": {
      "text/plain": [
       "[WindowsPath('C:/Users/Sunny/dev/git/python'),\n",
       " WindowsPath('C:/Users/Sunny/dev/git'),\n",
       " WindowsPath('C:/Users/Sunny/dev'),\n",
       " WindowsPath('C:/Users/Sunny'),\n",
       " WindowsPath('C:/Users'),\n",
       " WindowsPath('C:/')]"
      ]
     },
     "execution_count": 23,
     "metadata": {},
     "output_type": "execute_result"
    }
   ],
   "source": [
    "list(cwd.parent.parents)"
   ]
  },
  {
   "cell_type": "code",
   "execution_count": 25,
   "id": "bc952065-2770-4351-bf10-c8c0b8a4cd62",
   "metadata": {},
   "outputs": [
    {
     "data": {
      "text/plain": [
       "[WindowsPath('C:/Users/Sunny/dev/git/python/boostcourse/pythonAdvanced/.ipynb_checkpoints'),\n",
       " WindowsPath('C:/Users/Sunny/dev/git/python/boostcourse/pythonAdvanced/abc'),\n",
       " WindowsPath('C:/Users/Sunny/dev/git/python/boostcourse/pythonAdvanced/fah_converter.py'),\n",
       " WindowsPath('C:/Users/Sunny/dev/git/python/boostcourse/pythonAdvanced/file.ipynb'),\n",
       " WindowsPath('C:/Users/Sunny/dev/git/python/boostcourse/pythonAdvanced/i_have_a_dream.txt'),\n",
       " WindowsPath('C:/Users/Sunny/dev/git/python/boostcourse/pythonAdvanced/jupyter'),\n",
       " WindowsPath('C:/Users/Sunny/dev/git/python/boostcourse/pythonAdvanced/log'),\n",
       " WindowsPath('C:/Users/Sunny/dev/git/python/boostcourse/pythonAdvanced/matplotlib_ex.py'),\n",
       " WindowsPath('C:/Users/Sunny/dev/git/python/boostcourse/pythonAdvanced/module_ex.py'),\n",
       " WindowsPath('C:/Users/Sunny/dev/git/python/boostcourse/pythonAdvanced/package_example'),\n",
       " WindowsPath('C:/Users/Sunny/dev/git/python/boostcourse/pythonAdvanced/quiz.py'),\n",
       " WindowsPath('C:/Users/Sunny/dev/git/python/boostcourse/pythonAdvanced/tqdm_ex.py'),\n",
       " WindowsPath('C:/Users/Sunny/dev/git/python/boostcourse/pythonAdvanced/__pycache__')]"
      ]
     },
     "execution_count": 25,
     "metadata": {},
     "output_type": "execute_result"
    }
   ],
   "source": [
    "list(cwd.glob(\"*\"))"
   ]
  },
  {
   "cell_type": "markdown",
   "id": "a6c1121e-6440-411d-bb57-9d2bc9edbb39",
   "metadata": {},
   "source": [
    "# * Log 파일 생성하기"
   ]
  },
  {
   "cell_type": "code",
   "execution_count": 26,
   "id": "fcabbdf0-5205-49d7-9e1a-14cb69ab2738",
   "metadata": {},
   "outputs": [],
   "source": [
    "import os\n",
    "if not os.path.exists(\"log\"):\n",
    "    os.mkdir(\"log\")\n",
    "    \n",
    "TARGET_FILE_PATH = os.path.join(\"log\", \"count_log.txt\")\n",
    "if not os.path.exists(TARGET_FILE_PATH):\n",
    "    f = open(\"log/count_log.txt\", 'w', encoding=\"utf8\")\n",
    "    f.write(\"기록이 시작됩니다.\\n\")\n",
    "    f.close()"
   ]
  },
  {
   "cell_type": "code",
   "execution_count": 28,
   "id": "45037378-cc44-4906-b7bc-f5ed95a1b5fd",
   "metadata": {},
   "outputs": [],
   "source": [
    "with open(TARGET_FILE_PATH, 'a', encoding=\"utf8\") as f:\n",
    "    \n",
    "    import random, datetime\n",
    "    \n",
    "    for i in range(1, 11):\n",
    "        stamp = str(datetime.datetime.now())\n",
    "        value = random.random() * 1000000\n",
    "        log_line = stamp + \"\\t\" + str(value) + \"값이 생성되었습니다\\n\"\n",
    "        f.write(log_line)"
   ]
  },
  {
   "cell_type": "markdown",
   "id": "8f309ae4-58fd-4d36-aadd-60bc8d54a66a",
   "metadata": {},
   "source": [
    "# * Pickel"
   ]
  },
  {
   "cell_type": "code",
   "execution_count": 30,
   "id": "64aef971-3b7a-4a4c-b8a6-b6e073ae96a7",
   "metadata": {},
   "outputs": [],
   "source": [
    "import pickle"
   ]
  },
  {
   "cell_type": "code",
   "execution_count": 31,
   "id": "7c2c19a0-7e36-45e1-9906-5266a9bbab37",
   "metadata": {},
   "outputs": [],
   "source": [
    "f = open(\"list.pickle\", \"wb\")\n",
    "test = [1, 2, 3, 4, 5]\n",
    "pickle.dump(test, f)\n",
    "f.close()"
   ]
  },
  {
   "cell_type": "code",
   "execution_count": 32,
   "id": "0e3a92a2-2490-464e-b654-23dd2965d396",
   "metadata": {},
   "outputs": [
    {
     "data": {
      "text/plain": [
       "[1, 2, 3, 4, 5]"
      ]
     },
     "execution_count": 32,
     "metadata": {},
     "output_type": "execute_result"
    }
   ],
   "source": [
    "test"
   ]
  },
  {
   "cell_type": "code",
   "execution_count": 33,
   "id": "11197d7c-7925-4ac8-b548-299f0e16ddac",
   "metadata": {},
   "outputs": [],
   "source": [
    "del test"
   ]
  },
  {
   "cell_type": "code",
   "execution_count": 34,
   "id": "9aba69d8-efde-4602-ad6c-4eba1b50fc4b",
   "metadata": {},
   "outputs": [
    {
     "ename": "NameError",
     "evalue": "name 'test' is not defined",
     "output_type": "error",
     "traceback": [
      "\u001b[1;31m---------------------------------------------------------------------------\u001b[0m",
      "\u001b[1;31mNameError\u001b[0m                                 Traceback (most recent call last)",
      "Cell \u001b[1;32mIn[34], line 1\u001b[0m\n\u001b[1;32m----> 1\u001b[0m \u001b[43mtest\u001b[49m\n",
      "\u001b[1;31mNameError\u001b[0m: name 'test' is not defined"
     ]
    }
   ],
   "source": [
    "test"
   ]
  },
  {
   "cell_type": "code",
   "execution_count": 48,
   "id": "eb671fd2-6fa5-4869-9889-a3f4924796e0",
   "metadata": {},
   "outputs": [],
   "source": [
    "f = open(\"list.pickle\", \"rb\")\n",
    "test_pickle = pickle.load(f)\n",
    "test_pickle\n",
    "f.close()"
   ]
  },
  {
   "cell_type": "code",
   "execution_count": 49,
   "id": "bafc7de9-fa68-42db-bd93-cb72f7c53d68",
   "metadata": {},
   "outputs": [
    {
     "data": {
      "text/plain": [
       "[1, 2, 3, 4, 5]"
      ]
     },
     "execution_count": 49,
     "metadata": {},
     "output_type": "execute_result"
    }
   ],
   "source": [
    "test_pickle"
   ]
  },
  {
   "cell_type": "code",
   "execution_count": 50,
   "id": "ba7adb53-5baf-4be2-bebf-d59fa142f3fb",
   "metadata": {},
   "outputs": [],
   "source": [
    "class Multiply(object):\n",
    "    def __init__(self, multiplier):\n",
    "        self.multiplier = multiplier\n",
    "        \n",
    "    def multiply(self, number):\n",
    "        return number * self.multiplier"
   ]
  },
  {
   "cell_type": "code",
   "execution_count": 51,
   "id": "314bf1bc-0722-4aa7-be67-970b0338b113",
   "metadata": {},
   "outputs": [
    {
     "data": {
      "text/plain": [
       "500"
      ]
     },
     "execution_count": 51,
     "metadata": {},
     "output_type": "execute_result"
    }
   ],
   "source": [
    "muliply = Multiply(5)\n",
    "muliply.multiply(100)"
   ]
  },
  {
   "cell_type": "code",
   "execution_count": 52,
   "id": "3b36e8fd-71d3-4c66-9d79-cda561a4c828",
   "metadata": {},
   "outputs": [],
   "source": [
    "f = open(\"multiply_object.pickle\", \"wb\")\n",
    "pickle.dump(muliply, f)\n",
    "f.close()"
   ]
  },
  {
   "cell_type": "code",
   "execution_count": 53,
   "id": "3f163e7b-16de-435d-9475-9d37fbaa2cea",
   "metadata": {},
   "outputs": [],
   "source": [
    "del muliply"
   ]
  },
  {
   "cell_type": "markdown",
   "id": "13232614-0be7-4038-9b8f-5f9b7cf2296f",
   "metadata": {},
   "source": [
    "muliply"
   ]
  },
  {
   "cell_type": "code",
   "execution_count": 54,
   "id": "0db03925-cd2e-4e86-8a86-3d594a62e6ca",
   "metadata": {},
   "outputs": [],
   "source": [
    "f = open(\"multiply_object.pickle\", \"rb\")\n",
    "multiply_pickle = pickle.load(f)"
   ]
  },
  {
   "cell_type": "code",
   "execution_count": 55,
   "id": "c24f4079-15fd-496d-a3b9-bd9c57b301b4",
   "metadata": {},
   "outputs": [
    {
     "data": {
      "text/plain": [
       "<__main__.Multiply at 0x17e9bf89b20>"
      ]
     },
     "execution_count": 55,
     "metadata": {},
     "output_type": "execute_result"
    }
   ],
   "source": [
    "multiply_pickle"
   ]
  },
  {
   "cell_type": "code",
   "execution_count": 56,
   "id": "3728ddc8-a21c-4c1f-8c70-a1a61e64fcd7",
   "metadata": {},
   "outputs": [
    {
     "data": {
      "text/plain": [
       "500"
      ]
     },
     "execution_count": 56,
     "metadata": {},
     "output_type": "execute_result"
    }
   ],
   "source": [
    "multiply_pickle.multiply(100)"
   ]
  },
  {
   "cell_type": "code",
   "execution_count": 57,
   "id": "8635d607-2b1c-454f-81a1-8425cd706829",
   "metadata": {},
   "outputs": [],
   "source": [
    "f.close()"
   ]
  },
  {
   "cell_type": "code",
   "execution_count": null,
   "id": "ab8a38c2-9cbd-40a2-a63b-a7481c3bd606",
   "metadata": {},
   "outputs": [],
   "source": []
  }
 ],
 "metadata": {
  "kernelspec": {
   "display_name": "Python 3 (ipykernel)",
   "language": "python",
   "name": "python3"
  },
  "language_info": {
   "codemirror_mode": {
    "name": "ipython",
    "version": 3
   },
   "file_extension": ".py",
   "mimetype": "text/x-python",
   "name": "python",
   "nbconvert_exporter": "python",
   "pygments_lexer": "ipython3",
   "version": "3.9.7"
  }
 },
 "nbformat": 4,
 "nbformat_minor": 5
}
