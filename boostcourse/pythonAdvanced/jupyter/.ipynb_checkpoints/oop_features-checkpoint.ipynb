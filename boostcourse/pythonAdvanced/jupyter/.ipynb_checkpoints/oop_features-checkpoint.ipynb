{
 "cells": [
  {
   "cell_type": "markdown",
   "id": "5731c34b-a7ec-4dab-b439-a1259b8f0156",
   "metadata": {},
   "source": [
    "# * Inheritance"
   ]
  },
  {
   "cell_type": "code",
   "execution_count": 1,
   "id": "3b09720c-06c9-4e9c-9cc6-1e6e4f1ef811",
   "metadata": {},
   "outputs": [],
   "source": [
    "class Person(object):\n",
    "    def __init__(self, name, age):\n",
    "        self.name = name\n",
    "        self.age = age\n",
    "        \n",
    "    def __str__(self):\n",
    "        return \"저의 이름은 {0} 입니다. 나이는 {1} 입니다.\".format(self.name, self.age)"
   ]
  },
  {
   "cell_type": "code",
   "execution_count": 2,
   "id": "f8dcc3b0-3694-4131-858f-81621ce1d633",
   "metadata": {},
   "outputs": [],
   "source": [
    "class Korean(Person):\n",
    "    pass"
   ]
  },
  {
   "cell_type": "code",
   "execution_count": 3,
   "id": "cf3870ff-8ba1-4371-a4a8-a0f936a0058e",
   "metadata": {},
   "outputs": [
    {
     "name": "stdout",
     "output_type": "stream",
     "text": [
      "저의 이름은 Sungchul 입니다. 나이는 35 입니다.\n"
     ]
    }
   ],
   "source": [
    "first_korean = Korean(\"Sungchul\", 35)\n",
    "print(first_korean)"
   ]
  },
  {
   "cell_type": "code",
   "execution_count": 6,
   "id": "97c7e195-064d-489b-a864-0419d866b467",
   "metadata": {},
   "outputs": [],
   "source": [
    "# 부모 클래스 Person 선언\n",
    "class Person:\n",
    "    def __init__(self, name, age, gender):  # 속성값 지정\n",
    "        self.name = name\n",
    "        self.age = age\n",
    "        self.gender = gender\n",
    "        \n",
    "    def about_me(self):  # Method 선언\n",
    "        print(\"저의 이름은 \", self.name, \"이구요, 제 나이는 \" , str(self.age), \"살 입니다.\")\n",
    "        \n",
    "    def __str__(self):\n",
    "        return \"저의 이름은\", self.name, \"이구요, 제 나이는 \", str(self.age), \"살 입니다.\""
   ]
  },
  {
   "cell_type": "code",
   "execution_count": 12,
   "id": "31b45d36-3371-45f7-92d1-68a9906447f2",
   "metadata": {},
   "outputs": [],
   "source": [
    "# 부모클래스 Person으로부터 상속\n",
    "class Employee(Person):\n",
    "    def __init__(self, name, age, gender, salary, hire_date):\n",
    "        super().__init__(name, age, gender)  # 부모 객체 사용\n",
    "        self.salary = salary\n",
    "        self.hire_date = hire_date  # 속성값 추가\n",
    "        \n",
    "    def do_work(self):  # 새로운 메서드 추가\n",
    "        print(\"열심히 일을 합니다.\")\n",
    "        \n",
    "    def about_me(self):  # 부모 클래스 함수 재정의\n",
    "        super().about_me()  # 보무 클래스 함수 사용\n",
    "        print(\"제 급여는 \", self.salary, \"원 이구요, 제 입사일은 \", self.hire_date, \"입니다.\")                       "
   ]
  },
  {
   "cell_type": "code",
   "execution_count": 13,
   "id": "8a989532-c7f3-441c-8c1b-d18b33179ec1",
   "metadata": {},
   "outputs": [
    {
     "name": "stdout",
     "output_type": "stream",
     "text": [
      "저의 이름은  Daeho 이구요, 제 나이는  34 살 입니다.\n",
      "제 급여는  3000000 원 이구요, 제 입사일은  2012/03/01 입니다.\n"
     ]
    }
   ],
   "source": [
    "myPerson = Person(\"John\", 34, \"Male\")\n",
    "myEmployee = Employee(\"Daeho\", 34, \"Male\", 3000000, \"2012/03/01\")\n",
    "myEmployee.about_me()"
   ]
  },
  {
   "cell_type": "markdown",
   "id": "db278cc2-fa81-49ae-b2ed-d59e58e379db",
   "metadata": {},
   "source": [
    "# * Polymorphism"
   ]
  },
  {
   "cell_type": "code",
   "execution_count": 21,
   "id": "8e70cc26-4324-447a-9585-8872d4f34bd5",
   "metadata": {},
   "outputs": [],
   "source": [
    "class Animal:\n",
    "    def __init__(self, name):\n",
    "        self.name = name\n",
    "        \n",
    "    def talk(self): \n",
    "        raise NotImplementedError(\"Subclass must implement abstract method\")"
   ]
  },
  {
   "cell_type": "code",
   "execution_count": 22,
   "id": "61de0647-91af-4460-9fc3-b6691152dd52",
   "metadata": {},
   "outputs": [],
   "source": [
    "class Cat(Animal):\n",
    "    def talk(self):\n",
    "        return 'Meow!'\n",
    "    \n",
    "class Dog(Animal):\n",
    "    def talk(self):\n",
    "        return 'Woof! Woof!'"
   ]
  },
  {
   "cell_type": "code",
   "execution_count": 24,
   "id": "871dc1fc-9227-4553-8347-101852cebec6",
   "metadata": {},
   "outputs": [
    {
     "name": "stdout",
     "output_type": "stream",
     "text": [
      "Missy : Meow!\n",
      "Mr.Mistoffelees : Meow!\n",
      "Lassie : Woof! Woof!\n"
     ]
    }
   ],
   "source": [
    "animals = [Cat('Missy'), \n",
    "           Cat('Mr.Mistoffelees'), \n",
    "           Dog('Lassie')]\n",
    "\n",
    "for animal in animals:\n",
    "    print(animal.name + ' : ' + animal.talk())"
   ]
  },
  {
   "cell_type": "markdown",
   "id": "3ea5d694-c6ea-4066-9120-a740ec7adecd",
   "metadata": {},
   "source": [
    "# * Visibility"
   ]
  },
  {
   "cell_type": "code",
   "execution_count": 25,
   "id": "7f178032-0f26-4167-b487-b2e3907e088c",
   "metadata": {},
   "outputs": [],
   "source": [
    "class Product(object):\n",
    "    pass"
   ]
  },
  {
   "cell_type": "code",
   "execution_count": 26,
   "id": "8e056544-6728-4304-b235-eb7ea54581ff",
   "metadata": {},
   "outputs": [],
   "source": [
    "class Inventory(object):\n",
    "    def __init__(self):\n",
    "        self.items = []\n",
    "        self.test = \"abc\"\n",
    "        \n",
    "    def add_new_item(self, product):\n",
    "        if type(product) == Product:\n",
    "            self.items.append(product)\n",
    "            print(\"new item added\")\n",
    "        else:\n",
    "            raise ValueError(\"Invalid Item\")\n",
    "        \n",
    "    def get_number_of_items(self):\n",
    "        return len(self.items)"
   ]
  },
  {
   "cell_type": "code",
   "execution_count": 30,
   "id": "2381d03d-6905-4e2f-836a-f854aa561f1f",
   "metadata": {},
   "outputs": [
    {
     "name": "stdout",
     "output_type": "stream",
     "text": [
      "new item added\n",
      "new item added\n"
     ]
    },
    {
     "data": {
      "text/plain": [
       "<__main__.Inventory at 0x1f4680326d0>"
      ]
     },
     "execution_count": 30,
     "metadata": {},
     "output_type": "execute_result"
    }
   ],
   "source": [
    "my_inventory = Inventory()\n",
    "my_inventory.add_new_item(Product())\n",
    "my_inventory.add_new_item(Product())\n",
    "my_inventory"
   ]
  },
  {
   "cell_type": "code",
   "execution_count": 31,
   "id": "5ca1b65b-1611-4993-9e8b-f056b89d847b",
   "metadata": {},
   "outputs": [
    {
     "data": {
      "text/plain": [
       "[<__main__.Product at 0x1f4683bb850>, <__main__.Product at 0x1f468032790>]"
      ]
     },
     "execution_count": 31,
     "metadata": {},
     "output_type": "execute_result"
    }
   ],
   "source": [
    "my_inventory.items"
   ]
  },
  {
   "cell_type": "code",
   "execution_count": 35,
   "id": "b72bf42a-42a6-494a-9bc0-cd1da47eaf8a",
   "metadata": {},
   "outputs": [
    {
     "data": {
      "text/plain": [
       "[<__main__.Product at 0x1f4683bb850>,\n",
       " <__main__.Product at 0x1f468032790>,\n",
       " 'abc',\n",
       " 'abc',\n",
       " 'abc',\n",
       " 'abc',\n",
       " 'abc',\n",
       " 'abc',\n",
       " 'abc',\n",
       " 'abc',\n",
       " 'abc',\n",
       " 'abc',\n",
       " 'abc',\n",
       " 'abc']"
      ]
     },
     "execution_count": 35,
     "metadata": {},
     "output_type": "execute_result"
    }
   ],
   "source": [
    "# 변수에 접근 가능 --> 좋지 않음\n",
    "my_inventory.items.append(\"abc\")\n",
    "my_inventory.items.append(\"abc\")\n",
    "my_inventory.items.append(\"abc\")\n",
    "my_inventory.items.append(\"abc\")\n",
    "my_inventory.items"
   ]
  },
  {
   "cell_type": "code",
   "execution_count": 36,
   "id": "99e36100-e74a-4244-9ce1-e36370599acf",
   "metadata": {},
   "outputs": [],
   "source": [
    "class Inventory(object):\n",
    "    def __init__(self):\n",
    "        self.__items = []\n",
    "        \n",
    "    def add_new_item(self, product):\n",
    "        if type(product) == Product:\n",
    "            self.__items.append(product)\n",
    "            print(\"new item added\")\n",
    "        else:\n",
    "            raise ValueError(\"Invalid Item\")\n",
    "        \n",
    "    def get_number_of_items(self):\n",
    "        return len(self.__items)"
   ]
  },
  {
   "cell_type": "code",
   "execution_count": 37,
   "id": "a206b672-c6a9-4ac1-9cba-59840f60052d",
   "metadata": {},
   "outputs": [
    {
     "name": "stdout",
     "output_type": "stream",
     "text": [
      "new item added\n",
      "new item added\n"
     ]
    },
    {
     "data": {
      "text/plain": [
       "<__main__.Inventory at 0x1f467eec400>"
      ]
     },
     "execution_count": 37,
     "metadata": {},
     "output_type": "execute_result"
    }
   ],
   "source": [
    "my_inventory = Inventory()\n",
    "my_inventory.add_new_item(Product())\n",
    "my_inventory.add_new_item(Product())\n",
    "my_inventory"
   ]
  },
  {
   "cell_type": "code",
   "execution_count": 40,
   "id": "e5fb4b9f-633d-497d-8b6d-0ca62688d73d",
   "metadata": {},
   "outputs": [
    {
     "ename": "AttributeError",
     "evalue": "'Inventory' object has no attribute '__items'",
     "output_type": "error",
     "traceback": [
      "\u001b[1;31m---------------------------------------------------------------------------\u001b[0m",
      "\u001b[1;31mAttributeError\u001b[0m                            Traceback (most recent call last)",
      "Cell \u001b[1;32mIn[40], line 2\u001b[0m\n\u001b[0;32m      1\u001b[0m \u001b[38;5;66;03m# 접근이 안 됨\u001b[39;00m\n\u001b[1;32m----> 2\u001b[0m \u001b[38;5;28mprint\u001b[39m(\u001b[43mmy_inventory\u001b[49m\u001b[38;5;241;43m.\u001b[39;49m\u001b[43m__items\u001b[49m)\n\u001b[0;32m      4\u001b[0m \u001b[38;5;66;03m# 추가도 안됨\u001b[39;00m\n\u001b[0;32m      5\u001b[0m my_inventory\u001b[38;5;241m.\u001b[39m__items\u001b[38;5;241m.\u001b[39mappend(\u001b[38;5;124m\"\u001b[39m\u001b[38;5;124mabd\u001b[39m\u001b[38;5;124m\"\u001b[39m)\n",
      "\u001b[1;31mAttributeError\u001b[0m: 'Inventory' object has no attribute '__items'"
     ]
    }
   ],
   "source": [
    "# 접근이 안 됨\n",
    "print(my_inventory.__items)\n",
    "\n",
    "# 추가도 안됨\n",
    "my_inventory.__items.append(\"abd\")"
   ]
  },
  {
   "cell_type": "code",
   "execution_count": 48,
   "id": "58d8dd55-5217-4889-bd5d-ce484d94967c",
   "metadata": {},
   "outputs": [],
   "source": [
    "class Inventory(object):\n",
    "    def __init__(self):\n",
    "        self.__items = []\n",
    "    \n",
    "    # 숨겨진 변수에 접근 가능해 짐 \n",
    "    @property  \n",
    "    def items(self):\n",
    "        return self.__items\n",
    "        \n",
    "    def add_new_item(self, product):\n",
    "        if type(product) == Product:\n",
    "            self.__items.append(product)\n",
    "            print(\"new item added\")\n",
    "        else:\n",
    "            raise ValueError(\"Invalid Item\")\n",
    "        \n",
    "    def get_number_of_items(self):\n",
    "        return len(self.__items)   "
   ]
  },
  {
   "cell_type": "code",
   "execution_count": 49,
   "id": "48d0457a-cdb0-4f96-a14d-11b3e5e24db3",
   "metadata": {},
   "outputs": [
    {
     "name": "stdout",
     "output_type": "stream",
     "text": [
      "new item added\n",
      "new item added\n"
     ]
    },
    {
     "data": {
      "text/plain": [
       "<__main__.Inventory at 0x1f467ee2d00>"
      ]
     },
     "execution_count": 49,
     "metadata": {},
     "output_type": "execute_result"
    }
   ],
   "source": [
    "my_inventory = Inventory()\n",
    "my_inventory.add_new_item(Product())\n",
    "my_inventory.add_new_item(Product())\n",
    "my_inventory"
   ]
  },
  {
   "cell_type": "code",
   "execution_count": 50,
   "id": "fba79094-6b44-412d-af82-fbddcbdc3ab1",
   "metadata": {},
   "outputs": [
    {
     "ename": "AttributeError",
     "evalue": "'Inventory' object has no attribute '__items'",
     "output_type": "error",
     "traceback": [
      "\u001b[1;31m---------------------------------------------------------------------------\u001b[0m",
      "\u001b[1;31mAttributeError\u001b[0m                            Traceback (most recent call last)",
      "Cell \u001b[1;32mIn[50], line 2\u001b[0m\n\u001b[0;32m      1\u001b[0m \u001b[38;5;66;03m# 접근 불가능\u001b[39;00m\n\u001b[1;32m----> 2\u001b[0m \u001b[43mmy_inventory\u001b[49m\u001b[38;5;241;43m.\u001b[39;49m\u001b[43m__items\u001b[49m\n",
      "\u001b[1;31mAttributeError\u001b[0m: 'Inventory' object has no attribute '__items'"
     ]
    }
   ],
   "source": [
    "# 접근 불가능\n",
    "my_inventory.__items"
   ]
  },
  {
   "cell_type": "code",
   "execution_count": 51,
   "id": "867cbee1-bb79-4e6b-a2ff-3f611818bed0",
   "metadata": {},
   "outputs": [
    {
     "data": {
      "text/plain": [
       "[<__main__.Product at 0x1f4682b5ee0>, <__main__.Product at 0x1f468539520>]"
      ]
     },
     "execution_count": 51,
     "metadata": {},
     "output_type": "execute_result"
    }
   ],
   "source": [
    "# 접근 가능\n",
    "my_inventory.items"
   ]
  },
  {
   "cell_type": "code",
   "execution_count": 53,
   "id": "6218c64b-eabc-4d44-8850-ffc1143380e7",
   "metadata": {},
   "outputs": [
    {
     "data": {
      "text/plain": [
       "[<__main__.Product at 0x1f4682b5ee0>,\n",
       " <__main__.Product at 0x1f468539520>,\n",
       " 'a',\n",
       " 'a']"
      ]
     },
     "execution_count": 53,
     "metadata": {},
     "output_type": "execute_result"
    }
   ],
   "source": [
    "# 추가 가능\n",
    "my_inventory.items.append(\"a\")\n",
    "my_inventory.items"
   ]
  },
  {
   "cell_type": "markdown",
   "id": "eb9e4e01-a90d-48d4-96ea-780aef61b8e4",
   "metadata": {},
   "source": [
    "# * decorate"
   ]
  },
  {
   "cell_type": "code",
   "execution_count": 55,
   "id": "8fe13dcc-44ae-47af-987d-86ceacc74c1e",
   "metadata": {},
   "outputs": [
    {
     "name": "stdout",
     "output_type": "stream",
     "text": [
      "******************************\n",
      "Hello\n",
      "******************************\n"
     ]
    }
   ],
   "source": [
    "def star(func):\n",
    "    def inner(*args, **kwargs):\n",
    "        print(\"*\" * 30)\n",
    "        func(*args, **kwargs)\n",
    "        print(\"*\" * 30)\n",
    "    return inner\n",
    "\n",
    "@star\n",
    "def printer(msg):\n",
    "    print(msg)\n",
    "printer(\"Hello\")"
   ]
  },
  {
   "cell_type": "code",
   "execution_count": 58,
   "id": "ffca3820-1fee-4466-9e45-1b8d5b46c2f6",
   "metadata": {},
   "outputs": [],
   "source": [
    "def generate_power(exponent):\n",
    "    def wrapper(f):\n",
    "        def inner(*args):\n",
    "            result = f(*args)\n",
    "            return exponent**result\n",
    "        return inner\n",
    "    return wrapper\n",
    "\n",
    "@generate_power(2)\n",
    "def raise_two(n):\n",
    "    return n**2"
   ]
  },
  {
   "cell_type": "code",
   "execution_count": 59,
   "id": "d5f2db2b-fb65-4e58-9cf4-28cbde06ada5",
   "metadata": {},
   "outputs": [
    {
     "name": "stdout",
     "output_type": "stream",
     "text": [
      "562949953421312\n"
     ]
    }
   ],
   "source": [
    "print(raise_two(7))"
   ]
  }
 ],
 "metadata": {
  "kernelspec": {
   "display_name": "Python 3 (ipykernel)",
   "language": "python",
   "name": "python3"
  },
  "language_info": {
   "codemirror_mode": {
    "name": "ipython",
    "version": 3
   },
   "file_extension": ".py",
   "mimetype": "text/x-python",
   "name": "python",
   "nbconvert_exporter": "python",
   "pygments_lexer": "ipython3",
   "version": "3.9.7"
  }
 },
 "nbformat": 4,
 "nbformat_minor": 5
}
