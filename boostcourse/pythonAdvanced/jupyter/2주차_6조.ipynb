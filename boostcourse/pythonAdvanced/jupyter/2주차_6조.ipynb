{
 "cells": [
  {
   "cell_type": "markdown",
   "id": "0d177087",
   "metadata": {},
   "source": [
    "### 📌Q1. 중간고사 기말고사 점수를 따로 받아 저장하는 클래스를 구현해보세요. \n",
    "\n",
    "* 단, 생성자의 인스턴스는 private으로 선언되어야하며, 데코레이터를 이용해 데이터를 저장하고, 함수를 이용해 평균값을 출력해보세요.\n",
    "\n",
    "* 자료형의 선언과 데코레이터를 이용해보세요."
   ]
  },
  {
   "cell_type": "code",
   "execution_count": 57,
   "id": "b15f35e0",
   "metadata": {},
   "outputs": [
    {
     "name": "stdout",
     "output_type": "stream",
     "text": [
      "62.5\n"
     ]
    }
   ],
   "source": [
    "class Score(): # 클래스 선언\n",
    "    def __init__(self, mid : int, final: int): # 객체 생성시 인스턴스 초기화 (초기생성자)\n",
    "        self.__mid = mid  #__변수명 --> private선언할 때 사용\n",
    "        self.__final = final\n",
    "         \n",
    "    @property  # private된 변수를 반환할 때 사용\n",
    "    def mid(self): # 데코레이터를 이용하여 메소드(함수) 생성 (중간고사 점수 저장)\n",
    "        return self.__mid\n",
    "    \n",
    "    @property\n",
    "    def final(self):  #데코레이터를 이용하여 메소드(함수) 생성 (기말고사 점수 저장)\n",
    "        return self.__final\n",
    "    \n",
    "score = Score(50, 75) # Score 클래스에 속하는 인스턴스로 score 객체 생성\n",
    "print((score.mid + score.final)/2)"
   ]
  },
  {
   "cell_type": "markdown",
   "id": "33e24780",
   "metadata": {},
   "source": [
    "### 📌Q2. 다양한 탈 것을 사용하는 게임을 구현해보세요.\n",
    "\n",
    "* 빠른 구현을 위해서 이미 구현한 Car 클래스를 이용해서 Bike라는 클래스를 새로 제작하려고 합니다. Car 클래스를 상속받아서 새로운 Bike 클래스를 아래와 같이 출력되도록 구성해보세요.\n",
    "* Bike class는 size 인자를 추가로 가집니다."
   ]
  },
  {
   "cell_type": "code",
   "execution_count": 58,
   "id": "fcd64add",
   "metadata": {},
   "outputs": [
    {
     "name": "stdout",
     "output_type": "stream",
     "text": [
      "gas 2 small\n"
     ]
    }
   ],
   "source": [
    "class Car(): # Car 클래스\n",
    "\n",
    "    def __init__(self, fuel, wheels) : # 객체 생성시 변수 초기화 함수\n",
    "        self.fuel = fuel\n",
    "        self.wheels = wheels\n",
    "\n",
    "class Bike(Car): # Bike 클래스 (Car 클래스 상속)\n",
    "    def __init__(self, fuel, wheels, size):\n",
    "        # 객체 생성시 변수 초기화 함수\n",
    "        # - Car Class 상속 fuel : str, 연료 종류 wheels : int, 바퀴 수\n",
    "        # - 추가 변수 size : str, 크기\n",
    "        super().__init__(fuel, wheels)\n",
    "        self.size = size # 속성 값 추가 (자식 클래스에 추가된 속성)\n",
    "        \n",
    "bike = Bike(\"gas\",2,\"small\") # Bike클래스에 속하는 인스턴스 bike를 생성 \n",
    "print (bike.fuel, bike.wheels, bike.size) \n",
    "    "
   ]
  },
  {
   "cell_type": "markdown",
   "id": "ff569fb3",
   "metadata": {},
   "source": [
    "### 📌Q3. 이번 시험 결과에 대한 데이터를 학과 사무실에서 CSV파일로 전달해줬습니다. 우리는 이 파일을 이용해서 데이터 처리를 진행해야 합니다. 파일 입출력을 이용해 파일 데이터를 리스트로 만들어보세요.\n",
    "\n",
    "* 파일 입출력에 사용하는 open 함수를 이용해 CSV 파일 내부의 데이터를 읽어보세요"
   ]
  },
  {
   "cell_type": "code",
   "execution_count": 59,
   "id": "486645eb",
   "metadata": {},
   "outputs": [
    {
     "name": "stdout",
     "output_type": "stream",
     "text": [
      "['73', '80', '75', '152'],\n",
      "['93', '88', '93', '185'],\n",
      "['89', '91', '90', '180'],\n",
      "['96', '98', '100', '196'],\n",
      "['73', '66', '70', '142'],\n",
      "['53', '46', '55', '101'],\n",
      "['69', '74', '77', '149'],\n",
      "['47', '56', '60', '115'],\n",
      "['87', '79', '90', '175'],\n",
      "['79', '70', '88', '164'],\n",
      "['69', '70', '73', '141'],\n",
      "['70', '65', '74', '141'],\n",
      "['93', '95', '91', '184'],\n",
      "['79', '80', '73', '152'],\n",
      "['70', '73', '78', '148'],\n",
      "['93', '89', '96', '192'],\n",
      "['78', '75', '68', '147'],\n",
      "['81', '90', '93', '183'],\n",
      "['88', '92', '86', '177'],\n",
      "['78', '83', '77', '159'],\n",
      "['82', '86', '90', '177'],\n",
      "['86', '82', '89', '175'],\n",
      "['78', '83', '85', '175'],\n",
      "['76', '83', '71', '149'],\n",
      "['96', '93', '95', '192']\n"
     ]
    }
   ],
   "source": [
    "def read_file(file_path):\n",
    "    name = file_path + \"\\\\data-01-test-score.csv\"\n",
    "    f = open(name, \"r\")\n",
    "    data = []\n",
    "    temp = f.read().split(\"\\n\")\n",
    "    for i in range(len(temp)):\n",
    "        data.append(temp[i].split(\",\"))\n",
    "        \n",
    "    f.close()\n",
    "    \n",
    "    return data\n",
    "print(*read_file(\"C:\\\\Users\\\\user\\\\코칭스터디9기\"), sep=',\\n') # *를 사용하여 한줄씩 출력"
   ]
  },
  {
   "cell_type": "markdown",
   "id": "6f3235c8",
   "metadata": {},
   "source": [
    "### 📌Q4. 우리는 방금 CSV 파일을 읽는 함수를 구현해보았습니다. 하지만 이를 조금 더 효율적으로 사용하기 위해서 클래스로 구성을 진행하려고 합니다. 방금 구현한 함수를 포함한 클래스를 구현해보세요.\n",
    "\n",
    "* merge list를 이용해 리스트 내 데이터의 합을 출력해보세요.\n",
    "\n",
    "* 데이터를 합치기 전 데이터의 자료형을 변경해보세요."
   ]
  },
  {
   "cell_type": "code",
   "execution_count": 60,
   "id": "4921f335",
   "metadata": {},
   "outputs": [
    {
     "name": "stdout",
     "output_type": "stream",
     "text": [
      "[73, 80, 75, 152],\n",
      "[93, 88, 93, 185],\n",
      "[89, 91, 90, 180],\n",
      "[96, 98, 100, 196],\n",
      "[73, 66, 70, 142],\n",
      "[53, 46, 55, 101],\n",
      "[69, 74, 77, 149],\n",
      "[47, 56, 60, 115],\n",
      "[87, 79, 90, 175],\n",
      "[79, 70, 88, 164],\n",
      "[69, 70, 73, 141],\n",
      "[70, 65, 74, 141],\n",
      "[93, 95, 91, 184],\n",
      "[79, 80, 73, 152],\n",
      "[70, 73, 78, 148],\n",
      "[93, 89, 96, 192],\n",
      "[78, 75, 68, 147],\n",
      "[81, 90, 93, 183],\n",
      "[88, 92, 86, 177],\n",
      "[78, 83, 77, 159],\n",
      "[82, 86, 90, 177],\n",
      "[86, 82, 89, 175],\n",
      "[78, 83, 85, 175],\n",
      "[76, 83, 71, 149],\n",
      "[96, 93, 95, 192]\n",
      "[380, 459, 450, 490, 351, 255, 369, 278, 431, 401, 353, 350, 463, 384, 369, 470, 368, 447, 443, 397, 435, 432, 421, 379, 476]\n"
     ]
    }
   ],
   "source": [
    "class ReadCSV():\n",
    "    def __init__(self, file_path):\n",
    "        name = file_path + \"\\\\data-01-test-score.csv\"\n",
    "        f = open(name, \"r\")\n",
    "        self.data = []\n",
    "        temp = f.read().split(\"\\n\")\n",
    "        for i in range(len(temp)):\n",
    "            self.data.append(temp[i].split(\",\"))\n",
    "        \n",
    "        for i in range(len(self.data)):\n",
    "            for j in range(len(self.data[i])):\n",
    "                self.data[i][j] = int(self.data[i][j]) # 초기값부터 리스트 안의 문자열 정수로 변환\n",
    "                \n",
    "        f.close()\n",
    "        \n",
    "    def read_file(self):               \n",
    "        return self.data\n",
    "    \n",
    "    def merge_list(self):\n",
    "        merge = []\n",
    "        for i in range(len(self.data)):\n",
    "            merge.append(sum(self.data[i]))\n",
    "            \n",
    "        return merge\n",
    "\n",
    "read_csv = ReadCSV(\"C:\\\\Users\\\\user\\\\코칭스터디9기\")\n",
    "print(*read_csv.read_file(), sep =',\\n')\n",
    "print(read_csv.merge_list())\n",
    "               \n",
    "               "
   ]
  },
  {
   "cell_type": "markdown",
   "id": "9dd13b7b",
   "metadata": {},
   "source": [
    "### 📌Q5. 이전에 구현한 클래스에서 merge_list의 함수 동작을 변경해야합니다. 단순합계가 아닌 평균을 구하는 함수로 변경해보세요.\n",
    "\n",
    "* 리스트의 데이터를 다루는 함수를 이용해서 구현해보세요.\n",
    "\n",
    "* 최종 평균을 구한 후 오름차순으로 정렬해주세요."
   ]
  },
  {
   "cell_type": "code",
   "execution_count": 56,
   "id": "871d6a66",
   "metadata": {},
   "outputs": [
    {
     "name": "stdout",
     "output_type": "stream",
     "text": [
      "[63.75, 69.5, 87.5, 87.75, 88.25, 92.0, 92.25, 92.25, 94.75, 95.0, 96.0, 99.25, 100.25, 105.25, 107.75, 108.0, 108.75, 110.75, 111.75, 112.5, 114.75, 115.75, 117.5, 119.0, 122.5]\n"
     ]
    }
   ],
   "source": [
    "class ReadCSV():\n",
    "    def __init__(self, file_path):\n",
    "        name = file_path + \"\\\\data-01-test-score.csv\"\n",
    "        f = open(name, \"r\")\n",
    "        self.data = []\n",
    "        temp = f.read().split(\"\\n\")\n",
    "        for i in range(len(temp)):\n",
    "            self.data.append(temp[i].split(\",\"))\n",
    "        \n",
    "        for i in range(len(self.data)):\n",
    "            for j in range(len(self.data[i])):\n",
    "                self.data[i][j] = int(self.data[i][j])\n",
    "                \n",
    "        f.close()\n",
    "\n",
    "    \n",
    "    def merge_list(self):\n",
    "        merge = []\n",
    "        for i in range(len(self.data)):\n",
    "            merge.append(sum(self.data[i])/len(self.data[i]))\n",
    "            \n",
    "        merge.sort()\n",
    "        return merge\n",
    "    \n",
    "read_csv = ReadCSV(\"C:\\\\Users\\\\user\\\\코칭스터디9기\")\n",
    "print(read_csv.merge_list())\n",
    "               \n",
    "        "
   ]
  }
 ],
 "metadata": {
  "kernelspec": {
   "display_name": "Python 3 (ipykernel)",
   "language": "python",
   "name": "python3"
  },
  "language_info": {
   "codemirror_mode": {
    "name": "ipython",
    "version": 3
   },
   "file_extension": ".py",
   "mimetype": "text/x-python",
   "name": "python",
   "nbconvert_exporter": "python",
   "pygments_lexer": "ipython3",
   "version": "3.9.12"
  }
 },
 "nbformat": 4,
 "nbformat_minor": 5
}
