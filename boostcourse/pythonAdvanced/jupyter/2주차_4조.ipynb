{
  "nbformat": 4,
  "nbformat_minor": 0,
  "metadata": {
    "colab": {
      "provenance": []
    },
    "kernelspec": {
      "name": "python3",
      "display_name": "Python 3"
    },
    "language_info": {
      "name": "python"
    }
  },
  "cells": [
    {
      "cell_type": "markdown",
      "source": [
        "# 1번 문제"
      ],
      "metadata": {
        "id": "lcjFY_VLtfLE"
      }
    },
    {
      "cell_type": "code",
      "source": [
        "class Score():\n",
        "    def __init__(score, mid, final):\n",
        "        score.mid = mid\n",
        "        score.final = final\n",
        "\n",
        "score = Score(50,75)\n",
        "print((score.mid + score.final)/2)"
      ],
      "metadata": {
        "id": "NUCjM_5XtdUM",
        "colab": {
          "base_uri": "https://localhost:8080/"
        },
        "outputId": "8838d080-ce04-4d9b-9b7b-8272bb79649f"
      },
      "execution_count": 8,
      "outputs": [
        {
          "output_type": "stream",
          "name": "stdout",
          "text": [
            "62.5\n"
          ]
        }
      ]
    },
    {
      "cell_type": "markdown",
      "source": [
        "# 2번 문제"
      ],
      "metadata": {
        "id": "CGyAPcbUEm_C"
      }
    },
    {
      "cell_type": "code",
      "source": [
        "class Car():\n",
        "  def __init__(self, fuel, wheels) :\n",
        "    self.fuel = fuel\n",
        "    self.wheels = wheels\n",
        "\n",
        "#기본적으로 Car를 상속하되, 추가 인자인 size를 받을 수 있는 생성자를 새로 만든다.\n",
        "class Bike(Car):\n",
        "  def __init__(self, fuel, wheels, size):\n",
        "    self.fuel = fuel\n",
        "    self.wheels = wheels\n",
        "    self.size = size\n",
        "\n",
        "bike = Bike(\"gas\", 2, \"small\")\n",
        "print(bike.fuel, bike.wheels, bike.size) "
      ],
      "metadata": {
        "colab": {
          "base_uri": "https://localhost:8080/"
        },
        "id": "NHSehAgnCmc4",
        "outputId": "e0a06c35-42d8-402b-d837-39df18ec3378"
      },
      "execution_count": 9,
      "outputs": [
        {
          "output_type": "stream",
          "name": "stdout",
          "text": [
            "gas 2 small\n"
          ]
        }
      ]
    },
    {
      "cell_type": "markdown",
      "source": [
        "# 3번 문제"
      ],
      "metadata": {
        "id": "vxq6ekptEpbR"
      }
    },
    {
      "cell_type": "code",
      "source": [
        "import csv\n",
        "\n",
        "def read_file(file_path):\n",
        "  # 파일 열기\n",
        "  f = open(file_path)\n",
        "  \n",
        "  iter = csv.reader(f)\n",
        "\n",
        "  #csv모듈의 reader함수의 리턴값을 리스트 형태로 바꾸어 재저장후, 함수의 리턴값으로 제공한다.\n",
        "  list_file = list(iter)\n",
        "\n",
        "  f.close()\n",
        "  return list_file\n",
        "\n",
        "print(read_file(\"/content/data-01-test-score.csv\"))"
      ],
      "metadata": {
        "colab": {
          "base_uri": "https://localhost:8080/"
        },
        "id": "PXMBHuFRDXdB",
        "outputId": "25b65c63-5e5f-45d1-b828-7e06a9384853"
      },
      "execution_count": 10,
      "outputs": [
        {
          "output_type": "stream",
          "name": "stdout",
          "text": [
            "[['73', '80', '75', '152'], ['93', '88', '93', '185'], ['89', '91', '90', '180'], ['96', '98', '100', '196'], ['73', '66', '70', '142'], ['53', '46', '55', '101'], ['69', '74', '77', '149'], ['47', '56', '60', '115'], ['87', '79', '90', '175'], ['79', '70', '88', '164'], ['69', '70', '73', '141'], ['70', '65', '74', '141'], ['93', '95', '91', '184'], ['79', '80', '73', '152'], ['70', '73', '78', '148'], ['93', '89', '96', '192'], ['78', '75', '68', '147'], ['81', '90', '93', '183'], ['88', '92', '86', '177'], ['78', '83', '77', '159'], ['82', '86', '90', '177'], ['86', '82', '89', '175'], ['78', '83', '85', '175'], ['76', '83', '71', '149'], ['96', '93', '95', '192']]\n"
          ]
        }
      ]
    }
  ]
}