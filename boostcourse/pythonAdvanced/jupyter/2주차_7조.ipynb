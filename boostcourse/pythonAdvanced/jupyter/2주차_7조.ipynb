{
 "cells": [
  {
   "attachments": {},
   "cell_type": "markdown",
   "id": "520a8b1b",
   "metadata": {},
   "source": [
    "# 2주차 미션_과아형님이 대표로 수행하셨습니다. 아래 모든 코드는 과아형님이 작성하셨습니다."
   ]
  },
  {
   "cell_type": "markdown",
   "id": "bde2a18b",
   "metadata": {},
   "source": [
    "## Q1 중간고사 기말고사 점수를 따로 받아 저장하는 클래스 구현"
   ]
  },
  {
   "cell_type": "code",
   "execution_count": 1,
   "id": "029a5a21",
   "metadata": {},
   "outputs": [
    {
     "name": "stdout",
     "output_type": "stream",
     "text": [
      "62.5\n"
     ]
    }
   ],
   "source": [
    "# test score, mid : 50, final : 75\n",
    "\n",
    "class Score():\n",
    "    def __init__(self, mid, final):\n",
    "        self.mid = mid\n",
    "        self.final = final\n",
    "        \n",
    "#출력함수   \n",
    "score = Score(50, 75)\n",
    "print((score.mid + score.final)/2)\n"
   ]
  },
  {
   "cell_type": "markdown",
   "id": "72219013",
   "metadata": {},
   "source": [
    "## Q2 다양한 탈 것을 사용하는 게임. Car 상속"
   ]
  },
  {
   "cell_type": "code",
   "execution_count": 13,
   "id": "763c388b",
   "metadata": {},
   "outputs": [
    {
     "name": "stdout",
     "output_type": "stream",
     "text": [
      "gas 2 small\n"
     ]
    }
   ],
   "source": [
    "class Car:\n",
    "    def __init__(self, fuel, wheels):\n",
    "        self.fuel = fuel\n",
    "        self.wheels = wheels\n",
    "        \n",
    "class Bike(Car):                           # Bike에 Car 클래스 상속\n",
    "    def __init__(self, fuel, wheels, size):\n",
    "        Car.__init__(self, fuel, wheels)\n",
    "        self.size = size                    # size 속성 추가\n",
    "        \n",
    "bike = Bike(\"gas\", 2, \"small\")\n",
    "print(bike.fuel, bike.wheels, bike.size)\n"
   ]
  },
  {
   "cell_type": "markdown",
   "id": "d251599f",
   "metadata": {},
   "source": [
    "## Q3 시험결과 CSV파일로 리스트 만들기"
   ]
  },
  {
   "cell_type": "code",
   "execution_count": 9,
   "id": "eb168214",
   "metadata": {},
   "outputs": [
    {
     "name": "stdout",
     "output_type": "stream",
     "text": [
      "[['73', '80', '75', '152'], ['93', '88', '93', '185'], ['89', '91', '90', '180'], ['96', '98', '100', '196'], ['73', '66', '70', '142'], ['53', '46', '55', '101'], ['69', '74', '77', '149'], ['47', '56', '60', '115'], ['87', '79', '90', '175'], ['79', '70', '88', '164'], ['69', '70', '73', '141'], ['70', '65', '74', '141'], ['93', '95', '91', '184'], ['79', '80', '73', '152'], ['70', '73', '78', '148'], ['93', '89', '96', '192'], ['78', '75', '68', '147'], ['81', '90', '93', '183'], ['88', '92', '86', '177'], ['78', '83', '77', '159'], ['82', '86', '90', '177'], ['86', '82', '89', '175'], ['78', '83', '85', '175'], ['76', '83', '71', '149'], ['96', '93', '95', '192']]\n"
     ]
    }
   ],
   "source": [
    "def read_file(file_path):\n",
    "    \n",
    "    score = []\n",
    "    \n",
    "    with open (file_path) as score_data:  # 파일에서 한 줄씩 읽어오기\n",
    "\n",
    "        while True:\n",
    "            data = score_data.readline()\n",
    "            if not data: break\n",
    "            else:\n",
    "                score.append(data.strip().split(\",\"))  # 한 줄 씩 리스트를 생성해서 score에 리스트로 저장\n",
    "        \n",
    "        return score\n",
    "        \n",
    "file_path = \"./data-01-test-score.csv\"\n",
    "print(read_file(file_path))\n"
   ]
  },
  {
   "cell_type": "markdown",
   "id": "2270d2c0",
   "metadata": {},
   "source": [
    "## Q4 CSV 읽기 클래스로 구현"
   ]
  },
  {
   "cell_type": "code",
   "execution_count": 18,
   "id": "f9dd23c5",
   "metadata": {},
   "outputs": [
    {
     "name": "stdout",
     "output_type": "stream",
     "text": [
      "[['73', '80', '75', '152'], ['93', '88', '93', '185'], ['89', '91', '90', '180'], ['96', '98', '100', '196'], ['73', '66', '70', '142'], ['53', '46', '55', '101'], ['69', '74', '77', '149'], ['47', '56', '60', '115'], ['87', '79', '90', '175'], ['79', '70', '88', '164'], ['69', '70', '73', '141'], ['70', '65', '74', '141'], ['93', '95', '91', '184'], ['79', '80', '73', '152'], ['70', '73', '78', '148'], ['93', '89', '96', '192'], ['78', '75', '68', '147'], ['81', '90', '93', '183'], ['88', '92', '86', '177'], ['78', '83', '77', '159'], ['82', '86', '90', '177'], ['86', '82', '89', '175'], ['78', '83', '85', '175'], ['76', '83', '71', '149'], ['96', '93', '95', '192']]\n",
      "[380, 459, 450, 490, 351, 255, 369, 278, 431, 401, 353, 350, 463, 384, 369, 470, 368, 447, 443, 397, 435, 432, 421, 379, 476]\n"
     ]
    }
   ],
   "source": [
    "# 파일의 경로를 file_path로 설정\n",
    "\n",
    "class ReadCSV():\n",
    "    def __init__(self, file_path):\n",
    "        self.file_path = file_path\n",
    "        \n",
    "    def read_file(self):\n",
    "\n",
    "        score = []\n",
    "    \n",
    "        with open (file_path) as score_data:\n",
    "\n",
    "            while True:\n",
    "                data = score_data.readline()\n",
    "                if not data: break\n",
    "                else:\n",
    "                    score.append(data.strip().split(\",\"))\n",
    "        return score\n",
    "    \n",
    "    \n",
    "    def merge_list(self):\n",
    "        \n",
    "        merge_score = []\n",
    "        \n",
    "        for i in self.read_file():\n",
    "            merge_score.append(sum(map(int, i)))     #문자열을 정수로 변환한 뒤 합계\n",
    "            \n",
    "        return merge_score\n",
    "    \n",
    "file_path = \"./data-01-test-score.csv\"\n",
    "read_csv = ReadCSV(file_path)\n",
    "print(read_csv.read_file())\n",
    "print(read_csv.merge_list())\n"
   ]
  },
  {
   "cell_type": "markdown",
   "id": "a894a806",
   "metadata": {},
   "source": [
    "## Q5 merge_list를 평균 구하는 함수로 변경"
   ]
  },
  {
   "cell_type": "code",
   "execution_count": 21,
   "id": "f06af252",
   "metadata": {},
   "outputs": [
    {
     "name": "stdout",
     "output_type": "stream",
     "text": [
      "[63.75, 69.5, 87.5, 87.75, 88.25, 92.0, 92.25, 92.25, 94.75, 95.0, 96.0, 99.25, 100.25, 105.25, 107.75, 108.0, 108.75, 110.75, 111.75, 112.5, 114.75, 115.75, 117.5, 119.0, 122.5]\n"
     ]
    }
   ],
   "source": [
    "class ReadCSV():\n",
    "    def __init__(self, file_path):\n",
    "        self.file_path = file_path\n",
    "        \n",
    "    def read_file(self):\n",
    "\n",
    "        score = []\n",
    "    \n",
    "        with open (file_path) as score_data:\n",
    "\n",
    "            while True:\n",
    "                data = score_data.readline()\n",
    "                if not data: break\n",
    "                else:\n",
    "                    score.append(data.strip().split(\",\"))\n",
    "        return score\n",
    "    \n",
    "    \n",
    "    def merge_list(self):\n",
    "        \n",
    "        merge_score = []\n",
    "        \n",
    "        for i in self.read_file():\n",
    "            merge_score.append(sum(map(int, i))/len(i))      #문자열을 정수로 바꾼 뒤 합계하고 평균\n",
    "            \n",
    "        merge_score.sort()                                   #오름차순 정렬\n",
    "        return merge_score\n",
    "    \n",
    "file_path = \"./data-01-test-score.csv\"\n",
    "read_csv = ReadCSV(file_path)\n",
    "print(read_csv.merge_list())\n"
   ]
  },
  {
   "cell_type": "code",
   "execution_count": null,
   "id": "eb64a348",
   "metadata": {},
   "outputs": [],
   "source": []
  }
 ],
 "metadata": {
  "kernelspec": {
   "display_name": "Python 3 (ipykernel)",
   "language": "python",
   "name": "python3"
  },
  "language_info": {
   "codemirror_mode": {
    "name": "ipython",
    "version": 3
   },
   "file_extension": ".py",
   "mimetype": "text/x-python",
   "name": "python",
   "nbconvert_exporter": "python",
   "pygments_lexer": "ipython3",
   "version": "3.9.12"
  }
 },
 "nbformat": 4,
 "nbformat_minor": 5
}
