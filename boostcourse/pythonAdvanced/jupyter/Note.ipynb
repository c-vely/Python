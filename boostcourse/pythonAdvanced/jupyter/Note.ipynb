{
 "cells": [
  {
   "cell_type": "code",
   "execution_count": 1,
   "id": "4d7ac49e-7ca8-40d9-a5e6-a0acb712bd2e",
   "metadata": {},
   "outputs": [],
   "source": [
    "# Note 클래스\n",
    "class Note(object):\n",
    "    def __init__(self, content = None):\n",
    "        self.content = content\n",
    "        \n",
    "    def write_content(self, content):\n",
    "        self.content = content\n",
    "        \n",
    "    def remove_all(self):\n",
    "        self.content = \"\"\n",
    "        \n",
    "    def add_content(self, other):\n",
    "        return self.content + other.content\n",
    "    \n",
    "    def __str__(self):\n",
    "        return self.content"
   ]
  },
  {
   "cell_type": "code",
   "execution_count": null,
   "id": "0b0e0194-5b3e-4fe7-a720-3d0152b41974",
   "metadata": {},
   "outputs": [],
   "source": []
  }
 ],
 "metadata": {
  "kernelspec": {
   "display_name": "base",
   "language": "python",
   "name": "python3"
  },
  "language_info": {
   "codemirror_mode": {
    "name": "ipython",
    "version": 3
   },
   "file_extension": ".py",
   "mimetype": "text/x-python",
   "name": "python",
   "nbconvert_exporter": "python",
   "pygments_lexer": "ipython3",
   "version": "3.9.7 (default, Sep 16 2021, 16:59:28) [MSC v.1916 64 bit (AMD64)]"
  },
  "vscode": {
   "interpreter": {
    "hash": "447b957bb7b3070888bb2dbbd39bb50ef915ebc35dc8a23e0b227d4113ef5ada"
   }
  }
 },
 "nbformat": 4,
 "nbformat_minor": 5
}
