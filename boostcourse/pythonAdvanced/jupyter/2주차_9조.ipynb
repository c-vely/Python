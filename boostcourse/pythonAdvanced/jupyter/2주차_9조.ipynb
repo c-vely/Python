{
 "cells": [
  {
   "cell_type": "code",
   "execution_count": 2,
   "id": "4ed09e91",
   "metadata": {},
   "outputs": [
    {
     "name": "stdout",
     "output_type": "stream",
     "text": [
      "62.5\n"
     ]
    }
   ],
   "source": [
    "#Q1\n",
    "\n",
    "class Score():\n",
    "\tdef __init__(self, mid, final):\n",
    "\t\tself.__mid = mid\n",
    "\t\tself.__final = final\n",
    "\n",
    "\t@property\n",
    "\tdef mid(self):\n",
    "\t\treturn self.__mid\n",
    "\n",
    "\t@property\n",
    "\tdef final(self):\n",
    "\t\treturn self.__final\n",
    "\n",
    "#출력함수\n",
    "\n",
    "score = Score(50, 75)\n",
    "print((score.mid + score.final)/2)\n",
    "\n"
   ]
  },
  {
   "cell_type": "code",
   "execution_count": 4,
   "id": "94de1fe3",
   "metadata": {},
   "outputs": [
    {
     "name": "stdout",
     "output_type": "stream",
     "text": [
      "gas 2 small\n"
     ]
    }
   ],
   "source": [
    "# Q2\n",
    "\n",
    "class Car():\n",
    "    def __init__(self, fuel, wheels):\n",
    "        self.fuel = fuel\n",
    "        self.wheels = wheels\n",
    "\n",
    "class Bike(Car):\n",
    "    def __init__(self, fuel, wheels, size):\n",
    "        super().__init__(fuel, wheels)\n",
    "        self.size = size\n",
    "\n",
    "\n",
    "#출력예시\n",
    "\n",
    "bike = Bike(\"gas\", 2, \"small\")\n",
    "print(bike.fuel, bike.wheels, bike.size)\n"
   ]
  },
  {
   "cell_type": "code",
   "execution_count": 6,
   "id": "d91c6ed1",
   "metadata": {},
   "outputs": [],
   "source": [
    "# Q3\n",
    "\n",
    "def read_file(file_path):\n",
    "\n",
    "\tlst = []\t# 출력하기 위한 빈 리스트 설정\n",
    "\n",
    "\ttry:\n",
    "\t\twith open(file_path, \"r\") as test_score: \t\t\n",
    "\t\t\tcontents = test_score.read()\n",
    "\t\t\tline_lst = contents.split(\"\\n\")\n",
    "\n",
    "\t\t\tfor line in line_lst:\n",
    "\t\t\t\tlst.append(line.split(\",\"))\n",
    "\n",
    "\t\treturn lst\n",
    "\n",
    "\texcept Exception as e:\n",
    "\t\tprint(e)\n",
    "\n",
    "#출력예시\n",
    "print(read_file(\"./data-01-test-score.csv\"))\n",
    "\n"
   ]
  },
  {
   "cell_type": "code",
   "execution_count": null,
   "id": "0289ab70",
   "metadata": {},
   "outputs": [],
   "source": [
    "# Q4\n",
    "\n",
    "class ReadCSV():\n",
    "\tdef __init__(self, file_path):\n",
    "\t\tself.file_path = file_path\n",
    "\n",
    "\tdef read_file(self):\n",
    "\t\tlst = []\n",
    "\t\twith open(self.file_path, \"r\") as test_score:\n",
    "\t\t\tcontents = test_score.read()\n",
    "\t\t\tline_lst = contents.split(\"\\n\")\n",
    "\n",
    "\t\t\tfor line in line_lst:\n",
    "\t\t\t\tscore_lst = list(map(int, line.split(\",\")))\t#map 객체를 이용해서 int로 변환\n",
    "\t\t\t\tlst.append(score_lst)\n",
    "\n",
    "\t\treturn lst\n",
    "\n",
    "\tdef merge_list(self):\n",
    "\t\tlst = []\n",
    "\t\twith open(self.file_path, \"r\") as test_score:\n",
    "\t\t\tcontents = test_score.read()\n",
    "\t\t\tline_lst = contents.split(\"\\n\")\n",
    "\n",
    "\t\t\tfor line in line_lst:\n",
    "\t\t\t\tscore_lst = list(map(int, line.split(\",\")))\t\n",
    "\t\t\t\tscore = sum(score_lst)\t\n",
    "\t\t\t\tlst.append(score)\n",
    "\t\treturn lst\n",
    "\n",
    "\n",
    "#출력예시\n",
    "read_csv = ReadCSV(\"./data-01-test-score.csv\")\n",
    "print(read_csv.read_file())\n",
    "print(read_csv.merge_list())\n",
    "\n",
    "\n"
   ]
  },
  {
   "cell_type": "code",
   "execution_count": null,
   "id": "89ee6d2c",
   "metadata": {},
   "outputs": [],
   "source": [
    "# Q5\n",
    "\n",
    "class ReadCSV():\n",
    "\tdef __init__(self, file_path):\n",
    "\t\tself.file_path = file_path\n",
    "\n",
    "\tdef read_file(self):\n",
    "\t\tlst = []\n",
    "\t\twith open(self.file_path, \"r\") as test_score:\n",
    "\t\t\tcontents = test_score.read()\n",
    "\t\t\tline_lst = contents.split(\"\\n\")\n",
    "\n",
    "\t\t\tfor line in line_lst:\n",
    "\t\t\t\tscore_lst = list(map(int, line.split(\",\")))\t#map 객체를 이용해서 int로 변환\n",
    "\t\t\t\tlst.append(score_lst)\n",
    "\n",
    "\t\treturn lst\n",
    "\n",
    "\tdef merge_list(self):\n",
    "\t\tlst = []\n",
    "\t\twith open(self.file_path, \"r\") as test_score:\n",
    "\t\t\tcontents = test_score.read()\n",
    "\t\t\tline_lst = contents.split(\"\\n\")\n",
    "\n",
    "\t\t\tfor line in line_lst:\n",
    "\t\t\t\tscore_lst = list(map(int, line.split(\",\")))\t\n",
    "\t\t\t\tscore = sum(score_lst)/len(score_lst)\t\n",
    "\t\t\t\tlst.append(score)\n",
    "\t\t\tlst.sort()\t\n",
    "\n",
    "\t\treturn lst\n",
    "\n",
    "\n",
    "#출력예시\n",
    "read_csv = ReadCSV(\"./data-01-test-score.csv\")\n",
    "print(read_csv.merge_list())\n",
    "\n",
    "\n"
   ]
  }
 ],
 "metadata": {
  "kernelspec": {
   "display_name": "Python 3 (ipykernel)",
   "language": "python",
   "name": "python3"
  },
  "language_info": {
   "codemirror_mode": {
    "name": "ipython",
    "version": 3
   },
   "file_extension": ".py",
   "mimetype": "text/x-python",
   "name": "python",
   "nbconvert_exporter": "python",
   "pygments_lexer": "ipython3",
   "version": "3.8.15"
  }
 },
 "nbformat": 4,
 "nbformat_minor": 5
}
