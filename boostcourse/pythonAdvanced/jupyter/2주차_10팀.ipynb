{
  "nbformat": 4,
  "nbformat_minor": 0,
  "metadata": {
    "colab": {
      "provenance": []
    },
    "kernelspec": {
      "name": "python3",
      "display_name": "Python 3"
    },
    "language_info": {
      "name": "python"
    }
  },
  "cells": [
    {
      "cell_type": "code",
      "execution_count": 1,
      "metadata": {
        "colab": {
          "base_uri": "https://localhost:8080/"
        },
        "id": "YQyic4sFBxUM",
        "outputId": "169b1c02-9a8e-4085-8c54-4590633af7b0"
      },
      "outputs": [
        {
          "output_type": "stream",
          "name": "stdout",
          "text": [
            "62.5\n"
          ]
        }
      ],
      "source": [
        "#Q1\n",
        "class Score():\n",
        "    def __init__(score, mid, final):\n",
        "        score.mid = mid\n",
        "        score.final = final\n",
        "\n",
        "score = Score(50,75)\n",
        "print((score.mid + score.final)/2)"
      ]
    },
    {
      "cell_type": "code",
      "source": [
        "#Q2\n",
        "class Car():\n",
        "  def __init__(self, fuel, wheels) :\n",
        "    self.fuel = fuel\n",
        "    self.wheels = wheels\n",
        "\n",
        "class Bike(Car):\n",
        "  def __init__(self, fuel, wheels, size):\n",
        "    self.fuel = fuel\n",
        "    self.wheels = wheels\n",
        "    self.size = size\n",
        "\n",
        "bike = Bike(\"gas\", 2, \"small\")\n",
        "print(bike.fuel, bike.wheels, bike.size) "
      ],
      "metadata": {
        "colab": {
          "base_uri": "https://localhost:8080/"
        },
        "id": "yky-vKDeCwS-",
        "outputId": "c649025c-db9b-4f39-ad6c-0fd7b2f0b759"
      },
      "execution_count": 3,
      "outputs": [
        {
          "output_type": "stream",
          "name": "stdout",
          "text": [
            "gas 2 small\n"
          ]
        }
      ]
    }
  ]
}