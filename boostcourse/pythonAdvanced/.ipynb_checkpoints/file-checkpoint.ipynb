{
 "cells": [
  {
   "cell_type": "markdown",
   "id": "972c40ae-1a4f-436c-bda7-b5a75e918995",
   "metadata": {},
   "source": [
    "# * File Read"
   ]
  },
  {
   "cell_type": "code",
   "execution_count": 1,
   "id": "50207b67-17b2-4ad6-b01d-a8bac24d28eb",
   "metadata": {},
   "outputs": [
    {
     "name": "stdout",
     "output_type": "stream",
     "text": [
      "hahahahah\n",
      "\n"
     ]
    },
    {
     "data": {
      "text/plain": [
       "<function TextIOWrapper.close()>"
      ]
     },
     "execution_count": 1,
     "metadata": {},
     "output_type": "execute_result"
    }
   ],
   "source": [
    "# 1)\n",
    "f = open(\"i_have_a_dream.txt\", \"r\")\n",
    "contents = f.read()\n",
    "print(contents)\n",
    "f.close            "
   ]
  },
  {
   "cell_type": "code",
   "execution_count": 2,
   "id": "53253dcc-59bb-4208-ba61-7248d0bf687c",
   "metadata": {},
   "outputs": [
    {
     "name": "stdout",
     "output_type": "stream",
     "text": [
      "hahahahah\n",
      "\n"
     ]
    }
   ],
   "source": [
    "# 2)\n",
    "with open(\"i_have_a_dream.txt\", \"r\") as f:\n",
    "    contents = f.read()  # 통째로 읽기\n",
    "    print(contents)"
   ]
  },
  {
   "cell_type": "code",
   "execution_count": 4,
   "id": "31bdb0c7-5423-49ef-bf55-86df5158775f",
   "metadata": {},
   "outputs": [
    {
     "name": "stdout",
     "output_type": "stream",
     "text": [
      "<class 'list'>\n",
      "hahahahah\n",
      "\n"
     ]
    }
   ],
   "source": [
    "# 3) \n",
    "with open(\"i_have_a_dream.txt\", \"r\") as f:\n",
    "    contents_list = f.readlines()  # 한 줄씩 읽어 리스트에 저장\n",
    "    print(type(contents_list))\n",
    "print(contents_list[0])"
   ]
  },
  {
   "cell_type": "code",
   "execution_count": 5,
   "id": "f88a912f-08d0-4282-b082-cef0bb169371",
   "metadata": {},
   "outputs": [
    {
     "name": "stdout",
     "output_type": "stream",
     "text": [
      "0 === hahahahah\n",
      "1 === dd\n",
      "2 === d\n",
      "3 === dd\n",
      "4 === d\n",
      "5 === d\n",
      "6 === d\n",
      "7 === d\n",
      "8 === d\n",
      "9 === dddddddd\n",
      "10 === tetr\n",
      "11 === grgrg\n",
      "12 === rgr\n",
      "13 === gr\n",
      "14 === g\n",
      "15 === rg\n",
      "16 === r\n",
      "17 === g\n"
     ]
    }
   ],
   "source": [
    "with open(\"i_have_a_dream.txt\", \"r\") as my_file:\n",
    "    i = 0\n",
    "    while True:\n",
    "        line = my_file.readline()\n",
    "        if not line:\n",
    "            break\n",
    "        print(str(i) + \" === \" + line.replace(\"\\n\", \"\"))\n",
    "        i = i + 1"
   ]
  },
  {
   "cell_type": "code",
   "execution_count": 6,
   "id": "0bd2294f-cdf3-4df7-9a6b-238517376c03",
   "metadata": {},
   "outputs": [
    {
     "name": "stdout",
     "output_type": "stream",
     "text": [
      "Total Number of Characters :  63\n",
      "Total Number of Words :  1\n",
      "Total Numver of Lines :  18\n"
     ]
    }
   ],
   "source": [
    "# 단어 통계 정보 산출\n",
    "with open(\"i_have_a_dream.txt\", \"r\") as my_file:\n",
    "    contents = my_file.read()\n",
    "    word_list = contents.split(\" \")\n",
    "    line_list = contents.split(\"\\n\")\n",
    "    \n",
    "print(\"Total Number of Characters : \", len(contents))\n",
    "print(\"Total Number of Words : \", len(word_list))\n",
    "print(\"Total Numver of Lines : \", len(line_list))"
   ]
  },
  {
   "cell_type": "code",
   "execution_count": null,
   "id": "78e59a2e-8e34-489c-b1a7-396b57bf3a56",
   "metadata": {},
   "outputs": [],
   "source": []
  }
 ],
 "metadata": {
  "kernelspec": {
   "display_name": "Python 3 (ipykernel)",
   "language": "python",
   "name": "python3"
  },
  "language_info": {
   "codemirror_mode": {
    "name": "ipython",
    "version": 3
   },
   "file_extension": ".py",
   "mimetype": "text/x-python",
   "name": "python",
   "nbconvert_exporter": "python",
   "pygments_lexer": "ipython3",
   "version": "3.9.7"
  }
 },
 "nbformat": 4,
 "nbformat_minor": 5
}
