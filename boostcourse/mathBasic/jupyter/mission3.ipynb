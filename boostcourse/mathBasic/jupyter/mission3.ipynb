{
 "cells": [
  {
   "cell_type": "markdown",
   "id": "05bcb660-b7b2-43bd-bee7-2ad9941abb20",
   "metadata": {},
   "source": [
    "# Q3.  \n",
    "\n",
    "'''  \n",
    "3번부터 5번까지의 미션는 Numpy를 이용해서 정답값을 예측해보는 linear regression을 구현해 보는 미션입니다.  \n",
    "첫번째 단계로 데이터를 준비해보도록 하겠습니다.   \n",
    "\n",
    " 1. 아래와 같이 데이터가 주어져있을 때, 경사하강법을 위한 데이터를 분리해보세요.  \n",
    "\n",
    "  - 주어진 xy 데이터를 이용해서 학습과 정답 데이터를 준비해보세요.  \n",
    "    *추가 수정* 문제에서 주어진 xy에서 대괄호를 한 번 더 묶어주어야 문제 해결이 가능합니다.  \n",
    "    (차원 관련)  (np.array([[1., 2., 3., 4., 5., 6.], [10., 20., 30., 40., 50., 60.]])  \n",
    "    \n",
    "'''  \n",
    "\n",
    "import numpy as np  \n",
    "xy = np.array([1. ,2. ,3. ,4. ,5. ,6.],  \n",
    "              [10. ,20. ,30. ,40. ,50. ,60])  \n",
    "                \n",
    "x_train = # TODO  \n",
    "y_train = # TODO\n",
    "  \n",
    "[출력 에시]  \n",
    "print(x_train, x_train.shape)  \n",
    "print(y_train, y_train.shape)  \n",
    "\n",
    "[1. 2. 3. 4. 5. 6.] (6,)  \n",
    "[10. 20. 30. 40. 50. 60.] (6,)"
   ]
  },
  {
   "cell_type": "code",
   "execution_count": 1,
   "id": "a4953a82-19c6-48a4-8169-1c3db362ee2a",
   "metadata": {},
   "outputs": [],
   "source": [
    "import numpy as np"
   ]
  },
  {
   "cell_type": "code",
   "execution_count": 4,
   "id": "89d2a673-8c97-4526-a1cb-81e4cd270c33",
   "metadata": {},
   "outputs": [
    {
     "data": {
      "text/plain": [
       "array([[ 1.,  2.,  3.,  4.,  5.,  6.],\n",
       "       [10., 20., 30., 40., 50., 60.]])"
      ]
     },
     "execution_count": 4,
     "metadata": {},
     "output_type": "execute_result"
    }
   ],
   "source": [
    "xy = np.array([[1.,2.,3.,4.,5.,6.], [10.,20.,30.,40.,50.,60]])\n",
    "xy"
   ]
  },
  {
   "cell_type": "code",
   "execution_count": 5,
   "id": "6e099852-be9f-4034-bd2c-15f42072b35b",
   "metadata": {},
   "outputs": [
    {
     "data": {
      "text/plain": [
       "array([1., 2., 3., 4., 5., 6.])"
      ]
     },
     "execution_count": 5,
     "metadata": {},
     "output_type": "execute_result"
    }
   ],
   "source": [
    "x_train = xy[0]\n",
    "x_train"
   ]
  },
  {
   "cell_type": "code",
   "execution_count": 6,
   "id": "ff5758c0-8e38-458d-a20e-5056ac74ef90",
   "metadata": {},
   "outputs": [
    {
     "data": {
      "text/plain": [
       "array([10., 20., 30., 40., 50., 60.])"
      ]
     },
     "execution_count": 6,
     "metadata": {},
     "output_type": "execute_result"
    }
   ],
   "source": [
    "y_train = xy[1]\n",
    "y_train"
   ]
  },
  {
   "cell_type": "code",
   "execution_count": 7,
   "id": "af033e9d-c7ed-4e73-af1d-bf2f05a2b143",
   "metadata": {},
   "outputs": [
    {
     "name": "stdout",
     "output_type": "stream",
     "text": [
      "[1. 2. 3. 4. 5. 6.] (6,)\n",
      "[10. 20. 30. 40. 50. 60.] (6,)\n"
     ]
    }
   ],
   "source": [
    "print(x_train, x_train.shape)  \n",
    "print(y_train, y_train.shape) "
   ]
  },
  {
   "cell_type": "code",
   "execution_count": null,
   "id": "647b3e52-e5bc-4ca4-8f13-468e130df07d",
   "metadata": {},
   "outputs": [],
   "source": []
  }
 ],
 "metadata": {
  "kernelspec": {
   "display_name": "Python 3 (ipykernel)",
   "language": "python",
   "name": "python3"
  },
  "language_info": {
   "codemirror_mode": {
    "name": "ipython",
    "version": 3
   },
   "file_extension": ".py",
   "mimetype": "text/x-python",
   "name": "python",
   "nbconvert_exporter": "python",
   "pygments_lexer": "ipython3",
   "version": "3.9.7"
  }
 },
 "nbformat": 4,
 "nbformat_minor": 5
}
