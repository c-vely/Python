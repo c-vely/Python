{
 "cells": [
  {
   "cell_type": "markdown",
   "id": "9e08a3ba-bc38-45c1-9f29-9fa7a5e8f2f5",
   "metadata": {},
   "source": [
    "Q5.   \n",
    "\n",
    "'''  \n",
    "이제 최종적으로 linear regression을 경사하강법으로 학습하는 코드를 구현해봅시다.   \n",
    "  1. 경사하강법 구현을 위한 학습 Loop를 구현해보세요.   \n",
    "  2. 최종적으로 1000회 반복했을 시에 결과를 출력하세요.  \n",
    "\n",
    "    - 단, Error는 차이의 제곱을 이용해서 계산해주세요.  \n",
    "    - Gradient 값은 우리가 예측하는 각 변수에 대한 미분값입니다.  \n",
    "'''\n",
    "\n",
    "import numpy as np  \n",
    "\n",
    "xy = np.array([[1.,2.,3.,4.,5.,6.], [3.,6.,9.,12.,15.,18]])  \n",
    "\n",
    "x_train = # Q3  \n",
    "y_train = # Q3  \n",
    "  \n",
    "beta_gd = # Q4  \n",
    "bias = # Q4  \n",
    "  \n",
    "learning_rate = 0.01  \n",
    "  \n",
    "for i in range(1000):  \n",
    "     TODO  \n",
    "     \n",
    "     if i % 100 == 0:  \n",
    "        print('Epoch([:10d]/1000) error: [:10f], beta_gd: [:10f], bias:[:10f]'.format(i, error, beta_gd.item(), bias.item()))\n",
    "  \n",
    "[출력 예시]  \n",
    "\n",
    "Epoch(         0/1000) error:   0.001727, beta_gd:   2.977915, bias:  0.094551  \n",
    "Epoch(       100/1000) error:   0.001198, beta_gd:   2.981602, bias:  0.078767  \n",
    "Epoch(       200/1000) error:   0.000832, beta_gd:   2.984673, bias:  0.065619  \n",
    "Epoch(       300/1000) error:   0.000577, beta_gd:   2.987231, bias:  0.054665  \n",
    "Epoch(       400/1000) error:   0.000401, beta_gd:   2.989363, bias:  0.045540  \n",
    "Epoch(       500/1000) error:   0.000278, beta_gd:   2.991139, bias:  0.037938  \n",
    "Epoch(       600/1000) error:   0.000193, beta_gd:   2.992618, bias:  0.031605  \n",
    "Epoch(       700/1000) error:   0.000134, beta_gd:   2.993850, bias:  0.026329  \n",
    "Epoch(       800/1000) error:   0.000093, beta_gd:   2.994877, bias:  0.021934  \n",
    "Epoch(       900/1000) error:   0.000064, beta_gd:   2.995732, bias:  0.018272  "
   ]
  },
  {
   "cell_type": "code",
   "execution_count": 8,
   "id": "009b133c-be8e-441b-bf6a-1010f43c7f8f",
   "metadata": {},
   "outputs": [],
   "source": [
    "import numpy as np"
   ]
  },
  {
   "cell_type": "code",
   "execution_count": 9,
   "id": "66bf56ed-10bc-4468-9c3e-bcb747f01afe",
   "metadata": {},
   "outputs": [],
   "source": [
    "xy = np.array([[1.,2.,3.,4.,5.,6.], [3.,6.,9.,12.,15.,18]])"
   ]
  },
  {
   "cell_type": "code",
   "execution_count": 10,
   "id": "fdb126fb-061c-4050-8d77-3722bb1fb3e8",
   "metadata": {},
   "outputs": [],
   "source": [
    "x_train = xy[0]\n",
    "y_train = xy[1]"
   ]
  },
  {
   "cell_type": "code",
   "execution_count": 11,
   "id": "f34a7b10-86fe-41ba-8690-a540de5d80e7",
   "metadata": {},
   "outputs": [],
   "source": [
    "beta_gd = np.random.rand(1)\n",
    "bias = np.random.rand(1)"
   ]
  },
  {
   "cell_type": "code",
   "execution_count": 12,
   "id": "01a6f504-5222-4d46-9532-b88210f8cd5c",
   "metadata": {},
   "outputs": [],
   "source": [
    "learning_rate = 0.01"
   ]
  },
  {
   "cell_type": "code",
   "execution_count": 14,
   "id": "1c49dfef-ab38-4ed7-a6d2-ae51b0954aca",
   "metadata": {},
   "outputs": [
    {
     "name": "stdout",
     "output_type": "stream",
     "text": [
      "Epoch(         0/1000) error:   0.001727, beta_gd:   2.977915, bias:  0.094551\n",
      "Epoch(       100/1000) error:   0.001198, beta_gd:   2.981602, bias:  0.078767\n",
      "Epoch(       200/1000) error:   0.000832, beta_gd:   2.984673, bias:  0.065619\n",
      "Epoch(       300/1000) error:   0.000577, beta_gd:   2.987231, bias:  0.054665\n",
      "Epoch(       400/1000) error:   0.000401, beta_gd:   2.989363, bias:  0.045540\n",
      "Epoch(       500/1000) error:   0.000278, beta_gd:   2.991139, bias:  0.037938\n",
      "Epoch(       600/1000) error:   0.000193, beta_gd:   2.992618, bias:  0.031605\n",
      "Epoch(       700/1000) error:   0.000134, beta_gd:   2.993850, bias:  0.026329\n",
      "Epoch(       800/1000) error:   0.000093, beta_gd:   2.994877, bias:  0.021934\n",
      "Epoch(       900/1000) error:   0.000064, beta_gd:   2.995732, bias:  0.018272\n"
     ]
    }
   ],
   "source": [
    "# 1) \n",
    "for i in range(1000):\n",
    "    predict = beta_gd * x_train + bias  # y예측값 구하는 함수\n",
    "    error = ((predict - y_train)**2).mean()\n",
    "    \n",
    "    beta_gd -= learning_rate * ((predict - y_train) * x_train).mean()\n",
    "    bias -= learning_rate * (predict - y_train).mean()\n",
    "    \n",
    "    if i % 100 == 0:  \n",
    "        print('Epoch({:10d}/1000) error: {:10f}, beta_gd: {:10f}, bias:{:10f}'.format(i, error, beta_gd.item(), bias.item()))"
   ]
  },
  {
   "cell_type": "code",
   "execution_count": null,
   "id": "d8a90b0a-59a6-4481-90db-3ca2070fab69",
   "metadata": {},
   "outputs": [],
   "source": []
  }
 ],
 "metadata": {
  "kernelspec": {
   "display_name": "Python 3 (ipykernel)",
   "language": "python",
   "name": "python3"
  },
  "language_info": {
   "codemirror_mode": {
    "name": "ipython",
    "version": 3
   },
   "file_extension": ".py",
   "mimetype": "text/x-python",
   "name": "python",
   "nbconvert_exporter": "python",
   "pygments_lexer": "ipython3",
   "version": "3.9.7"
  }
 },
 "nbformat": 4,
 "nbformat_minor": 5
}
