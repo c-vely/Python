{
 "cells": [
  {
   "cell_type": "markdown",
   "id": "b2c3b6e6-16c0-46d9-b919-2bb0abd00030",
   "metadata": {},
   "source": [
    "# Q2.  \n",
    "  \n",
    "'''  \n",
    "두번째로는 numpy에서 자주 사용하는 concatenate 연산에 대한 미션을 수행해보겠습니다.   \n",
    "\n",
    " 1. 이제 Numpy에서 사용하는 2개의 numpy array가 있을때,   \n",
    " 2. 두 numpy array의 concatenate 연산을 구해보세요.    \n",
    "\n",
    "  - axis는 0, 1 두개로 연산한 결과를 출력해보세요.  \n",
    "  - 각 데이터가 어떤 형태로 더해지는지 확인해보세요.  \n",
    "    \n",
    "''' \n",
    "\n",
    "arr1 = np.array([[5, 7], [9, 11]], float)  \n",
    "arr2 = np.array([[2, 4], [6, 8]], float)  \n",
    "\n",
    "concat_1 = # TODO axis 0  \n",
    "concat_2 = # TODO axis 1  \n",
    "\n",
    "[출력 예시]  \n",
    "\n",
    "[[5. 7.]  \n",
    " [9. 11.]  \n",
    " [2. 4.]  \n",
    " [6. 8.]]  \n",
    "[[5. 7. 2. 4.]  \n",
    " [9. 11. 6. 8.]]   "
   ]
  },
  {
   "cell_type": "markdown",
   "id": "ef8cbea4-da5f-4053-966d-362baea42ca5",
   "metadata": {},
   "source": [
    "# *myself"
   ]
  },
  {
   "cell_type": "code",
   "execution_count": 1,
   "id": "3c0a874e-6242-4867-abf9-e0c8e51a1841",
   "metadata": {},
   "outputs": [],
   "source": [
    "import numpy as np"
   ]
  },
  {
   "cell_type": "code",
   "execution_count": 2,
   "id": "d5fe5c55-af3c-4e91-9295-3eadec9da331",
   "metadata": {},
   "outputs": [],
   "source": [
    "arr1 = np.array([[5, 7], [9, 11]], float)\n",
    "arr2 = np.array([[2, 4], [6, 8]], float)"
   ]
  },
  {
   "cell_type": "code",
   "execution_count": 6,
   "id": "c10cdd29-ab7d-4c28-88d3-e5a48cad71a4",
   "metadata": {},
   "outputs": [
    {
     "data": {
      "text/plain": [
       "array([[ 5.,  7.],\n",
       "       [ 9., 11.],\n",
       "       [ 2.,  4.],\n",
       "       [ 6.,  8.]])"
      ]
     },
     "execution_count": 6,
     "metadata": {},
     "output_type": "execute_result"
    }
   ],
   "source": [
    "concat_1 = np.concatenate((arr1, arr2), axis=0)\n",
    "concat_1"
   ]
  },
  {
   "cell_type": "code",
   "execution_count": 7,
   "id": "92ca8bf6-b115-4536-b41a-b7b13e6e12a2",
   "metadata": {},
   "outputs": [
    {
     "data": {
      "text/plain": [
       "array([[ 5.,  7.,  2.,  4.],\n",
       "       [ 9., 11.,  6.,  8.]])"
      ]
     },
     "execution_count": 7,
     "metadata": {},
     "output_type": "execute_result"
    }
   ],
   "source": [
    "concat_2 = np.concatenate((arr1, arr2), axis=1)\n",
    "concat_2"
   ]
  },
  {
   "cell_type": "code",
   "execution_count": 8,
   "id": "39e9dc78-f92f-4b7a-8244-7048043ff749",
   "metadata": {},
   "outputs": [
    {
     "name": "stdout",
     "output_type": "stream",
     "text": [
      "[[ 5.  7.]\n",
      " [ 9. 11.]\n",
      " [ 2.  4.]\n",
      " [ 6.  8.]]\n",
      "[[ 5.  7.  2.  4.]\n",
      " [ 9. 11.  6.  8.]]\n"
     ]
    }
   ],
   "source": [
    "print(concat_1)\n",
    "print(concat_2)"
   ]
  },
  {
   "cell_type": "markdown",
   "id": "9e5928e8-ec9e-448c-9e8b-2be133dcb567",
   "metadata": {},
   "source": []
  }
 ],
 "metadata": {
  "kernelspec": {
   "display_name": "Python 3 (ipykernel)",
   "language": "python",
   "name": "python3"
  },
  "language_info": {
   "codemirror_mode": {
    "name": "ipython",
    "version": 3
   },
   "file_extension": ".py",
   "mimetype": "text/x-python",
   "name": "python",
   "nbconvert_exporter": "python",
   "pygments_lexer": "ipython3",
   "version": "3.9.7"
  }
 },
 "nbformat": 4,
 "nbformat_minor": 5
}
