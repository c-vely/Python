{
 "cells": [
  {
   "cell_type": "markdown",
   "id": "selected-firmware",
   "metadata": {},
   "source": [
    "# Q1."
   ]
  },
  {
   "cell_type": "code",
   "execution_count": 2,
   "id": "sharing-garlic",
   "metadata": {},
   "outputs": [
    {
     "name": "stdout",
     "output_type": "stream",
     "text": [
      "[[0.07331364 0.48852256]\n",
      " [0.07282826 0.44210008]\n",
      " [0.10909054 0.55598111]\n",
      " [0.02774477 0.11998138]\n",
      " [0.10604898 0.57093977]]\n"
     ]
    }
   ],
   "source": [
    "import numpy as np\n",
    "\n",
    "arr1 = np.random.rand(5,3)\n",
    "arr2 = np.random.rand(3,2)\n",
    "\n",
    "dot = np.dot(arr1, arr2)\n",
    "print(dot)"
   ]
  },
  {
   "cell_type": "markdown",
   "id": "specified-arrest",
   "metadata": {},
   "source": [
    "# Q2."
   ]
  },
  {
   "cell_type": "code",
   "execution_count": 4,
   "id": "corporate-habitat",
   "metadata": {},
   "outputs": [
    {
     "name": "stdout",
     "output_type": "stream",
     "text": [
      "[[ 5.  7.]\n",
      " [ 9. 11.]\n",
      " [ 2.  4.]\n",
      " [ 6.  8.]]\n",
      "[[ 5.  7.  2.  4.]\n",
      " [ 9. 11.  6.  8.]]\n"
     ]
    }
   ],
   "source": [
    "import numpy as np\n",
    "\n",
    "arr1 = np.array([[5, 7], [9, 11]], float)\n",
    "arr2 = np.array([[2, 4], [6, 8]], float)\n",
    "\n",
    "concat_1 = np.concatenate((arr1, arr2), axis = 0)\n",
    "concat_2 = np.concatenate((arr1, arr2), axis = 1)\n",
    "\n",
    "print(concat_1)\n",
    "print(concat_2)"
   ]
  },
  {
   "cell_type": "markdown",
   "id": "fixed-alfred",
   "metadata": {},
   "source": [
    "# Q3."
   ]
  },
  {
   "cell_type": "code",
   "execution_count": 7,
   "id": "suited-terminal",
   "metadata": {},
   "outputs": [
    {
     "name": "stdout",
     "output_type": "stream",
     "text": [
      "[1. 2. 3. 4. 5. 6.] (6,)\n",
      "[10. 20. 30. 40. 50. 60.] (6,)\n"
     ]
    }
   ],
   "source": [
    "import numpy as np\n",
    "\n",
    "xy = np.array([[1., 2., 3., 4., 5., 6.], [10., 20., 30., 40., 50., 60.]])\n",
    "\n",
    "x_train = np.array(xy[0])\n",
    "y_train = np.array(xy[1])\n",
    "\n",
    "print(x_train, x_train.shape)\n",
    "print(y_train, y_train.shape)"
   ]
  },
  {
   "cell_type": "markdown",
   "id": "superb-hardwood",
   "metadata": {},
   "source": [
    "# Q4."
   ]
  },
  {
   "cell_type": "code",
   "execution_count": 11,
   "id": "varying-barrel",
   "metadata": {},
   "outputs": [
    {
     "name": "stdout",
     "output_type": "stream",
     "text": [
      "[-0.5805734666039801] [-0.06904378398525002]\n"
     ]
    }
   ],
   "source": [
    "beta_gd = [np.random.uniform(low=-1.0, high=1.0)]\n",
    "bias = [np.random.uniform(low=-1.0, high=1.0)]\n",
    "\n",
    "print(beta_gd, bias)"
   ]
  },
  {
   "cell_type": "markdown",
   "id": "understanding-amateur",
   "metadata": {},
   "source": [
    "# Q5."
   ]
  },
  {
   "cell_type": "code",
   "execution_count": 20,
   "id": "visible-rubber",
   "metadata": {},
   "outputs": [
    {
     "name": "stdout",
     "output_type": "stream",
     "text": [
      "Epoch (         0/1000) error: 1298.706143, beta_gd:   2.275711\n",
      "Epoch (       100/1000) error:   0.302624, beta_gd:   9.707612\n",
      "Epoch (       200/1000) error:   0.210022, beta_gd:   9.756421\n",
      "Epoch (       300/1000) error:   0.145756, beta_gd:   9.797082\n",
      "Epoch (       400/1000) error:   0.101155, beta_gd:   9.830955\n",
      "Epoch (       500/1000) error:   0.070202, beta_gd:   9.859174\n",
      "Epoch (       600/1000) error:   0.048721, beta_gd:   9.882682\n",
      "Epoch (       700/1000) error:   0.033812, beta_gd:   9.902266\n",
      "Epoch (       800/1000) error:   0.023466, beta_gd:   9.918581\n",
      "Epoch (       900/1000) error:   0.016285, beta_gd:   9.932172\n"
     ]
    }
   ],
   "source": [
    "import numpy as np\n",
    "\n",
    "xy = np.array([[1., 2., 3., 4., 5., 6.], [10., 20., 30., 40., 50., 60.]])\n",
    "\n",
    "x_train = np.array(xy[0])\n",
    "y_train = np.array(xy[1])\n",
    "\n",
    "beta_gd = [np.random.uniform(low=-1.0, high=1.0)]\n",
    "bias = [np.random.uniform(low=-1.0, high=1.0)]\n",
    "\n",
    "learning_rate = 0.01\n",
    "errors = []\n",
    "\n",
    "for i in range(1000):\n",
    "    y_hat = x_train * beta_gd + bias\n",
    "\n",
    "    error = ((y_hat - y_train)**2).mean()\n",
    "    \n",
    "    beta_gd = beta_gd - learning_rate * ((y_hat - y_train) * x_train).mean()\n",
    "    bias = bias - learning_rate * (y_hat - y_train).mean()\n",
    "    \n",
    "    errors.append(error)\n",
    "    \n",
    "    if i % 100 == 0:\n",
    "        print('Epoch ({:10d}/1000) error: {:10f}, beta_gd: {:10f}'.format(i, error, beta_gd.item(), bias.item()))"
   ]
  }
 ],
 "metadata": {
  "kernelspec": {
   "display_name": "Python 3 (ipykernel)",
   "language": "python",
   "name": "python3"
  },
  "language_info": {
   "codemirror_mode": {
    "name": "ipython",
    "version": 3
   },
   "file_extension": ".py",
   "mimetype": "text/x-python",
   "name": "python",
   "nbconvert_exporter": "python",
   "pygments_lexer": "ipython3",
   "version": "3.9.7"
  }
 },
 "nbformat": 4,
 "nbformat_minor": 5
}
