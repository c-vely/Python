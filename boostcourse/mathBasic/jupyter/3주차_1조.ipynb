{
 "cells": [
  {
   "cell_type": "markdown",
   "metadata": {},
   "source": [
    "### Q1"
   ]
  },
  {
   "cell_type": "code",
   "execution_count": 6,
   "metadata": {},
   "outputs": [],
   "source": [
    "import numpy as np\n",
    "\n",
    "arr1 = np.random.rand(5,3)\n",
    "arr2 = np.random.rand(3,2)\n",
    "\n",
    "dot = np.dot(arr1, arr2)"
   ]
  },
  {
   "cell_type": "code",
   "execution_count": 7,
   "metadata": {},
   "outputs": [
    {
     "name": "stdout",
     "output_type": "stream",
     "text": [
      "[[1.62017723 0.68815418]\n",
      " [1.09603046 0.29695622]\n",
      " [1.36149703 0.59352795]\n",
      " [1.97946203 0.87977099]\n",
      " [1.69265556 0.8379798 ]] (5, 2)\n"
     ]
    }
   ],
   "source": [
    "print(dot, dot.shape)"
   ]
  },
  {
   "cell_type": "markdown",
   "metadata": {},
   "source": [
    "### Q2"
   ]
  },
  {
   "cell_type": "code",
   "execution_count": 17,
   "metadata": {},
   "outputs": [],
   "source": [
    "arr1 = np.array([[5, 7], [9, 11]], float)\n",
    "arr2 = np.array([[2, 4], [6, 8]], float)"
   ]
  },
  {
   "cell_type": "code",
   "execution_count": 18,
   "metadata": {},
   "outputs": [],
   "source": [
    "concat_1 = np.concatenate((arr1, arr2), axis = 0)\n",
    "concat_2 = np.concatenate((arr1, arr2), axis = 1)"
   ]
  },
  {
   "cell_type": "code",
   "execution_count": 19,
   "metadata": {},
   "outputs": [
    {
     "name": "stdout",
     "output_type": "stream",
     "text": [
      "[[ 5.  7.]\n",
      " [ 9. 11.]\n",
      " [ 2.  4.]\n",
      " [ 6.  8.]]\n"
     ]
    }
   ],
   "source": [
    "print(concat_1)"
   ]
  },
  {
   "cell_type": "code",
   "execution_count": 20,
   "metadata": {},
   "outputs": [
    {
     "name": "stdout",
     "output_type": "stream",
     "text": [
      "[[ 5.  7.  2.  4.]\n",
      " [ 9. 11.  6.  8.]]\n"
     ]
    }
   ],
   "source": [
    "print(concat_2)"
   ]
  },
  {
   "cell_type": "markdown",
   "metadata": {},
   "source": [
    "### Q3"
   ]
  },
  {
   "cell_type": "code",
   "execution_count": 28,
   "metadata": {
    "jupyter": {
     "source_hidden": true
    },
    "tags": []
   },
   "outputs": [],
   "source": [
    "import numpy as np\n",
    "\n",
    "xy = np.array([[1., 2., 3., 4., 5., 6.,],\n",
    "              [10., 20., 30., 40., 50., 60.]])\n",
    "\n",
    "x_train = xy[0]\n",
    "y_train = xy[1]"
   ]
  },
  {
   "cell_type": "code",
   "execution_count": 29,
   "metadata": {},
   "outputs": [
    {
     "name": "stdout",
     "output_type": "stream",
     "text": [
      "[1. 2. 3. 4. 5. 6.] (6,)\n"
     ]
    }
   ],
   "source": [
    "print(x_train, x_train.shape)"
   ]
  },
  {
   "cell_type": "code",
   "execution_count": 30,
   "metadata": {},
   "outputs": [
    {
     "name": "stdout",
     "output_type": "stream",
     "text": [
      "[10. 20. 30. 40. 50. 60.] (6,)\n"
     ]
    }
   ],
   "source": [
    "print(y_train, y_train.shape)"
   ]
  },
  {
   "cell_type": "markdown",
   "metadata": {},
   "source": [
    "### Q4"
   ]
  },
  {
   "cell_type": "code",
   "execution_count": 59,
   "metadata": {},
   "outputs": [],
   "source": [
    "beta_gd = np.random.ranf(1)\n",
    "bias = np.random.ranf(1)"
   ]
  },
  {
   "cell_type": "code",
   "execution_count": 60,
   "metadata": {},
   "outputs": [
    {
     "name": "stdout",
     "output_type": "stream",
     "text": [
      "[0.03840242] [0.45750648]\n"
     ]
    }
   ],
   "source": [
    "print(beta_gd, bias)"
   ]
  },
  {
   "cell_type": "markdown",
   "metadata": {},
   "source": [
    "### Q5"
   ]
  },
  {
   "cell_type": "markdown",
   "metadata": {},
   "source": [
    "$||X|| = \\sqrt {\\sum_{i=1}^n{X_i}^2}$\n",
    "\n",
    "$||y|| = \\sqrt {\\sum_{i=1}^n{y_i}^2}$\n",
    "\n",
    "### 예측 함수 \n",
    "\n",
    "$h(X) = X \\times w + b$\n",
    "\n",
    "### 손실함수\n",
    "\n",
    "$L(y, h(X)) = {1 \\over 2}(h(X)-y)^2 =  {1 \\over 2}(h(X)^2 - 2h(X)y + y^2)$\n",
    "\n",
    "$⇒ {1 \\over 2}((X^2w^2 + 2Xwb + b^2) - 2(Xw+b)y + y^2)$\n",
    "\n",
    "$⇒ {1 \\over 2}(X^2w^2 + 2Xwb +b^2 - (2Xw+2b)y + y^2$\n",
    "\n",
    "${\\partial L \\over \\partial w} = {1 \\over 2}(2X^2 + 2Xb - 2Xy) = X^2w + Xb - Xy = X(Xw + b - y)$\n",
    "\n",
    "$\\therefore {\\partial L \\over \\partial w} = X(h(X) - y)$\n",
    "\n",
    "${\\partial L \\over \\partial b} = {1 \\over 2}(2Xw - 2y + 2b) = Xw + b - y$\n",
    "\n",
    "$\\therefore {\\partial L \\over \\partial b} = h(X) - y$"
   ]
  },
  {
   "cell_type": "code",
   "execution_count": 35,
   "metadata": {},
   "outputs": [
    {
     "name": "stdout",
     "output_type": "stream",
     "text": [
      "Epoch (         0)/1000) error:  54.197909, beta_gd:   2.691518, bias:   0.593983\n",
      "Epoch (       100)/1000) error:   0.009280, beta_gd:   2.949269, bias:   0.217417\n",
      "Epoch (       200)/1000) error:   0.001243, beta_gd:   2.981431, bias:   0.079582\n",
      "Epoch (       300)/1000) error:   0.000167, beta_gd:   2.993203, bias:   0.029129\n",
      "Epoch (       400)/1000) error:   0.000022, beta_gd:   2.997512, bias:   0.010662\n",
      "Epoch (       500)/1000) error:   0.000003, beta_gd:   2.999089, bias:   0.003903\n",
      "Epoch (       600)/1000) error:   0.000000, beta_gd:   2.999667, bias:   0.001429\n",
      "Epoch (       700)/1000) error:   0.000000, beta_gd:   2.999878, bias:   0.000523\n",
      "Epoch (       800)/1000) error:   0.000000, beta_gd:   2.999955, bias:   0.000191\n",
      "Epoch (       900)/1000) error:   0.000000, beta_gd:   2.999984, bias:   0.000070\n"
     ]
    }
   ],
   "source": [
    "import numpy as np\n",
    "from numpy import random\n",
    "\n",
    "xy = np.array([[1., 2., 3., 4., 5., 6.], [3., 6., 9., 12., 15., 18.]])\n",
    "\n",
    "x_train = xy[0]\n",
    "y_train = xy[1]\n",
    "\n",
    "beta_gd = random.ranf(1)\n",
    "bias = random.ranf(1)\n",
    "\n",
    "learning_rate = 0.01\n",
    "\n",
    "n = len(x_train)\n",
    "\n",
    "def loss_function(X, w, b):\n",
    "    return X * w + b\n",
    "\n",
    "for i in range(1000):\n",
    "    error = (loss_function(x_train, beta_gd, bias) - y_train) ** 2\n",
    "\n",
    "    cost = np.sum(error) / n\n",
    "\n",
    "    gradient_w = np.sum((loss_function(x_train, beta_gd, bias) - y_train) * x_train)\n",
    "    gradient_b = np.sum((loss_function(x_train, beta_gd, bias) - y_train))\n",
    "\n",
    "    beta_gd -= learning_rate * gradient_w\n",
    "    bias -= learning_rate * bias\n",
    "\n",
    "    if i % 100 == 0:\n",
    "        print('Epoch ({:10d})/1000) error: {:10f}, beta_gd: {:10f}, bias: {:10f}'.format(i, cost, beta_gd.item(), bias.item()))"
   ]
  },
  {
   "cell_type": "code",
   "execution_count": 33,
   "metadata": {},
   "outputs": [
    {
     "data": {
      "text/plain": [
       "array([ 2.83129738e-05,  1.90227793e-05,  9.73258475e-06,  4.42390215e-07,\n",
       "       -8.84780431e-06, -1.81379988e-05])"
      ]
     },
     "execution_count": 33,
     "metadata": {},
     "output_type": "execute_result"
    }
   ],
   "source": [
    "(loss_function(x_train, beta_gd, bias) - y_train)"
   ]
  }
 ],
 "metadata": {
  "kernelspec": {
   "display_name": "Python 3 (ipykernel)",
   "language": "python",
   "name": "python3"
  },
  "language_info": {
   "codemirror_mode": {
    "name": "ipython",
    "version": 3
   },
   "file_extension": ".py",
   "mimetype": "text/x-python",
   "name": "python",
   "nbconvert_exporter": "python",
   "pygments_lexer": "ipython3",
   "version": "3.9.7"
  },
  "vscode": {
   "interpreter": {
    "hash": "263930470851f494f0ed2879c35b57985588df20f9e529b86e97dd5eb9ddc466"
   }
  }
 },
 "nbformat": 4,
 "nbformat_minor": 4
}
