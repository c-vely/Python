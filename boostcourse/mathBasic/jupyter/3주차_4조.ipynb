{
 "cells": [
  {
   "cell_type": "markdown",
   "metadata": {
    "id": "SmCBuTyPJUBs"
   },
   "source": [
    "# 1번"
   ]
  },
  {
   "cell_type": "code",
   "execution_count": null,
   "metadata": {
    "colab": {
     "base_uri": "https://localhost:8080/"
    },
    "id": "WFYpKObPGabV",
    "outputId": "7df3424a-670d-4d60-e95e-28e8314f9995"
   },
   "outputs": [
    {
     "name": "stdout",
     "output_type": "stream",
     "text": [
      "[[1.11744527 1.62012684]\n",
      " [1.12247085 1.29787087]\n",
      " [1.27447948 1.6836035 ]\n",
      " [0.72230217 1.24538264]\n",
      " [0.95776147 1.22752243]] (5, 2)\n"
     ]
    }
   ],
   "source": [
    "#무작위의 데이터를 가진 두 행렬의 행렬곱 연산 진행\n",
    "import numpy as np\n",
    "arr1 = np.random.rand(5, 3)\n",
    "arr2 = np.random.rand(3, 2)\n",
    "\n",
    "dot = np.dot(arr1, arr2)\n",
    "\n",
    "print(dot, dot.shape)"
   ]
  },
  {
   "cell_type": "markdown",
   "metadata": {
    "id": "pHlrh3QyKzxJ"
   },
   "source": [
    "# 2번"
   ]
  },
  {
   "cell_type": "code",
   "execution_count": null,
   "metadata": {
    "colab": {
     "base_uri": "https://localhost:8080/"
    },
    "id": "BmIEEAaUKooh",
    "outputId": "33d0fe83-f2c6-441b-e69f-42cd4400f811"
   },
   "outputs": [
    {
     "name": "stdout",
     "output_type": "stream",
     "text": [
      "[[ 5.  7.]\n",
      " [ 9. 11.]\n",
      " [ 2.  4.]\n",
      " [ 6.  8.]]\n",
      "[[ 5.  7.  2.  4.]\n",
      " [ 9. 11.  6.  8.]]\n"
     ]
    }
   ],
   "source": [
    "# 두 개의 array를 concatenate axis를 0과 1로 하여 연산\n",
    "arr1 = np.array([[5, 7], [9, 11]], float)\n",
    "arr2 = np.array([[2, 4], [6, 8]], float)\n",
    "\n",
    "concat_1 = np.concatenate((arr1, arr2), axis = 0)\n",
    "concat_2 = np.concatenate((arr1, arr2), axis = 1)\n",
    "\n",
    "print(concat_1)\n",
    "print(concat_2)\n",
    "\n"
   ]
  },
  {
   "cell_type": "markdown",
   "metadata": {
    "id": "5ijK5pB4N7P7"
   },
   "source": [
    "# 3번"
   ]
  },
  {
   "cell_type": "code",
   "execution_count": null,
   "metadata": {
    "colab": {
     "base_uri": "https://localhost:8080/"
    },
    "id": "aQfVLMVoN7IE",
    "outputId": "39a9db88-ea72-43bd-98d8-5aeb8d8d2677"
   },
   "outputs": [
    {
     "name": "stdout",
     "output_type": "stream",
     "text": [
      "[1. 2. 3. 4. 5. 6.] (6,)\n",
      "[10. 20. 30. 40. 50. 60.] (6,)\n"
     ]
    }
   ],
   "source": [
    "#주어진 데이터에서 경사 하강법을 위한 데이터 분리하기\n",
    "import numpy as np\n",
    "\n",
    "#2차원 배열에서, 첫 번째 1행은 train, 2행은 test에 해당하므로, 행 인덱스에 따라 분리한다.\n",
    "xy = np.array([[1., 2., 3., 4., 5., 6.], [10., 20., 30., 40., 50., 60.]])\n",
    "\n",
    "x_train = xy[0]\n",
    "y_train = xy[1]\n",
    "\n",
    "print(x_train, x_train.shape)\n",
    "print(y_train, y_train.shape)"
   ]
  },
  {
   "cell_type": "markdown",
   "metadata": {
    "id": "Cg9ToXdUOgPa"
   },
   "source": [
    "# 4번"
   ]
  },
  {
   "cell_type": "code",
   "execution_count": null,
   "metadata": {
    "colab": {
     "base_uri": "https://localhost:8080/"
    },
    "id": "2YHunV4AOgUX",
    "outputId": "198bd87f-ade8-4f01-97c6-83b6ac08017d"
   },
   "outputs": [
    {
     "name": "stdout",
     "output_type": "stream",
     "text": [
      "[0.56755406] [0.65830533]\n"
     ]
    }
   ],
   "source": [
    "#경사 하강법 구현을 위해, weight, bias값을 정의하기\n",
    "#weight와 bias는 각각 크기가 1인 1차원 벡터로 정의된다.(초기값을 랜덤)\n",
    "\n",
    "beta_gd = np.random.rand(1,)\n",
    "bias = np.random.rand(1,)\n",
    "\n",
    "print(beta_gd, bias)"
   ]
  },
  {
   "cell_type": "markdown",
   "metadata": {
    "id": "NdYJx-STSF5j"
   },
   "source": [
    "# 5번"
   ]
  },
  {
   "cell_type": "code",
   "execution_count": null,
   "metadata": {
    "colab": {
     "base_uri": "https://localhost:8080/"
    },
    "id": "296xzPF7SGCf",
    "outputId": "0d98f36e-c347-4620-b2ef-194d0dc3b42e"
   },
   "outputs": [
    {
     "name": "stdout",
     "output_type": "stream",
     "text": [
      "Epoch (         0/1000) error:   9.388810, beta_gd:   0.950226, bias:   0.104243\n",
      "Epoch (       100/1000) error:   0.202408, beta_gd:   2.892419, bias:   0.460574\n",
      "Epoch (       200/1000) error:   0.168619, beta_gd:   2.910378, bias:   0.383690\n",
      "Epoch (       300/1000) error:   0.140472, beta_gd:   2.925339, bias:   0.319641\n",
      "Epoch (       400/1000) error:   0.117023, beta_gd:   2.937802, bias:   0.266283\n",
      "Epoch (       500/1000) error:   0.097488, beta_gd:   2.948185, bias:   0.221832\n",
      "Epoch (       600/1000) error:   0.081214, beta_gd:   2.956834, bias:   0.184801\n",
      "Epoch (       700/1000) error:   0.067657, beta_gd:   2.964040, bias:   0.153952\n",
      "Epoch (       800/1000) error:   0.056363, beta_gd:   2.970043, bias:   0.128253\n",
      "Epoch (       900/1000) error:   0.046954, beta_gd:   2.975044, bias:   0.106844\n"
     ]
    }
   ],
   "source": [
    "import numpy as np\n",
    "\n",
    "xy = np.array([[1., 2., 3., 4., 5., 6.], [3., 6., 9., 12., 15., 18.]])\n",
    "\n",
    "x_train = xy[0]\n",
    "y_train = xy[1]\n",
    "\n",
    "beta_gd = np.random.rand(1,)\n",
    "bias = np.random.rand(1,)\n",
    "\n",
    "learning_rate = 0.01\n",
    "\n",
    "for i in range(1000):\n",
    "  y_pred = beta_gd * x_train + bias\n",
    "\n",
    "  #Error는 차이의 제곱을 통해 계산하되, 평균을 내 주어야 한다.\n",
    "  error = (1/x_train.size * np.sum((y_train - y_pred)**2))**0.5\n",
    "\n",
    "  dedw = -(1/x_train.size) * np.sum(x_train * (y_train - y_pred)) #에러 계산식을 weight에 대해 편미분한 식\n",
    "  dedb = -(1/x_train.size) * np.sum(y_train - y_pred) #에러 계산식을 bias에 대해 편미분한 식\n",
    "\n",
    "  beta_gd = beta_gd - learning_rate * dedw\n",
    "  bias = bias - learning_rate * dedb\n",
    "\n",
    "  if i % 100 == 0:\n",
    "    print('Epoch ({:10d}/1000) error: {:10f}, beta_gd: {:10f}, bias: {:10f}'.format(i, error, beta_gd.item(), bias.item()))\n"
   ]
  }
 ],
 "metadata": {
  "colab": {
   "provenance": []
  },
  "kernelspec": {
   "display_name": "Python 3 (ipykernel)",
   "language": "python",
   "name": "python3"
  },
  "language_info": {
   "codemirror_mode": {
    "name": "ipython",
    "version": 3
   },
   "file_extension": ".py",
   "mimetype": "text/x-python",
   "name": "python",
   "nbconvert_exporter": "python",
   "pygments_lexer": "ipython3",
   "version": "3.9.7"
  }
 },
 "nbformat": 4,
 "nbformat_minor": 4
}
