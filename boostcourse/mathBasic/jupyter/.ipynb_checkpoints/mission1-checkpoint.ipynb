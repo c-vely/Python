{
 "cells": [
  {
   "cell_type": "markdown",
   "id": "957df210-6fb3-46ee-bfe0-3ca95096303c",
   "metadata": {},
   "source": [
    "# Q1.\n",
    "\n",
    "'''  \n",
    "본격적으로 Numpy와 친해지기 위해서 다양한 연산을 연습해볼 예정입니다.   \n",
    "\n",
    " 1. 무작위의 데이터를 가진 5x3의 행렬을 가지는 numpy array와 3x2 행렬을 가지는 numpy array를 만든 후   \n",
    " 2. 행열곱 연산을 진행해보세요.   \n",
    " \n",
    "'''\n",
    "\n",
    "import numpy as np  \n",
    "\n",
    "arr1 = # TODO  \n",
    "arr2 = # TODO  \n",
    "\n",
    "dot = # TODO  \n",
    "\n",
    "[출력 예시]  \n",
    "print(dot, dot.shape)  \n",
    "  \n",
    "[[0.25988388 1.07902018]  \n",
    " [0.11818578 0.96191117]  \n",
    " [0.50469943 0.37006525]  \n",
    " [0.28242824 0.23443891]  \n",
    " [0.39098727 0.83108552]] (5, 2)  \n",
    "   "
   ]
  },
  {
   "cell_type": "markdown",
   "id": "ec3ed24e-5807-483f-a57d-bdce531298be",
   "metadata": {},
   "source": [
    "# * myself"
   ]
  },
  {
   "cell_type": "code",
   "execution_count": 1,
   "id": "5cf347b6-4f07-4462-9ec5-df62e62c6c12",
   "metadata": {},
   "outputs": [],
   "source": [
    "import numpy as np"
   ]
  },
  {
   "cell_type": "code",
   "execution_count": 3,
   "id": "8f980c49-7a95-4eb9-b562-2d86c73aaa2c",
   "metadata": {},
   "outputs": [
    {
     "data": {
      "text/plain": [
       "array([[0.77137488, 0.5914316 , 0.60441259],\n",
       "       [0.07582718, 0.65641487, 0.13473442],\n",
       "       [0.24079571, 0.39800217, 0.76666613],\n",
       "       [0.02023434, 0.94605333, 0.83477716],\n",
       "       [0.96859075, 0.14296667, 0.61254782]])"
      ]
     },
     "execution_count": 3,
     "metadata": {},
     "output_type": "execute_result"
    }
   ],
   "source": [
    "arr1 = np.random.rand(5,3)\n",
    "arr1"
   ]
  },
  {
   "cell_type": "code",
   "execution_count": 4,
   "id": "e9411575-00bb-4bc7-bab9-f9eb90691e01",
   "metadata": {},
   "outputs": [
    {
     "data": {
      "text/plain": [
       "array([[0.32238144, 0.25583447],\n",
       "       [0.7723716 , 0.83246486],\n",
       "       [0.92661985, 0.80553928]])"
      ]
     },
     "execution_count": 4,
     "metadata": {},
     "output_type": "execute_result"
    }
   ],
   "source": [
    "arr2 = np.random.rand(3,2)\n",
    "arr2"
   ]
  },
  {
   "cell_type": "code",
   "execution_count": 5,
   "id": "f24a0faa-529a-4288-8f05-81943c6b40ce",
   "metadata": {},
   "outputs": [
    {
     "data": {
      "text/plain": [
       "array([[1.26554261, 1.17656839],\n",
       "       [0.65628906, 0.67437538],\n",
       "       [1.09544169, 1.01050635],\n",
       "       [1.51074898, 1.46517858],\n",
       "       [0.99027804, 0.86024496]])"
      ]
     },
     "execution_count": 5,
     "metadata": {},
     "output_type": "execute_result"
    }
   ],
   "source": [
    "dot = np.dot(arr1, arr2)\n",
    "dot"
   ]
  },
  {
   "cell_type": "code",
   "execution_count": 6,
   "id": "eb9e7786-db6b-4df8-be25-96592152149b",
   "metadata": {},
   "outputs": [
    {
     "name": "stdout",
     "output_type": "stream",
     "text": [
      "[[1.26554261 1.17656839]\n",
      " [0.65628906 0.67437538]\n",
      " [1.09544169 1.01050635]\n",
      " [1.51074898 1.46517858]\n",
      " [0.99027804 0.86024496]] (5, 2)\n"
     ]
    }
   ],
   "source": [
    "print(dot, dot.shape)"
   ]
  },
  {
   "cell_type": "markdown",
   "id": "07c9ddbe-4d6a-411c-b322-4101a40eeafb",
   "metadata": {},
   "source": [
    "# * another answer"
   ]
  },
  {
   "cell_type": "code",
   "execution_count": 8,
   "id": "b6c19a15-77ff-42cd-bbc7-2e77b0937b8c",
   "metadata": {},
   "outputs": [
    {
     "name": "stdout",
     "output_type": "stream",
     "text": [
      "[[0.47459995 1.00573988]\n",
      " [0.61042398 1.25113227]\n",
      " [0.31891478 0.62456808]\n",
      " [0.34156672 0.71751683]\n",
      " [0.52713708 1.08156109]] (5, 2)\n"
     ]
    }
   ],
   "source": [
    "# 1) @ 행렬곱 연산자 사용\n",
    "arr1 = np.random.uniform(0, 1, size=(5,3))\n",
    "arr2 = np.random.uniform(0, 1, size=(3,2))\n",
    "dot = arr1 @ arr2 \n",
    "print(dot, dot.shape)"
   ]
  },
  {
   "cell_type": "code",
   "execution_count": 9,
   "id": "1fc71d57-bc47-438f-956d-79fa7eb872ee",
   "metadata": {},
   "outputs": [
    {
     "name": "stdout",
     "output_type": "stream",
     "text": [
      "[[1.10445989 1.24589069]\n",
      " [0.98361144 1.19865188]\n",
      " [0.80151726 0.90047836]\n",
      " [1.45548076 1.49331683]\n",
      " [0.54875662 0.83427181]] (5, 2)\n"
     ]
    }
   ],
   "source": [
    "# 2) .dot() 사용\n",
    "arr1 = np.random.uniform(0, 1, size=(5,3))\n",
    "arr2 = np.random.uniform(0, 1, size=(3,2))\n",
    "dot = arr1.dot(arr2)\n",
    "print(dot, dot.shape)"
   ]
  },
  {
   "cell_type": "code",
   "execution_count": null,
   "id": "b6220d55-a522-434b-9e3f-3b84a93e6fa0",
   "metadata": {},
   "outputs": [],
   "source": [
    "# 3) for문 + reshape\n",
    "arr1 = np.array([random.randint(0,10) for value in range(0,15)]).reshape(5,3)\n",
    "arr2 = np.array([random.randint(0,10) for value in range(0,6)]).reshape(3,2)\n",
    "dot = arr1 @ arr2\n",
    "print(dot, dot.shape)"
   ]
  }
 ],
 "metadata": {
  "kernelspec": {
   "display_name": "Python 3 (ipykernel)",
   "language": "python",
   "name": "python3"
  },
  "language_info": {
   "codemirror_mode": {
    "name": "ipython",
    "version": 3
   },
   "file_extension": ".py",
   "mimetype": "text/x-python",
   "name": "python",
   "nbconvert_exporter": "python",
   "pygments_lexer": "ipython3",
   "version": "3.9.7"
  }
 },
 "nbformat": 4,
 "nbformat_minor": 5
}
