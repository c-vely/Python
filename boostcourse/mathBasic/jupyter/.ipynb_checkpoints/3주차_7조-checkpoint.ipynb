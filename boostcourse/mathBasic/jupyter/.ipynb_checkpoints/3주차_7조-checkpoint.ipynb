{
 "cells": [
  {
   "cell_type": "markdown",
   "id": "c51981b0",
   "metadata": {},
   "source": [
    "# 행그리코치7조 (3주차)"
   ]
  },
  {
   "cell_type": "markdown",
   "id": "126cc8f8",
   "metadata": {},
   "source": [
    "## Q1 by 황준상"
   ]
  },
  {
   "cell_type": "code",
   "execution_count": 19,
   "id": "ccf49eff",
   "metadata": {},
   "outputs": [
    {
     "name": "stdout",
     "output_type": "stream",
     "text": [
      "[[0.84774967 0.69843233]\n",
      " [1.27852094 1.08593159]\n",
      " [1.14651745 0.91541201]\n",
      " [1.23507103 1.05140995]\n",
      " [0.80109169 0.69820602]] (5, 2)\n"
     ]
    }
   ],
   "source": [
    "import numpy as np\n",
    "arr1 = np.array([[1,2,3],\n",
    "               [4,5,6],\n",
    "               [7,8,9],\n",
    "               [1,2,3],\n",
    "               [4,5,6]])\n",
    "arr2 = np.array([[1,2],\n",
    "               [3,4],\n",
    "               [5,6]])\n",
    "\n",
    "dot = arr1 @ arr2\n",
    "\n",
    "\n",
    "print(dot, dot.shape)"
   ]
  },
  {
   "cell_type": "markdown",
   "id": "280ce63b",
   "metadata": {},
   "source": [
    "## Q2 by Ground"
   ]
  },
  {
   "cell_type": "code",
   "execution_count": 6,
   "id": "2bd601b1",
   "metadata": {},
   "outputs": [
    {
     "name": "stdout",
     "output_type": "stream",
     "text": [
      "[[ 5.  7.]\n",
      " [ 9. 11.]\n",
      " [ 2.  4.]\n",
      " [ 6.  8.]]\n",
      "[[ 5.  7.  2.  4.]\n",
      " [ 9. 11.  6.  8.]]\n"
     ]
    }
   ],
   "source": [
    "arr1 = np.array([[5, 7], [9, 11]], float)\n",
    "arr2 = np.array([[2, 4], [6, 8]], float)\n",
    "concat_1 = np.concatenate((arr1, arr2), axis = 0)\n",
    "concat_2 = np.concatenate((arr1, arr2), axis = 1)\n",
    "print(concat_1, concat_1.shape)\n",
    "print(concat_2, concat_2.shape)"
   ]
  },
  {
   "cell_type": "markdown",
   "id": "e434e657",
   "metadata": {},
   "source": [
    "## Q3 by 과아형"
   ]
  },
  {
   "cell_type": "code",
   "execution_count": 63,
   "id": "91d65844",
   "metadata": {},
   "outputs": [
    {
     "name": "stdout",
     "output_type": "stream",
     "text": [
      "[1. 2. 3. 4. 5. 6.] (6,)\n",
      "[10. 20. 30. 40. 50. 60.] (6,)\n"
     ]
    }
   ],
   "source": [
    "xy = np.array([[1., 2., 3., 4., 5., 6.,], [10., 20., 30., 40., 50., 60.]])\n",
    "\n",
    "x_train = xy[0].copy()\n",
    "y_train = xy[1].copy()\n",
    "\n",
    "print(x_train, x_train.shape)\n",
    "print(y_train, y_train.shape)\n",
    "\n",
    "# x_ = np.array([[x] for x in x_train])\n",
    "# print(x_, x_.shape)\n",
    "# x__ = np.transpose(x_train)\n",
    "# print(x__, x__.shape)"
   ]
  },
  {
   "cell_type": "markdown",
   "id": "672bfc05",
   "metadata": {},
   "source": [
    "## Q4 by 과아형"
   ]
  },
  {
   "cell_type": "code",
   "execution_count": 3,
   "id": "2d7e8980",
   "metadata": {},
   "outputs": [
    {
     "name": "stdout",
     "output_type": "stream",
     "text": [
      "[0.73476912] [0.47219822]\n"
     ]
    }
   ],
   "source": [
    "# weight는 가중치(기울기), bias는 편향(상수)\n",
    "beta_gd = np.random.rand(1)\n",
    "bias = np.random.rand(1)\n",
    "\n",
    "print(beta_gd, bias)\n"
   ]
  },
  {
   "cell_type": "markdown",
   "id": "d69b549c",
   "metadata": {},
   "source": [
    "## Q5 by 과아형"
   ]
  },
  {
   "cell_type": "code",
   "execution_count": 110,
   "id": "f73440d6",
   "metadata": {},
   "outputs": [
    {
     "name": "stdout",
     "output_type": "stream",
     "text": [
      "Epoch (         0/1000) error: -48.671509, beta_gd:   0.908090, bias:   0.534414\n",
      "Epoch (       100/1000) error:   0.886427, beta_gd:   2.811228, bias:   0.808171\n",
      "Epoch (       200/1000) error:   0.738456, beta_gd:   2.842740, bias:   0.673262\n",
      "Epoch (       300/1000) error:   0.615185, beta_gd:   2.868991, bias:   0.560874\n",
      "Epoch (       400/1000) error:   0.512492, beta_gd:   2.890861, bias:   0.467247\n",
      "Epoch (       500/1000) error:   0.426941, beta_gd:   2.909079, bias:   0.389249\n",
      "Epoch (       600/1000) error:   0.355671, beta_gd:   2.924257, bias:   0.324271\n",
      "Epoch (       700/1000) error:   0.296299, beta_gd:   2.936901, bias:   0.270140\n",
      "Epoch (       800/1000) error:   0.246838, beta_gd:   2.947434, bias:   0.225046\n",
      "Epoch (       900/1000) error:   0.205633, beta_gd:   2.956209, bias:   0.187479\n"
     ]
    }
   ],
   "source": [
    "import numpy as np\n",
    "\n",
    "xy = np.array([[1., 2., 3., 4., 5., 6.], [3., 6., 9., 12., 15., 18.]])\n",
    "\n",
    "# Q3에서 데이터 분리\n",
    "x_train = xy[0].copy()\n",
    "y_train = xy[1].copy()\n",
    "\n",
    "# Q4에서 weight, bias 값 정의\n",
    "beta_gd = np.random.rand(1)\n",
    "bias = np.random.rand(1)\n",
    "theta = np.r_[beta_gd, bias]\n",
    "\n",
    "\n",
    "# intercept 항 추가\n",
    "m = len(y_train)\n",
    "x_ = np.c_[x_train, np.ones(m)]\n",
    "x_transposed = x_.transpose()\n",
    "\n",
    "learning_rate = 0.01\n",
    "\n",
    "# 경사하강법\n",
    "for i in range(1000):\n",
    "    error = (x_ @ theta) - y_train        # 임의의 결과 값과 y 값의 차이를 구해주는 에러. 제곱은 하지 못함, 제곱하면 수가 너무 커짐\n",
    "    grad = (1/m) * (x_transposed @ error) # 미분값\n",
    "    theta = theta - learning_rate * grad  # weigh와 bias 값을 미분값으로 조정\n",
    "    \n",
    "    \n",
    "    if i % 100 == 0:\n",
    "        print('Epoch ({:10d}/1000) error: {:10f}, beta_gd: {:10f}, bias: {:10f}'.format(i, error.sum(), theta[0], theta[1]))\n",
    "        \n",
    "        \n"
   ]
  },
  {
   "cell_type": "code",
   "execution_count": null,
   "id": "a3c1602e",
   "metadata": {},
   "outputs": [],
   "source": []
  }
 ],
 "metadata": {
  "kernelspec": {
   "display_name": "Python 3 (ipykernel)",
   "language": "python",
   "name": "python3"
  },
  "language_info": {
   "codemirror_mode": {
    "name": "ipython",
    "version": 3
   },
   "file_extension": ".py",
   "mimetype": "text/x-python",
   "name": "python",
   "nbconvert_exporter": "python",
   "pygments_lexer": "ipython3",
   "version": "3.10.8"
  }
 },
 "nbformat": 4,
 "nbformat_minor": 5
}
