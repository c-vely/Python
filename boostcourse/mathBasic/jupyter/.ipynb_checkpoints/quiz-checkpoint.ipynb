{
 "cells": [
  {
   "cell_type": "markdown",
   "id": "1491762a-feaf-46c5-9e08-565a55b7ad2f",
   "metadata": {
    "jp-MarkdownHeadingCollapsed": true,
    "tags": []
   },
   "source": [
    "Q1. 다음의 벡터의 L1-노름을 구하시오(정수값으로 입력)  \n",
    "x = [-1, 2, 3]"
   ]
  },
  {
   "cell_type": "code",
   "execution_count": 9,
   "id": "b26bd36c-4fb9-49d8-98b9-fd197970f118",
   "metadata": {},
   "outputs": [],
   "source": [
    "import numpy as np"
   ]
  },
  {
   "cell_type": "code",
   "execution_count": 10,
   "id": "db074956-ac31-4bff-b96b-5383bfeb4ba4",
   "metadata": {},
   "outputs": [],
   "source": [
    "def l1_norm(x):\n",
    "    x_norm = np.abs(x)\n",
    "    x_norm = np.sum(x_norm)\n",
    "    return x_norm"
   ]
  },
  {
   "cell_type": "code",
   "execution_count": 11,
   "id": "96f4b836-96e8-4a15-8974-d826c119f1b8",
   "metadata": {},
   "outputs": [
    {
     "data": {
      "text/plain": [
       "6"
      ]
     },
     "execution_count": 11,
     "metadata": {},
     "output_type": "execute_result"
    }
   ],
   "source": [
    "x = [-1, 2, 3]\n",
    "l1_norm(x)"
   ]
  },
  {
   "cell_type": "markdown",
   "id": "45551b87-5651-4aae-9319-041ffdce8b36",
   "metadata": {},
   "source": [
    "Q2. 다음 벡터의 L2-노름을 구하시오(정수값으로 임력)  \n",
    "x = [-6, -8]"
   ]
  },
  {
   "cell_type": "code",
   "execution_count": 12,
   "id": "ebb2fed7-f66f-42ee-aceb-b524a39d0ad8",
   "metadata": {},
   "outputs": [],
   "source": [
    "def l2_norm(x):\n",
    "    x_norm = x * x\n",
    "    x_norm = np.sum(x_norm)\n",
    "    x_norm = np.squrt(x_norm)\n",
    "    return x_norm"
   ]
  },
  {
   "cell_type": "code",
   "execution_count": 13,
   "id": "ed366226-b4aa-4d4f-882c-d711facc723a",
   "metadata": {},
   "outputs": [],
   "source": [
    "x = [-6, -8]"
   ]
  },
  {
   "cell_type": "code",
   "execution_count": 14,
   "id": "f3f4c735-3270-47d9-8651-99fc14102285",
   "metadata": {},
   "outputs": [
    {
     "ename": "TypeError",
     "evalue": "can't multiply sequence by non-int of type 'list'",
     "output_type": "error",
     "traceback": [
      "\u001b[1;31m---------------------------------------------------------------------------\u001b[0m",
      "\u001b[1;31mTypeError\u001b[0m                                 Traceback (most recent call last)",
      "Cell \u001b[1;32mIn[14], line 1\u001b[0m\n\u001b[1;32m----> 1\u001b[0m \u001b[43ml2_norm\u001b[49m\u001b[43m(\u001b[49m\u001b[43mx\u001b[49m\u001b[43m)\u001b[49m\n",
      "Cell \u001b[1;32mIn[12], line 2\u001b[0m, in \u001b[0;36ml2_norm\u001b[1;34m(x)\u001b[0m\n\u001b[0;32m      1\u001b[0m \u001b[38;5;28;01mdef\u001b[39;00m \u001b[38;5;21ml2_norm\u001b[39m(x):\n\u001b[1;32m----> 2\u001b[0m     x_norm \u001b[38;5;241m=\u001b[39m \u001b[43mx\u001b[49m\u001b[43m \u001b[49m\u001b[38;5;241;43m*\u001b[39;49m\u001b[43m \u001b[49m\u001b[43mx\u001b[49m\n\u001b[0;32m      3\u001b[0m     x_norm \u001b[38;5;241m=\u001b[39m np\u001b[38;5;241m.\u001b[39msum(x_norm)\n\u001b[0;32m      4\u001b[0m     x_norm \u001b[38;5;241m=\u001b[39m np\u001b[38;5;241m.\u001b[39msqurt(x_norm)\n",
      "\u001b[1;31mTypeError\u001b[0m: can't multiply sequence by non-int of type 'list'"
     ]
    }
   ],
   "source": [
    "l2_norm(x)"
   ]
  },
  {
   "cell_type": "code",
   "execution_count": 15,
   "id": "c0d31a1f-d1c8-4f37-9153-5b11f7e1bb89",
   "metadata": {},
   "outputs": [
    {
     "data": {
      "text/plain": [
       "10.0"
      ]
     },
     "execution_count": 15,
     "metadata": {},
     "output_type": "execute_result"
    }
   ],
   "source": [
    "np.linalg.norm(x)"
   ]
  },
  {
   "cell_type": "markdown",
   "id": "25aebe51-2f7e-4b5f-ba5d-3d3f04057e44",
   "metadata": {},
   "source": [
    "Q3. L2-노름을 이용하여 다음 두 벡터 사이의 거리를 구하시오 (정수값으로 입력)  \n",
    "x=[−3,0]   \n",
    "y = [0, 4]  "
   ]
  },
  {
   "cell_type": "code",
   "execution_count": 16,
   "id": "12fe9ac9-0dea-4e2a-a52b-17122d4dbebb",
   "metadata": {},
   "outputs": [],
   "source": [
    "x = [-3, 0] \n",
    "y = [0, 4]"
   ]
  },
  {
   "cell_type": "code",
   "execution_count": 17,
   "id": "a7438374-b6a8-40f6-a00f-b7552ef23efa",
   "metadata": {},
   "outputs": [
    {
     "data": {
      "text/plain": [
       "3.0"
      ]
     },
     "execution_count": 17,
     "metadata": {},
     "output_type": "execute_result"
    }
   ],
   "source": [
    "xx = np.linalg.norm(x)\n",
    "xx"
   ]
  },
  {
   "cell_type": "code",
   "execution_count": 18,
   "id": "b20b05f6-20d1-4a6f-bf93-b76ef31dc7d6",
   "metadata": {},
   "outputs": [
    {
     "data": {
      "text/plain": [
       "4.0"
      ]
     },
     "execution_count": 18,
     "metadata": {},
     "output_type": "execute_result"
    }
   ],
   "source": [
    "yy = np.linalg.norm(y)\n",
    "yy"
   ]
  },
  {
   "cell_type": "code",
   "execution_count": 21,
   "id": "ffd75b8b-fa95-4313-8432-7d086ca213d7",
   "metadata": {},
   "outputs": [
    {
     "data": {
      "text/plain": [
       "5.0"
      ]
     },
     "execution_count": 21,
     "metadata": {},
     "output_type": "execute_result"
    }
   ],
   "source": [
    "x_norm = xx * xx\n",
    "y_norm = yy * yy\n",
    "xy_norm = x_norm + y_norm\n",
    "dis = np.sqrt(xy_norm)\n",
    "dis"
   ]
  },
  {
   "cell_type": "markdown",
   "id": "326fd259-fca6-40d5-b225-324c33c20611",
   "metadata": {},
   "source": [
    "Q4. 다음 두 벡터 사이의 각도를 구하시오 (라디안 단위: 0 이상, 7 미만의 정수값으로 입력)  \n",
    "x = [0, 1]  \n",
    "y = [0, 2]  "
   ]
  },
  {
   "cell_type": "code",
   "execution_count": 22,
   "id": "1aff1a9a-b9bc-4f84-bd22-ab0f96c55a43",
   "metadata": {},
   "outputs": [],
   "source": [
    "def angle(x, y):\n",
    "    v = np.inner(x, y) / (np.linalg.norm(x) * np.linalg.norm(y))\n",
    "    theta = np.arccos(v)\n",
    "    return theta"
   ]
  },
  {
   "cell_type": "code",
   "execution_count": 23,
   "id": "5fc1a094-9167-4f14-ad48-94da2d4c1550",
   "metadata": {},
   "outputs": [
    {
     "data": {
      "text/plain": [
       "0.0"
      ]
     },
     "execution_count": 23,
     "metadata": {},
     "output_type": "execute_result"
    }
   ],
   "source": [
    "x = [0, 1] \n",
    "y = [0, 2]\n",
    "angle(x, y)"
   ]
  },
  {
   "cell_type": "code",
   "execution_count": 8,
   "id": "04bcdcc5-246b-4913-ba2c-aea198a47d4e",
   "metadata": {},
   "outputs": [
    {
     "data": {
      "text/plain": [
       "2"
      ]
     },
     "execution_count": 8,
     "metadata": {},
     "output_type": "execute_result"
    }
   ],
   "source": [
    "i = np.inner(x, y)\n",
    "i"
   ]
  },
  {
   "cell_type": "code",
   "execution_count": 9,
   "id": "29aa8b3a-9c87-4b12-a3b5-6f9579370d57",
   "metadata": {},
   "outputs": [
    {
     "data": {
      "text/plain": [
       "1.0"
      ]
     },
     "execution_count": 9,
     "metadata": {},
     "output_type": "execute_result"
    }
   ],
   "source": [
    "np.linalg.norm(x)"
   ]
  },
  {
   "cell_type": "code",
   "execution_count": 10,
   "id": "0fba2bd1-986c-4c82-807f-151e11a58487",
   "metadata": {},
   "outputs": [
    {
     "data": {
      "text/plain": [
       "2.0"
      ]
     },
     "execution_count": 10,
     "metadata": {},
     "output_type": "execute_result"
    }
   ],
   "source": [
    "np.linalg.norm(y)"
   ]
  },
  {
   "cell_type": "code",
   "execution_count": 11,
   "id": "3630ce5e-0f66-4ac5-8dc6-9a94e5a40b7c",
   "metadata": {},
   "outputs": [
    {
     "data": {
      "text/plain": [
       "1.0"
      ]
     },
     "execution_count": 11,
     "metadata": {},
     "output_type": "execute_result"
    }
   ],
   "source": [
    "v = 2/2\n",
    "v"
   ]
  },
  {
   "cell_type": "code",
   "execution_count": 12,
   "id": "dc891998-44b7-44d2-8b72-ce404b9416f6",
   "metadata": {},
   "outputs": [
    {
     "data": {
      "text/plain": [
       "0.0"
      ]
     },
     "execution_count": 12,
     "metadata": {},
     "output_type": "execute_result"
    }
   ],
   "source": [
    "np.arccos(v)"
   ]
  },
  {
   "cell_type": "markdown",
   "id": "624a4ffd-4f89-4342-9e5f-6904ddd420ad",
   "metadata": {},
   "source": [
    "Q5. 내적이 다음과 같이 정의될 때, 다음 두 벡터 ( x ,  y )의 내적을 구하시오 (정수값으로 입력)   \n",
    "<x,y>=∥x∥2∥y∥2cos(θ)  \n",
    "\n",
    "x = [1, -1, 1, -1]\n",
    "y = [4, -4, 4, -4]"
   ]
  },
  {
   "cell_type": "code",
   "execution_count": 31,
   "id": "51510dc0-1c59-4315-925b-9513c5f3568d",
   "metadata": {},
   "outputs": [],
   "source": [
    "x = [1, -1, 1, -1]\n",
    "y = [4, -4, 4, -4]"
   ]
  },
  {
   "cell_type": "code",
   "execution_count": 32,
   "id": "58e8ac72-7be7-4df9-b258-5e15b0a19457",
   "metadata": {},
   "outputs": [
    {
     "data": {
      "text/plain": [
       "2.0"
      ]
     },
     "execution_count": 32,
     "metadata": {},
     "output_type": "execute_result"
    }
   ],
   "source": [
    "np.linalg.norm(x)"
   ]
  },
  {
   "cell_type": "code",
   "execution_count": 33,
   "id": "3be6b156-6dc6-4d0b-b718-2f240549f64a",
   "metadata": {},
   "outputs": [
    {
     "data": {
      "text/plain": [
       "8.0"
      ]
     },
     "execution_count": 33,
     "metadata": {},
     "output_type": "execute_result"
    }
   ],
   "source": [
    "np.linalg.norm(y)"
   ]
  },
  {
   "cell_type": "code",
   "execution_count": 35,
   "id": "7cb94f17-f7cf-467f-a9d9-ef556489ae57",
   "metadata": {},
   "outputs": [
    {
     "data": {
      "text/plain": [
       "16"
      ]
     },
     "execution_count": 35,
     "metadata": {},
     "output_type": "execute_result"
    }
   ],
   "source": [
    "np.inner(x, y)"
   ]
  },
  {
   "cell_type": "markdown",
   "id": "f1e6d1e7-aacf-4afd-bbb4-4d17da828e0d",
   "metadata": {},
   "source": [
    "Q6. 다음 보기 중 행렬 XX 의 올바른 전치행렬을 고르시오.\n",
    "\n",
    " X = [[1, 2, 3], [4, 5, 6], [7, 8, 9]]"
   ]
  },
  {
   "cell_type": "code",
   "execution_count": 36,
   "id": "69a7be01-e51e-42d2-849c-9521d31c8e9e",
   "metadata": {},
   "outputs": [],
   "source": [
    "x = np.array([[1, 2, 3], \n",
    "              [4, 5, 6], \n",
    "              [7, 8, 9]])"
   ]
  },
  {
   "cell_type": "code",
   "execution_count": 37,
   "id": "afa548fb-52d1-456f-a977-7336bc493518",
   "metadata": {},
   "outputs": [],
   "source": [
    "xT = ([ [1, 4, 7], \n",
    "        [2, 5, 8], \n",
    "        [3, 6, 9]])"
   ]
  },
  {
   "cell_type": "markdown",
   "id": "83f8c358-3a77-4db9-aef2-ce4e59ff86fe",
   "metadata": {},
   "source": [
    "Q7. 두 행렬의 곱셈은 각 행렬의 모양과 상관없이 가능하다.   "
   ]
  },
  {
   "cell_type": "markdown",
   "id": "bc016746-5375-452b-8503-ab068545a6b8",
   "metadata": {},
   "source": [
    "a : 아니오"
   ]
  },
  {
   "cell_type": "markdown",
   "id": "8c02f448-3827-47aa-8439-237b21642325",
   "metadata": {},
   "source": [
    "Q8. 어떠한 행렬의 역행렬은 항상 계산할 수 있다.  "
   ]
  },
  {
   "cell_type": "markdown",
   "id": "d9d56f92-2734-4f3f-a2b9-a9c1f6067887",
   "metadata": {},
   "source": [
    "a : 아니오"
   ]
  },
  {
   "cell_type": "markdown",
   "id": "b529a532-d539-40df-bb7c-a51afa6a0e94",
   "metadata": {},
   "source": [
    "Q9. 다음 보기 중 함수의 극소값의 위치를 구할 때 사용하는 방법을 고르시오.  "
   ]
  },
  {
   "cell_type": "markdown",
   "id": "5599c0cc-891b-444b-bf63-dbf05f190386",
   "metadata": {},
   "source": [
    "a : 경사하강법"
   ]
  },
  {
   "cell_type": "markdown",
   "id": "8c284c01-8d1b-4e4e-8c10-19df5702157d",
   "metadata": {},
   "source": [
    "Q10. 다음 보기 중  f(x, y, z)의 올바른 그래디언트 벡터를 고르시오.\n",
    "\n",
    " f(x, y, z) = 9x^2 + 5y^3 - 3z  "
   ]
  },
  {
   "cell_type": "code",
   "execution_count": null,
   "id": "d914c216-4f1f-4732-a846-29359a7308f0",
   "metadata": {},
   "outputs": [],
   "source": []
  }
 ],
 "metadata": {
  "kernelspec": {
   "display_name": "Python 3 (ipykernel)",
   "language": "python",
   "name": "python3"
  },
  "language_info": {
   "codemirror_mode": {
    "name": "ipython",
    "version": 3
   },
   "file_extension": ".py",
   "mimetype": "text/x-python",
   "name": "python",
   "nbconvert_exporter": "python",
   "pygments_lexer": "ipython3",
   "version": "3.9.13"
  }
 },
 "nbformat": 4,
 "nbformat_minor": 5
}
