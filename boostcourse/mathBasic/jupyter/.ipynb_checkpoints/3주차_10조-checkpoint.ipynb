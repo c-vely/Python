{
 "cells": [
  {
   "cell_type": "code",
   "execution_count": 1,
   "id": "7d38503f",
   "metadata": {},
   "outputs": [
    {
     "name": "stdout",
     "output_type": "stream",
     "text": [
      "[[1.07717433 0.66521735]\n",
      " [1.16794587 1.11626303]\n",
      " [0.70035832 0.7223699 ]\n",
      " [1.39836642 1.11752875]\n",
      " [0.46757915 0.32643119]] (5, 2)\n"
     ]
    }
   ],
   "source": [
    "#Q1\n",
    "import numpy as np\n",
    "\n",
    "arr1=np.random.rand(5,3)\n",
    "arr2=np.random.rand(3,2)\n",
    "\n",
    "dot= np.dot(arr1,arr2)\n",
    "print(dot, dot.shape)"
   ]
  },
  {
   "cell_type": "code",
   "execution_count": 2,
   "id": "f7ab5d58",
   "metadata": {},
   "outputs": [],
   "source": [
    "#Q2\n",
    "arr1=np.array([[5,7],[9,11]],float)\n",
    "arr2=np.array([[2,4],[6,8]],float)\n",
    "              "
   ]
  },
  {
   "cell_type": "code",
   "execution_count": 12,
   "id": "62c6d615",
   "metadata": {},
   "outputs": [
    {
     "name": "stdout",
     "output_type": "stream",
     "text": [
      "[[ 5.  7.]\n",
      " [ 9. 11.]\n",
      " [ 2.  4.]\n",
      " [ 6.  8.]]\n",
      "[[ 5.  7.  2.  4.]\n",
      " [ 9. 11.  6.  8.]]\n"
     ]
    }
   ],
   "source": [
    "concat_1 = np.concatenate((arr1,arr2),axis=0)\n",
    "concat_2 = np.concatenate((arr1,arr2),axis=1)\n",
    "print(concat_1)\n",
    "print(concat_2)"
   ]
  },
  {
   "cell_type": "code",
   "execution_count": 14,
   "id": "bf4d5a0e",
   "metadata": {},
   "outputs": [
    {
     "name": "stdout",
     "output_type": "stream",
     "text": [
      "[1. 2. 3. 4. 5. 6.] (6,)\n",
      "[10. 20. 30. 40. 50. 60.] (6,)\n"
     ]
    }
   ],
   "source": [
    "#Q3\n",
    "xy = np.array([[1.,2.,3.,4.,5.,6.,],[10.,20.,30.,40.,50.,60.]])\n",
    "\n",
    "x_train = xy[0].copy()\n",
    "y_train = xy[1].copy()\n",
    "\n",
    "print(x_train, x_train.shape)\n",
    "print(y_train, y_train.shape)"
   ]
  },
  {
   "cell_type": "code",
   "execution_count": null,
   "id": "d9645fea",
   "metadata": {},
   "outputs": [],
   "source": []
  }
 ],
 "metadata": {
  "kernelspec": {
   "display_name": "Python 3 (ipykernel)",
   "language": "python",
   "name": "python3"
  },
  "language_info": {
   "codemirror_mode": {
    "name": "ipython",
    "version": 3
   },
   "file_extension": ".py",
   "mimetype": "text/x-python",
   "name": "python",
   "nbconvert_exporter": "python",
   "pygments_lexer": "ipython3",
   "version": "3.9.12"
  }
 },
 "nbformat": 4,
 "nbformat_minor": 5
}
