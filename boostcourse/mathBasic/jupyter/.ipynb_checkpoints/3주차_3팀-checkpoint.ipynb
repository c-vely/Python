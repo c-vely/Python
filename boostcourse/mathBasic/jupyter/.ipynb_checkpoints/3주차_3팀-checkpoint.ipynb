{
 "cells": [
  {
   "cell_type": "code",
   "execution_count": null,
   "metadata": {},
   "outputs": [],
   "source": []
  },
  {
   "attachments": {},
   "cell_type": "markdown",
   "metadata": {},
   "source": [
    "# Q1"
   ]
  },
  {
   "cell_type": "code",
   "execution_count": null,
   "metadata": {},
   "outputs": [],
   "source": [
    "import numpy as np\n",
    "\n",
    "arr1 = np.random.random( size = (5,3))\n",
    "arr2 = np.random.random( size = (3,2))\n",
    "\n",
    "dot = arr1.dot(arr2)\n",
    "\n",
    "print(dot, dot.shape)"
   ]
  },
  {
   "attachments": {},
   "cell_type": "markdown",
   "metadata": {},
   "source": [
    "# Q2"
   ]
  },
  {
   "cell_type": "code",
   "execution_count": null,
   "metadata": {},
   "outputs": [],
   "source": [
    "arr1 = np.array([[5,7],[9,11]],float)\n",
    "arr2 = np.array([[2,4],[6,8]],float)\n",
    "\n",
    "concat_1 = np.concatenate((arr1,arr2), axis = 0)\n",
    "concat_2 = np.concatenate((arr1,arr2), axis = 1)\n",
    "print(concat_1)\n",
    "print(concat_2)"
   ]
  },
  {
   "attachments": {},
   "cell_type": "markdown",
   "metadata": {},
   "source": [
    "# Q3"
   ]
  },
  {
   "cell_type": "code",
   "execution_count": null,
   "metadata": {},
   "outputs": [],
   "source": []
  },
  {
   "cell_type": "code",
   "execution_count": null,
   "metadata": {},
   "outputs": [],
   "source": [
    "import numpy as np \n",
    "\n",
    "xy = np.array([[1., 2., 3., 4., 5., 6.], [10., 20., 30., 40., 50., 60.]])\n",
    "\n",
    "x_train = xy[0,:]\n",
    "y_train = xy[1,:]\n",
    "\n",
    "print(x_train, x_train.shape)\n",
    "print(y_train, y_train.shape)"
   ]
  },
  {
   "attachments": {},
   "cell_type": "markdown",
   "metadata": {},
   "source": [
    "# Q4"
   ]
  },
  {
   "cell_type": "code",
   "execution_count": null,
   "metadata": {},
   "outputs": [],
   "source": [
    "beta_gd = np.random.random() \n",
    "bias = np.random.random()\n",
    "\n",
    "print(beta_gd, bias)"
   ]
  },
  {
   "attachments": {},
   "cell_type": "markdown",
   "metadata": {},
   "source": [
    "# Q5"
   ]
  },
  {
   "cell_type": "code",
   "execution_count": 1,
   "metadata": {},
   "outputs": [
    {
     "name": "stdout",
     "output_type": "stream",
     "text": [
      "Epoch (         0/1000) error: 108.824503, beta_gd:   0.597410, bias:   0.659589\n",
      "Epoch (       100/1000) error:   0.179619, beta_gd:   2.774740, bias:   0.964382\n",
      "Epoch (       200/1000) error:   0.124656, beta_gd:   2.812343, bias:   0.803397\n",
      "Epoch (       300/1000) error:   0.086512, beta_gd:   2.843669, bias:   0.669285\n",
      "Epoch (       400/1000) error:   0.060040, beta_gd:   2.869765, bias:   0.557561\n",
      "Epoch (       500/1000) error:   0.041668, beta_gd:   2.891505, bias:   0.464487\n",
      "Epoch (       600/1000) error:   0.028918, beta_gd:   2.909617, bias:   0.386950\n",
      "Epoch (       700/1000) error:   0.020069, beta_gd:   2.924704, bias:   0.322356\n",
      "Epoch (       800/1000) error:   0.013928, beta_gd:   2.937273, bias:   0.268545\n",
      "Epoch (       900/1000) error:   0.009666, beta_gd:   2.947744, bias:   0.223716\n"
     ]
    }
   ],
   "source": [
    "import numpy as np\n",
    "\n",
    "xy = np.array([[1., 2., 3., 4., 5., 6],\n",
    "[3., 6., 9., 12., 15., 18.]])\n",
    "\n",
    "x_train = xy[0,:]\n",
    "y_train = xy[1,:]\n",
    "\n",
    "beta_gd = np.random.random()\n",
    "bias = np.random.random()\n",
    "\n",
    "learning_rate = 0.01\n",
    "\n",
    "data_length = len(x_train)\n",
    "\n",
    "for i in range (1000):\n",
    "    p = x_train * beta_gd + bias\n",
    "    error = np.sum((p-y_train)**2) / data_length\n",
    "    beta_gd -= learning_rate * np.sum((p-y_train) * x_train) / data_length\n",
    "    bias -= learning_rate * np.sum(p - y_train) / data_length\n",
    "    if i % 100 ==0:\n",
    "        print('Epoch ({:10d}/1000) error: {:10f}, beta_gd: {:10f}, bias: {:10f}'. format(i, error, beta_gd.item(), bias.item()))"
   ]
  },
  {
   "cell_type": "code",
   "execution_count": null,
   "metadata": {},
   "outputs": [],
   "source": []
  }
 ],
 "metadata": {
  "kernelspec": {
   "display_name": "Python 3",
   "language": "python",
   "name": "python3"
  },
  "language_info": {
   "codemirror_mode": {
    "name": "ipython",
    "version": 3
   },
   "file_extension": ".py",
   "mimetype": "text/x-python",
   "name": "python",
   "nbconvert_exporter": "python",
   "pygments_lexer": "ipython3",
   "version": "3.10.7"
  },
  "orig_nbformat": 4,
  "vscode": {
   "interpreter": {
    "hash": "8c5b7449a4c93d8ffde8341d6e2cab85198b0a264db1982a206b0f5a1bd014f9"
   }
  }
 },
 "nbformat": 4,
 "nbformat_minor": 2
}
