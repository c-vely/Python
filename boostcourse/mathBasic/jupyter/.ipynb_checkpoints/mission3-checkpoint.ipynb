{
 "cells": [
  {
   "cell_type": "markdown",
   "id": "05bcb660-b7b2-43bd-bee7-2ad9941abb20",
   "metadata": {},
   "source": [
    "# Q3.  \n",
    "\n",
    "'''  \n",
    "3번부터 5번까지의 미션는 Numpy를 이용해서 정답값을 예측해보는 linear regression을 구현해 보는 미션입니다.  \n",
    "첫번째 단계로 데이터를 준비해보도록 하겠습니다.   \n",
    "\n",
    " 1. 아래와 같이 데이터가 주어져있을 때, 경사하강법을 위한 데이터를 분리해보세요.  \n",
    "\n",
    "  - 주어진 xy 데이터를 이용해서 학습과 정답 데이터를 준비해보세요.  \n",
    "    *추가 수정* 문제에서 주어진 xy에서 대괄호를 한 번 더 묶어주어야 문제 해결이 가능합니다.  \n",
    "    (차원 관련)  (np.array([[1., 2., 3., 4., 5., 6.], [10., 20., 30., 40., 50., 60.]])  \n",
    "    \n",
    "'''  \n",
    "\n",
    "import numpy as np  \n",
    "xy = np.array([1. ,2. ,3. ,4. ,5. ,6.],  \n",
    "              [10. ,20. ,30. ,40. ,50. ,60])  \n",
    "                \n",
    "x_train = # TODO\n",
    "y_train = # TODO\n",
    "  \n",
    "[출력 에시]  \n",
    "print(x_train, x_train.shape)  \n",
    "print(y_train, y_train.shape)  \n",
    "\n",
    "[1. 2. 3. 4. 5. 6.] (6,)\n",
    "[10. 20. 30. 40. 50. 60.] (6,)"
   ]
  }
 ],
 "metadata": {
  "kernelspec": {
   "display_name": "Python 3 (ipykernel)",
   "language": "python",
   "name": "python3"
  },
  "language_info": {
   "codemirror_mode": {
    "name": "ipython",
    "version": 3
   },
   "file_extension": ".py",
   "mimetype": "text/x-python",
   "name": "python",
   "nbconvert_exporter": "python",
   "pygments_lexer": "ipython3",
   "version": "3.9.7"
  }
 },
 "nbformat": 4,
 "nbformat_minor": 5
}
