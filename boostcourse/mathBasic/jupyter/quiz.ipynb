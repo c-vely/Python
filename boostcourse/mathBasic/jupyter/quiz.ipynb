{
 "cells": [
  {
   "cell_type": "markdown",
   "id": "1491762a-feaf-46c5-9e08-565a55b7ad2f",
   "metadata": {
    "jp-MarkdownHeadingCollapsed": true,
    "tags": []
   },
   "source": [
    "Q1. 다음의 벡터의 L1-노름을 구하시오(정수값으로 입력)  \n",
    "x = [-1, 2, 3]"
   ]
  },
  {
   "cell_type": "code",
   "execution_count": 3,
   "id": "b26bd36c-4fb9-49d8-98b9-fd197970f118",
   "metadata": {},
   "outputs": [],
   "source": [
    "import numpy as np"
   ]
  },
  {
   "cell_type": "code",
   "execution_count": 4,
   "id": "db074956-ac31-4bff-b96b-5383bfeb4ba4",
   "metadata": {},
   "outputs": [],
   "source": [
    "def l1_norm(x):\n",
    "    x_norm = np.abs(x)\n",
    "    x_norm = np.sum(x_norm)\n",
    "    return x_norm"
   ]
  },
  {
   "cell_type": "code",
   "execution_count": 5,
   "id": "96f4b836-96e8-4a15-8974-d826c119f1b8",
   "metadata": {},
   "outputs": [
    {
     "data": {
      "text/plain": [
       "6"
      ]
     },
     "execution_count": 5,
     "metadata": {},
     "output_type": "execute_result"
    }
   ],
   "source": [
    "x = [-1, 2, 3]\n",
    "l1_norm(x)"
   ]
  },
  {
   "cell_type": "markdown",
   "id": "45551b87-5651-4aae-9319-041ffdce8b36",
   "metadata": {},
   "source": [
    "Q2. 다음 벡터의 L2-노름을 구하시오(정수값으로 임력)  \n",
    "x = [-6, -8]"
   ]
  },
  {
   "cell_type": "code",
   "execution_count": 6,
   "id": "ebb2fed7-f66f-42ee-aceb-b524a39d0ad8",
   "metadata": {},
   "outputs": [],
   "source": [
    "def l2_norm(x):\n",
    "    x_norm = x * x\n",
    "    x_norm = np.sum(x_norm)\n",
    "    x_norm = np.squrt(x_norm)\n",
    "    return x_norm"
   ]
  },
  {
   "cell_type": "code",
   "execution_count": 8,
   "id": "ed366226-b4aa-4d4f-882c-d711facc723a",
   "metadata": {},
   "outputs": [],
   "source": [
    "x = [-6, -8]"
   ]
  },
  {
   "cell_type": "code",
   "execution_count": 7,
   "id": "f3f4c735-3270-47d9-8651-99fc14102285",
   "metadata": {},
   "outputs": [
    {
     "ename": "TypeError",
     "evalue": "can't multiply sequence by non-int of type 'list'",
     "output_type": "error",
     "traceback": [
      "\u001b[1;31m---------------------------------------------------------------------------\u001b[0m",
      "\u001b[1;31mTypeError\u001b[0m                                 Traceback (most recent call last)",
      "Cell \u001b[1;32mIn[7], line 2\u001b[0m\n\u001b[0;32m      1\u001b[0m x \u001b[38;5;241m=\u001b[39m [\u001b[38;5;241m-\u001b[39m\u001b[38;5;241m6\u001b[39m, \u001b[38;5;241m-\u001b[39m\u001b[38;5;241m8\u001b[39m]\n\u001b[1;32m----> 2\u001b[0m \u001b[43ml2_norm\u001b[49m\u001b[43m(\u001b[49m\u001b[43mx\u001b[49m\u001b[43m)\u001b[49m\n",
      "Cell \u001b[1;32mIn[6], line 2\u001b[0m, in \u001b[0;36ml2_norm\u001b[1;34m(x)\u001b[0m\n\u001b[0;32m      1\u001b[0m \u001b[38;5;28;01mdef\u001b[39;00m \u001b[38;5;21ml2_norm\u001b[39m(x):\n\u001b[1;32m----> 2\u001b[0m     x_norm \u001b[38;5;241m=\u001b[39m \u001b[43mx\u001b[49m\u001b[43m \u001b[49m\u001b[38;5;241;43m*\u001b[39;49m\u001b[43m \u001b[49m\u001b[43mx\u001b[49m\n\u001b[0;32m      3\u001b[0m     x_norm \u001b[38;5;241m=\u001b[39m np\u001b[38;5;241m.\u001b[39msum(x_norm)\n\u001b[0;32m      4\u001b[0m     x_norm \u001b[38;5;241m=\u001b[39m np\u001b[38;5;241m.\u001b[39msqurt(x_norm)\n",
      "\u001b[1;31mTypeError\u001b[0m: can't multiply sequence by non-int of type 'list'"
     ]
    }
   ],
   "source": [
    "l2_norm(x)"
   ]
  },
  {
   "cell_type": "code",
   "execution_count": 9,
   "id": "c0d31a1f-d1c8-4f37-9153-5b11f7e1bb89",
   "metadata": {},
   "outputs": [
    {
     "data": {
      "text/plain": [
       "10.0"
      ]
     },
     "execution_count": 9,
     "metadata": {},
     "output_type": "execute_result"
    }
   ],
   "source": [
    "np.linalg.norm(x)"
   ]
  },
  {
   "cell_type": "markdown",
   "id": "25aebe51-2f7e-4b5f-ba5d-3d3f04057e44",
   "metadata": {},
   "source": [
    "Q3. L2-노름을 이용하여 다음 두 벡터 사이의 거리를 구하시오 (정수값으로 입력)  \n",
    "x=[−3,0]   \n",
    "y = [0, 4]  "
   ]
  },
  {
   "cell_type": "code",
   "execution_count": 11,
   "id": "12fe9ac9-0dea-4e2a-a52b-17122d4dbebb",
   "metadata": {},
   "outputs": [],
   "source": [
    "x = [-3, 0] \n",
    "y = [0, 4]"
   ]
  },
  {
   "cell_type": "code",
   "execution_count": 12,
   "id": "a7438374-b6a8-40f6-a00f-b7552ef23efa",
   "metadata": {},
   "outputs": [
    {
     "data": {
      "text/plain": [
       "3.0"
      ]
     },
     "execution_count": 12,
     "metadata": {},
     "output_type": "execute_result"
    }
   ],
   "source": [
    "xx = np.linalg.norm(x)\n",
    "xx"
   ]
  },
  {
   "cell_type": "code",
   "execution_count": 13,
   "id": "b20b05f6-20d1-4a6f-bf93-b76ef31dc7d6",
   "metadata": {},
   "outputs": [
    {
     "data": {
      "text/plain": [
       "4.0"
      ]
     },
     "execution_count": 13,
     "metadata": {},
     "output_type": "execute_result"
    }
   ],
   "source": [
    "yy =np.linalg.norm(y)\n",
    "yy"
   ]
  },
  {
   "cell_type": "code",
   "execution_count": 14,
   "id": "ffd75b8b-fa95-4313-8432-7d086ca213d7",
   "metadata": {},
   "outputs": [
    {
     "data": {
      "text/plain": [
       "1.0"
      ]
     },
     "execution_count": 14,
     "metadata": {},
     "output_type": "execute_result"
    }
   ],
   "source": [
    "yy - xx"
   ]
  },
  {
   "cell_type": "markdown",
   "id": "326fd259-fca6-40d5-b225-324c33c20611",
   "metadata": {},
   "source": [
    "Q4. 다음 두 벡터 사이의 각도를 구하시오 (라디안 단위: 0 이상, 7 미만의 정수값으로 입력)  \n",
    "x = [0, 1]  \n",
    "y = [0, 2]  "
   ]
  },
  {
   "cell_type": "code",
   "execution_count": null,
   "id": "1aff1a9a-b9bc-4f84-bd22-ab0f96c55a43",
   "metadata": {},
   "outputs": [],
   "source": []
  }
 ],
 "metadata": {
  "kernelspec": {
   "display_name": "Python 3 (ipykernel)",
   "language": "python",
   "name": "python3"
  },
  "language_info": {
   "codemirror_mode": {
    "name": "ipython",
    "version": 3
   },
   "file_extension": ".py",
   "mimetype": "text/x-python",
   "name": "python",
   "nbconvert_exporter": "python",
   "pygments_lexer": "ipython3",
   "version": "3.9.13"
  }
 },
 "nbformat": 4,
 "nbformat_minor": 5
}
