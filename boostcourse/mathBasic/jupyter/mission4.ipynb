{
 "cells": [
  {
   "cell_type": "markdown",
   "id": "9ee49e73-ccf1-4239-8392-cb51b2ef8354",
   "metadata": {},
   "source": [
    "Q4.\n",
    "\n",
    "'''  \n",
    "경사 하강법 구현을 위해서   \n",
    "  1. 위에서 분리한 x_train 데이터와 계산될 weight, bias 값을 정의해보세요.   \n",
    "    - 여기서 구현한 weight와 bias 는 linear regression 계산을 진행할시,   \n",
    "      직선의 기울기와 y 절편의 값이 됩니다.  \n",
    "\n",
    "    - numpy 내의 random 함수를 이용해보세요.\n",
    "'''  \n",
    "\n",
    "beta_gd = # TODO  \n",
    "bias = # TODO  \n",
    "\n",
    "[출력 예시]  \n",
    "print(beta_gd, bias)  \n",
    "\n",
    "- random 값이여서 값이 다를 수 있음. 같은 형태로 나오면 됨  \n",
    "[0.75373235] [0.94214468]  "
   ]
  },
  {
   "cell_type": "markdown",
   "id": "1e7d5757-56ae-44fa-ba0b-894fd10aaeb4",
   "metadata": {},
   "source": [
    "# *  myself"
   ]
  },
  {
   "cell_type": "code",
   "execution_count": 1,
   "id": "e963c80f-ca2c-49a8-bdc7-d9734d65b108",
   "metadata": {},
   "outputs": [],
   "source": [
    "import numpy as np"
   ]
  },
  {
   "cell_type": "code",
   "execution_count": 3,
   "id": "ac32c0c1-58e1-4e92-97f3-7320d50eb1ec",
   "metadata": {},
   "outputs": [],
   "source": [
    "xy = np.array([[1.,2.,3.,4.,5.,6.], [10.,20.,30.,40.,50.,60]])"
   ]
  },
  {
   "cell_type": "code",
   "execution_count": 4,
   "id": "3ebc94cf-c1da-4207-91fc-b0285ae37dad",
   "metadata": {},
   "outputs": [],
   "source": [
    "x_train = xy[0]\n",
    "y_train = xy[1]"
   ]
  },
  {
   "cell_type": "code",
   "execution_count": 5,
   "id": "28569034-983b-4866-970b-17a17c9447f4",
   "metadata": {},
   "outputs": [
    {
     "name": "stdout",
     "output_type": "stream",
     "text": [
      "[1. 2. 3. 4. 5. 6.] (6,)\n",
      "[10. 20. 30. 40. 50. 60.] (6,)\n"
     ]
    }
   ],
   "source": [
    "print(x_train, x_train.shape)  \n",
    "print(y_train, y_train.shape) "
   ]
  },
  {
   "cell_type": "code",
   "execution_count": 6,
   "id": "0163da99-cf7c-429f-8f62-477a4f976255",
   "metadata": {},
   "outputs": [
    {
     "data": {
      "text/plain": [
       "array([0.6507768])"
      ]
     },
     "execution_count": 6,
     "metadata": {},
     "output_type": "execute_result"
    }
   ],
   "source": [
    "beta_gd = np.random.rand(1)\n",
    "beta_gd"
   ]
  },
  {
   "cell_type": "code",
   "execution_count": 7,
   "id": "593c94b3-5144-4088-87a6-a2beb73b314f",
   "metadata": {},
   "outputs": [
    {
     "data": {
      "text/plain": [
       "array([0.43477926])"
      ]
     },
     "execution_count": 7,
     "metadata": {},
     "output_type": "execute_result"
    }
   ],
   "source": [
    "bias = np.random.rand(1)\n",
    "bias"
   ]
  },
  {
   "cell_type": "code",
   "execution_count": 8,
   "id": "1b7abdd0-7290-42af-ade2-ff7b4a139e54",
   "metadata": {},
   "outputs": [
    {
     "name": "stdout",
     "output_type": "stream",
     "text": [
      "[0.6507768] [0.43477926]\n"
     ]
    }
   ],
   "source": [
    "print(beta_gd, bias) "
   ]
  },
  {
   "cell_type": "markdown",
   "id": "66c3bc25-f059-49e4-b468-60a5d2811267",
   "metadata": {},
   "source": [
    "# * another"
   ]
  },
  {
   "cell_type": "code",
   "execution_count": 12,
   "id": "df2131c5-6183-475e-8d48-f10f372a70b5",
   "metadata": {},
   "outputs": [
    {
     "name": "stdout",
     "output_type": "stream",
     "text": [
      "0.7368990766188431 0.017705283658626114\n"
     ]
    }
   ],
   "source": [
    "# 1) 배열 생성 X, 값만 추출\n",
    "beta_gd, bias = np.random.uniform(0, 1, 2)\n",
    "print(beta_gd, bias) "
   ]
  },
  {
   "cell_type": "code",
   "execution_count": null,
   "id": "0ef3dfaf-ff4b-4c13-99be-62458f34ec7f",
   "metadata": {},
   "outputs": [],
   "source": []
  }
 ],
 "metadata": {
  "kernelspec": {
   "display_name": "Python 3 (ipykernel)",
   "language": "python",
   "name": "python3"
  },
  "language_info": {
   "codemirror_mode": {
    "name": "ipython",
    "version": 3
   },
   "file_extension": ".py",
   "mimetype": "text/x-python",
   "name": "python",
   "nbconvert_exporter": "python",
   "pygments_lexer": "ipython3",
   "version": "3.9.7"
  }
 },
 "nbformat": 4,
 "nbformat_minor": 5
}
