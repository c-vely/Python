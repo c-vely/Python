{
 "cells": [
  {
   "cell_type": "markdown",
   "id": "03ddd338",
   "metadata": {},
   "source": [
    "# Example44\n",
    "- 마우스 이벤트 활용하기"
   ]
  },
  {
   "cell_type": "code",
   "execution_count": 3,
   "id": "7e574152",
   "metadata": {},
   "outputs": [],
   "source": [
    "import cv2 as cv\n",
    "import numpy as np\n",
    "\n",
    "def draw_rectangle(event, x, y, flags, param):\n",
    "    if event == cv.EVENT_LBUTTONDBLCLK:\n",
    "        cv.rectangle(img, (x, y), (x+50, y+50), (255, 0, 0), -1)\n",
    "\n",
    "img = np.zeros((512, 512, 3), np.uint8)\n",
    "\n",
    "cv.namedWindow('image')\n",
    "\n",
    "cv.setMouseCallback('image', draw_rectangle)\n",
    "\n",
    "while(1):\n",
    "    cv.imshow('image', img)\n",
    "    #if cv.waitKey(1) & 0xFF == 27:  #.waitKey() 지정된 시간동안 입력을 기다리는 함수(단위 ms)  /  0xFF : 1111 1111  /  ESC키 누르면 27 리턴\n",
    "    if cv.waitKey(0):    \n",
    "        break\n",
    "\n",
    "cv.destroyAllWindows()"
   ]
  },
  {
   "cell_type": "code",
   "execution_count": null,
   "id": "8ef3f2d5",
   "metadata": {},
   "outputs": [],
   "source": []
  }
 ],
 "metadata": {
  "kernelspec": {
   "display_name": "Python 3 (ipykernel)",
   "language": "python",
   "name": "python3"
  },
  "language_info": {
   "codemirror_mode": {
    "name": "ipython",
    "version": 3
   },
   "file_extension": ".py",
   "mimetype": "text/x-python",
   "name": "python",
   "nbconvert_exporter": "python",
   "pygments_lexer": "ipython3",
   "version": "3.9.15"
  }
 },
 "nbformat": 4,
 "nbformat_minor": 5
}
