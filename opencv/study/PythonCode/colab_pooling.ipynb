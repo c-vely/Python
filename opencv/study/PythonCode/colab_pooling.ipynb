{
  "nbformat": 4,
  "nbformat_minor": 0,
  "metadata": {
    "colab": {
      "name": "pooling.ipynb",
      "provenance": [],
      "collapsed_sections": []
    },
    "kernelspec": {
      "name": "python3",
      "display_name": "Python 3"
    }
  },
  "cells": [
    {
      "cell_type": "code",
      "metadata": {
        "colab": {
          "base_uri": "https://localhost:8080/"
        },
        "id": "ohYaqQ-tZzEu",
        "outputId": "d4dfbc26-2c62-45c0-fd26-3cda76b09bf4"
      },
      "source": [
        "import tensorflow as tf\n",
        "\n",
        "x = tf.constant([1., 3., 5., 7., 9., 2., 4., 6., 8., 10.])\n",
        "x1 = tf.reshape(x, [1, 5, 2])\n",
        "maxpool1d = tf.keras.layers.MaxPooling1D(pool_size=2, strides=1,\n",
        "                                         padding='valid')(x1)\n",
        "\n",
        "print(\"input : \", x1)\n",
        "print(\"\\nmax pooling 1d : \" ,maxpool1d)"
      ],
      "execution_count": null,
      "outputs": [
        {
          "output_type": "stream",
          "text": [
            "input :  tf.Tensor(\n",
            "[[[ 1.  3.]\n",
            "  [ 5.  7.]\n",
            "  [ 9.  2.]\n",
            "  [ 4.  6.]\n",
            "  [ 8. 10.]]], shape=(1, 5, 2), dtype=float32)\n",
            "\n",
            "max pooling 1d :  tf.Tensor(\n",
            "[[[ 5.  7.]\n",
            "  [ 9.  7.]\n",
            "  [ 9.  6.]\n",
            "  [ 8. 10.]]], shape=(1, 4, 2), dtype=float32)\n"
          ],
          "name": "stdout"
        }
      ]
    },
    {
      "cell_type": "code",
      "metadata": {
        "colab": {
          "base_uri": "https://localhost:8080/"
        },
        "id": "cw-pLcJy70U_",
        "outputId": "ed9b2752-ec7e-4a15-f018-eb533421f8d2"
      },
      "source": [
        "x2 = tf.reshape(x, [1, 2, 5])\n",
        "averagepool1d = tf.keras.layers.AveragePooling1D(pool_size=2, strides=1,\n",
        "                                             padding='same')(x2)\n",
        "print(\"input : \", x2)\n",
        "print(\"\\nAverage pooling 1d : \" ,averagepool1d)"
      ],
      "execution_count": null,
      "outputs": [
        {
          "output_type": "stream",
          "text": [
            "input :  tf.Tensor(\n",
            "[[[ 1.  3.  5.  7.  9.]\n",
            "  [ 2.  4.  6.  8. 10.]]], shape=(1, 2, 5), dtype=float32)\n",
            "\n",
            "Average pooling 1d :  tf.Tensor(\n",
            "[[[ 1.5  3.5  5.5  7.5  9.5]\n",
            "  [ 2.   4.   6.   8.  10. ]]], shape=(1, 2, 5), dtype=float32)\n"
          ],
          "name": "stdout"
        }
      ]
    },
    {
      "cell_type": "code",
      "metadata": {
        "colab": {
          "base_uri": "https://localhost:8080/"
        },
        "id": "vVnLhnhPIe52",
        "outputId": "46f21985-5e29-40df-fad0-40095a73af6d"
      },
      "source": [
        "globalmaxpool1d = tf.keras.layers.GlobalMaxPooling1D()(x2)\n",
        "globalaveragepool1d = tf.keras.layers.GlobalAveragePooling1D()(x2)\n",
        "\n",
        "print(\"Global max pooling 1d : \" ,globalmaxpool1d)\n",
        "print(\"\\nGlobal average pooling 1d : \" ,globalaveragepool1d)"
      ],
      "execution_count": null,
      "outputs": [
        {
          "output_type": "stream",
          "text": [
            "Global max pooling 1d :  tf.Tensor([[ 2.  4.  6.  8. 10.]], shape=(1, 5), dtype=float32)\n",
            "\n",
            "Global average pooling 1d :  tf.Tensor([[1.5 3.5 5.5 7.5 9.5]], shape=(1, 5), dtype=float32)\n"
          ],
          "name": "stdout"
        }
      ]
    }
  ]
}