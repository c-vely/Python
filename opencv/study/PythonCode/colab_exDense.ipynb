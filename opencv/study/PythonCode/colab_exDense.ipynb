{
  "nbformat": 4,
  "nbformat_minor": 0,
  "metadata": {
    "colab": {
      "name": "exDense.ipynb",
      "provenance": [],
      "collapsed_sections": []
    },
    "kernelspec": {
      "name": "python3",
      "display_name": "Python 3"
    }
  },
  "cells": [
    {
      "cell_type": "code",
      "metadata": {
        "id": "QagOx-G--tGY"
      },
      "source": [
        "import tensorflow as tf\n",
        "from tensorflow.keras import layers\n",
        "\n",
        "class exDense(layers.Layer):\n",
        "\n",
        "  def __init__(self, units=32):\n",
        "      super(exDense, self).__init__()\n",
        "      self.units = units\n",
        "\n",
        "  def build(self, input_shape):\n",
        "    w_init = tf.random_normal_initializer()\n",
        "    self.w = tf.Variable(\n",
        "        initial_value=w_init(shape=(input_shape[-1], self.units),\n",
        "                             dtype='float32'), trainable=True, name=\"weight\")\n",
        "    b_init = tf.ones_initializer()\n",
        "    self.b = tf.Variable(\n",
        "        initial_value=b_init(shape=(self.units,), dtype='float32'),\n",
        "        trainable=False, name=\"bias\")\n",
        "\n",
        "  def call(self, inputs):\n",
        "      return tf.matmul(inputs, self.w) + self.b"
      ],
      "execution_count": null,
      "outputs": []
    },
    {
      "cell_type": "code",
      "metadata": {
        "colab": {
          "base_uri": "https://localhost:8080/"
        },
        "id": "XigEgoM3_j6s",
        "outputId": "634f975c-b231-4f42-bbc0-775e1188c05b"
      },
      "source": [
        "# 레이어 인스턴스 생성.\n",
        "exDense_layer = exDense(4)\n",
        "\n",
        "# build() 호출 전의 가중치 확인\n",
        "before_w = exDense_layer.weights\n",
        "print(\"all weights(before)\", before_w)\n",
        "\n",
        "# 입력 데이터 대입 및 결과 반환\n",
        "out = exDense_layer(tf.ones((3, 3)))\n",
        "print(\"\\noutputs:\", out)\n",
        "\n",
        "# build() 호출 후의 가중치 확인\n",
        "after_w = exDense_layer.weights\n",
        "print(\"\\nall weights(after)\", after_w)"
      ],
      "execution_count": null,
      "outputs": [
        {
          "output_type": "stream",
          "text": [
            "all weights(before) []\n",
            "\n",
            "outputs: tf.Tensor(\n",
            "[[0.9748206 0.9446439 1.0575922 0.752672 ]\n",
            " [0.9748206 0.9446439 1.0575922 0.752672 ]\n",
            " [0.9748206 0.9446439 1.0575922 0.752672 ]], shape=(3, 4), dtype=float32)\n",
            "\n",
            "all weights(after) [<tf.Variable 'ex_dense_2/weight:0' shape=(3, 4) dtype=float32, numpy=\n",
            "array([[-0.05319884,  0.02535464,  0.02014052, -0.05885068],\n",
            "       [-0.05355629, -0.05616728,  0.0636033 , -0.117639  ],\n",
            "       [ 0.08157578, -0.02454344, -0.02615165, -0.07083832]],\n",
            "      dtype=float32)>, <tf.Variable 'ex_dense_2/bias:0' shape=(4,) dtype=float32, numpy=array([1., 1., 1., 1.], dtype=float32)>]\n"
          ],
          "name": "stdout"
        }
      ]
    },
    {
      "cell_type": "code",
      "metadata": {
        "colab": {
          "base_uri": "https://localhost:8080/"
        },
        "id": "PMeNdIv1MTSP",
        "outputId": "10b941d5-a64f-4f20-f000-c03f50cf0d6c"
      },
      "source": [
        "t_w = exDense_layer.trainable_weights\n",
        "print(\"\\ntraninable_weights\", t_w)\n",
        "\n",
        "nt_w = exDense_layer.non_trainable_weights\n",
        "print(\"\\nnon_traninable_weights\", nt_w)\n",
        "\n",
        "t_v = exDense_layer.trainable_variables\n",
        "print(\"\\ntraninable_variables\", t_v)\n",
        "\n",
        "nt_v = exDense_layer.non_trainable_variables\n",
        "print(\"\\nnon_traninable_variables\", nt_v)\n",
        "\n"
      ],
      "execution_count": null,
      "outputs": [
        {
          "output_type": "stream",
          "text": [
            "\n",
            "traninable_weights [<tf.Variable 'ex_dense_2/weight:0' shape=(3, 4) dtype=float32, numpy=\n",
            "array([[-0.05319884,  0.02535464,  0.02014052, -0.05885068],\n",
            "       [-0.05355629, -0.05616728,  0.0636033 , -0.117639  ],\n",
            "       [ 0.08157578, -0.02454344, -0.02615165, -0.07083832]],\n",
            "      dtype=float32)>]\n",
            "\n",
            "non_traninable_weights [<tf.Variable 'ex_dense_2/bias:0' shape=(4,) dtype=float32, numpy=array([1., 1., 1., 1.], dtype=float32)>]\n",
            "\n",
            "traninable_variables [<tf.Variable 'ex_dense_2/weight:0' shape=(3, 4) dtype=float32, numpy=\n",
            "array([[-0.05319884,  0.02535464,  0.02014052, -0.05885068],\n",
            "       [-0.05355629, -0.05616728,  0.0636033 , -0.117639  ],\n",
            "       [ 0.08157578, -0.02454344, -0.02615165, -0.07083832]],\n",
            "      dtype=float32)>]\n",
            "\n",
            "non_traninable_variables [<tf.Variable 'ex_dense_2/bias:0' shape=(4,) dtype=float32, numpy=array([1., 1., 1., 1.], dtype=float32)>]\n"
          ],
          "name": "stdout"
        }
      ]
    },
    {
      "cell_type": "code",
      "metadata": {
        "id": "2PwBG0yXKeg_"
      },
      "source": [
        "import tensorflow as tf\n",
        "from tensorflow.keras import layers\n",
        "\n",
        "class exDense(layers.Layer):\n",
        "\n",
        "  def __init__(self, units=32):\n",
        "      super(exDense, self).__init__()\n",
        "      self.units = units\n",
        "\n",
        "  def build(self, input_shape):\n",
        "    self.w = self.add_weight(shape=(input_shape[-1], self.units),\n",
        "                          initializer='random_normal',\n",
        "                          trainable=True, name=\"weight\")\n",
        "    self.b = self.add_weight(shape=(self.units,),\n",
        "                              initializer='random_normal',\n",
        "                              trainable=True, name=\"bias\")\n",
        "  def call(self, inputs):\n",
        "      return tf.matmul(inputs, self.w) + self.b"
      ],
      "execution_count": null,
      "outputs": []
    }
  ]
}