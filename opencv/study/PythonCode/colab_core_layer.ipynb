{
  "nbformat": 4,
  "nbformat_minor": 0,
  "metadata": {
    "colab": {
      "name": "core_layer.ipynb",
      "provenance": [],
      "collapsed_sections": []
    },
    "kernelspec": {
      "name": "python3",
      "display_name": "Python 3"
    }
  },
  "cells": [
    {
      "cell_type": "code",
      "metadata": {
        "colab": {
          "base_uri": "https://localhost:8080/"
        },
        "id": "uvS4InAG8bal",
        "outputId": "2d3fddbe-0ad1-4723-8378-b8897ab0da6a"
      },
      "source": [
        "import tensorflow as tf \n",
        "from tensorflow.keras import Input\n",
        "from tensorflow.keras import layers\n",
        "from tensorflow.keras import Model\n",
        " \n",
        "x = Input(shape=(32,))\n",
        "y = layers.Dense(16, activation='softmax')(x)\n",
        "model = Model(x, y)\n",
        "\n",
        "norm = tf.random.normal([1, 32], mean=-1, stddev=10, dtype=\"half\")\n",
        "model(norm)"
      ],
      "execution_count": null,
      "outputs": [
        {
          "output_type": "execute_result",
          "data": {
            "text/plain": [
              "<tf.Tensor: shape=(1, 16), dtype=float32, numpy=\n",
              "array([[1.2338816e-04, 3.9741205e-10, 4.7804311e-05, 2.0904923e-03,\n",
              "        1.3210494e-09, 1.2445989e-07, 2.9848103e-08, 3.8842884e-01,\n",
              "        3.6156171e-03, 1.2632728e-07, 5.3269792e-01, 5.0134990e-17,\n",
              "        7.2928511e-02, 8.2636636e-15, 6.9458237e-12, 6.7149747e-05]],\n",
              "      dtype=float32)>"
            ]
          },
          "metadata": {
            "tags": []
          },
          "execution_count": 7
        }
      ]
    }
  ]
}