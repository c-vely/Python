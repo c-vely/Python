{
  "cells": [
    {
      "cell_type": "code",
      "metadata": {},
      "source": [
        "from keras.models import Sequential\n",
        "from keras.layers.core import Dense\n",
        "from keras.utils import np_utils\n",
        "from sklearn.preprocessing import LabelEncoder\n",
        "\n",
        "import pandas as pd\n",
        "import seaborn as sns\n",
        "import matplotlib.pyplot as plt\n",
        "import numpy\n",
        "import tensorflow as tf\n",
        "\n",
        "# seed \uac12 \uc124\uc815\n",
        "seed = 0\n",
        "numpy.random.seed(seed)\n",
        "tf.set_random_seed(seed)\n",
        "\n",
        "# \ub370\uc774\ud130 \uc785\ub825\n",
        "df = pd.read_csv('../dataset/iris.csv', names = [\"sepal_length\", \"sepal_width\", \"petal_length\", \"petal_width\", \"species\"])\n",
        "\n",
        "# \uadf8\ub798\ud504\ub85c \ud655\uc778\n",
        "sns.pairplot(df, hue='species');\n",
        "plt.show()\n",
        "\n",
        "# \ub370\uc774\ud130 \ubd84\ub958\n",
        "dataset = df.values\n",
        "X = dataset[:,0:4].astype(float)\n",
        "Y_obj = dataset[:,4]\n",
        "\n",
        "# \ubb38\uc790\uc5f4\uc744 \uc22b\uc790\ub85c \ubcc0\ud658\n",
        "e = LabelEncoder()\n",
        "e.fit(Y_obj)\n",
        "Y = e.transform(Y_obj)\n",
        "Y_encoded = np_utils.to_categorical(Y)\n",
        "\n",
        "# \ubaa8\ub378\uc758 \uc124\uc815\n",
        "model = Sequential()\n",
        "model.add(Dense(16,  input_dim=4, activation='relu'))\n",
        "model.add(Dense(3, activation='softmax'))\n",
        "\n",
        "# \ubaa8\ub378 \ucef4\ud30c\uc77c\n",
        "model.compile(loss='categorical_crossentropy',\n",
        "            optimizer='adam',\n",
        "            metrics=['accuracy'])\n",
        "\n",
        "# \ubaa8\ub378 \uc2e4\ud589\n",
        "model.fit(X, Y_encoded, epochs=50, batch_size=1)\n",
        "\n",
        "# \uacb0\uacfc \ucd9c\ub825\n",
        "print(\"\\n Accuracy: %.4f\" % (model.evaluate(X, Y_encoded)[1]))"
      ],
      "outputs": [],
      "execution_count": null
    }
  ],
  "metadata": {
    "anaconda-cloud": {},
    "kernelspec": {
      "display_name": "Python 3",
      "language": "python",
      "name": "python3"
    },
    "language_info": {
      "codemirror_mode": {
        "name": "ipython",
        "version": 3
      },
      "file_extension": ".py",
      "mimetype": "text/x-python",
      "name": "python",
      "nbconvert_exporter": "python",
      "pygments_lexer": "ipython3",
      "version": "3.6.1"
    }
  },
  "nbformat": 4,
  "nbformat_minor": 4
}