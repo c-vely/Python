{
  "cells": [
    {
      "cell_type": "code",
      "metadata": {},
      "source": [
        "#-*- coding: utf-8 -*-\n",
        "\n",
        "from keras.datasets import mnist\n",
        "from keras.utils import np_utils\n",
        "\n",
        "import numpy\n",
        "import sys\n",
        "import tensorflow as tf\n",
        "\n",
        "# seed \uac12 \uc124\uc815\n",
        "seed = 0\n",
        "numpy.random.seed(seed)\n",
        "tf.set_random_seed(seed)\n",
        "\n",
        "# MNIST\ub370\uc774\ud130\uc14b \ubd88\ub7ec\uc624\uae30\n",
        "(X_train, Y_class_train), (X_test, Y_class_test) = mnist.load_data()\n",
        "\n",
        "print(\"\ud559\uc2b5\uc14b \uc774\ubbf8\uc9c0 \uc218 : %d \uac1c\" % (X_train.shape[0]))\n",
        "print(\"\ud14c\uc2a4\ud2b8\uc14b \uc774\ubbf8\uc9c0 \uc218 : %d \uac1c\" % (X_test.shape[0]))\n",
        "\n",
        "# \uadf8\ub798\ud504\ub85c \ud655\uc778\n",
        "import matplotlib.pyplot as plt\n",
        "plt.imshow(X_train[0], cmap='Greys')\n",
        "plt.show()\n",
        "\n",
        "# \ucf54\ub4dc\ub85c \ud655\uc778\n",
        "for x in X_train[0]:\n",
        "    for i in x:\n",
        "        sys.stdout.write('%d\\t' % i)\n",
        "    sys.stdout.write('\\n')\n",
        "\n",
        "# \ucc28\uc6d0 \ubcc0\ud658 \uacfc\uc815\n",
        "X_train = X_train.reshape(X_train.shape[0], 784)\n",
        "X_train = X_train.astype('float64')\n",
        "X_train = X_train / 255\n",
        "\n",
        "X_test = X_test.reshape(X_test.shape[0], 784).astype('float64') / 255\n",
        "\n",
        "#print(X_train[0])\n",
        "\n",
        "# \ud074\ub798\uc2a4 \uac12 \ud655\uc778\n",
        "print(\"class : %d \" % (Y_class_train[0]))\n",
        "\n",
        "# \ubc14\uc774\ub108\ub9ac\ud654 \uacfc\uc815\n",
        "Y_train = np_utils.to_categorical(Y_class_train, 10)\n",
        "Y_test = np_utils.to_categorical(Y_class_test, 10)\n",
        "\n",
        "print(Y_train[0])\n",
        "\n",
        "\n",
        "\n"
      ],
      "outputs": [],
      "execution_count": null
    }
  ],
  "metadata": {
    "anaconda-cloud": {},
    "kernelspec": {
      "display_name": "Python 3",
      "language": "python",
      "name": "python3"
    },
    "language_info": {
      "codemirror_mode": {
        "name": "ipython",
        "version": 3
      },
      "file_extension": ".py",
      "mimetype": "text/x-python",
      "name": "python",
      "nbconvert_exporter": "python",
      "pygments_lexer": "ipython3",
      "version": "3.6.1"
    }
  },
  "nbformat": 4,
  "nbformat_minor": 4
}