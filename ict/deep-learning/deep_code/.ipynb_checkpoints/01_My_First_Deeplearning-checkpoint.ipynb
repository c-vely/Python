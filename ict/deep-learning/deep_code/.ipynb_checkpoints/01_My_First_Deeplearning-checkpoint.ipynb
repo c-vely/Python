{
 "cells": [
  {
   "cell_type": "code",
   "execution_count": 2,
   "metadata": {},
   "outputs": [
    {
     "name": "stdout",
     "output_type": "stream",
     "text": [
      "Epoch 1/30\n",
      "47/47 [==============================] - 0s 696us/step - loss: 0.3110 - accuracy: 0.6872\n",
      "Epoch 2/30\n",
      "47/47 [==============================] - 0s 609us/step - loss: 0.1489 - accuracy: 0.8511\n",
      "Epoch 3/30\n",
      "47/47 [==============================] - 0s 609us/step - loss: 0.1489 - accuracy: 0.8511\n",
      "Epoch 4/30\n",
      "47/47 [==============================] - 0s 609us/step - loss: 0.1489 - accuracy: 0.8511\n",
      "Epoch 5/30\n",
      "47/47 [==============================] - 0s 609us/step - loss: 0.1489 - accuracy: 0.8511\n",
      "Epoch 6/30\n",
      "47/47 [==============================] - 0s 587us/step - loss: 0.1489 - accuracy: 0.8511\n",
      "Epoch 7/30\n",
      "47/47 [==============================] - 0s 804us/step - loss: 0.1489 - accuracy: 0.8511\n",
      "Epoch 8/30\n",
      "47/47 [==============================] - 0s 609us/step - loss: 0.1489 - accuracy: 0.8511\n",
      "Epoch 9/30\n",
      "47/47 [==============================] - 0s 609us/step - loss: 0.1489 - accuracy: 0.8511\n",
      "Epoch 10/30\n",
      "47/47 [==============================] - 0s 609us/step - loss: 0.1489 - accuracy: 0.8511\n",
      "Epoch 11/30\n",
      "47/47 [==============================] - 0s 609us/step - loss: 0.1489 - accuracy: 0.8511\n",
      "Epoch 12/30\n",
      "47/47 [==============================] - 0s 630us/step - loss: 0.1489 - accuracy: 0.8511\n",
      "Epoch 13/30\n",
      "47/47 [==============================] - 0s 630us/step - loss: 0.1489 - accuracy: 0.8511\n",
      "Epoch 14/30\n",
      "47/47 [==============================] - 0s 630us/step - loss: 0.1489 - accuracy: 0.8511\n",
      "Epoch 15/30\n",
      "47/47 [==============================] - 0s 609us/step - loss: 0.1489 - accuracy: 0.8511\n",
      "Epoch 16/30\n",
      "47/47 [==============================] - 0s 630us/step - loss: 0.1489 - accuracy: 0.8511\n",
      "Epoch 17/30\n",
      "47/47 [==============================] - 0s 609us/step - loss: 0.1489 - accuracy: 0.8511\n",
      "Epoch 18/30\n",
      "47/47 [==============================] - 0s 587us/step - loss: 0.1489 - accuracy: 0.8511\n",
      "Epoch 19/30\n",
      "47/47 [==============================] - 0s 609us/step - loss: 0.1489 - accuracy: 0.8511\n",
      "Epoch 20/30\n",
      "47/47 [==============================] - 0s 609us/step - loss: 0.1489 - accuracy: 0.8511\n",
      "Epoch 21/30\n",
      "47/47 [==============================] - 0s 609us/step - loss: 0.1489 - accuracy: 0.8511\n",
      "Epoch 22/30\n",
      "47/47 [==============================] - 0s 609us/step - loss: 0.1489 - accuracy: 0.8511\n",
      "Epoch 23/30\n",
      "47/47 [==============================] - 0s 565us/step - loss: 0.1489 - accuracy: 0.8511\n",
      "Epoch 24/30\n",
      "47/47 [==============================] - 0s 609us/step - loss: 0.1489 - accuracy: 0.8511\n",
      "Epoch 25/30\n",
      "47/47 [==============================] - 0s 609us/step - loss: 0.1489 - accuracy: 0.8511\n",
      "Epoch 26/30\n",
      "47/47 [==============================] - 0s 587us/step - loss: 0.1489 - accuracy: 0.8511\n",
      "Epoch 27/30\n",
      "47/47 [==============================] - 0s 630us/step - loss: 0.1489 - accuracy: 0.8511\n",
      "Epoch 28/30\n",
      "47/47 [==============================] - 0s 587us/step - loss: 0.1489 - accuracy: 0.8511\n",
      "Epoch 29/30\n",
      "47/47 [==============================] - 0s 609us/step - loss: 0.1489 - accuracy: 0.8511\n",
      "Epoch 30/30\n",
      "47/47 [==============================] - 0s 609us/step - loss: 0.1489 - accuracy: 0.8511\n",
      "15/15 [==============================] - 0s 714us/step - loss: 0.1489 - accuracy: 0.8511\n",
      "\n",
      " Accuracy: 0.8511\n"
     ]
    }
   ],
   "source": [
    "# -*- coding: utf-8 -*-\n",
    "# 코드 내부에 한글을 사용가능 하게 해주는 부분입니다.\n",
    "\n",
    "# 딥러닝을 구동하는 데 필요한 케라스 함수를 불러옵니다.\n",
    "from tensorflow.keras.models import Sequential\n",
    "from tensorflow.keras.layers import Dense\n",
    "\n",
    "# 필요한 라이브러리를 불러옵니다.\n",
    "import numpy\n",
    "import tensorflow as tf\n",
    "\n",
    "# 실행할 때마다 같은 결과를 출력하기 위해 설정하는 부분입니다.\n",
    "seed = 0\n",
    "numpy.random.seed(seed)\n",
    "tf.random.set_seed(seed)\n",
    "\n",
    "# 준비된 수술 환자 데이터를 불러들입니다.\n",
    "Data_set = numpy.loadtxt(\"../dataset/ThoraricSurgery.csv\", delimiter=\",\")\n",
    "\n",
    "# 환자의 기록과 수술 결과를 X와 Y로 구분하여 저장합니다.\n",
    "X = Data_set[:,0:17]\n",
    "Y = Data_set[:,17]\n",
    "\n",
    "# 딥러닝 구조를 결정합니다(모델을 설정하고 실행하는 부분입니다).\n",
    "model = Sequential()\n",
    "model.add(Dense(30, input_dim=17, activation='relu'))\n",
    "model.add(Dense(1, activation='sigmoid'))\n",
    "\n",
    "# 딥러닝을 실행합니다.\n",
    "model.compile(loss='mean_squared_error', optimizer='adam', metrics=['accuracy'])\n",
    "model.fit(X, Y, epochs=30, batch_size=10)\n",
    "\n",
    "# 결과를 출력합니다.\n",
    "print(\"\\n Accuracy: %.4f\" % (model.evaluate(X, Y)[1]))"
   ]
  },
  {
   "cell_type": "code",
   "execution_count": 3,
   "metadata": {},
   "outputs": [
    {
     "name": "stdout",
     "output_type": "stream",
     "text": [
      "C:\\Users\\Sunny\\anaconda3\\envs\\chjAI\\python.exe\n"
     ]
    }
   ],
   "source": [
    "# 실행파일 경로\n",
    "import sys\n",
    "print(sys.executable)"
   ]
  },
  {
   "cell_type": "code",
   "execution_count": null,
   "metadata": {},
   "outputs": [],
   "source": []
  }
 ],
 "metadata": {
  "anaconda-cloud": {},
  "kernelspec": {
   "display_name": "Python 3 (ipykernel)",
   "language": "python",
   "name": "python3"
  },
  "language_info": {
   "codemirror_mode": {
    "name": "ipython",
    "version": 3
   },
   "file_extension": ".py",
   "mimetype": "text/x-python",
   "name": "python",
   "nbconvert_exporter": "python",
   "pygments_lexer": "ipython3",
   "version": "3.11.3"
  }
 },
 "nbformat": 4,
 "nbformat_minor": 4
}
