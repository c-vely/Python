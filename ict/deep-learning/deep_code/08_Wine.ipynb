{
  "cells": [
    {
      "cell_type": "code",
      "metadata": {},
      "source": [
        "from keras.models import Sequential\n",
        "from keras.layers import Dense\n",
        "from keras.callbacks import ModelCheckpoint, EarlyStopping\n",
        "\n",
        "import pandas as pd\n",
        "import numpy\n",
        "import tensorflow as tf\n",
        "import matplotlib.pyplot as plt\n",
        "\n",
        "# seed \uac12 \uc124\uc815\n",
        "seed = 0\n",
        "numpy.random.seed(seed)\n",
        "tf.set_random_seed(seed)\n",
        "\n",
        "# \ub370\uc774\ud130 \uc785\ub825\n",
        "df_pre = pd.read_csv('../dataset/wine.csv', header=None)\n",
        "df = df_pre.sample(frac=1)\n",
        "\n",
        "dataset = df.values\n",
        "X = dataset[:,0:12]\n",
        "Y = dataset[:,12]\n",
        "\n",
        "# \ubaa8\ub378 \uc124\uc815\n",
        "model = Sequential()\n",
        "model.add(Dense(30,  input_dim=12, activation='relu'))\n",
        "model.add(Dense(12, activation='relu'))\n",
        "model.add(Dense(8, activation='relu'))\n",
        "model.add(Dense(1, activation='sigmoid'))\n",
        "\n",
        "#\ubaa8\ub378 \ucef4\ud30c\uc77c\n",
        "model.compile(loss='binary_crossentropy',\n",
        "           optimizer='adam',\n",
        "           metrics=['accuracy'])\n",
        "\n",
        "# \ubaa8\ub378 \uc2e4\ud589\n",
        "model.fit(X, Y, epochs=200, batch_size=200)\n",
        "\n",
        "# \uacb0\uacfc \ucd9c\ub825\n",
        "print(\"\\n Accuracy: %.4f\" % (model.evaluate(X, Y)[1]))\n"
      ],
      "outputs": [],
      "execution_count": null
    }
  ],
  "metadata": {
    "anaconda-cloud": {},
    "kernelspec": {
      "display_name": "Python 3",
      "language": "python",
      "name": "python3"
    },
    "language_info": {
      "codemirror_mode": {
        "name": "ipython",
        "version": 3
      },
      "file_extension": ".py",
      "mimetype": "text/x-python",
      "name": "python",
      "nbconvert_exporter": "python",
      "pygments_lexer": "ipython3",
      "version": "3.6.1"
    }
  },
  "nbformat": 4,
  "nbformat_minor": 4
}