{
  "cells": [
    {
      "cell_type": "code",
      "metadata": {},
      "source": [
        "from keras.models import Sequential\n",
        "from keras.layers.core import Dense\n",
        "from sklearn.preprocessing import LabelEncoder\n",
        "from sklearn.model_selection import train_test_split\n",
        "\n",
        "import pandas as pd\n",
        "import numpy\n",
        "import tensorflow as tf\n",
        "\n",
        "# seed \uac12 \uc124\uc815\n",
        "seed = 0\n",
        "numpy.random.seed(seed)\n",
        "tf.set_random_seed(seed)\n",
        "\n",
        "df = pd.read_csv('../dataset/sonar.csv', header=None)\n",
        "\n",
        "print(df.info())\n",
        "print(df.head())\n",
        "\n",
        "dataset = df.values\n",
        "X = dataset[:,0:60]\n",
        "Y_obj = dataset[:,60]\n",
        "\n",
        "e = LabelEncoder()\n",
        "e.fit(Y_obj)\n",
        "Y = e.transform(Y_obj)\n",
        "\n",
        "# \ud559\uc2b5 \uc14b\uacfc \ud14c\uc2a4\ud2b8 \uc14b\uc758 \uad6c\ubd84\n",
        "X_train, X_test, Y_train, Y_test = train_test_split(X, Y, test_size=0.3, random_state=seed)\n",
        "\n",
        "model = Sequential()\n",
        "model.add(Dense(24,  input_dim=60, activation='relu'))\n",
        "model.add(Dense(10, activation='relu'))\n",
        "model.add(Dense(1, activation='sigmoid'))\n",
        "\n",
        "model.compile(loss='mean_squared_error',\n",
        "            optimizer='adam',\n",
        "            metrics=['accuracy'])\n",
        "\n",
        "model.fit(X_train, Y_train, epochs=130, batch_size=5)\n",
        "\n",
        "# \ud14c\uc2a4\ud2b8\uc14b\uc5d0 \ubaa8\ub378 \uc801\uc6a9\n",
        "print(\"\\n Test Accuracy: %.4f\" % (model.evaluate(X_test, Y_test)[1]))\n",
        "\n"
      ],
      "outputs": [],
      "execution_count": null
    }
  ],
  "metadata": {
    "anaconda-cloud": {},
    "kernelspec": {
      "display_name": "Python 3",
      "language": "python",
      "name": "python3"
    },
    "language_info": {
      "codemirror_mode": {
        "name": "ipython",
        "version": 3
      },
      "file_extension": ".py",
      "mimetype": "text/x-python",
      "name": "python",
      "nbconvert_exporter": "python",
      "pygments_lexer": "ipython3",
      "version": "3.6.1"
    }
  },
  "nbformat": 4,
  "nbformat_minor": 4
}