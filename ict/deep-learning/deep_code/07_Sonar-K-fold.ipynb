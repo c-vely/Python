{
  "cells": [
    {
      "cell_type": "code",
      "metadata": {},
      "source": [
        "from keras.models import Sequential\n",
        "from keras.layers.core import Dense\n",
        "from sklearn.preprocessing import LabelEncoder\n",
        "from sklearn.model_selection import StratifiedKFold\n",
        "\n",
        "import numpy\n",
        "import pandas as pd\n",
        "import tensorflow as tf\n",
        "\n",
        "# seed \uac12 \uc124\uc815\n",
        "seed = 0\n",
        "numpy.random.seed(seed)\n",
        "tf.set_random_seed(seed)\n",
        "\n",
        "df = pd.read_csv('../dataset/sonar.csv', header=None)\n",
        "\n",
        "dataset = df.values\n",
        "X = dataset[:,0:60]\n",
        "Y_obj = dataset[:,60]\n",
        "\n",
        "e = LabelEncoder()\n",
        "e.fit(Y_obj)\n",
        "Y = e.transform(Y_obj)\n",
        "\n",
        "# 10\uac1c\uc758 \ud30c\uc77c\ub85c \ucabc\uac2c\n",
        "n_fold = 10\n",
        "skf = StratifiedKFold(n_splits=n_fold, shuffle=True, random_state=seed)\n",
        "\n",
        "# \ube48 accuracy \ubc30\uc5f4\n",
        "accuracy = []\n",
        "\n",
        "# \ubaa8\ub378\uc758 \uc124\uc815, \ucef4\ud30c\uc77c, \uc2e4\ud589\n",
        "for train, test in skf.split(X, Y):\n",
        "    model = Sequential()\n",
        "    model.add(Dense(24, input_dim=60, activation='relu'))\n",
        "    model.add(Dense(10, activation='relu'))\n",
        "    model.add(Dense(1, activation='sigmoid'))\n",
        "    model.compile(loss='mean_squared_error',\n",
        "                  optimizer='adam',\n",
        "                  metrics=['accuracy'])\n",
        "    model.fit(X[train], Y[train], epochs=100, batch_size=5)\n",
        "    k_accuracy = \"%.4f\" % (model.evaluate(X[test], Y[test])[1])\n",
        "    accuracy.append(k_accuracy)\n",
        "\n",
        "# \uacb0\uacfc \ucd9c\ub825\n",
        "print(\"\\n %.f fold accuracy:\" % n_fold, accuracy)\n"
      ],
      "outputs": [],
      "execution_count": null
    }
  ],
  "metadata": {
    "anaconda-cloud": {},
    "kernelspec": {
      "display_name": "Python 3",
      "language": "python",
      "name": "python3"
    },
    "language_info": {
      "codemirror_mode": {
        "name": "ipython",
        "version": 3
      },
      "file_extension": ".py",
      "mimetype": "text/x-python",
      "name": "python",
      "nbconvert_exporter": "python",
      "pygments_lexer": "ipython3",
      "version": "3.6.1"
    }
  },
  "nbformat": 4,
  "nbformat_minor": 4
}