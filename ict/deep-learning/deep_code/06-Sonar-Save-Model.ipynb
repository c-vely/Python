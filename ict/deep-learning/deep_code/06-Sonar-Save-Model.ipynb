{
  "cells": [
    {
      "cell_type": "code",
      "metadata": {},
      "source": [
        "from keras.models import Sequential, load_model\n",
        "from keras.layers.core import Dense\n",
        "from sklearn.preprocessing import LabelEncoder\n",
        "\n",
        "import pandas as pd\n",
        "import numpy\n",
        "import tensorflow as tf\n",
        "\n",
        "# seed \uac12 \uc124\uc815\n",
        "seed = 0\n",
        "numpy.random.seed(seed)\n",
        "tf.set_random_seed(seed)\n",
        "\n",
        "df = pd.read_csv('../dataset/sonar.csv', header=None)\n",
        "'''\n",
        "print(df.info())\n",
        "print(df.head())\n",
        "'''\n",
        "dataset = df.values\n",
        "X = dataset[:,0:60]\n",
        "Y_obj = dataset[:,60]\n",
        "\n",
        "e = LabelEncoder()\n",
        "e.fit(Y_obj)\n",
        "Y = e.transform(Y_obj)\n",
        "# \ud559\uc2b5\uc14b\uacfc \ud14c\uc2a4\ud2b8\uc14b\uc744 \ub098\ub214\n",
        "from sklearn.model_selection import train_test_split\n",
        "\n",
        "X_train, X_test, Y_train, Y_test = train_test_split(X, Y, test_size=0.3, random_state=seed)\n",
        "\n",
        "model = Sequential()\n",
        "model.add(Dense(24,  input_dim=60, activation='relu'))\n",
        "model.add(Dense(10, activation='relu'))\n",
        "model.add(Dense(1, activation='sigmoid'))\n",
        "\n",
        "model.compile(loss='mean_squared_error',\n",
        "            optimizer='adam',\n",
        "            metrics=['accuracy'])\n",
        "\n",
        "model.fit(X_train, Y_train, epochs=130, batch_size=5)\n",
        "model.save('my_model.h5')  # \ubaa8\ub378\uc744 \ucef4\ud4e8\ud130\uc5d0 \uc800\uc7a5\n",
        "\n",
        "del model       # \ud14c\uc2a4\ud2b8\ub97c \uc704\ud574 \uba54\ubaa8\ub9ac \ub0b4\uc758 \ubaa8\ub378\uc744 \uc0ad\uc81c\n",
        "model = load_model('my_model.h5') # \ubaa8\ub378\uc744 \uc0c8\ub85c \ubd88\ub7ec\uc634\n",
        "\n",
        "print(\"\\n Test Accuracy: %.4f\" % (model.evaluate(X_test, Y_test)[1]))  # \ubd88\ub7ec\uc628 \ubaa8\ub378\ub85c \ud14c\uc2a4\ud2b8 \uc2e4\ud589\n",
        "\n"
      ],
      "outputs": [],
      "execution_count": null
    }
  ],
  "metadata": {
    "anaconda-cloud": {},
    "kernelspec": {
      "display_name": "Python 3",
      "language": "python",
      "name": "python3"
    },
    "language_info": {
      "codemirror_mode": {
        "name": "ipython",
        "version": 3
      },
      "file_extension": ".py",
      "mimetype": "text/x-python",
      "name": "python",
      "nbconvert_exporter": "python",
      "pygments_lexer": "ipython3",
      "version": "3.6.1"
    }
  },
  "nbformat": 4,
  "nbformat_minor": 4
}