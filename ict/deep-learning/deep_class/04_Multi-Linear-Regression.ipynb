{
  "cells": [
    {
      "cell_type": "code",
      "metadata": {},
      "source": [
        "#-*- coding: utf-8 -*-\n",
        "import tensorflow as tf\n",
        "\n",
        "# x1, x2, y\uc758 \ub370\uc774\ud130 \uac12\n",
        "\n",
        "data = [[2, 0, 81], [4, 4, 93], [6, 2, 91], [8, 3, 97]]\n",
        "x1 = [x_row1[0] for x_row1 in data]\n",
        "x2 = [x_row2[1] for x_row2 in data] # \uc0c8\ub85c \ucd94\uac00\ub418\ub294 \uac12\n",
        "y_data = [y_row[2] for y_row in data]\n",
        "\n",
        "# \uae30\uc6b8\uae30 a\uc640 y\uc808\ud3b8 b\uc758 \uac12\uc744 \uc784\uc758\ub85c \uc815\ud568. \ub2e8 \uae30\uc6b8\uae30\uc758 \ubc94\uc704\ub294 0-10 \uc0ac\uc774, y \uc808\ud3b8\uc740 0-100\uc0ac\uc774\uc5d0\uc11c \ubcc0\ud558\uac8c \ud568\n",
        "a1 = tf.Variable(tf.random_uniform([1], 0, 10, dtype=tf.float64, seed=0))\n",
        "a2 = tf.Variable(tf.random_uniform([1], 0, 10, dtype=tf.float64, seed=0))\n",
        "b = tf.Variable(tf.random_uniform([1], 0, 100, dtype=tf.float64, seed=0))\n",
        "\n",
        "# \uc0c8\ub85c\uc6b4 \ubc29\uc815\uc2dd\n",
        "y = a1 * x1 + a2 * x2+ b\n",
        "\n",
        "# \ud150\uc11c\ud50c\ub85c RMSE \ud568\uc218\n",
        "rmse = tf.sqrt(tf.reduce_mean(tf.square( y - y_data )))\n",
        "\n",
        "# \ud559\uc2b5\ub960 \uac12\n",
        "learning_rate = 0.1\n",
        "\n",
        "# RMSE \uac12\uc744 \ucd5c\uc18c\ub85c \ud558\ub294 \uac12 \ucc3e\uae30\n",
        "gradient_decent = tf.train.GradientDescentOptimizer(learning_rate).minimize(rmse)\n",
        "\n",
        "# \ud559\uc2b5\uc774 \uc9c4\ud589\ub418\ub294 \ubd80\ubd84\n",
        "with tf.Session() as sess:\n",
        "    sess.run(tf.global_variables_initializer())\n",
        "\n",
        "    for step in range(2001):\n",
        "        sess.run(gradient_decent)\n",
        "        if step % 100 == 0:\n",
        "            print(\"Epoch: %.f, RMSE = %.04f, \uae30\uc6b8\uae30 a1 = %.4f, \uae30\uc6b8\uae30 a2 = %.4f, y\uc808\ud3b8 b = %.4f\" % (step,sess.run(rmse),sess.run(a1),sess.run(a2),sess.run(b)))\n",
        "\n"
      ],
      "outputs": [],
      "execution_count": null
    }
  ],
  "metadata": {
    "anaconda-cloud": {},
    "kernelspec": {
      "display_name": "Python 3",
      "language": "python",
      "name": "python3"
    },
    "language_info": {
      "codemirror_mode": {
        "name": "ipython",
        "version": 3
      },
      "file_extension": ".py",
      "mimetype": "text/x-python",
      "name": "python",
      "nbconvert_exporter": "python",
      "pygments_lexer": "ipython3",
      "version": "3.6.1"
    }
  },
  "nbformat": 4,
  "nbformat_minor": 4
}