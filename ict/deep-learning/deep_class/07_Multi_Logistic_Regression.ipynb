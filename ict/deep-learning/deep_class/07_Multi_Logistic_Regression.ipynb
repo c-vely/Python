{
  "cells": [
    {
      "cell_type": "code",
      "metadata": {},
      "source": [
        "#-*- coding: utf-8 -*-\n",
        "import tensorflow as tf\n",
        "import numpy as np\n",
        "\n",
        "# \uc2e4\ud589\ud560 \ub54c\ub9c8\ub2e4 \uac19\uc740 \uacb0\uacfc\ub97c \ucd9c\ub825\ud558\uae30 \uc704\ud55c seed \uac12 \uc124\uc815\n",
        "seed = 0\n",
        "np.random.seed(seed)\n",
        "tf.set_random_seed(seed)\n",
        "\n",
        "# x,y\uc758 \ub370\uc774\ud130 \uac12\n",
        "x_data = np.array([[2, 3],[4, 3],[6, 4],[8, 6],[10, 7],[12, 8],[14, 9]])\n",
        "y_data = np.array([0, 0, 0, 1, 1, 1,1]).reshape(7, 1)\n",
        "\n",
        "# \uc785\ub825 \uac12\uc744 \ud50c\ub798\uc774\uc2a4 \ud640\ub354\uc5d0 \uc800\uc7a5\n",
        "X = tf.placeholder(tf.float64, shape=[None, 2])\n",
        "Y = tf.placeholder(tf.float64, shape=[None, 1])\n",
        "\n",
        "# \uae30\uc6b8\uae30 a\uc640 bias b\uc758 \uac12\uc744 \uc784\uc758\ub85c \uc815\ud568.\n",
        "a = tf.Variable(tf.random_uniform([2,1], dtype=tf.float64)) # [2,1] \uc758\ubbf8: \ub4e4\uc5b4\uc624\ub294 \uac12\uc740 2\uac1c, \ub098\uac00\ub294 \uac12\uc740 1\uac1c\n",
        "b = tf.Variable(tf.random_uniform([1], dtype=tf.float64))\n",
        "\n",
        "# y \uc2dc\uadf8\ubaa8\uc774\ub4dc \ud568\uc218\uc758 \ubc29\uc815\uc2dd\uc744 \uc138\uc6c0\n",
        "y = tf.sigmoid(tf.matmul(X, a) + b)\n",
        "\n",
        "# \uc624\ucc28\ub97c \uad6c\ud558\ub294 \ud568\uc218\n",
        "loss = -tf.reduce_mean(Y * tf.log(y) + (1 - Y) * tf.log(1 - y))\n",
        "\n",
        "# \ud559\uc2b5\ub960 \uac12\n",
        "learning_rate=0.1\n",
        "\n",
        "# \uc624\ucc28\ub97c \ucd5c\uc18c\ub85c \ud558\ub294 \uac12 \ucc3e\uae30\n",
        "gradient_decent = tf.train.GradientDescentOptimizer(learning_rate).minimize(loss)\n",
        "\n",
        "predicted = tf.cast(y > 0.5, dtype=tf.float64)\n",
        "accuracy = tf.reduce_mean(tf.cast(tf.equal(predicted, Y), dtype=tf.float64))\n",
        "\n",
        "# \ud559\uc2b5\n",
        "with tf.Session() as sess:\n",
        "    sess.run(tf.global_variables_initializer())\n",
        "\n",
        "    for i in range(3001):\n",
        "        a_, b_, loss_, _ = sess.run([a, b, loss, gradient_decent], feed_dict={X: x_data, Y: y_data})\n",
        "        if (i + 1) % 300 == 0:\n",
        "            print(\"step=%d, a1=%.4f, a2=%.4f, b=%.4f, loss=%.4f\" % (i + 1, a_[0], a_[1], b_, loss_))\n",
        "\n",
        "\n",
        "# \uc5b4\ub5bb\uac8c \ud65c\uc6a9\ud558\ub294\uac00\n",
        "    new_x = np.array([7, 6.]).reshape(1, 2)  #[7, 6]\uc740 \uac01\uac01 \uacf5\ubd80 \uc2dc\uac04\uacfc \uacfc\uc678 \uc218\uc5c5\uc218.\n",
        "    new_y = sess.run(y, feed_dict={X: new_x})\n",
        "\n",
        "    print(\"\uacf5\ubd80 \uc2dc\uac04: %d, \uac1c\uc778 \uacfc\uc678 \uc218: %d\" % (new_x[:,0], new_x[:,1]))\n",
        "    print(\"\ud569\uaca9 \uac00\ub2a5\uc131: %6.2f %%\" % (new_y*100))\n"
      ],
      "outputs": [],
      "execution_count": null
    }
  ],
  "metadata": {
    "anaconda-cloud": {},
    "kernelspec": {
      "display_name": "Python 3",
      "language": "python",
      "name": "python3"
    },
    "language_info": {
      "codemirror_mode": {
        "name": "ipython",
        "version": 3
      },
      "file_extension": ".py",
      "mimetype": "text/x-python",
      "name": "python",
      "nbconvert_exporter": "python",
      "pygments_lexer": "ipython3",
      "version": "3.6.1"
    }
  },
  "nbformat": 4,
  "nbformat_minor": 4
}