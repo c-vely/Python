{
  "cells": [
    {
      "cell_type": "code",
      "metadata": {},
      "source": [
        "# -*- coding: utf-8 -*-\n",
        "# \ucf54\ub4dc \ub0b4\ubd80\uc5d0 \ud55c\uae00\uc744 \uc0ac\uc6a9\uac00\ub2a5 \ud558\uac8c \ud574\uc8fc\ub294 \ubd80\ubd84\uc785\ub2c8\ub2e4.\n",
        "\n",
        "#pandas \ub77c\uc774\ube0c\ub7ec\ub9ac\ub97c \ubd88\ub7ec\uc635\ub2c8\ub2e4.\n",
        "import pandas as pd\n",
        "import matplotlib.pyplot as plt\n",
        "import seaborn as sns\n",
        "\n",
        "#\ud53c\ub9c8 \uc778\ub514\uc5b8 \ub2f9\ub1e8\ubcd1 \ub370\uc774\ud130\uc14b\uc744 \ubd88\ub7ec\uc635\ub2c8\ub2e4. \ubd88\ub7ec\uc62c \ub54c \uac01 \uceec\ub7fc\uc5d0 \ud574\ub2f9\ud558\ub294 \uc774\ub984\uc744 \uc9c0\uc815\ud569\ub2c8\ub2e4.\n",
        "df = pd.read_csv('../dataset/pima-indians-diabetes.csv',\n",
        "               names = [\"pregnant\", \"plasma\", \"pressure\", \"thickness\", \"insulin\", \"BMI\", \"pedigree\", \"age\", \"class\"])\n",
        "\n",
        "#\ucc98\uc74c 5\uc904\uc744 \ubd05\ub2c8\ub2e4.\n",
        "print(df.head(5))\n",
        "\n",
        "#\ub370\uc774\ud130\uc758 \uc804\ubc18\uc801\uc778 \uc815\ubcf4\ub97c \ud655\uc778\ud574 \ubd05\ub2c8\ub2e4.\n",
        "print(df.info())\n",
        "\n",
        "#\uac01 \uc815\ubcf4\ubcc4 \ud2b9\uc9d5\uc744 \uc880\ub354 \uc790\uc138\ud788 \ucd9c\ub825\ud569\ub2c8\ub2e4.\n",
        "print(df.describe())\n",
        "\n",
        "#\ub370\uc774\ud130 \uc911 \uc784\uc2e0 \uc815\ubcf4\uc640 \ud074\ub798\uc2a4 \ub9cc\uc744 \ucd9c\ub825\ud574 \ubd05\ub2c8\ub2e4.\n",
        "print(df[['plasma', 'class']])\n",
        "\n",
        "#\ub370\uc774\ud130\uac04\uc758 \uc0c1\uad00\uad00\uacc4\ub97c \uadf8\ub798\ud504\ub85c \ud45c\ud604\ud574 \ubd05\ub2c8\ub2e4.\n",
        "\n",
        "colormap = plt.cm.gist_heat   #\uadf8\ub798\ud504\uc758 \uc0c9\uc0c1 \uad6c\uc131\uc744 \uc815\ud569\ub2c8\ub2e4.\n",
        "plt.figure(figsize=(12,12))   #\uadf8\ub798\ud504\uc758 \ud06c\uae30\ub97c \uc815\ud569\ub2c8\ub2e4.\n",
        "\n",
        "#\uadf8\ub798\ud504\uc758 \uc18d\uc131\uc744 \uacb0\uc815\ud569\ub2c8\ub2e4. vmax\uc758 \uac12\uc744 0.5\ub85c \uc9c0\uc815\ud574 0.5\uc5d0 \uac00\uae4c\uc6b8 \uc218\ub85d \ubc1d\uc740 \uc0c9\uc73c\ub85c \ud45c\uc2dc\ub418\uac8c \ud569\ub2c8\ub2e4.\n",
        "sns.heatmap(df.corr(),linewidths=0.1,vmax=0.5, cmap=colormap, linecolor='white', annot=True)\n",
        "plt.show()\n",
        "\n",
        "grid = sns.FacetGrid(df, col='class')\n",
        "grid.map(plt.hist, 'plasma',  bins=10)\n",
        "plt.show()\n"
      ],
      "outputs": [],
      "execution_count": null
    }
  ],
  "metadata": {
    "anaconda-cloud": {},
    "kernelspec": {
      "display_name": "Python 3",
      "language": "python",
      "name": "python3"
    },
    "language_info": {
      "codemirror_mode": {
        "name": "ipython",
        "version": 3
      },
      "file_extension": ".py",
      "mimetype": "text/x-python",
      "name": "python",
      "nbconvert_exporter": "python",
      "pygments_lexer": "ipython3",
      "version": "3.6.1"
    }
  },
  "nbformat": 4,
  "nbformat_minor": 4
}