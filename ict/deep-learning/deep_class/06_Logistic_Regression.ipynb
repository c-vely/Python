{
  "cells": [
    {
      "cell_type": "code",
      "metadata": {},
      "source": [
        "#-*- coding: utf-8 -*-\n",
        "import tensorflow as tf\n",
        "import numpy as np\n",
        "\n",
        "# x,y\uc758 \ub370\uc774\ud130 \uac12\n",
        "data = [[2, 0], [4, 0], [6, 0], [8, 1], [10, 1], [12, 1], [14, 1]]\n",
        "x_data = [x_row[0] for x_row in data]\n",
        "y_data = [y_row[1] for y_row in data]\n",
        "\n",
        "# a\uc640 b\uc758 \uac12\uc744 \uc784\uc758\ub85c \uc815\ud568\n",
        "a = tf.Variable(tf.random_normal([1], dtype=tf.float64, seed=0))\n",
        "b = tf.Variable(tf.random_normal([1], dtype=tf.float64, seed=0))\n",
        "\n",
        "# y \uc2dc\uadf8\ubaa8\uc774\ub4dc \ud568\uc218\uc758 \ubc29\uc815\uc2dd\uc744 \uc138\uc6c0\n",
        "y = 1/(1 + np.e**(a * x_data + b))\n",
        "\n",
        "# loss\ub97c \uad6c\ud558\ub294 \ud568\uc218\n",
        "loss = -tf.reduce_mean(np.array(y_data) * tf.log(y) + (1 - np.array(y_data)) * tf.log(1 - y))\n",
        "\n",
        "# \ud559\uc2b5\ub960 \uac12\n",
        "learning_rate=0.5\n",
        "\n",
        "# loss\ub97c \ucd5c\uc18c\ub85c \ud558\ub294 \uac12 \ucc3e\uae30\n",
        "gradient_decent = tf.train.GradientDescentOptimizer(learning_rate).minimize(loss)\n",
        "\n",
        "# \ud559\uc2b5\n",
        "with tf.Session() as sess:\n",
        "    sess.run(tf.global_variables_initializer())\n",
        "\n",
        "    for i in range(60001):\n",
        "        sess.run(gradient_decent)\n",
        "        if i % 6000 == 0:\n",
        "            print(\"Epoch: %.f, loss = %.4f, \uae30\uc6b8\uae30 a = %.4f, \ubc14\uc774\uc5b4\uc2a4 b = %.4f\" % (i, sess.run(loss), sess.run(a), sess.run(b)))\n",
        "\n"
      ],
      "outputs": [],
      "execution_count": null
    }
  ],
  "metadata": {
    "anaconda-cloud": {},
    "kernelspec": {
      "display_name": "Python 3",
      "language": "python",
      "name": "python3"
    },
    "language_info": {
      "codemirror_mode": {
        "name": "ipython",
        "version": 3
      },
      "file_extension": ".py",
      "mimetype": "text/x-python",
      "name": "python",
      "nbconvert_exporter": "python",
      "pygments_lexer": "ipython3",
      "version": "3.6.1"
    }
  },
  "nbformat": 4,
  "nbformat_minor": 4
}