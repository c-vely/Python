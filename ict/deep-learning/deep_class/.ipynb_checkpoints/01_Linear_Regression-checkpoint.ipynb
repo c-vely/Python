{
  "cells": [
    {
      "cell_type": "code",
      "metadata": {},
      "source": [
        "# -*- coding: utf-8 -*-\n",
        "import numpy as np\n",
        "\n",
        "# x \uac12\uacfc y\uac12\n",
        "x=[2, 4, 6, 8]\n",
        "y=[81, 93, 91, 97]\n",
        "\n",
        "# x\uc640 y\uc758 \ud3c9\uade0\uac12\n",
        "mx = np.mean(x)\n",
        "my = np.mean(y)\n",
        "print(\"x\uc758 \ud3c9\uade0\uac12:\", mx)\n",
        "print(\"y\uc758 \ud3c9\uade0\uac12:\", my)\n",
        "\n",
        "# \uae30\uc6b8\uae30 \uacf5\uc2dd\uc758 \ubd84\ubaa8\n",
        "divisor = sum([(mx - i)**2 for i in x])\n",
        "\n",
        "# \uae30\uc6b8\uae30 \uacf5\uc2dd\uc758 \ubd84\uc790\n",
        "def top(x, mx, y, my):\n",
        "    d = 0\n",
        "    for i in range(len(x)):\n",
        "        d += (x[i] - mx) * (y[i] - my)\n",
        "    return d\n",
        "dividend = top(x, mx, y, my)\n",
        "\n",
        "print(\"\ubd84\ubaa8:\", divisor)\n",
        "print(\"\ubd84\uc790:\", dividend)\n",
        "\n",
        "# \uae30\uc6b8\uae30\uc640 y \uc808\ud3b8 \uad6c\ud558\uae30\n",
        "a = dividend / divisor\n",
        "b = my - (mx*a)\n",
        "\n",
        "# \ucd9c\ub825\uc73c\ub85c \ud655\uc778\n",
        "print(\"\uae30\uc6b8\uae30 a =\", a)\n",
        "print(\"y \uc808\ud3b8 b =\", b)\n"
      ],
      "outputs": [],
      "execution_count": null
    }
  ],
  "metadata": {
    "anaconda-cloud": {},
    "kernelspec": {
      "display_name": "Python 3",
      "language": "python",
      "name": "python3"
    },
    "language_info": {
      "codemirror_mode": {
        "name": "ipython",
        "version": 3
      },
      "file_extension": ".py",
      "mimetype": "text/x-python",
      "name": "python",
      "nbconvert_exporter": "python",
      "pygments_lexer": "ipython3",
      "version": "3.6.1"
    }
  },
  "nbformat": 4,
  "nbformat_minor": 4
}