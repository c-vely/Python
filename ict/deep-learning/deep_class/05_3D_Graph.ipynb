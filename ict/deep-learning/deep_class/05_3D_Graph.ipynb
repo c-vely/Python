{
  "cells": [
    {
      "cell_type": "code",
      "metadata": {},
      "source": [
        "import numpy as np\n",
        "import statsmodels.api as statm\n",
        "import statsmodels.formula.api as statfa\n",
        "import pandas as pd\n",
        "import matplotlib.pyplot as plt\n",
        "from mpl_toolkits.mplot3d import Axes3D\n",
        "\n",
        "data = [[2, 0, 81], [4, 4, 93], [6, 2, 91], [8, 3, 97]]\n",
        "X = [i[0:2] for i in data]\n",
        "Y = [i[2] for i in data]\n",
        "\n",
        "X_1=statm.add_constant(X)\n",
        "results=statm.OLS(Y,X_1).fit()\n",
        "\n",
        "hour_class=pd.DataFrame(X,columns=['study_hours','private_class'])\n",
        "hour_class['Score']=pd.Series(Y)\n",
        "\n",
        "model = statfa.ols(formula='Score ~ study_hours + private_class', data=hour_class)\n",
        "\n",
        "results_formula = model.fit()\n",
        "\n",
        "a, b = np.meshgrid(np.linspace(hour_class.study_hours.min(),hour_class.study_hours.max(),100),\n",
        "                   np.linspace(hour_class.private_class.min(),hour_class.private_class.max(),100))\n",
        "\n",
        "X_ax = pd.DataFrame({'study_hours': a.ravel(), 'private_class': b.ravel()})\n",
        "fittedY=results_formula.predict(exog=X_ax)\n",
        "fig = plt.figure()\n",
        "\n",
        "graph = fig.add_subplot(111, projection='3d')\n",
        "\n",
        "graph.scatter(hour_class['study_hours'],hour_class['private_class'],hour_class['Score'],\n",
        "              c='blue',marker='o', alpha=1)\n",
        "graph.plot_surface(a,b,fittedY.values.reshape(a.shape),\n",
        "                   rstride=1, cstride=1, color='none', alpha=0.4)\n",
        "graph.set_xlabel('study_hours')\n",
        "graph.set_ylabel('private_class')\n",
        "graph.set_zlabel('Score')\n",
        "\n",
        "plt.show()\n",
        "\n"
      ],
      "outputs": [],
      "execution_count": null
    }
  ],
  "metadata": {
    "anaconda-cloud": {},
    "kernelspec": {
      "display_name": "Python 3",
      "language": "python",
      "name": "python3"
    },
    "language_info": {
      "codemirror_mode": {
        "name": "ipython",
        "version": 3
      },
      "file_extension": ".py",
      "mimetype": "text/x-python",
      "name": "python",
      "nbconvert_exporter": "python",
      "pygments_lexer": "ipython3",
      "version": "3.6.1"
    }
  },
  "nbformat": 4,
  "nbformat_minor": 4
}