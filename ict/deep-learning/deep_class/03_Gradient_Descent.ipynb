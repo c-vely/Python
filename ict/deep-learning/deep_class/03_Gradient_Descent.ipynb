{
  "cells": [
    {
      "cell_type": "code",
      "metadata": {},
      "source": [
        "import tensorflow as tf\n",
        "\n",
        "# x, y\uc758 \ub370\uc774\ud130 \uac12\n",
        "data = [[2, 81], [4, 93], [6, 91], [8, 97]]\n",
        "x_data = [x_row[0] for x_row in data]\n",
        "y_data = [y_row[1] for y_row in data]\n",
        "\n",
        "# \uae30\uc6b8\uae30 a\uc640 y \uc808\ud3b8 b\uc758 \uac12\uc744 \uc784\uc758\ub85c \uc815\ud55c\ub2e4.\n",
        "# \ub2e8, \uae30\uc6b8\uae30\uc758 \ubc94\uc704\ub294 0 ~ 10 \uc0ac\uc774\uc774\uba70 y \uc808\ud3b8\uc740 0 ~ 100 \uc0ac\uc774\uc5d0\uc11c \ubcc0\ud558\uac8c \ud55c\ub2e4.\n",
        "a = tf.Variable(tf.random_uniform([1], 0, 10, dtype = tf.float64, seed = 0))\n",
        "b = tf.Variable(tf.random_uniform([1], 0, 100, dtype = tf.float64, seed = 0))\n",
        "\n",
        "# y\uc5d0 \ub300\ud55c \uc77c\ucc28 \ubc29\uc815\uc2dd ax+b\uc758 \uc2dd\uc744 \uc138\uc6b4\ub2e4.\n",
        "y = a * x_data + b\n",
        "\n",
        "# \ud150\uc11c\ud50c\ub85c RMSE \ud568\uc218\n",
        "rmse = tf.sqrt(tf.reduce_mean(tf.square( y - y_data )))\n",
        "\n",
        "# \ud559\uc2b5\ub960 \uac12\n",
        "learning_rate = 0.1\n",
        "\n",
        "# RMSE \uac12\uc744 \ucd5c\uc18c\ub85c \ud558\ub294 \uac12 \ucc3e\uae30\n",
        "gradient_decent = tf.train.GradientDescentOptimizer(learning_rate).minimize(rmse)\n",
        "\n",
        "# \ud150\uc11c\ud50c\ub85c\ub97c \uc774\uc6a9\ud55c \ud559\uc2b5\n",
        "with tf.Session() as sess:\n",
        "    # \ubcc0\uc218 \ucd08\uae30\ud654\n",
        "    sess.run(tf.global_variables_initializer())\n",
        "    # 2001\ubc88 \uc2e4\ud589(0\ubc88 \uc9f8\ub97c \ud3ec\ud568\ud558\ubbc0\ub85c)\n",
        "    for step in range(2001):\n",
        "        sess.run(gradient_decent)\n",
        "        # 100\ubc88\ub9c8\ub2e4 \uacb0\uacfc \ucd9c\ub825\n",
        "        if step % 100 == 0:\n",
        "            print(\"Epoch: %.f, RMSE = %.04f, \uae30\uc6b8\uae30 a = %.4f, y \uc808\ud3b8 b = %.4f\" % (step,sess.run(rmse),sess.run(a),sess.run(b)))\n"
      ],
      "outputs": [],
      "execution_count": null
    }
  ],
  "metadata": {
    "anaconda-cloud": {},
    "kernelspec": {
      "display_name": "Python 3",
      "language": "python",
      "name": "python3"
    },
    "language_info": {
      "codemirror_mode": {
        "name": "ipython",
        "version": 3
      },
      "file_extension": ".py",
      "mimetype": "text/x-python",
      "name": "python",
      "nbconvert_exporter": "python",
      "pygments_lexer": "ipython3",
      "version": "3.6.1"
    }
  },
  "nbformat": 4,
  "nbformat_minor": 4
}