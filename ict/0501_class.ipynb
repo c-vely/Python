{
 "cells": [
  {
   "cell_type": "markdown",
   "id": "f104d5a1-6cd1-421e-9be7-9781e9fbf341",
   "metadata": {},
   "source": [
    "# 리스트"
   ]
  },
  {
   "cell_type": "code",
   "execution_count": 10,
   "id": "8cebd4c8-d4ac-4992-a309-b04a6bbbe7b5",
   "metadata": {},
   "outputs": [
    {
     "name": "stdout",
     "output_type": "stream",
     "text": [
      "[1, 123, 1234]\n"
     ]
    }
   ],
   "source": [
    "# 슬라이스를 이용한 삭제\n",
    "a = [1, 12, 123, 1234]\n",
    "a[1:2] = []\n",
    "print(a)"
   ]
  },
  {
   "cell_type": "code",
   "execution_count": 11,
   "id": "1bca2ee9-1628-4c27-8883-51b2cd0058bf",
   "metadata": {},
   "outputs": [
    {
     "name": "stdout",
     "output_type": "stream",
     "text": [
      "[]\n"
     ]
    }
   ],
   "source": [
    "a[0:] = []\n",
    "print(a)"
   ]
  },
  {
   "cell_type": "code",
   "execution_count": 12,
   "id": "a6d4674d-b646-4aee-b9a5-d8ded3957e71",
   "metadata": {},
   "outputs": [
    {
     "name": "stdout",
     "output_type": "stream",
     "text": [
      "[1, 'a', 12, 123, 1234]\n"
     ]
    }
   ],
   "source": [
    "# 슬라이스를 이용한 삽입\n",
    "a = [1, 12, 123, 1234]\n",
    "a[1:1] = ['a']\n",
    "print(a)"
   ]
  },
  {
   "cell_type": "code",
   "execution_count": 13,
   "id": "0383146d-7c57-4cfe-bfee-1d197232aa39",
   "metadata": {},
   "outputs": [
    {
     "name": "stdout",
     "output_type": "stream",
     "text": [
      "[-12, -1, 0, 1, 'a', 12, 123, 1234]\n"
     ]
    }
   ],
   "source": [
    "a[:0] = [-12, -1, 0]\n",
    "print(a)"
   ]
  },
  {
   "cell_type": "code",
   "execution_count": 17,
   "id": "44c070f8-52a5-482a-ae7d-52fc86b4a921",
   "metadata": {},
   "outputs": [
    {
     "name": "stdout",
     "output_type": "stream",
     "text": [
      "[1, 12, 123, 1234, 5]\n"
     ]
    }
   ],
   "source": [
    "# 리스트의 메서드\n",
    "a = [1, 12, 123, 1234]\n",
    "a.append(5)\n",
    "print(a)"
   ]
  },
  {
   "cell_type": "code",
   "execution_count": 18,
   "id": "3153e424-79c3-42e3-94a2-6a440ea55080",
   "metadata": {},
   "outputs": [
    {
     "name": "stdout",
     "output_type": "stream",
     "text": [
      "[1, 5, 12, 123, 1234, 5]\n"
     ]
    }
   ],
   "source": [
    "a.insert(1, 5) #인덱스 1에 요소 5를 추가\n",
    "print(a)"
   ]
  },
  {
   "cell_type": "code",
   "execution_count": 20,
   "id": "bc44ae52-285a-431c-a941-97730136315d",
   "metadata": {},
   "outputs": [
    {
     "data": {
      "text/plain": [
       "[1, 12, 123, 1234, 5]"
      ]
     },
     "execution_count": 20,
     "metadata": {},
     "output_type": "execute_result"
    }
   ],
   "source": [
    "a.remove(5) #내부에 있는 요소를 제거\n",
    "a"
   ]
  },
  {
   "cell_type": "code",
   "execution_count": 21,
   "id": "7b3d1ebd-7c33-4a0c-8b20-a06c89413f45",
   "metadata": {},
   "outputs": [
    {
     "name": "stdout",
     "output_type": "stream",
     "text": [
      "[1, 3, 4, 5]\n"
     ]
    }
   ],
   "source": [
    "a = [1, 2, 3, 4, 5]\n",
    "a.remove(2)\n",
    "print(a)"
   ]
  },
  {
   "cell_type": "markdown",
   "id": "e85927b4-2ca1-48ae-b24f-62665cb359c0",
   "metadata": {},
   "source": [
    "# Stack"
   ]
  },
  {
   "cell_type": "code",
   "execution_count": 22,
   "id": "30a63892-1610-45ac-8f17-1051fed3e7e5",
   "metadata": {},
   "outputs": [
    {
     "name": "stdout",
     "output_type": "stream",
     "text": [
      "[10, 20, 30]\n"
     ]
    }
   ],
   "source": [
    "stack = []\n",
    "stack.append(10)\n",
    "stack.append(20)\n",
    "stack.append(30)\n",
    "print(stack)"
   ]
  },
  {
   "cell_type": "code",
   "execution_count": 23,
   "id": "0326a672-d4db-47de-a289-4e8f636403ac",
   "metadata": {},
   "outputs": [
    {
     "name": "stdout",
     "output_type": "stream",
     "text": [
      "30\n"
     ]
    }
   ],
   "source": [
    "print(stack.pop())"
   ]
  },
  {
   "cell_type": "code",
   "execution_count": 24,
   "id": "19f8c6ed-c64a-452f-9f1d-ad6ec647cdd3",
   "metadata": {},
   "outputs": [
    {
     "name": "stdout",
     "output_type": "stream",
     "text": [
      "[10, 20]\n"
     ]
    }
   ],
   "source": [
    "print(stack)"
   ]
  },
  {
   "cell_type": "code",
   "execution_count": 25,
   "id": "2924fa7b-d244-4e2d-8329-1d31a3357f51",
   "metadata": {},
   "outputs": [
    {
     "name": "stdout",
     "output_type": "stream",
     "text": [
      "20\n"
     ]
    }
   ],
   "source": [
    "print(stack.pop())"
   ]
  },
  {
   "cell_type": "code",
   "execution_count": 26,
   "id": "4e05e6cd-b6a5-4e1e-8504-b2fa48ace602",
   "metadata": {},
   "outputs": [
    {
     "name": "stdout",
     "output_type": "stream",
     "text": [
      "10\n"
     ]
    }
   ],
   "source": [
    "print(stack.pop())"
   ]
  },
  {
   "cell_type": "code",
   "execution_count": 28,
   "id": "a7fe6f9c-b011-4bdc-82d5-73dc434ea0d1",
   "metadata": {},
   "outputs": [
    {
     "name": "stdout",
     "output_type": "stream",
     "text": [
      "[]\n"
     ]
    }
   ],
   "source": [
    "print(stack)"
   ]
  },
  {
   "cell_type": "markdown",
   "id": "3fea0a44-e473-4476-9f6e-00dea339925a",
   "metadata": {},
   "source": [
    "# Que"
   ]
  },
  {
   "cell_type": "code",
   "execution_count": 36,
   "id": "6bef2257-bd43-421f-be3f-b4a3d4e0a014",
   "metadata": {},
   "outputs": [
    {
     "name": "stdout",
     "output_type": "stream",
     "text": [
      "[100, 200, 300]\n"
     ]
    }
   ],
   "source": [
    "queue = []\n",
    "queue.append(100)\n",
    "queue.append(200)\n",
    "queue.append(300)\n",
    "print(queue)"
   ]
  },
  {
   "cell_type": "code",
   "execution_count": 37,
   "id": "6512ea64-3f15-40e5-a2d6-4d24053c86b3",
   "metadata": {},
   "outputs": [
    {
     "name": "stdout",
     "output_type": "stream",
     "text": [
      "100\n"
     ]
    }
   ],
   "source": [
    "print(queue.pop(0))"
   ]
  },
  {
   "cell_type": "code",
   "execution_count": 38,
   "id": "4a2d0193-cc45-43ed-998d-44237726dd51",
   "metadata": {},
   "outputs": [
    {
     "name": "stdout",
     "output_type": "stream",
     "text": [
      "300\n"
     ]
    }
   ],
   "source": [
    "print(queue.pop())"
   ]
  },
  {
   "cell_type": "code",
   "execution_count": 39,
   "id": "5ddc835f-50cc-4c8b-b0b7-65215ec4062a",
   "metadata": {},
   "outputs": [
    {
     "name": "stdout",
     "output_type": "stream",
     "text": [
      "200\n"
     ]
    }
   ],
   "source": [
    "print(queue.pop())"
   ]
  },
  {
   "cell_type": "code",
   "execution_count": 34,
   "id": "7c0bb785-1662-4995-b3b9-299ce23892eb",
   "metadata": {},
   "outputs": [
    {
     "name": "stdout",
     "output_type": "stream",
     "text": [
      "[]\n"
     ]
    }
   ],
   "source": [
    "print(queue)"
   ]
  },
  {
   "cell_type": "markdown",
   "id": "18d36d38-d03e-4351-9c1a-1243dd6dcdd3",
   "metadata": {},
   "source": [
    "# sort"
   ]
  },
  {
   "cell_type": "code",
   "execution_count": 40,
   "id": "1ae1730e-dd87-4726-8a1c-66e5daa4380b",
   "metadata": {},
   "outputs": [
    {
     "name": "stdout",
     "output_type": "stream",
     "text": [
      "[1, 2, 3, 4, 5, 8, 9]\n"
     ]
    }
   ],
   "source": [
    "l = [1, 5, 3, 9, 8, 4, 2]\n",
    "l.sort()\n",
    "print(l)"
   ]
  },
  {
   "cell_type": "code",
   "execution_count": 41,
   "id": "48848a1e-bfc1-4dab-8686-9dbd5de740d7",
   "metadata": {},
   "outputs": [
    {
     "name": "stdout",
     "output_type": "stream",
     "text": [
      "[9, 8, 5, 4, 3, 2, 1]\n"
     ]
    }
   ],
   "source": [
    "l.sort(reverse = True)\n",
    "print(l)"
   ]
  },
  {
   "cell_type": "code",
   "execution_count": 42,
   "id": "a657f914-9bef-4f32-9d27-a46f746cf02f",
   "metadata": {},
   "outputs": [
    {
     "name": "stdout",
     "output_type": "stream",
     "text": [
      "[10, 11, 2, 22, 33, 4, 8, 9]\n"
     ]
    }
   ],
   "source": [
    "ll = [10, 2, 22, 9, 8, 33, 4, 11]\n",
    "ll.sort(key = str)\n",
    "print(ll)"
   ]
  },
  {
   "cell_type": "code",
   "execution_count": 43,
   "id": "7a5899a0-72cd-4dea-8d75-58e267941cea",
   "metadata": {},
   "outputs": [
    {
     "name": "stdout",
     "output_type": "stream",
     "text": [
      "[2, 4, 8, 9, 10, 11, 22, 33]\n"
     ]
    }
   ],
   "source": [
    "ll.sort(key = int)\n",
    "print(ll)"
   ]
  },
  {
   "cell_type": "markdown",
   "id": "c4c9bc9f-bb17-48f4-a584-7804329c3b33",
   "metadata": {},
   "source": [
    "# set"
   ]
  },
  {
   "cell_type": "code",
   "execution_count": 44,
   "id": "8c97321c-db18-4688-aeb0-25d61438808d",
   "metadata": {},
   "outputs": [
    {
     "name": "stdout",
     "output_type": "stream",
     "text": [
      "{1, 2, 3} <class 'set'>\n"
     ]
    }
   ],
   "source": [
    "s = {1, 2, 3}\n",
    "print(s, type(s))"
   ]
  },
  {
   "cell_type": "code",
   "execution_count": 45,
   "id": "0151d963-d31c-4689-8ecf-8a038fa2ccd3",
   "metadata": {},
   "outputs": [
    {
     "data": {
      "text/plain": [
       "{1, 3}"
      ]
     },
     "execution_count": 45,
     "metadata": {},
     "output_type": "execute_result"
    }
   ],
   "source": [
    "s.discard(2)\n",
    "s"
   ]
  },
  {
   "cell_type": "code",
   "execution_count": 47,
   "id": "9e785001-57f7-4179-a2e0-9004db783826",
   "metadata": {},
   "outputs": [
    {
     "data": {
      "text/plain": [
       "{1, 2}"
      ]
     },
     "execution_count": 47,
     "metadata": {},
     "output_type": "execute_result"
    }
   ],
   "source": [
    "s.remove(3)\n",
    "s"
   ]
  },
  {
   "cell_type": "code",
   "execution_count": 48,
   "id": "39e014ba-ec05-4d68-b4c1-32cec6fa407a",
   "metadata": {},
   "outputs": [
    {
     "data": {
      "text/plain": [
       "{1, 2, 3}"
      ]
     },
     "execution_count": 48,
     "metadata": {},
     "output_type": "execute_result"
    }
   ],
   "source": [
    "s.update({2, 3})\n",
    "s"
   ]
  },
  {
   "cell_type": "code",
   "execution_count": 49,
   "id": "5d4e2150-a7ba-4bdf-8cf1-4b4b497bc085",
   "metadata": {},
   "outputs": [
    {
     "data": {
      "text/plain": [
       "set()"
      ]
     },
     "execution_count": 49,
     "metadata": {},
     "output_type": "execute_result"
    }
   ],
   "source": [
    "s.clear()\n",
    "s"
   ]
  },
  {
   "cell_type": "markdown",
   "id": "2e9c9075-9223-43ff-884a-804f1d241c61",
   "metadata": {},
   "source": [
    "# 튜플"
   ]
  },
  {
   "cell_type": "code",
   "execution_count": 51,
   "id": "242c6e83-e7af-4ed8-b960-dcd69c568cbe",
   "metadata": {},
   "outputs": [
    {
     "name": "stdout",
     "output_type": "stream",
     "text": [
      "(1, 2, 3) <class 'tuple'>\n"
     ]
    }
   ],
   "source": [
    "t = (1, 2, 3)\n",
    "print(t, type(t))"
   ]
  },
  {
   "cell_type": "code",
   "execution_count": 53,
   "id": "dfefedf3-9a65-4cfc-83ea-ece85c7dd094",
   "metadata": {},
   "outputs": [
    {
     "name": "stdout",
     "output_type": "stream",
     "text": [
      "(1, 2, 'python') <class 'tuple'>\n"
     ]
    }
   ],
   "source": [
    "t = 1, 2, 'python'\n",
    "print(t, type(t))"
   ]
  },
  {
   "cell_type": "code",
   "execution_count": 54,
   "id": "99d4ff4c-07b5-4f4a-a05a-f1b965ce2ffe",
   "metadata": {},
   "outputs": [
    {
     "name": "stdout",
     "output_type": "stream",
     "text": [
      "2 python 1 2 python\n"
     ]
    }
   ],
   "source": [
    "print(t[-2], t[-1], t[0], t[1], t[2])"
   ]
  },
  {
   "cell_type": "code",
   "execution_count": 55,
   "id": "676d4dc1-5c3d-4e89-80a1-6cabc5839fa2",
   "metadata": {},
   "outputs": [
    {
     "name": "stdout",
     "output_type": "stream",
     "text": [
      "(2, 'python')\n"
     ]
    }
   ],
   "source": [
    "print(t[1:3])"
   ]
  },
  {
   "cell_type": "code",
   "execution_count": 56,
   "id": "06a5d245-8d13-44ef-a4bc-8637ccd03b8b",
   "metadata": {},
   "outputs": [
    {
     "name": "stdout",
     "output_type": "stream",
     "text": [
      "(1, 2, 'python', 1, 2, 'python')\n"
     ]
    }
   ],
   "source": [
    "print(t * 2)"
   ]
  },
  {
   "cell_type": "code",
   "execution_count": 57,
   "id": "c42446da-e823-471d-85bc-5a4d43bc9292",
   "metadata": {},
   "outputs": [
    {
     "name": "stdout",
     "output_type": "stream",
     "text": [
      "(1, 2, 'python', 3, 4, 5)\n"
     ]
    }
   ],
   "source": [
    "print(t + (3, 4, 5))"
   ]
  },
  {
   "cell_type": "code",
   "execution_count": 58,
   "id": "5aba11b4-4704-435e-adb1-84eb64a82fa7",
   "metadata": {},
   "outputs": [
    {
     "name": "stdout",
     "output_type": "stream",
     "text": [
      "3\n"
     ]
    }
   ],
   "source": [
    "print(len(t))"
   ]
  },
  {
   "cell_type": "code",
   "execution_count": 59,
   "id": "b18ee8c1-a02b-4c0c-bdc9-581b86d0c977",
   "metadata": {},
   "outputs": [
    {
     "name": "stdout",
     "output_type": "stream",
     "text": [
      "False\n"
     ]
    }
   ],
   "source": [
    "print(5 in t)"
   ]
  },
  {
   "cell_type": "code",
   "execution_count": 60,
   "id": "e341dc2c-af0b-463e-9933-ebb11e4eb8dc",
   "metadata": {},
   "outputs": [
    {
     "name": "stdout",
     "output_type": "stream",
     "text": [
      "('samsung', 'lg', 'hyundal') <class 'tuple'>\n"
     ]
    }
   ],
   "source": [
    "company = ['samsung', 'lg', 'hyundal']\n",
    "data = tuple(company)\n",
    "print(data, type(data))"
   ]
  },
  {
   "cell_type": "code",
   "execution_count": 62,
   "id": "76993d15-9129-4166-9de1-91a3d07cf52e",
   "metadata": {},
   "outputs": [
    {
     "name": "stdout",
     "output_type": "stream",
     "text": [
      "<class 'tuple'>\n"
     ]
    }
   ],
   "source": [
    "# packing vs unpacking\n",
    "p = 10, 20, 30, 'python'\n",
    "print(type(p))"
   ]
  },
  {
   "cell_type": "code",
   "execution_count": 63,
   "id": "15616258-ec24-4734-9f57-dcd6eb8c80ee",
   "metadata": {},
   "outputs": [
    {
     "name": "stdout",
     "output_type": "stream",
     "text": [
      "10 20 30 python\n"
     ]
    }
   ],
   "source": [
    "a, b, c, d = p\n",
    "print(a, b, c, d)"
   ]
  },
  {
   "cell_type": "code",
   "execution_count": 64,
   "id": "7df6177e-9a86-42cd-8014-3efa8e831902",
   "metadata": {},
   "outputs": [],
   "source": [
    "# 리스트 언팩킹\n",
    "a, b, c, d = [10, 20, 30, 'python']"
   ]
  },
  {
   "cell_type": "code",
   "execution_count": 65,
   "id": "fba1e225-ae9e-4243-9d45-bb6010d06d34",
   "metadata": {},
   "outputs": [
    {
     "name": "stdout",
     "output_type": "stream",
     "text": [
      "10 20 30 python\n"
     ]
    }
   ],
   "source": [
    "print(a, b, c, d)"
   ]
  },
  {
   "cell_type": "code",
   "execution_count": 68,
   "id": "cc58117f-66a3-4354-a8ca-828b15e05e97",
   "metadata": {},
   "outputs": [],
   "source": [
    "# 확장 unpacking\n",
    "a, b, c, d, e = [1, 2, 3, 4, 5]"
   ]
  },
  {
   "cell_type": "code",
   "execution_count": 70,
   "id": "851c6f4c-434c-4620-835b-16debcee7065",
   "metadata": {},
   "outputs": [
    {
     "name": "stdout",
     "output_type": "stream",
     "text": [
      "10 [20, 30, 40, 50, 60]\n"
     ]
    }
   ],
   "source": [
    "t = (10, 20, 30, 40, 50, 60)\n",
    "a, *b = t\n",
    "print(a, b)"
   ]
  },
  {
   "cell_type": "code",
   "execution_count": 71,
   "id": "3a34d265-69f8-4b04-8ed9-c52119d822c3",
   "metadata": {},
   "outputs": [
    {
     "name": "stdout",
     "output_type": "stream",
     "text": [
      "10 20 [30, 40, 50, 60]\n"
     ]
    }
   ],
   "source": [
    "a, b, *c = t\n",
    "print(a, b, c)"
   ]
  },
  {
   "cell_type": "markdown",
   "id": "cb5a383c-d321-4524-a668-fddf990387ef",
   "metadata": {},
   "source": [
    "# Dictionary"
   ]
  },
  {
   "cell_type": "code",
   "execution_count": 81,
   "id": "e0239e95-023c-4172-97f3-b79e0c7c04cc",
   "metadata": {},
   "outputs": [
    {
     "name": "stdout",
     "output_type": "stream",
     "text": [
      "{'baseball': 9, 'soccer': 11, 'basketball': 5} <class 'dict'>\n"
     ]
    }
   ],
   "source": [
    "d = {'baseball':9, 'soccer':11, 'basketball':5}\n",
    "print(d, type(d))"
   ]
  },
  {
   "cell_type": "code",
   "execution_count": 82,
   "id": "dca1297e-65b6-4c56-8e22-0ed2fd88f1a4",
   "metadata": {},
   "outputs": [
    {
     "name": "stdout",
     "output_type": "stream",
     "text": [
      "5\n"
     ]
    }
   ],
   "source": [
    "print(d['basketball'])"
   ]
  },
  {
   "cell_type": "code",
   "execution_count": 83,
   "id": "3be0dea3-5ce8-458e-b92a-568e37883f87",
   "metadata": {},
   "outputs": [
    {
     "name": "stdout",
     "output_type": "stream",
     "text": [
      "{'baseball': 9, 'soccer': 11, 'basketball': 5, 'volleybal': 6}\n"
     ]
    }
   ],
   "source": [
    "d['volleybal'] = 6\n",
    "print(d)"
   ]
  },
  {
   "cell_type": "code",
   "execution_count": 84,
   "id": "d0492d9c-bf6a-4ec0-a132-451b04999c26",
   "metadata": {},
   "outputs": [
    {
     "name": "stdout",
     "output_type": "stream",
     "text": [
      "{'one': 1, 'two': 2}\n"
     ]
    }
   ],
   "source": [
    "dd = dict([('one', 1), ('two',2)])\n",
    "print(dd)"
   ]
  },
  {
   "cell_type": "markdown",
   "id": "db05f2d7-61ad-4e95-b71c-fd24d86b0413",
   "metadata": {},
   "source": [
    "# range"
   ]
  },
  {
   "cell_type": "code",
   "execution_count": 85,
   "id": "0e02c107-9426-47ba-8597-e623f5951bc1",
   "metadata": {},
   "outputs": [
    {
     "name": "stdout",
     "output_type": "stream",
     "text": [
      "1\n",
      "2\n",
      "3\n",
      "4\n"
     ]
    }
   ],
   "source": [
    "for value in range(1, 5):\n",
    "    print(value)"
   ]
  },
  {
   "cell_type": "code",
   "execution_count": 86,
   "id": "aa2c968a-1277-489a-bbfa-0576114a8b63",
   "metadata": {},
   "outputs": [
    {
     "name": "stdout",
     "output_type": "stream",
     "text": [
      "range(0, 10) <class 'range'>\n"
     ]
    }
   ],
   "source": [
    "seq = range(10)\n",
    "print(seq, type(seq))"
   ]
  },
  {
   "cell_type": "code",
   "execution_count": 88,
   "id": "e6b26869-76c1-4000-a524-2e6c231ad094",
   "metadata": {},
   "outputs": [
    {
     "name": "stdout",
     "output_type": "stream",
     "text": [
      "range(0, 10)\n"
     ]
    }
   ],
   "source": [
    "print(seq[0:])"
   ]
  },
  {
   "cell_type": "code",
   "execution_count": 89,
   "id": "718614ec-3f14-4275-bc90-f338cb2e8eda",
   "metadata": {},
   "outputs": [
    {
     "name": "stdout",
     "output_type": "stream",
     "text": [
      "10\n"
     ]
    }
   ],
   "source": [
    "print(len(seq))"
   ]
  },
  {
   "cell_type": "code",
   "execution_count": 90,
   "id": "eeab2357-726d-419d-85a4-326f2b2b4753",
   "metadata": {},
   "outputs": [
    {
     "name": "stdout",
     "output_type": "stream",
     "text": [
      "0\n",
      "1\n",
      "2\n",
      "3\n",
      "4\n",
      "5\n",
      "6\n",
      "7\n",
      "8\n",
      "9\n"
     ]
    }
   ],
   "source": [
    "for i in seq:\n",
    "    print(i)"
   ]
  },
  {
   "cell_type": "code",
   "execution_count": 92,
   "id": "fa415863-2903-4111-8565-0b86665fb1be",
   "metadata": {},
   "outputs": [
    {
     "name": "stdout",
     "output_type": "stream",
     "text": [
      "5\n",
      "6\n",
      "7\n",
      "8\n",
      "9\n",
      "10\n",
      "11\n",
      "12\n",
      "13\n",
      "14\n"
     ]
    }
   ],
   "source": [
    "seq2 = range(5, 15)\n",
    "for i in seq2:\n",
    "    print(i)"
   ]
  },
  {
   "cell_type": "code",
   "execution_count": 94,
   "id": "52c6a487-1328-481d-b51b-b0a7ac8e2f9f",
   "metadata": {},
   "outputs": [
    {
     "name": "stdout",
     "output_type": "stream",
     "text": [
      "0\n",
      "-1\n",
      "-2\n",
      "-3\n",
      "-4\n",
      "-5\n",
      "-6\n",
      "-7\n",
      "-8\n",
      "-9\n"
     ]
    }
   ],
   "source": [
    "seq3 = range(0, -10, -1)\n",
    "for i in seq3:\n",
    "    print(i)"
   ]
  },
  {
   "cell_type": "code",
   "execution_count": 95,
   "id": "1dfd13f9-a911-491e-bc32-19c6b55b44a0",
   "metadata": {},
   "outputs": [
    {
     "name": "stdout",
     "output_type": "stream",
     "text": [
      "0 : red\n",
      "1 : yellow\n",
      "2 : blue\n",
      "3 : white\n"
     ]
    }
   ],
   "source": [
    "i = 0\n",
    "for value in ['red', 'yellow', 'blue', 'white']:\n",
    "    print('{0} : {1}'.format(i, value))\n",
    "    i += 1"
   ]
  },
  {
   "cell_type": "markdown",
   "id": "3689d54d-21de-4053-bff8-96553879a562",
   "metadata": {},
   "source": [
    "# enumerate"
   ]
  },
  {
   "cell_type": "code",
   "execution_count": 96,
   "id": "cf5b3989-a6bf-43f2-9143-8e89dd18f5a2",
   "metadata": {},
   "outputs": [
    {
     "name": "stdout",
     "output_type": "stream",
     "text": [
      "0 : red\n",
      "1 : yellow\n",
      "2 : blue\n",
      "3 : white\n"
     ]
    }
   ],
   "source": [
    "for i, value in enumerate(['red', 'yellow', 'blue', 'white']):\n",
    "    print('{0} : {1}'.format(i, value))"
   ]
  },
  {
   "cell_type": "markdown",
   "id": "ad8e42dd-7d53-4437-89e7-021cb0e2a94b",
   "metadata": {},
   "source": [
    "# 객체"
   ]
  },
  {
   "cell_type": "code",
   "execution_count": 97,
   "id": "ee0b2797-19e3-48d6-b4ff-fe25419c9d95",
   "metadata": {},
   "outputs": [],
   "source": [
    "# 글로벌 변수 선언\n",
    "g_a = 1\n",
    "g_b = 'symbol'"
   ]
  },
  {
   "cell_type": "code",
   "execution_count": 98,
   "id": "1ee4e3e2-2a7c-474e-9b4f-b8d4972e6e23",
   "metadata": {},
   "outputs": [],
   "source": [
    "# 로벌 변수 확인 함수\n",
    "def f():\n",
    "    l_a = 2\n",
    "    l_b = 'table'\n",
    "    print(locals()) #로컬 심볼테이블 확인"
   ]
  },
  {
   "cell_type": "code",
   "execution_count": 99,
   "id": "3ebc2108-82c0-4158-82d6-fa154500019f",
   "metadata": {},
   "outputs": [
    {
     "name": "stdout",
     "output_type": "stream",
     "text": [
      "{'l_a': 2, 'l_b': 'table'}\n"
     ]
    }
   ],
   "source": [
    "f()"
   ]
  },
  {
   "cell_type": "code",
   "execution_count": 100,
   "id": "3f07b858-e3da-4f26-8cc1-b6d7b154dd48",
   "metadata": {
    "scrolled": true,
    "tags": []
   },
   "outputs": [
    {
     "data": {
      "text/plain": [
       "{'__name__': '__main__',\n",
       " '__doc__': 'Automatically created module for IPython interactive environment',\n",
       " '__package__': None,\n",
       " '__loader__': None,\n",
       " '__spec__': None,\n",
       " '__builtin__': <module 'builtins' (built-in)>,\n",
       " '__builtins__': <module 'builtins' (built-in)>,\n",
       " '_ih': ['',\n",
       "  'a = [1, 12, 123, 1234]\\na[1:2] = []',\n",
       "  'a = [1, 12, 123, 1234]\\na[1:2] = []\\nprint(a)',\n",
       "  'a[0:] = []\\nprint(a)',\n",
       "  \"a[1:1] = ['a']\\nprint(a)\",\n",
       "  'a[0:] = []\\nprint(a)',\n",
       "  \"a = [1, 12, 123, 1234]\\na[1:1] = ['a']\\nprint(a)\",\n",
       "  'a[:0] = [-12, -1, 0]\\nprint(1)',\n",
       "  \"# 슬라이스를 이용한 삽입\\na = [1, 12, 123, 1234]\\na[1:1] = ['a']\\nprint(a)\",\n",
       "  'a[:0] = [-12, -1, 0]\\nprint(1)',\n",
       "  '# 슬라이스를 이용한 삭제\\na = [1, 12, 123, 1234]\\na[1:2] = []\\nprint(a)',\n",
       "  'a[0:] = []\\nprint(a)',\n",
       "  \"# 슬라이스를 이용한 삽입\\na = [1, 12, 123, 1234]\\na[1:1] = ['a']\\nprint(a)\",\n",
       "  'a[:0] = [-12, -1, 0]\\nprint(a)',\n",
       "  '# 리스트의 메서드\\na.append(5)\\nprint(a)',\n",
       "  'a.insert(1, 5) #인덱스 1에 요소 5를 추가',\n",
       "  'a.insert(1, 5) #인덱스 1에 요소 5를 추가\\nprint(a)',\n",
       "  '# 리스트의 메서드\\na = [1, 12, 123, 1234]\\na.append(5)\\nprint(a)',\n",
       "  'a.insert(1, 5) #인덱스 1에 요소 5를 추가\\nprint(a)',\n",
       "  'a.remove(3)\\na',\n",
       "  'a.remove(5) #내부에 있는 요소를 제거\\na',\n",
       "  'a = [1, 2, 3, 4, 5]\\na.remove(2)\\nprint(a)',\n",
       "  'stack = []\\nstack.append(10)\\nstack.append(20)\\nstack.append(30)\\nprint(stack)',\n",
       "  'print(stack.pop())',\n",
       "  'print(stack)',\n",
       "  'print(stack.pop())',\n",
       "  'print(stack.pop())',\n",
       "  'print(stack.pop())',\n",
       "  'print(stack)',\n",
       "  'queue = []',\n",
       "  'queue = []\\nqueue.append(100)\\nqueue.append(200)\\nqueue.append(300)\\nprint(queue)',\n",
       "  'print(queue.pop())',\n",
       "  'print(queue.pop())',\n",
       "  'print(queue.pop())',\n",
       "  'print(queue)',\n",
       "  'print(queue.pop(0))',\n",
       "  'queue = []\\nqueue.append(100)\\nqueue.append(200)\\nqueue.append(300)\\nprint(queue)',\n",
       "  'print(queue.pop(0))',\n",
       "  'print(queue.pop())',\n",
       "  'print(queue.pop())',\n",
       "  'l = [1, 5, 3, 9, 8, 4, 2]\\nl.sort()\\nprint(l)',\n",
       "  'l.sort(reverse = True)\\nprint(l)',\n",
       "  'll = [10, 2, 22, 9, 8, 33, 4, 11]\\nll.sort(key = str)\\nprint(ll)',\n",
       "  'll.sort(key = int)\\nprint(ll)',\n",
       "  's = {1, 2, 3}\\nprint(s, type(s))',\n",
       "  's.discard(2)\\ns',\n",
       "  's.update({2, 3})\\ns',\n",
       "  's.remove(3)\\ns',\n",
       "  's.update({2, 3})\\ns',\n",
       "  's.clear()\\ns',\n",
       "  't = (1, 2, 3)\\nprint(t)',\n",
       "  't = (1, 2, 3)\\nprint(t, type(t))',\n",
       "  't = 1, 2',\n",
       "  \"t = 1, 2, 'python'\\nprint(t, type(t))\",\n",
       "  'print(t[-2], t[-1], t[0], t[1], t[2])',\n",
       "  'print(t[1:3])',\n",
       "  'print(t * 2)',\n",
       "  'print(t + (3, 4, 5))',\n",
       "  'print(len(t))',\n",
       "  'print(5 in t)',\n",
       "  \"company = ['samsung', 'lg', 'hyundal']\\ndata = tuple(company)\\nprint(data, type(data))\",\n",
       "  \"# packing vs unpacking\\np = 10, 20, 30, 'python'\\nprint(type(p)\",\n",
       "  \"# packing vs unpacking\\np = 10, 20, 30, 'python'\\nprint(type(p))\",\n",
       "  'a, b, c, d = p\\nprint(a, b, c, d)',\n",
       "  \"a, b, c, d = [10, 20, 30, 'python']\",\n",
       "  'print(a, b, c, d)',\n",
       "  'a, b, c, d, e = [1, 2, 3, 4, 5]',\n",
       "  '# 확장 unpacking\\na, b, c, d, e = [1, 2, 3, 4, 5]\\na, *b = t\\nprint(a, b)',\n",
       "  '# 확장 unpacking\\na, b, c, d, e = [1, 2, 3, 4, 5]',\n",
       "  'a, *b = t\\nprint(a, b)',\n",
       "  't = (10, 20, 30, 40, 50, 60)\\na, *b = t\\nprint(a, b)',\n",
       "  'a, b, *c = t\\nprint(a, b, c)',\n",
       "  \"d = ['baseball':9, 'soccer':11, 'baseketball':5]\",\n",
       "  \"d = {'baseball':9, 'soccer':11, 'baseketball':5}\",\n",
       "  \"d = {'baseball':9, 'soccer':11, 'baseketball':5}\\nprint(type(d))\",\n",
       "  \"d = {'baseball':9, 'soccer':11, 'baseketball':5}\\nprint(d, type(d))\",\n",
       "  \"d = {'baseball':9, 'soccer':11, 'basketball':5}\\nprint(d, type(d))\",\n",
       "  \"print(d['basketbal'])\",\n",
       "  \"print(d['basketball'])\",\n",
       "  \"d['vallybal'] = 6\\nprint(d)\",\n",
       "  \"d['volleybal'] = 6\\nprint(d)\",\n",
       "  \"d = {'baseball':9, 'soccer':11, 'basketball':5}\\nprint(d, type(d))\",\n",
       "  \"print(d['basketball'])\",\n",
       "  \"d['volleybal'] = 6\\nprint(d)\",\n",
       "  \"dd = dict([('one', 1), ('two',2)])\\nprint(dd)\",\n",
       "  'for value in range(1, 5):\\n    print(value)',\n",
       "  'seq = range(10)\\nprint(seq, type(seq))',\n",
       "  'print(se1[0:])',\n",
       "  'print(seq[0:])',\n",
       "  'print(len(seq))',\n",
       "  'for i in seq:\\n    print(i)',\n",
       "  'seq2 = range(5, 15)',\n",
       "  'seq2 = range(5, 15)\\nfor i in seq2:\\n    print(i)',\n",
       "  'seq3 = range(0, -10, -1)',\n",
       "  'seq3 = range(0, -10, -1)\\nfor i in seq3:\\n    print(i)',\n",
       "  \"i = 0\\nfor value in ['red', 'yellow', 'blue', 'white']:\\n    print('{0} : {1}'.format(i, value))\\n    i += 1\",\n",
       "  \"for i, value in enumerate(['red', 'yellow', 'blue', 'white']):\\n    print('{0} : {1}'.format(i, value))\",\n",
       "  \"# 글로벌 변수 선언\\ng_a = 1\\ng_b = 'symbol'\",\n",
       "  \"def f():\\n    l_a = 2\\n    l_b = 'table'\\n    print(locals())\",\n",
       "  'f()',\n",
       "  'globals()'],\n",
       " '_oh': {20: [1, 12, 123, 1234, 5],\n",
       "  45: set(),\n",
       "  46: set(),\n",
       "  47: set(),\n",
       "  48: set(),\n",
       "  49: set()},\n",
       " '_dh': [WindowsPath('C:/Users/Sunny/dev/git/python/ict')],\n",
       " 'In': ['',\n",
       "  'a = [1, 12, 123, 1234]\\na[1:2] = []',\n",
       "  'a = [1, 12, 123, 1234]\\na[1:2] = []\\nprint(a)',\n",
       "  'a[0:] = []\\nprint(a)',\n",
       "  \"a[1:1] = ['a']\\nprint(a)\",\n",
       "  'a[0:] = []\\nprint(a)',\n",
       "  \"a = [1, 12, 123, 1234]\\na[1:1] = ['a']\\nprint(a)\",\n",
       "  'a[:0] = [-12, -1, 0]\\nprint(1)',\n",
       "  \"# 슬라이스를 이용한 삽입\\na = [1, 12, 123, 1234]\\na[1:1] = ['a']\\nprint(a)\",\n",
       "  'a[:0] = [-12, -1, 0]\\nprint(1)',\n",
       "  '# 슬라이스를 이용한 삭제\\na = [1, 12, 123, 1234]\\na[1:2] = []\\nprint(a)',\n",
       "  'a[0:] = []\\nprint(a)',\n",
       "  \"# 슬라이스를 이용한 삽입\\na = [1, 12, 123, 1234]\\na[1:1] = ['a']\\nprint(a)\",\n",
       "  'a[:0] = [-12, -1, 0]\\nprint(a)',\n",
       "  '# 리스트의 메서드\\na.append(5)\\nprint(a)',\n",
       "  'a.insert(1, 5) #인덱스 1에 요소 5를 추가',\n",
       "  'a.insert(1, 5) #인덱스 1에 요소 5를 추가\\nprint(a)',\n",
       "  '# 리스트의 메서드\\na = [1, 12, 123, 1234]\\na.append(5)\\nprint(a)',\n",
       "  'a.insert(1, 5) #인덱스 1에 요소 5를 추가\\nprint(a)',\n",
       "  'a.remove(3)\\na',\n",
       "  'a.remove(5) #내부에 있는 요소를 제거\\na',\n",
       "  'a = [1, 2, 3, 4, 5]\\na.remove(2)\\nprint(a)',\n",
       "  'stack = []\\nstack.append(10)\\nstack.append(20)\\nstack.append(30)\\nprint(stack)',\n",
       "  'print(stack.pop())',\n",
       "  'print(stack)',\n",
       "  'print(stack.pop())',\n",
       "  'print(stack.pop())',\n",
       "  'print(stack.pop())',\n",
       "  'print(stack)',\n",
       "  'queue = []',\n",
       "  'queue = []\\nqueue.append(100)\\nqueue.append(200)\\nqueue.append(300)\\nprint(queue)',\n",
       "  'print(queue.pop())',\n",
       "  'print(queue.pop())',\n",
       "  'print(queue.pop())',\n",
       "  'print(queue)',\n",
       "  'print(queue.pop(0))',\n",
       "  'queue = []\\nqueue.append(100)\\nqueue.append(200)\\nqueue.append(300)\\nprint(queue)',\n",
       "  'print(queue.pop(0))',\n",
       "  'print(queue.pop())',\n",
       "  'print(queue.pop())',\n",
       "  'l = [1, 5, 3, 9, 8, 4, 2]\\nl.sort()\\nprint(l)',\n",
       "  'l.sort(reverse = True)\\nprint(l)',\n",
       "  'll = [10, 2, 22, 9, 8, 33, 4, 11]\\nll.sort(key = str)\\nprint(ll)',\n",
       "  'll.sort(key = int)\\nprint(ll)',\n",
       "  's = {1, 2, 3}\\nprint(s, type(s))',\n",
       "  's.discard(2)\\ns',\n",
       "  's.update({2, 3})\\ns',\n",
       "  's.remove(3)\\ns',\n",
       "  's.update({2, 3})\\ns',\n",
       "  's.clear()\\ns',\n",
       "  't = (1, 2, 3)\\nprint(t)',\n",
       "  't = (1, 2, 3)\\nprint(t, type(t))',\n",
       "  't = 1, 2',\n",
       "  \"t = 1, 2, 'python'\\nprint(t, type(t))\",\n",
       "  'print(t[-2], t[-1], t[0], t[1], t[2])',\n",
       "  'print(t[1:3])',\n",
       "  'print(t * 2)',\n",
       "  'print(t + (3, 4, 5))',\n",
       "  'print(len(t))',\n",
       "  'print(5 in t)',\n",
       "  \"company = ['samsung', 'lg', 'hyundal']\\ndata = tuple(company)\\nprint(data, type(data))\",\n",
       "  \"# packing vs unpacking\\np = 10, 20, 30, 'python'\\nprint(type(p)\",\n",
       "  \"# packing vs unpacking\\np = 10, 20, 30, 'python'\\nprint(type(p))\",\n",
       "  'a, b, c, d = p\\nprint(a, b, c, d)',\n",
       "  \"a, b, c, d = [10, 20, 30, 'python']\",\n",
       "  'print(a, b, c, d)',\n",
       "  'a, b, c, d, e = [1, 2, 3, 4, 5]',\n",
       "  '# 확장 unpacking\\na, b, c, d, e = [1, 2, 3, 4, 5]\\na, *b = t\\nprint(a, b)',\n",
       "  '# 확장 unpacking\\na, b, c, d, e = [1, 2, 3, 4, 5]',\n",
       "  'a, *b = t\\nprint(a, b)',\n",
       "  't = (10, 20, 30, 40, 50, 60)\\na, *b = t\\nprint(a, b)',\n",
       "  'a, b, *c = t\\nprint(a, b, c)',\n",
       "  \"d = ['baseball':9, 'soccer':11, 'baseketball':5]\",\n",
       "  \"d = {'baseball':9, 'soccer':11, 'baseketball':5}\",\n",
       "  \"d = {'baseball':9, 'soccer':11, 'baseketball':5}\\nprint(type(d))\",\n",
       "  \"d = {'baseball':9, 'soccer':11, 'baseketball':5}\\nprint(d, type(d))\",\n",
       "  \"d = {'baseball':9, 'soccer':11, 'basketball':5}\\nprint(d, type(d))\",\n",
       "  \"print(d['basketbal'])\",\n",
       "  \"print(d['basketball'])\",\n",
       "  \"d['vallybal'] = 6\\nprint(d)\",\n",
       "  \"d['volleybal'] = 6\\nprint(d)\",\n",
       "  \"d = {'baseball':9, 'soccer':11, 'basketball':5}\\nprint(d, type(d))\",\n",
       "  \"print(d['basketball'])\",\n",
       "  \"d['volleybal'] = 6\\nprint(d)\",\n",
       "  \"dd = dict([('one', 1), ('two',2)])\\nprint(dd)\",\n",
       "  'for value in range(1, 5):\\n    print(value)',\n",
       "  'seq = range(10)\\nprint(seq, type(seq))',\n",
       "  'print(se1[0:])',\n",
       "  'print(seq[0:])',\n",
       "  'print(len(seq))',\n",
       "  'for i in seq:\\n    print(i)',\n",
       "  'seq2 = range(5, 15)',\n",
       "  'seq2 = range(5, 15)\\nfor i in seq2:\\n    print(i)',\n",
       "  'seq3 = range(0, -10, -1)',\n",
       "  'seq3 = range(0, -10, -1)\\nfor i in seq3:\\n    print(i)',\n",
       "  \"i = 0\\nfor value in ['red', 'yellow', 'blue', 'white']:\\n    print('{0} : {1}'.format(i, value))\\n    i += 1\",\n",
       "  \"for i, value in enumerate(['red', 'yellow', 'blue', 'white']):\\n    print('{0} : {1}'.format(i, value))\",\n",
       "  \"# 글로벌 변수 선언\\ng_a = 1\\ng_b = 'symbol'\",\n",
       "  \"def f():\\n    l_a = 2\\n    l_b = 'table'\\n    print(locals())\",\n",
       "  'f()',\n",
       "  'globals()'],\n",
       " 'Out': {20: [1, 12, 123, 1234, 5],\n",
       "  45: set(),\n",
       "  46: set(),\n",
       "  47: set(),\n",
       "  48: set(),\n",
       "  49: set()},\n",
       " 'get_ipython': <bound method InteractiveShell.get_ipython of <ipykernel.zmqshell.ZMQInteractiveShell object at 0x0000024D37F36820>>,\n",
       " 'exit': <IPython.core.autocall.ZMQExitAutocall at 0x24d37f36f40>,\n",
       " 'quit': <IPython.core.autocall.ZMQExitAutocall at 0x24d37f36f40>,\n",
       " 'open': <function io.open(file, mode='r', buffering=-1, encoding=None, errors=None, newline=None, closefd=True, opener=None)>,\n",
       " '_': set(),\n",
       " '__': set(),\n",
       " '___': set(),\n",
       " '_i': 'f()',\n",
       " '_ii': \"def f():\\n    l_a = 2\\n    l_b = 'table'\\n    print(locals())\",\n",
       " '_iii': \"# 글로벌 변수 선언\\ng_a = 1\\ng_b = 'symbol'\",\n",
       " '_i1': 'a = [1, 12, 123, 1234]\\na[1:2] = []',\n",
       " 'a': 10,\n",
       " '_i2': 'a = [1, 12, 123, 1234]\\na[1:2] = []\\nprint(a)',\n",
       " '_i3': 'a[0:] = []\\nprint(a)',\n",
       " '_i4': \"a[1:1] = ['a']\\nprint(a)\",\n",
       " '_i5': 'a[0:] = []\\nprint(a)',\n",
       " '_i6': \"a = [1, 12, 123, 1234]\\na[1:1] = ['a']\\nprint(a)\",\n",
       " '_i7': 'a[:0] = [-12, -1, 0]\\nprint(1)',\n",
       " '_i8': \"# 슬라이스를 이용한 삽입\\na = [1, 12, 123, 1234]\\na[1:1] = ['a']\\nprint(a)\",\n",
       " '_i9': 'a[:0] = [-12, -1, 0]\\nprint(1)',\n",
       " '_i10': '# 슬라이스를 이용한 삭제\\na = [1, 12, 123, 1234]\\na[1:2] = []\\nprint(a)',\n",
       " '_i11': 'a[0:] = []\\nprint(a)',\n",
       " '_i12': \"# 슬라이스를 이용한 삽입\\na = [1, 12, 123, 1234]\\na[1:1] = ['a']\\nprint(a)\",\n",
       " '_i13': 'a[:0] = [-12, -1, 0]\\nprint(a)',\n",
       " '_i14': '# 리스트의 메서드\\na.append(5)\\nprint(a)',\n",
       " '_i15': 'a.insert(1, 5) #인덱스 1에 요소 5를 추가',\n",
       " '_i16': 'a.insert(1, 5) #인덱스 1에 요소 5를 추가\\nprint(a)',\n",
       " '_i17': '# 리스트의 메서드\\na = [1, 12, 123, 1234]\\na.append(5)\\nprint(a)',\n",
       " '_i18': 'a.insert(1, 5) #인덱스 1에 요소 5를 추가\\nprint(a)',\n",
       " '_i19': 'a.remove(3)\\na',\n",
       " '_i20': 'a.remove(5) #내부에 있는 요소를 제거\\na',\n",
       " '_20': [1, 12, 123, 1234, 5],\n",
       " '_i21': 'a = [1, 2, 3, 4, 5]\\na.remove(2)\\nprint(a)',\n",
       " '_i22': 'stack = []\\nstack.append(10)\\nstack.append(20)\\nstack.append(30)\\nprint(stack)',\n",
       " 'stack': [],\n",
       " '_i23': 'print(stack.pop())',\n",
       " '_i24': 'print(stack)',\n",
       " '_i25': 'print(stack.pop())',\n",
       " '_i26': 'print(stack.pop())',\n",
       " '_i27': 'print(stack.pop())',\n",
       " '_i28': 'print(stack)',\n",
       " '_i29': 'queue = []',\n",
       " 'queue': [],\n",
       " '_i30': 'queue = []\\nqueue.append(100)\\nqueue.append(200)\\nqueue.append(300)\\nprint(queue)',\n",
       " '_i31': 'print(queue.pop())',\n",
       " '_i32': 'print(queue.pop())',\n",
       " '_i33': 'print(queue.pop())',\n",
       " '_i34': 'print(queue)',\n",
       " '_i35': 'print(queue.pop(0))',\n",
       " '_i36': 'queue = []\\nqueue.append(100)\\nqueue.append(200)\\nqueue.append(300)\\nprint(queue)',\n",
       " '_i37': 'print(queue.pop(0))',\n",
       " '_i38': 'print(queue.pop())',\n",
       " '_i39': 'print(queue.pop())',\n",
       " '_i40': 'l = [1, 5, 3, 9, 8, 4, 2]\\nl.sort()\\nprint(l)',\n",
       " 'l': [9, 8, 5, 4, 3, 2, 1],\n",
       " '_i41': 'l.sort(reverse = True)\\nprint(l)',\n",
       " '_i42': 'll = [10, 2, 22, 9, 8, 33, 4, 11]\\nll.sort(key = str)\\nprint(ll)',\n",
       " 'll': [2, 4, 8, 9, 10, 11, 22, 33],\n",
       " '_i43': 'll.sort(key = int)\\nprint(ll)',\n",
       " '_i44': 's = {1, 2, 3}\\nprint(s, type(s))',\n",
       " 's': set(),\n",
       " '_i45': 's.discard(2)\\ns',\n",
       " '_45': set(),\n",
       " '_i46': 's.update({2, 3})\\ns',\n",
       " '_46': set(),\n",
       " '_i47': 's.remove(3)\\ns',\n",
       " '_47': set(),\n",
       " '_i48': 's.update({2, 3})\\ns',\n",
       " '_48': set(),\n",
       " '_i49': 's.clear()\\ns',\n",
       " '_49': set(),\n",
       " '_i50': 't = (1, 2, 3)\\nprint(t)',\n",
       " 't': (10, 20, 30, 40, 50, 60),\n",
       " '_i51': 't = (1, 2, 3)\\nprint(t, type(t))',\n",
       " '_i52': 't = 1, 2',\n",
       " '_i53': \"t = 1, 2, 'python'\\nprint(t, type(t))\",\n",
       " '_i54': 'print(t[-2], t[-1], t[0], t[1], t[2])',\n",
       " '_i55': 'print(t[1:3])',\n",
       " '_i56': 'print(t * 2)',\n",
       " '_i57': 'print(t + (3, 4, 5))',\n",
       " '_i58': 'print(len(t))',\n",
       " '_i59': 'print(5 in t)',\n",
       " '_i60': \"company = ['samsung', 'lg', 'hyundal']\\ndata = tuple(company)\\nprint(data, type(data))\",\n",
       " 'company': ['samsung', 'lg', 'hyundal'],\n",
       " 'data': ('samsung', 'lg', 'hyundal'),\n",
       " '_i61': \"# packing vs unpacking\\np = 10, 20, 30, 'python'\\nprint(type(p)\",\n",
       " '_i62': \"# packing vs unpacking\\np = 10, 20, 30, 'python'\\nprint(type(p))\",\n",
       " 'p': (10, 20, 30, 'python'),\n",
       " '_i63': 'a, b, c, d = p\\nprint(a, b, c, d)',\n",
       " 'b': 20,\n",
       " 'c': [30, 40, 50, 60],\n",
       " 'd': {'baseball': 9, 'soccer': 11, 'basketball': 5, 'volleybal': 6},\n",
       " '_i64': \"a, b, c, d = [10, 20, 30, 'python']\",\n",
       " '_i65': 'print(a, b, c, d)',\n",
       " '_i66': 'a, b, c, d, e = [1, 2, 3, 4, 5]',\n",
       " 'e': 5,\n",
       " '_i67': '# 확장 unpacking\\na, b, c, d, e = [1, 2, 3, 4, 5]\\na, *b = t\\nprint(a, b)',\n",
       " '_i68': '# 확장 unpacking\\na, b, c, d, e = [1, 2, 3, 4, 5]',\n",
       " '_i69': 'a, *b = t\\nprint(a, b)',\n",
       " '_i70': 't = (10, 20, 30, 40, 50, 60)\\na, *b = t\\nprint(a, b)',\n",
       " '_i71': 'a, b, *c = t\\nprint(a, b, c)',\n",
       " '_i72': \"d = ['baseball':9, 'soccer':11, 'baseketball':5]\",\n",
       " '_i73': \"d = {'baseball':9, 'soccer':11, 'baseketball':5}\",\n",
       " '_i74': \"d = {'baseball':9, 'soccer':11, 'baseketball':5}\\nprint(type(d))\",\n",
       " '_i75': \"d = {'baseball':9, 'soccer':11, 'baseketball':5}\\nprint(d, type(d))\",\n",
       " '_i76': \"d = {'baseball':9, 'soccer':11, 'basketball':5}\\nprint(d, type(d))\",\n",
       " '_i77': \"print(d['basketbal'])\",\n",
       " '_i78': \"print(d['basketball'])\",\n",
       " '_i79': \"d['vallybal'] = 6\\nprint(d)\",\n",
       " '_i80': \"d['volleybal'] = 6\\nprint(d)\",\n",
       " '_i81': \"d = {'baseball':9, 'soccer':11, 'basketball':5}\\nprint(d, type(d))\",\n",
       " '_i82': \"print(d['basketball'])\",\n",
       " '_i83': \"d['volleybal'] = 6\\nprint(d)\",\n",
       " '_i84': \"dd = dict([('one', 1), ('two',2)])\\nprint(dd)\",\n",
       " 'dd': {'one': 1, 'two': 2},\n",
       " '_i85': 'for value in range(1, 5):\\n    print(value)',\n",
       " 'value': 'white',\n",
       " '_i86': 'seq = range(10)\\nprint(seq, type(seq))',\n",
       " 'seq': range(0, 10),\n",
       " '_i87': 'print(se1[0:])',\n",
       " '_i88': 'print(seq[0:])',\n",
       " '_i89': 'print(len(seq))',\n",
       " '_i90': 'for i in seq:\\n    print(i)',\n",
       " 'i': 3,\n",
       " '_i91': 'seq2 = range(5, 15)',\n",
       " 'seq2': range(5, 15),\n",
       " '_i92': 'seq2 = range(5, 15)\\nfor i in seq2:\\n    print(i)',\n",
       " '_i93': 'seq3 = range(0, -10, -1)',\n",
       " 'seq3': range(0, -10, -1),\n",
       " '_i94': 'seq3 = range(0, -10, -1)\\nfor i in seq3:\\n    print(i)',\n",
       " '_i95': \"i = 0\\nfor value in ['red', 'yellow', 'blue', 'white']:\\n    print('{0} : {1}'.format(i, value))\\n    i += 1\",\n",
       " '_i96': \"for i, value in enumerate(['red', 'yellow', 'blue', 'white']):\\n    print('{0} : {1}'.format(i, value))\",\n",
       " '_i97': \"# 글로벌 변수 선언\\ng_a = 1\\ng_b = 'symbol'\",\n",
       " 'g_a': 1,\n",
       " 'g_b': 'symbol',\n",
       " '_i98': \"def f():\\n    l_a = 2\\n    l_b = 'table'\\n    print(locals())\",\n",
       " 'f': <function __main__.f()>,\n",
       " '_i99': 'f()',\n",
       " '_i100': 'globals()'}"
      ]
     },
     "execution_count": 100,
     "metadata": {},
     "output_type": "execute_result"
    }
   ],
   "source": [
    "# 글로벌 심볼테이블 확인\n",
    "globals()"
   ]
  },
  {
   "cell_type": "markdown",
   "id": "3e270326-6306-4083-b0aa-e4931f2ef930",
   "metadata": {},
   "source": [
    "# 조건문"
   ]
  },
  {
   "cell_type": "code",
   "execution_count": 101,
   "id": "c51448b1-5eb3-4197-8a29-cd9757ffd23a",
   "metadata": {},
   "outputs": [
    {
     "name": "stdout",
     "output_type": "stream",
     "text": [
      "음수\n"
     ]
    }
   ],
   "source": [
    "n = -2\n",
    "if n > 0:\n",
    "    print('양수')\n",
    "elif n < 0:\n",
    "    print('음수')\n",
    "else:\n",
    "    print('0')"
   ]
  },
  {
   "cell_type": "code",
   "execution_count": 102,
   "id": "decc1f75-2e5f-46f6-93c1-9baedd20b1cb",
   "metadata": {},
   "outputs": [
    {
     "name": "stdout",
     "output_type": "stream",
     "text": [
      "by bus\n"
     ]
    }
   ],
   "source": [
    "money = 8500\n",
    "print('by taxi' if money > 10000 else 'by bus')"
   ]
  },
  {
   "cell_type": "code",
   "execution_count": 103,
   "id": "4a188b0d-871e-4e90-b09c-77a512dfa137",
   "metadata": {},
   "outputs": [
    {
     "name": "stdout",
     "output_type": "stream",
     "text": [
      "True\n"
     ]
    }
   ],
   "source": [
    "result = 1 in [1, 2, 3]\n",
    "print(result)"
   ]
  },
  {
   "cell_type": "code",
   "execution_count": 104,
   "id": "a797cf0d-177d-46c9-9afe-b4c1b104986e",
   "metadata": {},
   "outputs": [
    {
     "data": {
      "text/plain": [
       "True"
      ]
     },
     "execution_count": 104,
     "metadata": {},
     "output_type": "execute_result"
    }
   ],
   "source": [
    "'y' in 'python'"
   ]
  },
  {
   "cell_type": "markdown",
   "id": "564de28e-7ba0-4632-8814-1d6688f1a395",
   "metadata": {},
   "source": [
    "# 반복문"
   ]
  },
  {
   "cell_type": "code",
   "execution_count": 105,
   "id": "c69e9511-756c-4d58-be86-76c1baaae108",
   "metadata": {},
   "outputs": [
    {
     "name": "stdout",
     "output_type": "stream",
     "text": [
      "cat cow tiger "
     ]
    }
   ],
   "source": [
    "# for문\n",
    "animals = ['cat', 'cow', 'tiger']\n",
    "for animal in animals:\n",
    "    print(animal, end=' ')"
   ]
  },
  {
   "cell_type": "code",
   "execution_count": 106,
   "id": "d268b2f0-bc1a-4b2a-a3ce-a9ad8db935ed",
   "metadata": {},
   "outputs": [
    {
     "name": "stdout",
     "output_type": "stream",
     "text": [
      "1 4 7 "
     ]
    }
   ],
   "source": [
    "for x in range(1, 10, 3):\n",
    "    print(x, end=' ')"
   ]
  },
  {
   "cell_type": "code",
   "execution_count": 109,
   "id": "175fb668-2408-491b-802e-e40079c88daf",
   "metadata": {},
   "outputs": [
    {
     "name": "stdout",
     "output_type": "stream",
     "text": [
      "1\n",
      "2\n",
      "4\n",
      "5\n",
      "6\n",
      "8\n",
      "9\n",
      "10\n"
     ]
    }
   ],
   "source": [
    "data = [1, 2, 4, 5, 6, 8, 9, 10, 11]\n",
    "for x in data:\n",
    "    if x > 10:\n",
    "        break\n",
    "    else:\n",
    "        print(x)"
   ]
  },
  {
   "cell_type": "code",
   "execution_count": 111,
   "id": "cc2ee1eb-0451-434c-8cba-bdad68508776",
   "metadata": {},
   "outputs": [
    {
     "name": "stdout",
     "output_type": "stream",
     "text": [
      "0 red\n",
      "1 orange\n",
      "2 yellow\n",
      "3 green\n",
      "4 pink\n",
      "5 blue\n"
     ]
    }
   ],
   "source": [
    "colors = ['red', 'orange', 'yellow', 'green', 'pink', 'blue']\n",
    "for index, color in enumerate(colors):\n",
    "    print(index, color)"
   ]
  },
  {
   "cell_type": "code",
   "execution_count": 113,
   "id": "a9838687-bc00-45c0-972e-771edf4b0a71",
   "metadata": {},
   "outputs": [
    {
     "name": "stdout",
     "output_type": "stream",
     "text": [
      "1\n"
     ]
    }
   ],
   "source": [
    "b = [1, 2, 3, 4, 5, 2, 7, 8, 9, 10, 11]\n",
    "for x in b:\n",
    "    if x % 2 == 0:\n",
    "        break\n",
    "    print(x)"
   ]
  },
  {
   "cell_type": "code",
   "execution_count": 115,
   "id": "50722cf0-5eca-4dde-ae19-252a77410161",
   "metadata": {},
   "outputs": [
    {
     "name": "stdout",
     "output_type": "stream",
     "text": [
      "1\n",
      "3\n",
      "5\n",
      "7\n",
      "9\n"
     ]
    }
   ],
   "source": [
    "for x in range(10):\n",
    "    if x % 2 == 0:\n",
    "        continue\n",
    "    print(x)"
   ]
  },
  {
   "cell_type": "code",
   "execution_count": 116,
   "id": "af3e9b50-b9ac-417b-96cf-b2445e364dc8",
   "metadata": {},
   "outputs": [
    {
     "data": {
      "text/plain": [
       "[12, 8, 16]"
      ]
     },
     "execution_count": 116,
     "metadata": {},
     "output_type": "execute_result"
    }
   ],
   "source": [
    "a = [1, 6, 4, 13, 8, 3]\n",
    "result = [num * 2 for num in a if num % 2 == 0]\n",
    "result"
   ]
  },
  {
   "cell_type": "code",
   "execution_count": 125,
   "id": "e11a8f5e-6993-4117-b21f-e0d0bac19ec0",
   "metadata": {},
   "outputs": [
    {
     "name": "stdout",
     "output_type": "stream",
     "text": [
      "1 2 3 4 5 6 7 8 9 10 "
     ]
    }
   ],
   "source": [
    "# while문\n",
    "counter = 1\n",
    "while counter < 11:\n",
    "    print(counter, end = ' ' )\n",
    "    counter += 1"
   ]
  },
  {
   "cell_type": "code",
   "execution_count": 122,
   "id": "b4fce6fa-06a8-465b-a05f-1a6dc577b8c3",
   "metadata": {},
   "outputs": [
    {
     "name": "stdout",
     "output_type": "stream",
     "text": [
      "5050 101\n"
     ]
    }
   ],
   "source": [
    "sum, i = 0, 1\n",
    "while i <= 100:\n",
    "    sum += i\n",
    "    i += 1\n",
    "print(sum, i)"
   ]
  },
  {
   "cell_type": "code",
   "execution_count": 126,
   "id": "758d2363-6b42-4bf6-8257-45d9dbb04a70",
   "metadata": {},
   "outputs": [
    {
     "name": "stdout",
     "output_type": "stream",
     "text": [
      "5 6 7 8 9 10 11 "
     ]
    }
   ],
   "source": [
    "i = 0\n",
    "while i < 100:\n",
    "    i += 1\n",
    "    if i < 5:\n",
    "        continue\n",
    "    print(i, end = ' ')\n",
    "    \n",
    "    if i > 10:\n",
    "        break"
   ]
  },
  {
   "cell_type": "code",
   "execution_count": null,
   "id": "37f18bcc-f6a5-42fc-b71a-d2a32e2b78fb",
   "metadata": {},
   "outputs": [
    {
     "name": "stderr",
     "output_type": "stream",
     "text": [
      "IOPub data rate exceeded.\n",
      "The Jupyter server will temporarily stop sending output\n",
      "to the client in order to avoid crashing it.\n",
      "To change this limit, set the config variable\n",
      "`--ServerApp.iopub_data_rate_limit`.\n",
      "\n",
      "Current values:\n",
      "ServerApp.iopub_data_rate_limit=1000000.0 (bytes/sec)\n",
      "ServerApp.rate_limit_window=3.0 (secs)\n",
      "\n"
     ]
    }
   ],
   "source": [
    "# 무한 반복\n",
    "while(True):\n",
    "    print('-------------')"
   ]
  },
  {
   "cell_type": "code",
   "execution_count": null,
   "id": "641addfd-d23b-4a25-8e07-22b8043042bf",
   "metadata": {},
   "outputs": [],
   "source": []
  }
 ],
 "metadata": {
  "kernelspec": {
   "display_name": "Python 3 (ipykernel)",
   "language": "python",
   "name": "python3"
  },
  "language_info": {
   "codemirror_mode": {
    "name": "ipython",
    "version": 3
   },
   "file_extension": ".py",
   "mimetype": "text/x-python",
   "name": "python",
   "nbconvert_exporter": "python",
   "pygments_lexer": "ipython3",
   "version": "3.9.7"
  }
 },
 "nbformat": 4,
 "nbformat_minor": 5
}
