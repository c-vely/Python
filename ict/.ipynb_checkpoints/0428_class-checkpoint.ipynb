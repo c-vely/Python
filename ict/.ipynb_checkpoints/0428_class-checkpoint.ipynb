{
 "cells": [
  {
   "cell_type": "markdown",
   "id": "bece8dd5-39fe-41b2-a235-53dee9f5e9ef",
   "metadata": {},
   "source": [
    "# 변수"
   ]
  },
  {
   "cell_type": "code",
   "execution_count": 1,
   "id": "2b157bcc-1323-4069-8869-50724002d34d",
   "metadata": {},
   "outputs": [
    {
     "name": "stdout",
     "output_type": "stream",
     "text": [
      "132000.0\n"
     ]
    }
   ],
   "source": [
    "price = 120000\n",
    "vat = 0.1 #부가가치세율\n",
    "final_price = price + (price * vat)\n",
    "print(final_price)"
   ]
  },
  {
   "cell_type": "code",
   "execution_count": 2,
   "id": "803e96fd-68be-4956-a5b7-71d90a72fbae",
   "metadata": {},
   "outputs": [
    {
     "name": "stdout",
     "output_type": "stream",
     "text": [
      "3.5 5.3\n"
     ]
    }
   ],
   "source": [
    "# 여러 개 한꺼번에 치환\n",
    "e, f = 3.5, 5.3\n",
    "print(e, f)"
   ]
  },
  {
   "cell_type": "code",
   "execution_count": 3,
   "id": "11aaa718-be8d-48b4-a579-27b77a3b73d9",
   "metadata": {},
   "outputs": [
    {
     "name": "stdout",
     "output_type": "stream",
     "text": [
      "10 10 10\n"
     ]
    }
   ],
   "source": [
    "x = y = z = 10\n",
    "print(x, y, z)"
   ]
  },
  {
   "cell_type": "code",
   "execution_count": 4,
   "id": "7061b38a-6d8a-4a41-b293-90a64f00809c",
   "metadata": {},
   "outputs": [
    {
     "name": "stdout",
     "output_type": "stream",
     "text": [
      "5.3 3.5\n"
     ]
    }
   ],
   "source": [
    "# 값 교환\n",
    "e, f = 3.5, 5.3\n",
    "e, f = f, e\n",
    "print(e, f)"
   ]
  },
  {
   "cell_type": "code",
   "execution_count": 7,
   "id": "9ab45781-18a5-450e-a6c8-acf559e44031",
   "metadata": {},
   "outputs": [
    {
     "data": {
      "text/plain": [
       "['False',\n",
       " 'None',\n",
       " 'True',\n",
       " '__peg_parser__',\n",
       " 'and',\n",
       " 'as',\n",
       " 'assert',\n",
       " 'async',\n",
       " 'await',\n",
       " 'break',\n",
       " 'class',\n",
       " 'continue',\n",
       " 'def',\n",
       " 'del',\n",
       " 'elif',\n",
       " 'else',\n",
       " 'except',\n",
       " 'finally',\n",
       " 'for',\n",
       " 'from',\n",
       " 'global',\n",
       " 'if',\n",
       " 'import',\n",
       " 'in',\n",
       " 'is',\n",
       " 'lambda',\n",
       " 'nonlocal',\n",
       " 'not',\n",
       " 'or',\n",
       " 'pass',\n",
       " 'raise',\n",
       " 'return',\n",
       " 'try',\n",
       " 'while',\n",
       " 'with',\n",
       " 'yield']"
      ]
     },
     "execution_count": 7,
     "metadata": {},
     "output_type": "execute_result"
    }
   ],
   "source": [
    "# 예약어 (파이썬이 이미 사요하기로 지정한 문자열)\n",
    "import keyword\n",
    "keyword.kwlist"
   ]
  },
  {
   "cell_type": "markdown",
   "id": "76f5b242-5696-44c5-850a-7ceb1724b627",
   "metadata": {},
   "source": [
    "# 기초 자료형"
   ]
  },
  {
   "cell_type": "code",
   "execution_count": 9,
   "id": "083915ab-b6b3-45aa-81e7-52518a12113a",
   "metadata": {},
   "outputs": [
    {
     "data": {
      "text/plain": [
       "bool"
      ]
     },
     "execution_count": 9,
     "metadata": {},
     "output_type": "execute_result"
    }
   ],
   "source": [
    "# type\n",
    "type(True)"
   ]
  },
  {
   "cell_type": "code",
   "execution_count": 11,
   "id": "8e39efba-7edf-4d25-a04c-a9f8738785f4",
   "metadata": {},
   "outputs": [
    {
     "name": "stdout",
     "output_type": "stream",
     "text": [
      "[3, 4, 5]\n",
      "1\n"
     ]
    }
   ],
   "source": [
    "# indexing & slicing\n",
    "a = [1,2,3,4,5,6]\n",
    "print(a[2:5])\n",
    "print(a[-6])"
   ]
  },
  {
   "cell_type": "code",
   "execution_count": 12,
   "id": "1fab708a-f128-43e9-b84c-f47892ffdd44",
   "metadata": {},
   "outputs": [
    {
     "data": {
      "text/plain": [
       "6"
      ]
     },
     "execution_count": 12,
     "metadata": {},
     "output_type": "execute_result"
    }
   ],
   "source": [
    "# len()\n",
    "len(\"Python\")"
   ]
  },
  {
   "cell_type": "code",
   "execution_count": 14,
   "id": "4a97c962-5864-4fb3-9e2b-62aa3b8cb4f4",
   "metadata": {},
   "outputs": [
    {
     "name": "stdout",
     "output_type": "stream",
     "text": [
      "False\n"
     ]
    }
   ],
   "source": [
    "# bool\n",
    "a = 1\n",
    "print(a > 10)"
   ]
  },
  {
   "cell_type": "code",
   "execution_count": 15,
   "id": "cd2bb082-4a11-48a1-b33a-b7fd0abbd26f",
   "metadata": {},
   "outputs": [
    {
     "data": {
      "text/plain": [
       "bool"
      ]
     },
     "execution_count": 15,
     "metadata": {},
     "output_type": "execute_result"
    }
   ],
   "source": [
    "b = a == 1\n",
    "type(b)"
   ]
  },
  {
   "cell_type": "code",
   "execution_count": 17,
   "id": "b3c5076b-1b97-4653-b6ad-cb5ddbcf0b57",
   "metadata": {},
   "outputs": [
    {
     "name": "stdout",
     "output_type": "stream",
     "text": [
      "11\n"
     ]
    }
   ],
   "source": [
    "print(b + 10)"
   ]
  },
  {
   "cell_type": "code",
   "execution_count": 18,
   "id": "a987dcd3-23ec-435d-9a2e-adbfb9353f88",
   "metadata": {},
   "outputs": [
    {
     "name": "stdout",
     "output_type": "stream",
     "text": [
      "2\n"
     ]
    }
   ],
   "source": [
    "print(True + True)"
   ]
  },
  {
   "cell_type": "code",
   "execution_count": 22,
   "id": "b99d46e7-5c0b-49c8-ac77-50a5013b6775",
   "metadata": {},
   "outputs": [
    {
     "name": "stdout",
     "output_type": "stream",
     "text": [
      "0b11111100001\n",
      "0o3741\n"
     ]
    }
   ],
   "source": [
    "# 수치형 (정수 int)\n",
    "a = 2017\n",
    "print(bin(a))\n",
    "print(oct(a))"
   ]
  },
  {
   "cell_type": "code",
   "execution_count": 24,
   "id": "58f39f0f-f787-426e-b6dd-c2fa41bb9a96",
   "metadata": {},
   "outputs": [
    {
     "name": "stdout",
     "output_type": "stream",
     "text": [
      "3000.0\n"
     ]
    }
   ],
   "source": [
    "# 실수형 float\n",
    "b = 3e3\n",
    "print(b)"
   ]
  },
  {
   "cell_type": "code",
   "execution_count": 25,
   "id": "83633bd5-5949-47d4-b1ca-65fb0ccb208b",
   "metadata": {},
   "outputs": [
    {
     "data": {
      "text/plain": [
       "3"
      ]
     },
     "execution_count": 25,
     "metadata": {},
     "output_type": "execute_result"
    }
   ],
   "source": [
    "# 내장 수치 함수\n",
    "abs(-3)"
   ]
  },
  {
   "cell_type": "code",
   "execution_count": 26,
   "id": "4518b0f0-96cd-49e9-a854-31f0697a8f10",
   "metadata": {},
   "outputs": [
    {
     "data": {
      "text/plain": [
       "'0b100'"
      ]
     },
     "execution_count": 26,
     "metadata": {},
     "output_type": "execute_result"
    }
   ],
   "source": [
    "# 비트 연산자\n",
    "bin(0b0001 << 2) # 왼쪽으로 2비트 이동"
   ]
  },
  {
   "cell_type": "code",
   "execution_count": 27,
   "id": "9b98da51-500f-43bb-a2aa-43218f3509e3",
   "metadata": {},
   "outputs": [
    {
     "data": {
      "text/plain": [
       "'0b0'"
      ]
     },
     "execution_count": 27,
     "metadata": {},
     "output_type": "execute_result"
    }
   ],
   "source": [
    "bin(0b0001 >> 2) # 오른쪽으로 2비트 이동"
   ]
  },
  {
   "cell_type": "code",
   "execution_count": 28,
   "id": "352939da-21d6-470f-bfb8-c8f3a417e47a",
   "metadata": {},
   "outputs": [
    {
     "data": {
      "text/plain": [
       "'0b1000'"
      ]
     },
     "execution_count": 28,
     "metadata": {},
     "output_type": "execute_result"
    }
   ],
   "source": [
    "bin(0b00001000 & 0b11111111) # 비트 AND를 이용한 필터링"
   ]
  },
  {
   "cell_type": "code",
   "execution_count": 29,
   "id": "d4300830-4bb3-48f6-a438-06de5d1c0a72",
   "metadata": {},
   "outputs": [
    {
     "data": {
      "text/plain": [
       "'0b1010'"
      ]
     },
     "execution_count": 29,
     "metadata": {},
     "output_type": "execute_result"
    }
   ],
   "source": [
    "bin(8 | 2) # 비트 OR 연산"
   ]
  },
  {
   "cell_type": "code",
   "execution_count": 32,
   "id": "015b7f3e-af19-4278-a1f5-e746fa985dd3",
   "metadata": {},
   "outputs": [
    {
     "name": "stdout",
     "output_type": "stream",
     "text": [
      "36\n"
     ]
    }
   ],
   "source": [
    "# 문자열의 연산\n",
    "str = \"Life is too short , You need Python!\"\n",
    "print(len(str))"
   ]
  },
  {
   "cell_type": "code",
   "execution_count": 42,
   "id": "39987f6f-c6fd-44da-912d-d4a79c88bfdb",
   "metadata": {},
   "outputs": [
    {
     "name": "stdout",
     "output_type": "stream",
     "text": [
      "f\n",
      "too\n",
      "too short , You need Python!\n",
      "Life is to\n",
      "nohtyP\n"
     ]
    }
   ],
   "source": [
    "print(str[2])\n",
    "print(str[8:11])\n",
    "print(str[8:])\n",
    "print(str[:10])\n",
    "print(str[-2:-8:-1])"
   ]
  },
  {
   "cell_type": "code",
   "execution_count": 45,
   "id": "593f09a2-c42b-4eee-a97c-65c6ed137ea6",
   "metadata": {},
   "outputs": [
    {
     "data": {
      "text/plain": [
       "'STRING'"
      ]
     },
     "execution_count": 45,
     "metadata": {},
     "output_type": "execute_result"
    }
   ],
   "source": [
    "# 문자열 메서드\n",
    "s = \"String\"\n",
    "p = s.upper()\n",
    "p"
   ]
  },
  {
   "cell_type": "code",
   "execution_count": 46,
   "id": "078cda6f-a295-4c3e-b9a5-d39a4aaaa974",
   "metadata": {},
   "outputs": [
    {
     "name": "stdout",
     "output_type": "stream",
     "text": [
      "['spam', 'and', 'ham']\n"
     ]
    }
   ],
   "source": [
    "# 문자열 분리, 결함\n",
    "s = 'spam and ham'\n",
    "t = s.split()\n",
    "print(t)"
   ]
  },
  {
   "cell_type": "code",
   "execution_count": 47,
   "id": "846624bb-c2fa-4442-92bb-f9715f74a022",
   "metadata": {},
   "outputs": [
    {
     "name": "stdout",
     "output_type": "stream",
     "text": [
      "['one', 'two', 'three:four:five']\n",
      "['one:two:three', 'four', 'five']\n"
     ]
    }
   ],
   "source": [
    "ss = \"one:two:three:four:five\"\n",
    "print(ss.split(':', 2))\n",
    "print(ss.rsplit(':',2))"
   ]
  },
  {
   "cell_type": "code",
   "execution_count": 48,
   "id": "04dc6419-3f35-458c-a837-7c4b3c339238",
   "metadata": {},
   "outputs": [
    {
     "name": "stdout",
     "output_type": "stream",
     "text": [
      "2 python 1 2 python\n"
     ]
    }
   ],
   "source": [
    "# 리스트\n",
    "c = [1, 2, 'python']\n",
    "print(c[-2], c[-1], c[0], c[1], c[2])"
   ]
  },
  {
   "cell_type": "code",
   "execution_count": 49,
   "id": "630eee8c-2108-46a9-82f7-a8365ec5129d",
   "metadata": {},
   "outputs": [
    {
     "name": "stdout",
     "output_type": "stream",
     "text": [
      "[1, 2, 'python', 3, 4, 5]\n"
     ]
    }
   ],
   "source": [
    "print(c + [3, 4, 5])"
   ]
  },
  {
   "cell_type": "code",
   "execution_count": 52,
   "id": "2f13f390-0af6-4fc0-8640-99679ecc6546",
   "metadata": {},
   "outputs": [
    {
     "name": "stdout",
     "output_type": "stream",
     "text": [
      "['apple', 'banana', 100, 20]\n"
     ]
    }
   ],
   "source": [
    "# 리스트 항목 변경 및 슬라이스 이용한 치환\n",
    "d = ['apple', 'banana', 10, 20]\n",
    "d[2] = d[2] + 90\n",
    "print(d)"
   ]
  },
  {
   "cell_type": "code",
   "execution_count": null,
   "id": "b313e3a0-ee5f-41ea-a904-919557e33347",
   "metadata": {},
   "outputs": [],
   "source": []
  }
 ],
 "metadata": {
  "kernelspec": {
   "display_name": "Python 3 (ipykernel)",
   "language": "python",
   "name": "python3"
  },
  "language_info": {
   "codemirror_mode": {
    "name": "ipython",
    "version": 3
   },
   "file_extension": ".py",
   "mimetype": "text/x-python",
   "name": "python",
   "nbconvert_exporter": "python",
   "pygments_lexer": "ipython3",
   "version": "3.9.7"
  }
 },
 "nbformat": 4,
 "nbformat_minor": 5
}
