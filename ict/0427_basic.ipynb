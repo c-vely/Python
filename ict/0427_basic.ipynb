{
 "cells": [
  {
   "cell_type": "code",
   "execution_count": 1,
   "id": "2fd0c98e-94ef-4470-a9bc-3e77ef396882",
   "metadata": {},
   "outputs": [],
   "source": [
    "import pandas as pd"
   ]
  },
  {
   "cell_type": "code",
   "execution_count": 2,
   "id": "da8085e5-de83-47a3-aedd-ca32f08f4c13",
   "metadata": {},
   "outputs": [
    {
     "name": "stdout",
     "output_type": "stream",
     "text": [
      "hello phthon\n"
     ]
    }
   ],
   "source": [
    "print(\"hello\", \"phthon\")"
   ]
  },
  {
   "cell_type": "code",
   "execution_count": 3,
   "id": "29e99eeb-f4de-461f-9963-fef0c42c8480",
   "metadata": {},
   "outputs": [
    {
     "name": "stdout",
     "output_type": "stream",
     "text": [
      "0.2,Hello\n"
     ]
    }
   ],
   "source": [
    "x = 0.2\n",
    "s = \"Hello\"\n",
    "print(x, s, sep = ',', end = '\\n')"
   ]
  },
  {
   "cell_type": "code",
   "execution_count": 7,
   "id": "e572339f-0125-4029-99dd-05bba24e2020",
   "metadata": {},
   "outputs": [
    {
     "name": "stdin",
     "output_type": "stream",
     "text": [
      "who are you??? what??\n"
     ]
    }
   ],
   "source": [
    "name = input(\"who are you???\")"
   ]
  },
  {
   "cell_type": "code",
   "execution_count": 11,
   "id": "b653090a-c517-4e25-a5a0-e437aedb1490",
   "metadata": {},
   "outputs": [
    {
     "name": "stdout",
     "output_type": "stream",
     "text": [
      "WOrk, Work, Wokr\n"
     ]
    }
   ],
   "source": [
    "today = \"\"\n",
    "if today == 'Saturday':\n",
    "    print('Party')\n",
    "elif today =='Sunday':\n",
    "    if condition == 'Headache':\n",
    "        print('Recover, then rest.')\n",
    "    else:\n",
    "        print('Rest.')\n",
    "elif today =='Sunday':\n",
    "    if condition == 'Headache':\n",
    "        print('NO MORE WORK!!')\n",
    "else:\n",
    "    print('WOrk, Work, Wokr')"
   ]
  },
  {
   "cell_type": "code",
   "execution_count": null,
   "id": "b2c8698f-747e-4254-b483-d8415b9cf0bf",
   "metadata": {},
   "outputs": [],
   "source": []
  }
 ],
 "metadata": {
  "kernelspec": {
   "display_name": "Python 3 (ipykernel)",
   "language": "python",
   "name": "python3"
  },
  "language_info": {
   "codemirror_mode": {
    "name": "ipython",
    "version": 3
   },
   "file_extension": ".py",
   "mimetype": "text/x-python",
   "name": "python",
   "nbconvert_exporter": "python",
   "pygments_lexer": "ipython3",
   "version": "3.9.7"
  }
 },
 "nbformat": 4,
 "nbformat_minor": 5
}
