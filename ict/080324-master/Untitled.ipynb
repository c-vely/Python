{
 "cells": [
  {
   "cell_type": "code",
   "execution_count": 1,
   "id": "ecd4d972-440d-4845-875c-8d4db8ebf6e7",
   "metadata": {},
   "outputs": [
    {
     "name": "stdout",
     "output_type": "stream",
     "text": [
      "Collecting scikit-learn\n",
      "  Downloading scikit_learn-1.2.2-cp311-cp311-win_amd64.whl (8.3 MB)\n",
      "     ---------------------------------------- 0.0/8.3 MB ? eta -:--:--\n",
      "     - -------------------------------------- 0.3/8.3 MB 7.9 MB/s eta 0:00:02\n",
      "     --- ------------------------------------ 0.7/8.3 MB 8.5 MB/s eta 0:00:01\n",
      "     ----- ---------------------------------- 1.1/8.3 MB 8.9 MB/s eta 0:00:01\n",
      "     ------- -------------------------------- 1.5/8.3 MB 8.8 MB/s eta 0:00:01\n",
      "     ---------- ----------------------------- 2.1/8.3 MB 9.4 MB/s eta 0:00:01\n",
      "     ------------ --------------------------- 2.6/8.3 MB 9.7 MB/s eta 0:00:01\n",
      "     -------------- ------------------------- 3.0/8.3 MB 10.1 MB/s eta 0:00:01\n",
      "     ----------------- ---------------------- 3.7/8.3 MB 10.2 MB/s eta 0:00:01\n",
      "     -------------------- ------------------- 4.2/8.3 MB 10.3 MB/s eta 0:00:01\n",
      "     ---------------------- ----------------- 4.7/8.3 MB 10.4 MB/s eta 0:00:01\n",
      "     ------------------------- -------------- 5.3/8.3 MB 10.9 MB/s eta 0:00:01\n",
      "     ---------------------------- ----------- 5.8/8.3 MB 10.9 MB/s eta 0:00:01\n",
      "     ------------------------------ --------- 6.3/8.3 MB 10.9 MB/s eta 0:00:01\n",
      "     -------------------------------- ------- 6.8/8.3 MB 10.8 MB/s eta 0:00:01\n",
      "     ----------------------------------- ---- 7.3/8.3 MB 10.8 MB/s eta 0:00:01\n",
      "     ------------------------------------- -- 7.8/8.3 MB 10.9 MB/s eta 0:00:01\n",
      "     ---------------------------------------  8.3/8.3 MB 11.0 MB/s eta 0:00:01\n",
      "     ---------------------------------------- 8.3/8.3 MB 10.6 MB/s eta 0:00:00\n",
      "Requirement already satisfied: numpy>=1.17.3 in c:\\users\\sunny\\anaconda3\\envs\\chjai\\lib\\site-packages (from scikit-learn) (1.23.5)\n",
      "Requirement already satisfied: scipy>=1.3.2 in c:\\users\\sunny\\anaconda3\\envs\\chjai\\lib\\site-packages (from scikit-learn) (1.10.1)\n",
      "Collecting joblib>=1.1.1\n",
      "  Using cached joblib-1.2.0-py3-none-any.whl (297 kB)\n",
      "Collecting threadpoolctl>=2.0.0\n",
      "  Using cached threadpoolctl-3.1.0-py3-none-any.whl (14 kB)\n",
      "Installing collected packages: threadpoolctl, joblib, scikit-learn\n",
      "Successfully installed joblib-1.2.0 scikit-learn-1.2.2 threadpoolctl-3.1.0\n"
     ]
    }
   ],
   "source": [
    "!pip install -U scikit-learn"
   ]
  },
  {
   "cell_type": "code",
   "execution_count": null,
   "id": "f02879f4-6946-43b4-b1af-8bfcf82069cb",
   "metadata": {},
   "outputs": [],
   "source": []
  }
 ],
 "metadata": {
  "kernelspec": {
   "display_name": "Python 3 (ipykernel)",
   "language": "python",
   "name": "python3"
  },
  "language_info": {
   "codemirror_mode": {
    "name": "ipython",
    "version": 3
   },
   "file_extension": ".py",
   "mimetype": "text/x-python",
   "name": "python",
   "nbconvert_exporter": "python",
   "pygments_lexer": "ipython3",
   "version": "3.11.3"
  }
 },
 "nbformat": 4,
 "nbformat_minor": 5
}
